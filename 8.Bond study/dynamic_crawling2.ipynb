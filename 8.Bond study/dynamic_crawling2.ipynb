{
 "cells": [
  {
   "cell_type": "code",
   "execution_count": 3,
   "metadata": {
    "tags": []
   },
   "outputs": [
    {
     "output_type": "stream",
     "name": "stdout",
     "text": "30-Year Bond 1.25 4/32 1.424 -0.017\n10-Year Note 0.625 1/32 0.669 -0.010\n7-Year Note 0.5 22/32 0.499 -0.006\n5-Year Note 0.25 0/32 0.301 -0.002\n3-Year Note 0.25 0/32 0.186 -0.003\n2-Year Note 0.125 0/32 0.161 0.000\n1-Year Bill 0 0/32 0.160 0.000\n6-Month Bill 0 0/32 0.170 0.013\n3-Month Bill 0 0/32 0.150 -0.003\n1-Month Bill 0 0/32 0.127 0.001\n         0     1      2      3      4       5\n0  30-Year  Bond   1.25   4/32  1.424  -0.017\n1  10-Year  Note  0.625   1/32  0.669  -0.010\n2   7-Year  Note    0.5  22/32  0.499  -0.006\n3   5-Year  Note   0.25   0/32  0.301  -0.002\n4   3-Year  Note   0.25   0/32  0.186  -0.003\n5   2-Year  Note  0.125   0/32  0.161   0.000\n6   1-Year  Bill      0   0/32  0.160   0.000\n7  6-Month  Bill      0   0/32  0.170   0.013\n8  3-Month  Bill      0   0/32  0.150  -0.003\n9  1-Month  Bill      0   0/32  0.127   0.001\n\n\n  Maturity  Type Coupon Price Chg  Yield Yield Chg\n0  1-Month  Bill      0      0/32  0.127     0.001\n1  3-Month  Bill      0      0/32  0.150    -0.003\n2  6-Month  Bill      0      0/32  0.170     0.013\n3   1-Year  Bill      0      0/32  0.160     0.000\n4   2-Year  Note  0.125      0/32  0.161     0.000\n5   3-Year  Note   0.25      0/32  0.186    -0.003\n6   5-Year  Note   0.25      0/32  0.301    -0.002\n7   7-Year  Note    0.5     22/32  0.499    -0.006\n8  10-Year  Note  0.625      1/32  0.669    -0.010\n9  30-Year  Bond   1.25      4/32  1.424    -0.017\n"
    }
   ],
   "source": [
    "import pandas as pd\n",
    "from selenium import webdriver\n",
    "\n",
    "\n",
    "options = webdriver.ChromeOptions()\n",
    "options.add_argument('headless') # headless: 브라우저가 안뜸\n",
    "\n",
    "driver = webdriver.Chrome('C:\\\\Users\\hawoo\\Desktop\\FR_Study\\FR-30th\\Bond_study\\FR_30_HWJ\\chromedriver.exe', options=options)\n",
    "URL=\"https://www.wsj.com/market-data/bonds\"\n",
    "driver.get(URL)\n",
    "\n",
    "#class name을 이용한 방법\n",
    "#class name이 매번 바뀌어서 이 방법은 못씀\n",
    "# table_class_name = \"WSJTables--table__body--3Y0p0d6H \"\n",
    "# table = driver.find_element_by_class_name(table_class_name)\n",
    "\n",
    "#XPath를 이용한 방법\n",
    "path = '//*[@id=\"root\"]/div/div/div/div[2]/div[3]/div/div[3]/div[1]/div/table/tbody'\n",
    "table = driver.find_element_by_xpath(path)\n",
    "\n",
    "print(table.text)\n",
    "\n",
    "# data를 dataframe로 변경한다.\n",
    "rows=table.text.split('\\n')\n",
    "element=[]\n",
    "for r in rows:\n",
    "    element.append([i for i in r.split(' ')])\n",
    "\n",
    "df=pd.DataFrame(element)\n",
    "print(df)\n",
    "print('\\n')\n",
    "headers=['Maturity', 'Type','Coupon','Price Chg', 'Yield', 'Yield Chg']\n",
    "df.columns=headers\n",
    "df.iloc[:]=df.iloc[::-1].values\n",
    "\n",
    "print(df)"
   ]
  },
  {
   "cell_type": "code",
   "execution_count": null,
   "metadata": {},
   "outputs": [],
   "source": []
  },
  {
   "cell_type": "code",
   "execution_count": null,
   "metadata": {},
   "outputs": [],
   "source": []
  },
  {
   "cell_type": "code",
   "execution_count": null,
   "metadata": {},
   "outputs": [],
   "source": []
  }
 ],
 "metadata": {
  "language_info": {
   "codemirror_mode": {
    "name": "ipython",
    "version": 3
   },
   "file_extension": ".py",
   "mimetype": "text/x-python",
   "name": "python",
   "nbconvert_exporter": "python",
   "pygments_lexer": "ipython3",
   "version": 3
  },
  "orig_nbformat": 2,
  "kernelspec": {
   "name": "python_defaultSpec_1594113800479",
   "display_name": "Python 3.6.8 64-bit ('base': conda)"
  }
 },
 "nbformat": 4,
 "nbformat_minor": 2
}