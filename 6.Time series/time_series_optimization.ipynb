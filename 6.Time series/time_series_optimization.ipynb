{
 "metadata": {
  "language_info": {
   "codemirror_mode": {
    "name": "ipython",
    "version": 3
   },
   "file_extension": ".py",
   "mimetype": "text/x-python",
   "name": "python",
   "nbconvert_exporter": "python",
   "pygments_lexer": "ipython3",
   "version": "3.6.8-final"
  },
  "orig_nbformat": 2,
  "kernelspec": {
   "name": "python_defaultSpec_1599053296525",
   "display_name": "Python 3.6.8 64-bit ('base': conda)"
  }
 },
 "nbformat": 4,
 "nbformat_minor": 2,
 "cells": [
  {
   "cell_type": "markdown",
   "metadata": {},
   "source": [
    "1. 순수 파이썬의 상대적으로 저조한 성능\n",
    "2. 최적화되지 않은 라이브러리들의 함정\n",
    "3. 불완전한 쓰레딩 지원(GIL)\n",
    "4. 느슨한 타입 시스템과 그로 인한 런타임 에러에 대한 노출"
   ]
  },
  {
   "cell_type": "code",
   "execution_count": 4,
   "metadata": {
    "tags": []
   },
   "outputs": [
    {
     "output_type": "stream",
     "name": "stdout",
     "text": "Wall time: 2.73 s\nParser   : 263 ms\n"
    }
   ],
   "source": [
    "%%time\n",
    "import pandas as pd\n",
    "\n",
    "df = pd.read_csv('./StockData/102110.csv',index_col=0, parse_dates=True)\n",
    "df"
   ]
  },
  {
   "cell_type": "code",
   "execution_count": 8,
   "metadata": {
    "tags": []
   },
   "outputs": [
    {
     "output_type": "stream",
     "name": "stdout",
     "text": "Wall time: 243 ms\n"
    }
   ],
   "source": [
    "%%time\n",
    "# 날짜는 iso 8601 기준으로 표시됨\n",
    "# pip install ciso8601 해줘야함\n",
    "# 아래와 같은 parse를 pd.read_csv의 date_parser 에 인자로 제공하면, 데이터를 읽어오는 데 걸리는 시간이 매우 절약됩니다.\n",
    "\n",
    "import ciso8601\n",
    "import datetime as dt\n",
    "\n",
    "def my_parser(date_str):\n",
    "    return ciso8601.parse_datetime(date_str)\n",
    "\n",
    "df = pd.read_csv(\"./StockData/102110.csv\", index_col='Date', parse_dates=['Date'], date_parser=my_parser)\n",
    "df"
   ]
  },
  {
   "cell_type": "code",
   "execution_count": 9,
   "metadata": {
    "tags": []
   },
   "outputs": [
    {
     "output_type": "stream",
     "name": "stdout",
     "text": "Wall time: 685 ms\n"
    }
   ],
   "source": [
    "%%time\n",
    "# 가장 일반적인 slicing code\n",
    "sliced = df.loc['2020-01-03': '2020-01-08']\n",
    "# 이 코드의 가장 큰 문제점은, pandas.DatetimeIndex를 통해 ‘시간’으로 DataFrame을 slicing하고 있다는 점임\n",
    "# 주의할 점은, df.loc 과 datetime의 조합을 사용하는 경우, slice의 뒷부분은 2020–01–08의 00시00분의 열린 괄호가 아닌, 2020–01–08 23시 59분 59초 99… 의 닫힌 괄호입니다. 따라서 2020–01–09 직전까지의 데이터들이 수집됩니다."
   ]
  },
  {
   "cell_type": "code",
   "execution_count": 14,
   "metadata": {
    "tags": []
   },
   "outputs": [
    {
     "output_type": "stream",
     "name": "stdout",
     "text": "Wall time: 59.8 ms\n"
    }
   ],
   "source": [
    "%%time\n",
    "\n",
    "# 만약 당신이 데이터에서 날짜를 필요로 하는 이유가 단순하게 데이터 행들의 순서를 보존하기 위해서이고, 다른 복잡한 시간 연산(ex. ‘다음 월말 데이터 찾기’, ‘1시간 후 날짜 찾기’ 등)이 필요한 것이 아니라면 굳이 DatetimeIndex를 사용할 필요가 없습니다. 단순 정렬된 string 만으로도 indexing/slicing이 가능하기 때문입니다.\n",
    "\n",
    "# 이미 정렬되어 있는 배열을 대상으로 탐색할 때는 이진탐색(binary search)를 사용하면 계산효율을 대폭 높일 수 있다. \n",
    "# Numpy는 np.searchsorted(array,value,side='left')를 통해 이진탐색을 수행할 수 있다.\n",
    "\n",
    "# DatetimeIndex 에서 loc을 통해 slicing하는 연산은 ‘첫 시행’에서 급격한 성능 저하를 야기합니다. 2번째 이후 시행부터는 꽤 괜찮은 성능을 보이지만, searchsorted를 통해 number index 를 직접 찾아서 slicing하는 것보다는 낮은 성능을 보입니다.\n",
    "\n",
    "import numpy as np\n",
    "df = pd.read_csv('./StockData/102110.csv')\n",
    "df"
   ]
  },
  {
   "cell_type": "code",
   "execution_count": 16,
   "metadata": {
    "tags": []
   },
   "outputs": [
    {
     "output_type": "stream",
     "name": "stdout",
     "text": "(2892, 2896)\nWall time: 998 µs\n"
    }
   ],
   "source": [
    "%%time\n",
    "\n",
    "idxs = np.searchsorted(df['Date'], '2020-01-03'), np.searchsorted(df['Date'], '2020-01-09')\n",
    "\n",
    "print(idxs)\n",
    "df.iloc[idxs[0]: idxs[1]]"
   ]
  },
  {
   "cell_type": "markdown",
   "metadata": {},
   "source": [
    "## Numba와 Cython 을 사용해서 반복문 성능을 향상시키기(fold/scan/rolling_apply 등)"
   ]
  },
  {
   "cell_type": "markdown",
   "metadata": {},
   "source": [
    "- 금융 시계열을 사용하면서 가장 빈번하게 사용하는 연산 중 하나는 반복(iterative 혹은 sequential-연속) 연산입니다. 과거에서 현재로 행을 순회하면서 진행하는 작업을 의미합니다."
   ]
  },
  {
   "cell_type": "code",
   "execution_count": null,
   "metadata": {},
   "outputs": [],
   "source": []
  }
 ]
}