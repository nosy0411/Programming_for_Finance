{
 "metadata": {
  "language_info": {
   "codemirror_mode": {
    "name": "ipython",
    "version": 3
   },
   "file_extension": ".py",
   "mimetype": "text/x-python",
   "name": "python",
   "nbconvert_exporter": "python",
   "pygments_lexer": "ipython3",
   "version": 3
  },
  "orig_nbformat": 2,
  "kernelspec": {
   "name": "python_defaultSpec_1597300415900",
   "display_name": "Python 3.6.8 64-bit ('base': conda)"
  }
 },
 "nbformat": 4,
 "nbformat_minor": 2,
 "cells": [
  {
   "cell_type": "code",
   "execution_count": 8,
   "metadata": {
    "tags": []
   },
   "outputs": [
    {
     "output_type": "stream",
     "name": "stdout",
     "text": "stock price :  0.0 option price:  0\nstock price :  5.0 option price:  0.0\nstock price :  10.0 option price:  0.0\nstock price :  15.0 option price:  0.0\nstock price :  20.0 option price:  0.0\nstock price :  25.0 option price:  0.01\nstock price :  30.0 option price:  0.11\nstock price :  35.0 option price:  0.51\nstock price :  40.0 option price:  1.54\nstock price :  45.0 option price:  3.39\nstock price :  50.0 option price:  6.08\nstock price :  55.0 option price:  9.51\nstock price :  60.0 option price:  13.45\nstock price :  65.0 option price:  17.92\nstock price :  70.0 option price:  22.33\nstock price :  75.0 option price:  27.53\nstock price :  80.0 option price:  31.77\nstock price :  85.0 option price:  37.58\nstock price :  90.0 option price:  41.55\nstock price :  95.0 option price:  47.42\nstock price :  100.0 option price:  52.04\n"
    },
    {
     "output_type": "execute_result",
     "data": {
      "text/plain": "   0            1            2            3            4            5   \\\n0   0  5.28326e-11  7.30146e-08  1.34427e-05  0.000677313    0.0127814   \n1   0            0  9.79435e-09   3.6449e-06  0.000277856   0.00700139   \n2   0            0            0  5.62009e-07  8.63944e-05   0.00327259   \n3   0            0            0            0  1.55683e-05    0.0011813   \n4   0            0            0            0            0  0.000253511   \n5   0            0            0            0            0            0   \n6   0            0            0            0            0            0   \n7   0            0            0            0            0            0   \n8   0            0            0            0            0            0   \n9   0            0            0            0            0            0   \n10  0            0            0            0            0            0   \n\n            6          7         8         9        10       11       12  \\\n0     0.110198   0.514723   1.53709   3.38509  6.07629  9.50907  13.4542   \n1    0.0744524   0.402421   1.31989   3.07661  5.72239  9.12764  13.1545   \n2    0.0458358   0.298683   1.10257   2.75872  5.34509  8.75981  12.7595   \n3    0.0245405   0.205653  0.886959   2.42695  4.95573  8.34925  12.4267   \n4    0.0103996   0.126127  0.674681   2.08275    4.535    7.945  12.0183   \n5   0.00271538  0.0632394  0.470263   1.71929  4.09488  7.48704  11.6665   \n6            0  0.0205788  0.279043   1.33996  3.60161  7.03813  11.2315   \n7            0          0  0.116148   0.92876  3.07925  6.49402  10.8869   \n8            0          0         0  0.507094  2.42205  6.00356  10.4141   \n9            0          0         0         0  1.76349  5.20747  10.2075   \n10           0          0         0         0        0        5       10   \n\n         13       14       15       16       17       18       19       20  \n0   17.9246  22.3309  27.5325  31.7732  37.5809   41.549  47.4167  52.0405  \n1    17.487  22.2896  26.8786  32.0843   36.697  42.0244  46.7238  51.8403  \n2    17.254  21.8542  26.8353  31.6166  36.7166  41.5884  46.6801  51.6392  \n3   16.8648  21.6767  26.4709  31.4911  36.4239  41.4532   46.421  51.4373  \n4   16.5995  21.3287  26.2958  31.2308  36.2363  41.2266  46.2393  51.2345  \n5    16.228  21.1174  26.0288  31.0293  36.0279  41.0318  46.0279  51.0309  \n6   15.9674  20.8247  25.8247  30.8247  35.8253  40.8244  45.8266  50.8264  \n7   15.6198  20.6198  25.6198  30.6198  35.6198  40.6204  45.6201  50.6211  \n8   15.4141  20.4141  25.4141  30.4141  35.4141  40.4141  45.4146  50.4149  \n9   15.2075  20.2075  25.2075  30.2075  35.2075  40.2075  45.2075  50.2079  \n10       15       20       25       30       35       40       45       50  ",
      "text/html": "<div>\n<style scoped>\n    .dataframe tbody tr th:only-of-type {\n        vertical-align: middle;\n    }\n\n    .dataframe tbody tr th {\n        vertical-align: top;\n    }\n\n    .dataframe thead th {\n        text-align: right;\n    }\n</style>\n<table border=\"1\" class=\"dataframe\">\n  <thead>\n    <tr style=\"text-align: right;\">\n      <th></th>\n      <th>0</th>\n      <th>1</th>\n      <th>2</th>\n      <th>3</th>\n      <th>4</th>\n      <th>5</th>\n      <th>6</th>\n      <th>7</th>\n      <th>8</th>\n      <th>9</th>\n      <th>10</th>\n      <th>11</th>\n      <th>12</th>\n      <th>13</th>\n      <th>14</th>\n      <th>15</th>\n      <th>16</th>\n      <th>17</th>\n      <th>18</th>\n      <th>19</th>\n      <th>20</th>\n    </tr>\n  </thead>\n  <tbody>\n    <tr>\n      <th>0</th>\n      <td>0</td>\n      <td>5.28326e-11</td>\n      <td>7.30146e-08</td>\n      <td>1.34427e-05</td>\n      <td>0.000677313</td>\n      <td>0.0127814</td>\n      <td>0.110198</td>\n      <td>0.514723</td>\n      <td>1.53709</td>\n      <td>3.38509</td>\n      <td>6.07629</td>\n      <td>9.50907</td>\n      <td>13.4542</td>\n      <td>17.9246</td>\n      <td>22.3309</td>\n      <td>27.5325</td>\n      <td>31.7732</td>\n      <td>37.5809</td>\n      <td>41.549</td>\n      <td>47.4167</td>\n      <td>52.0405</td>\n    </tr>\n    <tr>\n      <th>1</th>\n      <td>0</td>\n      <td>0</td>\n      <td>9.79435e-09</td>\n      <td>3.6449e-06</td>\n      <td>0.000277856</td>\n      <td>0.00700139</td>\n      <td>0.0744524</td>\n      <td>0.402421</td>\n      <td>1.31989</td>\n      <td>3.07661</td>\n      <td>5.72239</td>\n      <td>9.12764</td>\n      <td>13.1545</td>\n      <td>17.487</td>\n      <td>22.2896</td>\n      <td>26.8786</td>\n      <td>32.0843</td>\n      <td>36.697</td>\n      <td>42.0244</td>\n      <td>46.7238</td>\n      <td>51.8403</td>\n    </tr>\n    <tr>\n      <th>2</th>\n      <td>0</td>\n      <td>0</td>\n      <td>0</td>\n      <td>5.62009e-07</td>\n      <td>8.63944e-05</td>\n      <td>0.00327259</td>\n      <td>0.0458358</td>\n      <td>0.298683</td>\n      <td>1.10257</td>\n      <td>2.75872</td>\n      <td>5.34509</td>\n      <td>8.75981</td>\n      <td>12.7595</td>\n      <td>17.254</td>\n      <td>21.8542</td>\n      <td>26.8353</td>\n      <td>31.6166</td>\n      <td>36.7166</td>\n      <td>41.5884</td>\n      <td>46.6801</td>\n      <td>51.6392</td>\n    </tr>\n    <tr>\n      <th>3</th>\n      <td>0</td>\n      <td>0</td>\n      <td>0</td>\n      <td>0</td>\n      <td>1.55683e-05</td>\n      <td>0.0011813</td>\n      <td>0.0245405</td>\n      <td>0.205653</td>\n      <td>0.886959</td>\n      <td>2.42695</td>\n      <td>4.95573</td>\n      <td>8.34925</td>\n      <td>12.4267</td>\n      <td>16.8648</td>\n      <td>21.6767</td>\n      <td>26.4709</td>\n      <td>31.4911</td>\n      <td>36.4239</td>\n      <td>41.4532</td>\n      <td>46.421</td>\n      <td>51.4373</td>\n    </tr>\n    <tr>\n      <th>4</th>\n      <td>0</td>\n      <td>0</td>\n      <td>0</td>\n      <td>0</td>\n      <td>0</td>\n      <td>0.000253511</td>\n      <td>0.0103996</td>\n      <td>0.126127</td>\n      <td>0.674681</td>\n      <td>2.08275</td>\n      <td>4.535</td>\n      <td>7.945</td>\n      <td>12.0183</td>\n      <td>16.5995</td>\n      <td>21.3287</td>\n      <td>26.2958</td>\n      <td>31.2308</td>\n      <td>36.2363</td>\n      <td>41.2266</td>\n      <td>46.2393</td>\n      <td>51.2345</td>\n    </tr>\n    <tr>\n      <th>5</th>\n      <td>0</td>\n      <td>0</td>\n      <td>0</td>\n      <td>0</td>\n      <td>0</td>\n      <td>0</td>\n      <td>0.00271538</td>\n      <td>0.0632394</td>\n      <td>0.470263</td>\n      <td>1.71929</td>\n      <td>4.09488</td>\n      <td>7.48704</td>\n      <td>11.6665</td>\n      <td>16.228</td>\n      <td>21.1174</td>\n      <td>26.0288</td>\n      <td>31.0293</td>\n      <td>36.0279</td>\n      <td>41.0318</td>\n      <td>46.0279</td>\n      <td>51.0309</td>\n    </tr>\n    <tr>\n      <th>6</th>\n      <td>0</td>\n      <td>0</td>\n      <td>0</td>\n      <td>0</td>\n      <td>0</td>\n      <td>0</td>\n      <td>0</td>\n      <td>0.0205788</td>\n      <td>0.279043</td>\n      <td>1.33996</td>\n      <td>3.60161</td>\n      <td>7.03813</td>\n      <td>11.2315</td>\n      <td>15.9674</td>\n      <td>20.8247</td>\n      <td>25.8247</td>\n      <td>30.8247</td>\n      <td>35.8253</td>\n      <td>40.8244</td>\n      <td>45.8266</td>\n      <td>50.8264</td>\n    </tr>\n    <tr>\n      <th>7</th>\n      <td>0</td>\n      <td>0</td>\n      <td>0</td>\n      <td>0</td>\n      <td>0</td>\n      <td>0</td>\n      <td>0</td>\n      <td>0</td>\n      <td>0.116148</td>\n      <td>0.92876</td>\n      <td>3.07925</td>\n      <td>6.49402</td>\n      <td>10.8869</td>\n      <td>15.6198</td>\n      <td>20.6198</td>\n      <td>25.6198</td>\n      <td>30.6198</td>\n      <td>35.6198</td>\n      <td>40.6204</td>\n      <td>45.6201</td>\n      <td>50.6211</td>\n    </tr>\n    <tr>\n      <th>8</th>\n      <td>0</td>\n      <td>0</td>\n      <td>0</td>\n      <td>0</td>\n      <td>0</td>\n      <td>0</td>\n      <td>0</td>\n      <td>0</td>\n      <td>0</td>\n      <td>0.507094</td>\n      <td>2.42205</td>\n      <td>6.00356</td>\n      <td>10.4141</td>\n      <td>15.4141</td>\n      <td>20.4141</td>\n      <td>25.4141</td>\n      <td>30.4141</td>\n      <td>35.4141</td>\n      <td>40.4141</td>\n      <td>45.4146</td>\n      <td>50.4149</td>\n    </tr>\n    <tr>\n      <th>9</th>\n      <td>0</td>\n      <td>0</td>\n      <td>0</td>\n      <td>0</td>\n      <td>0</td>\n      <td>0</td>\n      <td>0</td>\n      <td>0</td>\n      <td>0</td>\n      <td>0</td>\n      <td>1.76349</td>\n      <td>5.20747</td>\n      <td>10.2075</td>\n      <td>15.2075</td>\n      <td>20.2075</td>\n      <td>25.2075</td>\n      <td>30.2075</td>\n      <td>35.2075</td>\n      <td>40.2075</td>\n      <td>45.2075</td>\n      <td>50.2079</td>\n    </tr>\n    <tr>\n      <th>10</th>\n      <td>0</td>\n      <td>0</td>\n      <td>0</td>\n      <td>0</td>\n      <td>0</td>\n      <td>0</td>\n      <td>0</td>\n      <td>0</td>\n      <td>0</td>\n      <td>0</td>\n      <td>0</td>\n      <td>5</td>\n      <td>10</td>\n      <td>15</td>\n      <td>20</td>\n      <td>25</td>\n      <td>30</td>\n      <td>35</td>\n      <td>40</td>\n      <td>45</td>\n      <td>50</td>\n    </tr>\n  </tbody>\n</table>\n</div>"
     },
     "metadata": {},
     "execution_count": 8
    }
   ],
   "source": [
    "import os\n",
    "import pandas as pd\n",
    "import numpy as np\n",
    "\n",
    "path = r'C:\\\\Users\\\\inventor\\\\Desktop\\\\FR study\\\\FR-30th\\\\Derivatives_study\\\\FR_30_NIH\\\\simulation'\n",
    "os.chdir(path)\n",
    "\n",
    "\n",
    "# europian call option\n",
    "k=50; r=0.10; t=5/12; sigma=0.4; smax=100; q=0\n",
    "m=20; n=10\n",
    "ds = smax/m\n",
    "dt = t/n\n",
    " \n",
    "df = pd.DataFrame(index=[x for x in range(n+1)],\n",
    "                  columns=[y for y in range(m+1)])\n",
    "# 경계조건\n",
    "for j in range(1, m):\n",
    "    df.loc[n, j] = max(j * ds - k, 0)\n",
    " \n",
    "for i in range(0, n+1):\n",
    "    df.loc[i, 0] = 0\n",
    "for i in range(0, n+1):\n",
    "    df.loc[i, m] = max(m*ds - k*np.exp(-(r-q)*(n-i)*dt), 0)\n",
    " \n",
    "for i in range(n-1, 0-1, -1):\n",
    "    for j in range(m-1, 1-1, -1):\n",
    "        A = (0.5 * dt / (1+r*dt)) * ((-1)*(r-q)*j + (sigma**2)*(j**2))\n",
    "        B = 1 / (1+r*dt) * ( 1 - ((sigma*j)**2)*dt )\n",
    "        C = (0.5 * dt / (1+r*dt)) * ((r-q)*j + (sigma**2)*(j**2))\n",
    "        df.loc[i, j] = A*df.loc[i+1, j-1] + B*df.loc[i+1, j] + C*df.loc[i+1, j+1]\n",
    " \n",
    "for j in range(0, m+1):\n",
    "    print('stock price : ', j*ds, \"option price: \", round(df.loc[0, j], 2))\n",
    "\n",
    "\n",
    "df.dropna(how='all', inplace=True, axis=0)\n",
    "df.dropna(how='all', inplace=True, axis=1)\n",
    "name = 'call option'\n",
    "df.to_excel('Explicit FDM of europian option.xlsx', sheet_name=name)\n",
    "pd.options.display.max_columns = None\n",
    "pd.options.display.max_rows = None\n",
    "df"
   ]
  },
  {
   "cell_type": "code",
   "execution_count": 7,
   "metadata": {
    "tags": []
   },
   "outputs": [
    {
     "output_type": "stream",
     "name": "stdout",
     "text": "stock price :  0.0 option price:  50\nstock price :  5.0 option price:  45.0\nstock price :  10.0 option price:  40.0\nstock price :  15.0 option price:  35.0\nstock price :  20.0 option price:  30.0\nstock price :  25.0 option price:  25.0\nstock price :  30.0 option price:  20.0\nstock price :  35.0 option price:  15.0\nstock price :  40.0 option price:  10.28\nstock price :  45.0 option price:  6.76\nstock price :  50.0 option price:  4.26\nstock price :  55.0 option price:  2.59\nstock price :  60.0 option price:  1.48\nstock price :  65.0 option price:  0.91\nstock price :  70.0 option price:  0.32\nstock price :  75.0 option price:  0.45\nstock price :  80.0 option price:  -0.13\nstock price :  85.0 option price:  0.28\nstock price :  90.0 option price:  -0.11\nstock price :  95.0 option price:  0.06\nstock price :  100.0 option price:  0\n"
    },
    {
     "output_type": "execute_result",
     "data": {
      "text/plain": "    0   1   2   3   4   5   6   7        8        9        10        11  \\\n0   50  45  40  35  30  25  20  15   10.277  6.75573   4.2568   2.58717   \n1   50  45  40  35  30  25  20  15  10.2013  6.61344  4.08178   2.39223   \n2   50  45  40  35  30  25  20  15  10.1279  6.46588  3.88591   2.21053   \n3   50  45  40  35  30  25  20  15   10.062   6.3097  3.67889   1.98783   \n4   50  45  40  35  30  25  20  15  10.0122  6.14603  3.43979    1.7703   \n5   50  45  40  35  30  25  20  15       10  5.95924  3.17883   1.50283   \n6   50  45  40  35  30  25  20  15       10  5.74738  2.86678   1.24356   \n7   50  45  40  35  30  25  20  15       10  5.49842  2.52658  0.898649   \n8   50  45  40  35  30  25  20  15       10  5.23997  2.07254  0.589478   \n9   50  45  40  35  30  25  20  15       10        5  1.55602         0   \n10  50  45  40  35  30  25  20  15       10        5        0         0   \n\n          12        13         14         15          16         17  \\\n0    1.47867  0.913573   0.324052   0.454959   -0.134077   0.282359   \n1    1.36697  0.676619   0.457382   0.063506    0.204627 -0.0474891   \n2    1.16495  0.634217   0.228763   0.195729 -0.00356945  0.0478865   \n3    1.02268  0.444433   0.245152  0.0402881   0.0518215          0   \n4   0.810081  0.374357   0.100433  0.0634603           0          0   \n5    0.65185  0.205138  0.0886604          0           0          0   \n6   0.417828  0.142638          0          0           0          0   \n7     0.2671         0          0          0           0          0   \n8          0         0          0          0           0          0   \n9          0         0          0          0           0          0   \n10         0         0          0          0           0          0   \n\n           18         19 20  \n0   -0.106732  0.0576152  0  \n1   0.0497145          0  0  \n2           0          0  0  \n3           0          0  0  \n4           0          0  0  \n5           0          0  0  \n6           0          0  0  \n7           0          0  0  \n8           0          0  0  \n9           0          0  0  \n10          0          0  0  ",
      "text/html": "<div>\n<style scoped>\n    .dataframe tbody tr th:only-of-type {\n        vertical-align: middle;\n    }\n\n    .dataframe tbody tr th {\n        vertical-align: top;\n    }\n\n    .dataframe thead th {\n        text-align: right;\n    }\n</style>\n<table border=\"1\" class=\"dataframe\">\n  <thead>\n    <tr style=\"text-align: right;\">\n      <th></th>\n      <th>0</th>\n      <th>1</th>\n      <th>2</th>\n      <th>3</th>\n      <th>4</th>\n      <th>5</th>\n      <th>6</th>\n      <th>7</th>\n      <th>8</th>\n      <th>9</th>\n      <th>10</th>\n      <th>11</th>\n      <th>12</th>\n      <th>13</th>\n      <th>14</th>\n      <th>15</th>\n      <th>16</th>\n      <th>17</th>\n      <th>18</th>\n      <th>19</th>\n      <th>20</th>\n    </tr>\n  </thead>\n  <tbody>\n    <tr>\n      <th>0</th>\n      <td>50</td>\n      <td>45</td>\n      <td>40</td>\n      <td>35</td>\n      <td>30</td>\n      <td>25</td>\n      <td>20</td>\n      <td>15</td>\n      <td>10.277</td>\n      <td>6.75573</td>\n      <td>4.2568</td>\n      <td>2.58717</td>\n      <td>1.47867</td>\n      <td>0.913573</td>\n      <td>0.324052</td>\n      <td>0.454959</td>\n      <td>-0.134077</td>\n      <td>0.282359</td>\n      <td>-0.106732</td>\n      <td>0.0576152</td>\n      <td>0</td>\n    </tr>\n    <tr>\n      <th>1</th>\n      <td>50</td>\n      <td>45</td>\n      <td>40</td>\n      <td>35</td>\n      <td>30</td>\n      <td>25</td>\n      <td>20</td>\n      <td>15</td>\n      <td>10.2013</td>\n      <td>6.61344</td>\n      <td>4.08178</td>\n      <td>2.39223</td>\n      <td>1.36697</td>\n      <td>0.676619</td>\n      <td>0.457382</td>\n      <td>0.063506</td>\n      <td>0.204627</td>\n      <td>-0.0474891</td>\n      <td>0.0497145</td>\n      <td>0</td>\n      <td>0</td>\n    </tr>\n    <tr>\n      <th>2</th>\n      <td>50</td>\n      <td>45</td>\n      <td>40</td>\n      <td>35</td>\n      <td>30</td>\n      <td>25</td>\n      <td>20</td>\n      <td>15</td>\n      <td>10.1279</td>\n      <td>6.46588</td>\n      <td>3.88591</td>\n      <td>2.21053</td>\n      <td>1.16495</td>\n      <td>0.634217</td>\n      <td>0.228763</td>\n      <td>0.195729</td>\n      <td>-0.00356945</td>\n      <td>0.0478865</td>\n      <td>0</td>\n      <td>0</td>\n      <td>0</td>\n    </tr>\n    <tr>\n      <th>3</th>\n      <td>50</td>\n      <td>45</td>\n      <td>40</td>\n      <td>35</td>\n      <td>30</td>\n      <td>25</td>\n      <td>20</td>\n      <td>15</td>\n      <td>10.062</td>\n      <td>6.3097</td>\n      <td>3.67889</td>\n      <td>1.98783</td>\n      <td>1.02268</td>\n      <td>0.444433</td>\n      <td>0.245152</td>\n      <td>0.0402881</td>\n      <td>0.0518215</td>\n      <td>0</td>\n      <td>0</td>\n      <td>0</td>\n      <td>0</td>\n    </tr>\n    <tr>\n      <th>4</th>\n      <td>50</td>\n      <td>45</td>\n      <td>40</td>\n      <td>35</td>\n      <td>30</td>\n      <td>25</td>\n      <td>20</td>\n      <td>15</td>\n      <td>10.0122</td>\n      <td>6.14603</td>\n      <td>3.43979</td>\n      <td>1.7703</td>\n      <td>0.810081</td>\n      <td>0.374357</td>\n      <td>0.100433</td>\n      <td>0.0634603</td>\n      <td>0</td>\n      <td>0</td>\n      <td>0</td>\n      <td>0</td>\n      <td>0</td>\n    </tr>\n    <tr>\n      <th>5</th>\n      <td>50</td>\n      <td>45</td>\n      <td>40</td>\n      <td>35</td>\n      <td>30</td>\n      <td>25</td>\n      <td>20</td>\n      <td>15</td>\n      <td>10</td>\n      <td>5.95924</td>\n      <td>3.17883</td>\n      <td>1.50283</td>\n      <td>0.65185</td>\n      <td>0.205138</td>\n      <td>0.0886604</td>\n      <td>0</td>\n      <td>0</td>\n      <td>0</td>\n      <td>0</td>\n      <td>0</td>\n      <td>0</td>\n    </tr>\n    <tr>\n      <th>6</th>\n      <td>50</td>\n      <td>45</td>\n      <td>40</td>\n      <td>35</td>\n      <td>30</td>\n      <td>25</td>\n      <td>20</td>\n      <td>15</td>\n      <td>10</td>\n      <td>5.74738</td>\n      <td>2.86678</td>\n      <td>1.24356</td>\n      <td>0.417828</td>\n      <td>0.142638</td>\n      <td>0</td>\n      <td>0</td>\n      <td>0</td>\n      <td>0</td>\n      <td>0</td>\n      <td>0</td>\n      <td>0</td>\n    </tr>\n    <tr>\n      <th>7</th>\n      <td>50</td>\n      <td>45</td>\n      <td>40</td>\n      <td>35</td>\n      <td>30</td>\n      <td>25</td>\n      <td>20</td>\n      <td>15</td>\n      <td>10</td>\n      <td>5.49842</td>\n      <td>2.52658</td>\n      <td>0.898649</td>\n      <td>0.2671</td>\n      <td>0</td>\n      <td>0</td>\n      <td>0</td>\n      <td>0</td>\n      <td>0</td>\n      <td>0</td>\n      <td>0</td>\n      <td>0</td>\n    </tr>\n    <tr>\n      <th>8</th>\n      <td>50</td>\n      <td>45</td>\n      <td>40</td>\n      <td>35</td>\n      <td>30</td>\n      <td>25</td>\n      <td>20</td>\n      <td>15</td>\n      <td>10</td>\n      <td>5.23997</td>\n      <td>2.07254</td>\n      <td>0.589478</td>\n      <td>0</td>\n      <td>0</td>\n      <td>0</td>\n      <td>0</td>\n      <td>0</td>\n      <td>0</td>\n      <td>0</td>\n      <td>0</td>\n      <td>0</td>\n    </tr>\n    <tr>\n      <th>9</th>\n      <td>50</td>\n      <td>45</td>\n      <td>40</td>\n      <td>35</td>\n      <td>30</td>\n      <td>25</td>\n      <td>20</td>\n      <td>15</td>\n      <td>10</td>\n      <td>5</td>\n      <td>1.55602</td>\n      <td>0</td>\n      <td>0</td>\n      <td>0</td>\n      <td>0</td>\n      <td>0</td>\n      <td>0</td>\n      <td>0</td>\n      <td>0</td>\n      <td>0</td>\n      <td>0</td>\n    </tr>\n    <tr>\n      <th>10</th>\n      <td>50</td>\n      <td>45</td>\n      <td>40</td>\n      <td>35</td>\n      <td>30</td>\n      <td>25</td>\n      <td>20</td>\n      <td>15</td>\n      <td>10</td>\n      <td>5</td>\n      <td>0</td>\n      <td>0</td>\n      <td>0</td>\n      <td>0</td>\n      <td>0</td>\n      <td>0</td>\n      <td>0</td>\n      <td>0</td>\n      <td>0</td>\n      <td>0</td>\n      <td>0</td>\n    </tr>\n  </tbody>\n</table>\n</div>"
     },
     "metadata": {},
     "execution_count": 7
    }
   ],
   "source": [
    "# american put option, 표 20.4\n",
    "k=50; r=0.10; t=5/12; sigma=0.4; smax=100; q=0\n",
    "m=20; n=10\n",
    "ds = smax/m\n",
    "dt = t/n\n",
    " \n",
    "df = pd.DataFrame(index=[x for x in range(n+1)],\n",
    "                  columns=[y for y in range(m+1)])\n",
    "# 경계조건\n",
    "for j in range(1, m):\n",
    "    df.loc[n, j] = max(k - j * ds, 0)\n",
    " \n",
    "for i in range(0, n+1):\n",
    "    df.loc[i, 0] = k\n",
    "for i in range(0, n+1):\n",
    "    df.loc[i, m] = 0\n",
    " \n",
    "for i in range(n-1, 0-1, -1):\n",
    "    for j in range(m-1, 1-1, -1):\n",
    "        A = (0.5 * dt / (1+r*dt)) * ((-1)*(r-q)*j + (sigma**2)*(j**2))\n",
    "        B = 1 / (1+r*dt) * ( 1 - ((sigma*j)**2)*dt )\n",
    "        C = (0.5 * dt / (1+r*dt)) * ((r-q)*j + (sigma**2)*(j**2))\n",
    "        df.loc[i, j] = max(A*df.loc[i+1, j-1] + B*df.loc[i+1, j] + C*df.loc[i+1, j+1], k - j * ds)\n",
    "        # europaain 이면 df.loc[i, j] = A*df.loc[i+1, j-1] + B*df.loc[i+1, j] + C*df.loc[i+1, j+1] 임.\n",
    " \n",
    "for j in range(0, m+1):\n",
    "    print('stock price : ', j*ds, \"option price: \", round(df.loc[0, j], 2))\n",
    "\n",
    "\n",
    "df.dropna(how='all', inplace=True, axis=0)\n",
    "df.dropna(how='all', inplace=True, axis=1)\n",
    "name = 'put option'\n",
    "df.to_excel('Explicit FDM of american option.xlsx', sheet_name=name)\n",
    "pd.options.display.max_columns = None\n",
    "pd.options.display.max_rows = None\n",
    "df"
   ]
  },
  {
   "cell_type": "code",
   "execution_count": null,
   "metadata": {},
   "outputs": [],
   "source": []
  }
 ]
}