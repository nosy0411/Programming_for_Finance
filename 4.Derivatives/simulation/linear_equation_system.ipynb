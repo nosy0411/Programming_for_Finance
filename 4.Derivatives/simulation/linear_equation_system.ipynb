{
 "metadata": {
  "language_info": {
   "codemirror_mode": {
    "name": "ipython",
    "version": 3
   },
   "file_extension": ".py",
   "mimetype": "text/x-python",
   "name": "python",
   "nbconvert_exporter": "python",
   "pygments_lexer": "ipython3",
   "version": "3.6.8-final"
  },
  "orig_nbformat": 2,
  "kernelspec": {
   "name": "python_defaultSpec_1598787548263",
   "display_name": "Python 3.6.8 64-bit ('base': conda)"
  }
 },
 "nbformat": 4,
 "nbformat_minor": 2,
 "cells": [
  {
   "cell_type": "code",
   "execution_count": 21,
   "metadata": {
    "tags": []
   },
   "outputs": [
    {
     "output_type": "stream",
     "name": "stdout",
     "text": "[[1]\n [2]\n [3]\n [4]]\n[[ 0.  3.  1. -1.]\n [ 7.  8.  4.  6.]\n [ 3.  1. -1.  0.]]\n[[ 7  3  0  0]\n [ 3  8  1  0]\n [ 0  1  4 -1]\n [ 0  0 -1  6]]\n[[1. 0. 0. 0.]\n [0. 1. 0. 0.]\n [0. 0. 1. 0.]\n [0. 0. 0. 1.]]\n[[ 1.          0.          0.          0.        ]\n [ 0.42857143  1.          0.          0.        ]\n [ 0.          0.14893617  1.          0.        ]\n [ 0.          0.         -0.25966851  1.        ]]\n[[ 7.          3.          0.          0.        ]\n [ 0.          6.71428571  1.          0.        ]\n [ 0.          0.          3.85106383 -1.        ]\n [ 0.          0.          0.          5.74033149]]\n"
    }
   ],
   "source": [
    "import numpy as np\n",
    "import scipy\n",
    "import scipy.linalg   # SciPy Linear Algebra Library\n",
    "\n",
    "# band matrix\n",
    "A = np.array([ [7, 3, 0, 0], [3, 8, 1, 0], [0, 1, 4, -1], [0, 0, -1, 6] ])\n",
    "u=1;l=1;m=4\n",
    "b = np.array([1,2,3,4]).reshape(4,1)\n",
    "ab = np.zeros((u+l+1,m))\n",
    "\n",
    "# band matrix를 풀기 위한(scipy.linalg.solve_banded를 사용하기 위한) 변형 행렬 ab\n",
    "for i in range(m):\n",
    "    for j in range(m):\n",
    "        if (u+i-j)>=0 and (u+i-j)<(u+l+1):\n",
    "            ab[u+i-j,j]=A[i,j]\n",
    "print(b)\n",
    "print(ab)\n",
    "P, L, U = scipy.linalg.lu(A)\n",
    "\n",
    "print(A)\n",
    "print(P)\n",
    "print(L)\n",
    "print(U)"
   ]
  },
  {
   "cell_type": "code",
   "execution_count": 23,
   "metadata": {
    "tags": []
   },
   "outputs": [
    {
     "output_type": "stream",
     "name": "stdout",
     "text": "Wall time: 0 ns\nWall time: 1 ms\nWall time: 0 ns\n[[0.10202117]\n [0.09528393]\n [0.93166506]\n [0.82194418]]\n[[0.10202117]\n [0.09528393]\n [0.93166506]\n [0.82194418]]\n[[0.10202117]\n [0.09528393]\n [0.93166506]\n [0.82194418]]\n"
    }
   ],
   "source": [
    "import numpy as np\n",
    "# LU분해가 소수점이 들어간 작은 수일 경우 pivoting을 안해주면 오차가 크게 나는 것으로 보임\n",
    "# ax=b 에서 np.linalg.solve는 a must be square and of full-rank 여야함.\n",
    "# 그래서 np.linalg.lstsq()를 사용함.\n",
    "# lstsq() 명령은 행렬 A와 b를 모두 인수로 받고 뒤에서 설명할 최소자승문제(least square problem)의 답 x, 잔차제곱합(residual sum of squares) resid, 랭크(rank) rank, 특잇값(singular value) s를 반환.\n",
    "# lstsq() 명령을 사용하는 것이 inv() 명령을 사용하는 것보다 수치오차가 적고 코드도 간단하므로 선형 연립방정식의 해를 구할 때도 lstsq() 명령을 사용하는 것을 권장\n",
    "# scipy.linalg.solve_banded는 triagonal band system을 풀 수 있음\n",
    "# LAPACK(Linear Algebra PACKage) LAPACK기반\n",
    "\n",
    "%time mat_solve = np.linalg.solve(A,b)\n",
    "%time mat_lstsq = np.linalg.lstsq(A,b)[0]\n",
    "%time mat_triband = scipy.linalg.solve_banded((1,1),ab,b)\n",
    "print(mat_solve)\n",
    "print(mat_lstsq)\n",
    "print(mat_triband)\n",
    "# 그런데 위의 3가지 방법 모두 같은 값이 나오네...ㅜ"
   ]
  },
  {
   "cell_type": "code",
   "execution_count": 4,
   "metadata": {
    "tags": []
   },
   "outputs": [
    {
     "output_type": "stream",
     "name": "stdout",
     "text": "option price:  0.0\noption price:  0.0006\noption price:  0.0618\n"
    }
   ],
   "source": [
    "import numpy as np\n",
    "import math\n",
    "\n",
    "# LU 분해 구현\n",
    "def Solve_SE(matA, matb):\n",
    "    rowA = len(matA)\n",
    "    colA = len(matA.T)\n",
    "    rowB = len(matb)\n",
    "    if (rowA != colA) | (rowB != colA):\n",
    "        raise NotImplementedError\n",
    "    else:\n",
    "        pass\n",
    "    L = np.zeros((rowA, colA))\n",
    "    U = np.zeros((rowA, colA))\n",
    " \n",
    "    for j in range(0, len(L.T)):\n",
    "        for i in range(0, len(L)):\n",
    "            if j==0:\n",
    "                L[i, j] = matA[i, j]\n",
    "                U[j, i] = matA[j, i] / L[0, 0]\n",
    "            else:\n",
    "                if i < j:\n",
    "                    L[i, j] = 0\n",
    "                else:\n",
    "                    Lsum = 0\n",
    "                    for k in range(0, j):\n",
    "                        Lsum = Lsum + L[i, k]*U[k, j]\n",
    "                    L[i, j] = matA[i, j] - Lsum\n",
    "            if i < j:\n",
    "                U[j, i] = 0\n",
    "            elif i == j:\n",
    "                U[j, i] = 1\n",
    "            else:\n",
    "                Usum = 0\n",
    "                for k in range(0, i):\n",
    "                    Usum = Usum + L[k, i]*U[j, k]\n",
    "                U[j, i] = (matA[j, i] - Usum) /L[j, j]\n",
    " \n",
    " \n",
    "    modB = np.zeros((3, len(matb.T)))\n",
    "    modB[0] = matb[0] / L[0, 0]\n",
    " \n",
    "    for i in range(0, len(modB)):\n",
    "        sumofB = 0\n",
    "        for k in range(0, i):\n",
    "            sumofB = sumofB + L[i, k]*modB[k]\n",
    "        modB[i] = (matb[i] - sumofB) / L[i, i]\n",
    " \n",
    "    x = np.zeros((3, len(modB.T)))\n",
    "    for no in range(len(x)-1, 0-1, -1):\n",
    "        sum=0\n",
    "        for i in range(0, len(x)):\n",
    "            sum = sum + U[no, i] * x[i]\n",
    "        x[no] = modB[no] - sum\n",
    "    return x\n",
    " \n",
    "k=50; r=0.10; t=5/12; sigma=0.4; smax=100; q=0\n",
    "m=20; n=10\n",
    "ds = smax/m\n",
    "dt = t/n\n",
    " \n",
    "f = np.zeros((n+1, m+1))\n",
    " \n",
    "for j in range(1, m):\n",
    "    f[n, j] = max(k - j * ds, 0)\n",
    " \n",
    "for i in range(0, n+1):\n",
    "    f[i, 0] = k\n",
    "for i in range(0, n+1):\n",
    "    f[i, m] = 0\n",
    "\n",
    "j=3\n",
    "a3 = 0.5 * dt * ((r-q) * j - (sigma ** 2) * (j ** 2))\n",
    "b3 = 1 + ((sigma * j) ** 2) * dt + r * dt\n",
    "c3 = 0.5 * dt * (-(r-q) * j - (sigma ** 2) * (j ** 2))\n",
    " \n",
    "j=2\n",
    "a2 = 0.5 * dt * ((r-q) * j - (sigma ** 2) * (j ** 2))\n",
    "b2 = 1 + ((sigma * j) ** 2) * dt + r * dt\n",
    "c2 = 0.5 * dt * (-(r-q) * j - (sigma ** 2) * (j ** 2))\n",
    " \n",
    "j=1\n",
    "a1 = 0.5 * dt * ((r-q) * j - (sigma ** 2) * (j ** 2))\n",
    "b1 = 1 + ((sigma * j) ** 2) * dt + r * dt\n",
    "c1 = 0.5 * dt * (-(r-q) * j - (sigma ** 2) * (j ** 2))\n",
    " \n",
    "matA = np.zeros((3, 3))\n",
    "matA[0, 0] = b3; matA[0, 1] = a3; matA[0, 2] = 0\n",
    "matA[1, 0] = c2; matA[1, 1] = b2; matA[1, 2] = a2\n",
    "matA[2, 0] = 0; matA[2, 1] = c1; matA[2, 2] = b1\n",
    " \n",
    "matb = np.zeros((3, 1))\n",
    "matb[0] = f[4, 3] - c3*f[3, 4]\n",
    "matb[1] = f[4, 2]\n",
    "matb[2] = f[4, 1] - a1*f[3, 0]\n",
    " \n",
    "matx = Solve_SE(matA, matb)\n",
    " \n",
    "for i in range(len(matx)):\n",
    "    print('option price: ', round(float(matx[i]), 4))"
   ]
  },
  {
   "cell_type": "code",
   "execution_count": null,
   "metadata": {},
   "outputs": [],
   "source": [
    "# 3 band system 계산해보기"
   ]
  }
 ]
}