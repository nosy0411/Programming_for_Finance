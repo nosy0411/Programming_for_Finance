{
 "nbformat": 4,
 "nbformat_minor": 2,
 "metadata": {
  "language_info": {
   "name": "python",
   "codemirror_mode": {
    "name": "ipython",
    "version": 3
   },
   "version": "3.6.8-final"
  },
  "orig_nbformat": 2,
  "file_extension": ".py",
  "mimetype": "text/x-python",
  "name": "python",
  "npconvert_exporter": "python",
  "pygments_lexer": "ipython3",
  "version": 3,
  "kernelspec": {
   "name": "python3",
   "display_name": "Python 3"
  }
 },
 "cells": [
  {
   "cell_type": "code",
   "execution_count": 1,
   "metadata": {},
   "outputs": [
    {
     "data": {
      "text/html": "        <script type=\"text/javascript\">\n        window.PlotlyConfig = {MathJaxConfig: 'local'};\n        if (window.MathJax) {MathJax.Hub.Config({SVG: {font: \"STIX-Web\"}});}\n        if (typeof require !== 'undefined') {\n        require.undef(\"plotly\");\n        requirejs.config({\n            paths: {\n                'plotly': ['https://cdn.plot.ly/plotly-latest.min']\n            }\n        });\n        require(['plotly'], function(Plotly) {\n            window._Plotly = Plotly;\n        });\n        }\n        </script>\n        "
     },
     "metadata": {},
     "output_type": "display_data"
    }
   ],
   "source": [
    "import numpy as np \n",
    "from calcbsimpvol import calcbsimpvol\n",
    "import QuantLib as ql\n",
    "import math\n",
    "import numpy as np\n",
    "import pandas as pd\n",
    "import plotly.graph_objs as go\n",
    "from plotly.offline import download_plotlyjs, init_notebook_mode, plot, iplot\n",
    "init_notebook_mode(connected=True)\n",
    "\n",
    "K=[]\n",
    "df = pd.read_csv(\"20200529 2-05pm call.csv\")\n",
    "for i in range(len(df)):\n",
    "    K.append(df['종목'][i][-5:])\n",
    "\n",
    "strike=[]\n",
    "for i in range(len(K)):\n",
    "    if K.count(K[i])==11:\n",
    "        strike.append(K[i])"
   ]
  },
  {
   "cell_type": "code",
   "execution_count": 2,
   "metadata": {},
   "outputs": [],
   "source": [
    "# 1년을 몇일로 볼것인가? 한국은 ACT 즉 실제 그 해의 일수 365로 고정한 것을 씀.\n",
    "day_count = ql.Actual365Fixed() #Actual/365\n",
    "calculation_date = ql.Date(29, 5, 2020)\n",
    "\n",
    "T=[]\n",
    "S=[]\n",
    "K=[]\n",
    "df = pd.read_csv(\"20200529 2-05pm call.csv\")\n",
    "for i in range(len(df)):\n",
    "    # print(df['종목'][i][-5:])\n",
    "    expiry=0\n",
    "    if df['종목'][i][-5:] in strike:\n",
    "        if df['종목'][i][-9]=='0':\n",
    "            if df['종목'][i][-7]=='6':\n",
    "                expiry = ql.Date(11,6,2020)\n",
    "            elif df['종목'][i][-7]=='7':\n",
    "                expiry = ql.Date(9,7,2020)\n",
    "            elif df['종목'][i][-7]=='8':\n",
    "                expiry = ql.Date(13,8,2020)\n",
    "            elif df['종목'][i][-7]=='9':\n",
    "                expiry = ql.Date(10,9,2020)\n",
    "            elif df['종목'][i][-8:-6]=='10':\n",
    "                expiry = ql.Date(8,10,2020)\n",
    "            elif df['종목'][i][-8:-6]=='11':\n",
    "                expiry = ql.Date(12,11,2020)\n",
    "            elif df['종목'][i][-8:-6]=='12':\n",
    "                expiry = ql.Date(10,12,2020)\n",
    "        elif df['종목'][i][-9]=='1':\n",
    "            if df['종목'][i][-7]=='3':\n",
    "                expiry = ql.Date(11,3,2021)\n",
    "            elif df['종목'][i][-7]=='6':\n",
    "                expiry = ql.Date(10,6,2021)\n",
    "            elif df['종목'][i][-7]=='9':\n",
    "                expiry = ql.Date(9,9,2021)\n",
    "            elif df['종목'][i][-8:-6]=='12':\n",
    "                expiry = ql.Date(9,12,2021)\n",
    "        elif df['종목'][i][-9]=='2':\n",
    "            if df['종목'][i][-7]=='3':\n",
    "                expiry = ql.Date(10,3,2022)\n",
    "            elif df['종목'][i][-7]=='6':\n",
    "                expiry = ql.Date(9,6,2022)\n",
    "            elif df['종목'][i][-7]=='9':\n",
    "                expiry = ql.Date(8,9,2022)\n",
    "            elif df['종목'][i][-8:-6]=='12':\n",
    "                expiry = ql.Date(8,12,2022)\n",
    "\n",
    "        T.append(round(day_count.yearFraction(calculation_date,expiry),4))\n",
    "        K.append(float(df['종목'][i][-5:]))\n",
    "        S.append(float(df['현재가'][i]))"
   ]
  },
  {
   "cell_type": "code",
   "execution_count": 3,
   "metadata": {},
   "outputs": [
    {
     "name": "stdout",
     "output_type": "stream",
     "text": "[0.0356, 0.0356, 0.0356, 0.0356, 0.0356, 0.0356, 0.0356, 0.0356, 0.0356, 0.1123, 0.1123, 0.1123, 0.1123, 0.1123, 0.1123, 0.1123, 0.1123, 0.1123, 0.2082, 0.2082, 0.2082, 0.2082, 0.2082, 0.2082, 0.2082, 0.2082, 0.2082, 0.2849, 0.2849, 0.2849, 0.2849, 0.2849, 0.2849, 0.2849, 0.2849, 0.2849, 0.3616, 0.3616, 0.3616, 0.3616, 0.3616, 0.3616, 0.3616, 0.3616, 0.3616, 0.4575, 0.4575, 0.4575, 0.4575, 0.4575, 0.4575, 0.4575, 0.4575, 0.4575, 0.5342, 0.5342, 0.5342, 0.5342, 0.5342, 0.5342, 0.5342, 0.5342, 0.5342, 0.7836, 0.7836, 0.7836, 0.7836, 0.7836, 0.7836, 0.7836, 0.7836, 0.7836, 1.0329, 1.0329, 1.0329, 1.0329, 1.0329, 1.0329, 1.0329, 1.0329, 1.0329, 1.5315, 1.5315, 1.5315, 1.5315, 1.5315, 1.5315, 1.5315, 1.5315, 1.5315, 2.5288, 2.5288, 2.5288, 2.5288, 2.5288, 2.5288, 2.5288, 2.5288, 2.5288]\n[220.0, 230.0, 240.0, 250.0, 260.0, 270.0, 280.0, 290.0, 300.0, 220.0, 230.0, 240.0, 250.0, 260.0, 270.0, 280.0, 290.0, 300.0, 220.0, 230.0, 240.0, 250.0, 260.0, 270.0, 280.0, 290.0, 300.0, 220.0, 230.0, 240.0, 250.0, 260.0, 270.0, 280.0, 290.0, 300.0, 220.0, 230.0, 240.0, 250.0, 260.0, 270.0, 280.0, 290.0, 300.0, 220.0, 230.0, 240.0, 250.0, 260.0, 270.0, 280.0, 290.0, 300.0, 220.0, 230.0, 240.0, 250.0, 260.0, 270.0, 280.0, 290.0, 300.0, 220.0, 230.0, 240.0, 250.0, 260.0, 270.0, 280.0, 290.0, 300.0, 220.0, 230.0, 240.0, 250.0, 260.0, 270.0, 280.0, 290.0, 300.0, 220.0, 230.0, 240.0, 250.0, 260.0, 270.0, 280.0, 290.0, 300.0, 220.0, 230.0, 240.0, 250.0, 260.0, 270.0, 280.0, 290.0, 300.0]\n[46.55, 36.15, 28.1, 18.1, 10.05, 3.62, 0.73, 0.08, 0.01, 47.7, 37.9, 28.5, 19.2, 11.8, 6.11, 2.4, 0.76, 0.23, 47.85, 38.05, 29.5, 20.15, 13.0, 8.88, 4.06, 1.5, 0.85, 49.05, 39.95, 31.3, 23.4, 15.0, 10.4, 6.06, 2.98, 1.5, 48.45, 39.4, 30.95, 23.3, 16.55, 11.05, 6.83, 3.95, 2.14, 48.25, 39.15, 30.75, 23.3, 16.95, 11.85, 7.93, 5.09, 3.15, 49.2, 40.6, 32.65, 25.7, 19.7, 14.0, 10.2, 6.64, 4.04, 46.25, 37.95, 30.45, 23.85, 18.2, 13.55, 9.82, 7.06, 4.94, 47.2, 39.35, 32.25, 26.0, 20.6, 15.9, 12.2, 9.26, 6.8, 48.75, 41.45, 34.7, 33.0, 23.7, 19.1, 15.45, 12.25, 10.7, 49.95, 43.55, 37.8, 32.6, 27.95, 23.85, 20.3, 17.05, 14.5]\n"
    }
   ],
   "source": [
    "print(T)\n",
    "print(K)\n",
    "print(S)"
   ]
  },
  {
   "cell_type": "code",
   "execution_count": 4,
   "metadata": {},
   "outputs": [
    {
     "name": "stdout",
     "output_type": "stream",
     "text": "[nan, nan, nan, nan, 0.8860942186534665, 0.33688611390160944, 0.006238301729020898, nan, nan, nan, nan, nan, nan, 0.7791568462483932, 0.4762093675042754, 0.24835053064409712, 0.10405855066959094, 0.009944871079340856, nan, nan, nan, nan, 0.7985196116101432, 0.6055726136530943, 0.3902972600486157, 0.2400629877855558, 0.1650832883236796, nan, nan, nan, nan, 0.8652370719738937, 0.678926298852141, 0.5000190913255863, 0.3527878524475413, 0.25445948827931036, nan, nan, nan, nan, 0.9239030257007631, 0.7261688465416963, 0.5612152721219652, 0.43032085302616196, 0.32826959180725535, nan, nan, nan, nan, 0.9627557991393693, 0.7842785057247864, 0.6358546160938803, 0.5144297319087867, 0.4163939295876253, nan, nan, nan, nan, nan, 0.8690118031164263, 0.7302137760391457, 0.5957099897808181, 0.4829251552849719, nan, nan, nan, nan, nan, 0.9547758984207024, 0.8188016950266089, 0.707872015838089, 0.6129156724299214, nan, nan, nan, nan, nan, nan, 0.9829944880373872, 0.8676076294885422, 0.7646908619007262, nan, nan, nan, nan, nan, nan, nan, nan, nan, nan, nan, nan, nan, nan, nan, nan, nan, nan]\n"
    }
   ],
   "source": [
    "implied_volatility=[]\n",
    "for i in range(len(T)):\n",
    "    s = np.asarray(267.82) # Underlying Price : Kospi200지수 5.29 2:05pm\n",
    "    k = np.asarray([K[i]]) # Strike Price \n",
    "    tau = np.asarray([T[i]]) # Time to Maturity \n",
    "    r = np.asarray(0.81)  # CD91일물 금리 2020.5.21일 기준\n",
    "    q = np.asarray(0.00) # Dividend Rate \n",
    "    cp = np.asarray(-1) # Option Type \n",
    "    P = np.asarray([S[i]]) # Market Price\n",
    "    \n",
    "    imp_vol = calcbsimpvol(dict(cp=cp, P=P, S=s, K=k, tau=tau, r=r, q=q))\n",
    "    if imp_vol[0][0]>=1:\n",
    "        imp_vol[0][0]=nan\n",
    "     \n",
    "    implied_volatility.append(imp_vol[0][0])\n",
    "print(implied_volatility)"
   ]
  },
  {
   "cell_type": "code",
   "execution_count": 5,
   "metadata": {},
   "outputs": [
    {
     "name": "stdout",
     "output_type": "stream",
     "text": "[290.0, 260.0, 230.0, 300.0, 270.0, 240.0, 280.0, 250.0, 220.0]\n[0.2849, 0.3616, 0.1123, 0.2082, 0.4575, 0.5342, 0.7836, 1.0329, 1.5315, 2.5288, 0.0356]\n"
    }
   ],
   "source": [
    "K=list(set(K))\n",
    "T=list(set(T))\n",
    "print(K)\n",
    "print(T)"
   ]
  },
  {
   "cell_type": "code",
   "execution_count": 6,
   "metadata": {},
   "outputs": [
    {
     "name": "stdout",
     "output_type": "stream",
     "text": "[220.0, 230.0, 240.0, 250.0, 260.0, 270.0, 280.0, 290.0, 300.0]\n[0.0356, 0.1123, 0.2082, 0.2849, 0.3616, 0.4575, 0.5342, 0.7836, 1.0329, 1.5315, 2.5288]\n"
    }
   ],
   "source": [
    "K.sort()\n",
    "T.sort()\n",
    "print(K)\n",
    "print(T)\n"
   ]
  },
  {
   "cell_type": "code",
   "execution_count": 40,
   "metadata": {},
   "outputs": [
    {
     "name": "stdout",
     "output_type": "stream",
     "text": "[[       nan        nan        nan        nan        nan        nan\n         nan        nan        nan        nan        nan]\n [       nan        nan        nan        nan        nan        nan\n         nan        nan        nan        nan        nan]\n [       nan        nan        nan        nan        nan        nan\n         nan        nan        nan        nan        nan]\n [       nan        nan        nan        nan        nan        nan\n         nan        nan        nan        nan        nan]\n [0.8289963  0.7441218  0.77397965 0.84482072 0.90621969 0.94753386\n         nan        nan        nan        nan        nan]\n [0.25437994 0.43938909 0.580534   0.65837261 0.70859102 0.76919041\n  0.85518749 0.94409239        nan        nan        nan]\n [       nan 0.21183587 0.36639617 0.47999757 0.54410338 0.62109992\n  0.71656846 0.80834191 0.97408669        nan        nan]\n [       nan 0.06751006 0.21821991 0.33393533 0.41394121 0.50016428\n  0.58249879 0.69767395 0.85888502        nan        nan]\n [       nan        nan 0.14362574 0.23668423 0.31278488 0.40271508\n  0.47030423 0.60302775 0.75619448        nan        nan]]\n"
    }
   ],
   "source": [
    "TM=np.asarray(T)\n",
    "KP=np.asarray(K)\n",
    "TM,KP=np.meshgrid(TM,KP)\n",
    "imp_vol=np.asarray(implied_volatility)\n",
    "imp_vol=np.reshape(imp_vol,(len(T),len(K))).T\n",
    "print(imp_vol)"
   ]
  },
  {
   "cell_type": "code",
   "execution_count": 23,
   "metadata": {},
   "outputs": [
    {
     "data": {
      "application/vnd.plotly.v1+json": {
       "config": {
        "linkText": "Export to plot.ly",
        "plotlyServerURL": "https://plot.ly",
        "responsive": true,
        "showLink": false
       },
       "data": [
        {
         "colorscale": "Jet",
         "opacity": 0.8,
         "type": "surface",
         "uid": "d3aa944b-9108-4efa-80d6-17bea1213ace",
         "x": [
          [
           0.0329,
           0.1096,
           0.2055,
           0.2822,
           0.3589,
           0.4548,
           0.5315,
           0.7808,
           1.0301,
           1.5288,
           2.526
          ],
          [
           0.0329,
           0.1096,
           0.2055,
           0.2822,
           0.3589,
           0.4548,
           0.5315,
           0.7808,
           1.0301,
           1.5288,
           2.526
          ],
          [
           0.0329,
           0.1096,
           0.2055,
           0.2822,
           0.3589,
           0.4548,
           0.5315,
           0.7808,
           1.0301,
           1.5288,
           2.526
          ],
          [
           0.0329,
           0.1096,
           0.2055,
           0.2822,
           0.3589,
           0.4548,
           0.5315,
           0.7808,
           1.0301,
           1.5288,
           2.526
          ],
          [
           0.0329,
           0.1096,
           0.2055,
           0.2822,
           0.3589,
           0.4548,
           0.5315,
           0.7808,
           1.0301,
           1.5288,
           2.526
          ],
          [
           0.0329,
           0.1096,
           0.2055,
           0.2822,
           0.3589,
           0.4548,
           0.5315,
           0.7808,
           1.0301,
           1.5288,
           2.526
          ],
          [
           0.0329,
           0.1096,
           0.2055,
           0.2822,
           0.3589,
           0.4548,
           0.5315,
           0.7808,
           1.0301,
           1.5288,
           2.526
          ],
          [
           0.0329,
           0.1096,
           0.2055,
           0.2822,
           0.3589,
           0.4548,
           0.5315,
           0.7808,
           1.0301,
           1.5288,
           2.526
          ],
          [
           0.0329,
           0.1096,
           0.2055,
           0.2822,
           0.3589,
           0.4548,
           0.5315,
           0.7808,
           1.0301,
           1.5288,
           2.526
          ]
         ],
         "y": [
          [
           220,
           220,
           220,
           220,
           220,
           220,
           220,
           220,
           220,
           220,
           220
          ],
          [
           230,
           230,
           230,
           230,
           230,
           230,
           230,
           230,
           230,
           230,
           230
          ],
          [
           240,
           240,
           240,
           240,
           240,
           240,
           240,
           240,
           240,
           240,
           240
          ],
          [
           250,
           250,
           250,
           250,
           250,
           250,
           250,
           250,
           250,
           250,
           250
          ],
          [
           260,
           260,
           260,
           260,
           260,
           260,
           260,
           260,
           260,
           260,
           260
          ],
          [
           270,
           270,
           270,
           270,
           270,
           270,
           270,
           270,
           270,
           270,
           270
          ],
          [
           280,
           280,
           280,
           280,
           280,
           280,
           280,
           280,
           280,
           280,
           280
          ],
          [
           290,
           290,
           290,
           290,
           290,
           290,
           290,
           290,
           290,
           290,
           290
          ],
          [
           300,
           300,
           300,
           300,
           300,
           300,
           300,
           300,
           300,
           300,
           300
          ]
         ],
         "z": [
          [
           0.5941547578843419,
           0.5469316668041275,
           0.508316958441919,
           0.48084359984886277,
           0.47938920924756306,
           0.5411095024830338,
           0.6800911973196101,
           0.8628277869731183,
           null
          ],
          [
           0.5323229685134394,
           0.5210793995203029,
           0.5164004051601241,
           0.5280696163829995,
           0.5689573998935467,
           0.6554603069068399,
           0.7675506809350433,
           0.9024774715708497,
           null
          ],
          [
           0.5822231253963529,
           0.5805692702965236,
           0.5935214604977843,
           0.7097503139269197,
           0.7754386208810073,
           0.8479779863693825,
           0.9289958293669136,
           null,
           null
          ],
          [
           0.6254395938892992,
           0.6356792231706837,
           0.6686004072716034,
           0.6803809924425128,
           0.7185735863260041,
           0.8156137549767918,
           0.9083894249183329,
           null,
           null
          ],
          [
           0.7045179667169771,
           0.7151580535394446,
           0.7394911960764662,
           0.770430070973242,
           0.8136790261101585,
           0.8881711330618508,
           0.9789912652860141,
           null,
           null
          ],
          [
           0.7768950206084911,
           0.789929028943272,
           0.8141447603634121,
           0.8478014270541301,
           0.8867572228518882,
           0.9646120543326735,
           null,
           null,
           null
          ],
          [
           0.8295360529128412,
           0.8498147724950431,
           0.838095142515507,
           0.9067791507713483,
           0.9385381786087444,
           null,
           null,
           null,
           null
          ],
          [
           0.918836732918436,
           null,
           null,
           null,
           null,
           null,
           null,
           null,
           null
          ],
          [
           null,
           null,
           null,
           null,
           null,
           null,
           null,
           null,
           null
          ],
          [
           null,
           null,
           null,
           null,
           null,
           null,
           null,
           null,
           null
          ],
          [
           null,
           null,
           null,
           null,
           null,
           null,
           null,
           null,
           null
          ]
         ]
        }
       ],
       "layout": {
        "autosize": false,
        "height": 800,
        "margin": {
         "pad": 0
        },
        "scene": {
         "xaxis": {
          "title": {
           "text": "Maturity"
          }
         },
         "yaxis": {
          "title": {
           "text": "Spot Price"
          }
         },
         "zaxis": {
          "title": {
           "text": "Theta"
          }
         }
        },
        "title": {
         "text": "Call Theta Surface"
        },
        "width": 800
       }
      },
      "text/html": "<div>\n        \n        \n            <div id=\"b00a6321-694b-476d-8fa9-af1f4929d964\" class=\"plotly-graph-div\" style=\"height:800px; width:800px;\"></div>\n            <script type=\"text/javascript\">\n                require([\"plotly\"], function(Plotly) {\n                    window.PLOTLYENV=window.PLOTLYENV || {};\n                    window.PLOTLYENV.BASE_URL='https://plot.ly';\n                    \n                if (document.getElementById(\"b00a6321-694b-476d-8fa9-af1f4929d964\")) {\n                    Plotly.newPlot(\n                        'b00a6321-694b-476d-8fa9-af1f4929d964',\n                        [{\"colorscale\": \"Jet\", \"opacity\": 0.8, \"type\": \"surface\", \"uid\": \"ade984f9-f306-44dc-9842-34bce68b0a44\", \"x\": [[0.0329, 0.1096, 0.2055, 0.2822, 0.3589, 0.4548, 0.5315, 0.7808, 1.0301, 1.5288, 2.526], [0.0329, 0.1096, 0.2055, 0.2822, 0.3589, 0.4548, 0.5315, 0.7808, 1.0301, 1.5288, 2.526], [0.0329, 0.1096, 0.2055, 0.2822, 0.3589, 0.4548, 0.5315, 0.7808, 1.0301, 1.5288, 2.526], [0.0329, 0.1096, 0.2055, 0.2822, 0.3589, 0.4548, 0.5315, 0.7808, 1.0301, 1.5288, 2.526], [0.0329, 0.1096, 0.2055, 0.2822, 0.3589, 0.4548, 0.5315, 0.7808, 1.0301, 1.5288, 2.526], [0.0329, 0.1096, 0.2055, 0.2822, 0.3589, 0.4548, 0.5315, 0.7808, 1.0301, 1.5288, 2.526], [0.0329, 0.1096, 0.2055, 0.2822, 0.3589, 0.4548, 0.5315, 0.7808, 1.0301, 1.5288, 2.526], [0.0329, 0.1096, 0.2055, 0.2822, 0.3589, 0.4548, 0.5315, 0.7808, 1.0301, 1.5288, 2.526], [0.0329, 0.1096, 0.2055, 0.2822, 0.3589, 0.4548, 0.5315, 0.7808, 1.0301, 1.5288, 2.526]], \"y\": [[220.0, 220.0, 220.0, 220.0, 220.0, 220.0, 220.0, 220.0, 220.0, 220.0, 220.0], [230.0, 230.0, 230.0, 230.0, 230.0, 230.0, 230.0, 230.0, 230.0, 230.0, 230.0], [240.0, 240.0, 240.0, 240.0, 240.0, 240.0, 240.0, 240.0, 240.0, 240.0, 240.0], [250.0, 250.0, 250.0, 250.0, 250.0, 250.0, 250.0, 250.0, 250.0, 250.0, 250.0], [260.0, 260.0, 260.0, 260.0, 260.0, 260.0, 260.0, 260.0, 260.0, 260.0, 260.0], [270.0, 270.0, 270.0, 270.0, 270.0, 270.0, 270.0, 270.0, 270.0, 270.0, 270.0], [280.0, 280.0, 280.0, 280.0, 280.0, 280.0, 280.0, 280.0, 280.0, 280.0, 280.0], [290.0, 290.0, 290.0, 290.0, 290.0, 290.0, 290.0, 290.0, 290.0, 290.0, 290.0], [300.0, 300.0, 300.0, 300.0, 300.0, 300.0, 300.0, 300.0, 300.0, 300.0, 300.0]], \"z\": [[0.5941547578843419, 0.5469316668041275, 0.508316958441919, 0.48084359984886277, 0.47938920924756306, 0.5411095024830338, 0.6800911973196101, 0.8628277869731183, null], [0.5323229685134394, 0.5210793995203029, 0.5164004051601241, 0.5280696163829995, 0.5689573998935467, 0.6554603069068399, 0.7675506809350433, 0.9024774715708497, null], [0.5822231253963529, 0.5805692702965236, 0.5935214604977843, 0.7097503139269197, 0.7754386208810073, 0.8479779863693825, 0.9289958293669136, null, null], [0.6254395938892992, 0.6356792231706837, 0.6686004072716034, 0.6803809924425128, 0.7185735863260041, 0.8156137549767918, 0.9083894249183329, null, null], [0.7045179667169771, 0.7151580535394446, 0.7394911960764662, 0.770430070973242, 0.8136790261101585, 0.8881711330618508, 0.9789912652860141, null, null], [0.7768950206084911, 0.789929028943272, 0.8141447603634121, 0.8478014270541301, 0.8867572228518882, 0.9646120543326735, null, null, null], [0.8295360529128412, 0.8498147724950431, 0.838095142515507, 0.9067791507713483, 0.9385381786087444, null, null, null, null], [0.918836732918436, null, null, null, null, null, null, null, null], [null, null, null, null, null, null, null, null, null], [null, null, null, null, null, null, null, null, null], [null, null, null, null, null, null, null, null, null]]}],\n                        {\"autosize\": false, \"height\": 800, \"margin\": {\"pad\": 0}, \"scene\": {\"xaxis\": {\"title\": {\"text\": \"Maturity\"}}, \"yaxis\": {\"title\": {\"text\": \"Spot Price\"}}, \"zaxis\": {\"title\": {\"text\": \"Theta\"}}}, \"title\": {\"text\": \"Call Theta Surface\"}, \"width\": 800},\n                        {\"showLink\": false, \"linkText\": \"Export to plot.ly\", \"plotlyServerURL\": \"https://plot.ly\", \"responsive\": true}\n                    ).then(function(){\n                            \nvar gd = document.getElementById('b00a6321-694b-476d-8fa9-af1f4929d964');\nvar x = new MutationObserver(function (mutations, observer) {{\n        var display = window.getComputedStyle(gd).display;\n        if (!display || display === 'none') {{\n            console.log([gd, 'removed!']);\n            Plotly.purge(gd);\n            observer.disconnect();\n        }}\n}});\n\n// Listen for the removal of the full notebook cells\nvar notebookContainer = gd.closest('#notebook-container');\nif (notebookContainer) {{\n    x.observe(notebookContainer, {childList: true});\n}}\n\n// Listen for the clearing of the current output cell\nvar outputEl = gd.closest('.output');\nif (outputEl) {{\n    x.observe(outputEl, {childList: true});\n}}\n\n                        })\n                };\n                });\n            </script>\n        </div>"
     },
     "metadata": {},
     "output_type": "display_data"
    }
   ],
   "source": [
    "\n",
    "trace = go.Surface(x=TM, y=KP, z=imp_vol, colorscale='Jet', opacity=0.8)\n",
    "data = [trace] \n",
    "layout = go.Layout(title='Call Theta Surface', \n",
    "        scene={'xaxis':{'title':'Maturity'}, 'yaxis':{'title':'Spot Price'}, 'zaxis':{'title':'Theta'}}, \n",
    "        width=800, height=800, autosize=False, margin=dict(pad=0) ) \n",
    "fig = go.Figure(data=data, layout=layout) \n",
    "iplot(fig)"
   ]
  },
  {
   "cell_type": "code",
   "execution_count": 41,
   "metadata": {},
   "outputs": [
    {
     "data": {
      "text/html": "        <script type=\"text/javascript\">\n        window.PlotlyConfig = {MathJaxConfig: 'local'};\n        if (window.MathJax) {MathJax.Hub.Config({SVG: {font: \"STIX-Web\"}});}\n        if (typeof require !== 'undefined') {\n        require.undef(\"plotly\");\n        requirejs.config({\n            paths: {\n                'plotly': ['https://cdn.plot.ly/plotly-latest.min']\n            }\n        });\n        require(['plotly'], function(Plotly) {\n            window._Plotly = Plotly;\n        });\n        }\n        </script>\n        "
     },
     "metadata": {},
     "output_type": "display_data"
    },
    {
     "data": {
      "application/vnd.plotly.v1+json": {
       "config": {
        "linkText": "Export to plot.ly",
        "plotlyServerURL": "https://plot.ly",
        "responsive": true,
        "showLink": false
       },
       "data": [
        {
         "colorscale": "Jet",
         "contours": {
          "x": {
           "color": "black",
           "end": 1,
           "project": {
            "x": true
           },
           "show": true,
           "size": 0.02,
           "start": 0
          },
          "y": {
           "color": "black",
           "end": 300,
           "project": {
            "y": true
           },
           "show": true,
           "size": 2,
           "start": 200
          }
         },
         "opacity": 0.8,
         "type": "surface",
         "uid": "3ccdbd2a-0629-4acc-bd25-f261d23c7477",
         "x": [
          [
           0.0329,
           0.1096,
           0.2055,
           0.2822,
           0.3589,
           0.4548,
           0.5315,
           0.7808,
           1.0301,
           1.5288,
           2.526
          ],
          [
           0.0329,
           0.1096,
           0.2055,
           0.2822,
           0.3589,
           0.4548,
           0.5315,
           0.7808,
           1.0301,
           1.5288,
           2.526
          ],
          [
           0.0329,
           0.1096,
           0.2055,
           0.2822,
           0.3589,
           0.4548,
           0.5315,
           0.7808,
           1.0301,
           1.5288,
           2.526
          ],
          [
           0.0329,
           0.1096,
           0.2055,
           0.2822,
           0.3589,
           0.4548,
           0.5315,
           0.7808,
           1.0301,
           1.5288,
           2.526
          ],
          [
           0.0329,
           0.1096,
           0.2055,
           0.2822,
           0.3589,
           0.4548,
           0.5315,
           0.7808,
           1.0301,
           1.5288,
           2.526
          ],
          [
           0.0329,
           0.1096,
           0.2055,
           0.2822,
           0.3589,
           0.4548,
           0.5315,
           0.7808,
           1.0301,
           1.5288,
           2.526
          ],
          [
           0.0329,
           0.1096,
           0.2055,
           0.2822,
           0.3589,
           0.4548,
           0.5315,
           0.7808,
           1.0301,
           1.5288,
           2.526
          ],
          [
           0.0329,
           0.1096,
           0.2055,
           0.2822,
           0.3589,
           0.4548,
           0.5315,
           0.7808,
           1.0301,
           1.5288,
           2.526
          ],
          [
           0.0329,
           0.1096,
           0.2055,
           0.2822,
           0.3589,
           0.4548,
           0.5315,
           0.7808,
           1.0301,
           1.5288,
           2.526
          ]
         ],
         "y": [
          [
           220,
           220,
           220,
           220,
           220,
           220,
           220,
           220,
           220,
           220,
           220
          ],
          [
           230,
           230,
           230,
           230,
           230,
           230,
           230,
           230,
           230,
           230,
           230
          ],
          [
           240,
           240,
           240,
           240,
           240,
           240,
           240,
           240,
           240,
           240,
           240
          ],
          [
           250,
           250,
           250,
           250,
           250,
           250,
           250,
           250,
           250,
           250,
           250
          ],
          [
           260,
           260,
           260,
           260,
           260,
           260,
           260,
           260,
           260,
           260,
           260
          ],
          [
           270,
           270,
           270,
           270,
           270,
           270,
           270,
           270,
           270,
           270,
           270
          ],
          [
           280,
           280,
           280,
           280,
           280,
           280,
           280,
           280,
           280,
           280,
           280
          ],
          [
           290,
           290,
           290,
           290,
           290,
           290,
           290,
           290,
           290,
           290,
           290
          ],
          [
           300,
           300,
           300,
           300,
           300,
           300,
           300,
           300,
           300,
           300,
           300
          ]
         ],
         "z": [
          [
           null,
           null,
           null,
           null,
           null,
           null,
           null,
           null,
           null,
           null,
           null
          ],
          [
           null,
           null,
           null,
           null,
           null,
           null,
           null,
           null,
           null,
           null,
           null
          ],
          [
           null,
           null,
           null,
           null,
           null,
           null,
           null,
           null,
           null,
           null,
           null
          ],
          [
           null,
           null,
           null,
           null,
           null,
           null,
           null,
           null,
           null,
           null,
           null
          ],
          [
           0.8289962985080663,
           0.7441217988646814,
           0.7739796491583778,
           0.844820718172808,
           0.9062196893389484,
           0.9475338578747543,
           null,
           null,
           null,
           null,
           null
          ],
          [
           0.2543799426817799,
           0.43938909418055366,
           0.5805340012581109,
           0.6583726076499185,
           0.7085910175494782,
           0.7691904120124361,
           0.8551874866958828,
           0.9440923875725766,
           null,
           null,
           null
          ],
          [
           null,
           0.2118358724560709,
           0.3663961744795936,
           0.4799975720590576,
           0.5441033776179409,
           0.6210999248568186,
           0.7165684632006247,
           0.8083419091845622,
           0.9740866892456328,
           null,
           null
          ],
          [
           null,
           0.06751006494075,
           0.21821991028692195,
           0.33393533219763544,
           0.4139412107156232,
           0.5001642807900478,
           0.5824987933185791,
           0.6976739475212013,
           0.8588850182497823,
           null,
           null
          ],
          [
           null,
           null,
           0.14362574420799998,
           0.23668422810924056,
           0.31278488367390217,
           0.4027150831279314,
           0.4703042271204471,
           0.603027752460513,
           0.7561944787634193,
           null,
           null
          ]
         ]
        }
       ],
       "layout": {
        "autosize": false,
        "height": 1000,
        "margin": {
         "pad": 0
        },
        "scene": {
         "xaxis": {
          "title": {
           "text": "Maturity"
          }
         },
         "yaxis": {
          "title": {
           "text": "Strike Price"
          }
         },
         "zaxis": {
          "title": {
           "text": "implied volatility"
          }
         }
        },
        "title": {
         "text": "Implied Volatility Surface of call option"
        },
        "width": 1000
       }
      },
      "text/html": "<div>\n        \n        \n            <div id=\"8092cc61-0864-42a7-9254-8ca9b1669665\" class=\"plotly-graph-div\" style=\"height:1000px; width:1000px;\"></div>\n            <script type=\"text/javascript\">\n                require([\"plotly\"], function(Plotly) {\n                    window.PLOTLYENV=window.PLOTLYENV || {};\n                    window.PLOTLYENV.BASE_URL='https://plot.ly';\n                    \n                if (document.getElementById(\"8092cc61-0864-42a7-9254-8ca9b1669665\")) {\n                    Plotly.newPlot(\n                        '8092cc61-0864-42a7-9254-8ca9b1669665',\n                        [{\"colorscale\": \"Jet\", \"contours\": {\"x\": {\"color\": \"black\", \"end\": 1, \"project\": {\"x\": true}, \"show\": true, \"size\": 0.02, \"start\": 0}, \"y\": {\"color\": \"black\", \"end\": 300, \"project\": {\"y\": true}, \"show\": true, \"size\": 2.0, \"start\": 200}}, \"opacity\": 0.8, \"type\": \"surface\", \"uid\": \"0e4a580b-3773-462b-81c4-77bdf67dd6d0\", \"x\": [[0.0329, 0.1096, 0.2055, 0.2822, 0.3589, 0.4548, 0.5315, 0.7808, 1.0301, 1.5288, 2.526], [0.0329, 0.1096, 0.2055, 0.2822, 0.3589, 0.4548, 0.5315, 0.7808, 1.0301, 1.5288, 2.526], [0.0329, 0.1096, 0.2055, 0.2822, 0.3589, 0.4548, 0.5315, 0.7808, 1.0301, 1.5288, 2.526], [0.0329, 0.1096, 0.2055, 0.2822, 0.3589, 0.4548, 0.5315, 0.7808, 1.0301, 1.5288, 2.526], [0.0329, 0.1096, 0.2055, 0.2822, 0.3589, 0.4548, 0.5315, 0.7808, 1.0301, 1.5288, 2.526], [0.0329, 0.1096, 0.2055, 0.2822, 0.3589, 0.4548, 0.5315, 0.7808, 1.0301, 1.5288, 2.526], [0.0329, 0.1096, 0.2055, 0.2822, 0.3589, 0.4548, 0.5315, 0.7808, 1.0301, 1.5288, 2.526], [0.0329, 0.1096, 0.2055, 0.2822, 0.3589, 0.4548, 0.5315, 0.7808, 1.0301, 1.5288, 2.526], [0.0329, 0.1096, 0.2055, 0.2822, 0.3589, 0.4548, 0.5315, 0.7808, 1.0301, 1.5288, 2.526]], \"y\": [[220.0, 220.0, 220.0, 220.0, 220.0, 220.0, 220.0, 220.0, 220.0, 220.0, 220.0], [230.0, 230.0, 230.0, 230.0, 230.0, 230.0, 230.0, 230.0, 230.0, 230.0, 230.0], [240.0, 240.0, 240.0, 240.0, 240.0, 240.0, 240.0, 240.0, 240.0, 240.0, 240.0], [250.0, 250.0, 250.0, 250.0, 250.0, 250.0, 250.0, 250.0, 250.0, 250.0, 250.0], [260.0, 260.0, 260.0, 260.0, 260.0, 260.0, 260.0, 260.0, 260.0, 260.0, 260.0], [270.0, 270.0, 270.0, 270.0, 270.0, 270.0, 270.0, 270.0, 270.0, 270.0, 270.0], [280.0, 280.0, 280.0, 280.0, 280.0, 280.0, 280.0, 280.0, 280.0, 280.0, 280.0], [290.0, 290.0, 290.0, 290.0, 290.0, 290.0, 290.0, 290.0, 290.0, 290.0, 290.0], [300.0, 300.0, 300.0, 300.0, 300.0, 300.0, 300.0, 300.0, 300.0, 300.0, 300.0]], \"z\": [[null, null, null, null, null, null, null, null, null, null, null], [null, null, null, null, null, null, null, null, null, null, null], [null, null, null, null, null, null, null, null, null, null, null], [null, null, null, null, null, null, null, null, null, null, null], [0.8289962985080663, 0.7441217988646814, 0.7739796491583778, 0.844820718172808, 0.9062196893389484, 0.9475338578747543, null, null, null, null, null], [0.2543799426817799, 0.43938909418055366, 0.5805340012581109, 0.6583726076499185, 0.7085910175494782, 0.7691904120124361, 0.8551874866958828, 0.9440923875725766, null, null, null], [null, 0.2118358724560709, 0.3663961744795936, 0.4799975720590576, 0.5441033776179409, 0.6210999248568186, 0.7165684632006247, 0.8083419091845622, 0.9740866892456328, null, null], [null, 0.06751006494075, 0.21821991028692195, 0.33393533219763544, 0.4139412107156232, 0.5001642807900478, 0.5824987933185791, 0.6976739475212013, 0.8588850182497823, null, null], [null, null, 0.14362574420799998, 0.23668422810924056, 0.31278488367390217, 0.4027150831279314, 0.4703042271204471, 0.603027752460513, 0.7561944787634193, null, null]]}],\n                        {\"autosize\": false, \"height\": 1000, \"margin\": {\"pad\": 0}, \"scene\": {\"xaxis\": {\"title\": {\"text\": \"Maturity\"}}, \"yaxis\": {\"title\": {\"text\": \"Strike Price\"}}, \"zaxis\": {\"title\": {\"text\": \"implied volatility\"}}}, \"title\": {\"text\": \"Implied Volatility Surface of call option\"}, \"width\": 1000},\n                        {\"showLink\": false, \"linkText\": \"Export to plot.ly\", \"plotlyServerURL\": \"https://plot.ly\", \"responsive\": true}\n                    ).then(function(){\n                            \nvar gd = document.getElementById('8092cc61-0864-42a7-9254-8ca9b1669665');\nvar x = new MutationObserver(function (mutations, observer) {{\n        var display = window.getComputedStyle(gd).display;\n        if (!display || display === 'none') {{\n            console.log([gd, 'removed!']);\n            Plotly.purge(gd);\n            observer.disconnect();\n        }}\n}});\n\n// Listen for the removal of the full notebook cells\nvar notebookContainer = gd.closest('#notebook-container');\nif (notebookContainer) {{\n    x.observe(notebookContainer, {childList: true});\n}}\n\n// Listen for the clearing of the current output cell\nvar outputEl = gd.closest('.output');\nif (outputEl) {{\n    x.observe(outputEl, {childList: true});\n}}\n\n                        })\n                };\n                });\n            </script>\n        </div>"
     },
     "metadata": {},
     "output_type": "display_data"
    }
   ],
   "source": [
    "import plotly.graph_objs as go\n",
    "from plotly.offline import download_plotlyjs, init_notebook_mode, plot, iplot\n",
    "init_notebook_mode(connected=True)\n",
    "\n",
    "trace = go.Surface(x=TM, y=KP, z=imp_vol, colorscale='Jet', opacity=0.8,contours_x=dict(show=True, color=\"black\", start=0, end=1, size=(1 - 0)/50, project_x=True), contours_y=dict(show=True, color=\"black\", start=200, end=300, size=(300 - 200)/50, project_y=True))\n",
    "data = [trace] \n",
    "layout = go.Layout(title='Implied Volatility Surface of call option', \n",
    "        scene={'xaxis':{'title':'Maturity'}, 'yaxis':{'title':'Strike Price'}, 'zaxis':{'title':'implied volatility'}}, \n",
    "        width=1000, height=1000, autosize=False, margin=dict(pad=0) ) \n",
    "fig = go.Figure(data=data, layout=layout) \n",
    "iplot(fig)"
   ]
  },
  {
   "cell_type": "code",
   "execution_count": 48,
   "metadata": {},
   "outputs": [],
   "source": [
    "K=[]\n",
    "df = pd.read_csv(\"20200529 2-05pm put.csv\")\n",
    "for i in range(len(df)):\n",
    "    K.append(df['종목'][i][-5:])\n",
    "\n",
    "strike=[]\n",
    "for i in range(len(K)):\n",
    "    if K.count(K[i])==11:\n",
    "        strike.append(K[i])"
   ]
  },
  {
   "cell_type": "code",
   "execution_count": 49,
   "metadata": {},
   "outputs": [],
   "source": [
    "# 1년을 몇일로 볼것인가? 한국은 ACT 즉 실제 그 해의 일수 365로 고정한 것을 씀.\n",
    "day_count = ql.Actual365Fixed() #Actual/365\n",
    "calculation_date = ql.Date(29, 5, 2020)\n",
    "\n",
    "T=[]\n",
    "S=[]\n",
    "K=[]\n",
    "df = pd.read_csv(\"20200529 2-05pm put.csv\")\n",
    "for i in range(len(df)):\n",
    "    # print(df['종목'][i][-5:])\n",
    "    expiry=0\n",
    "    if df['종목'][i][-5:] in strike:\n",
    "        if df['종목'][i][-9]=='0':\n",
    "            if df['종목'][i][-7]=='6':\n",
    "                expiry = ql.Date(11,6,2020)\n",
    "            elif df['종목'][i][-7]=='7':\n",
    "                expiry = ql.Date(9,7,2020)\n",
    "            elif df['종목'][i][-7]=='8':\n",
    "                expiry = ql.Date(13,8,2020)\n",
    "            elif df['종목'][i][-7]=='9':\n",
    "                expiry = ql.Date(10,9,2020)\n",
    "            elif df['종목'][i][-8:-6]=='10':\n",
    "                expiry = ql.Date(8,10,2020)\n",
    "            elif df['종목'][i][-8:-6]=='11':\n",
    "                expiry = ql.Date(12,11,2020)\n",
    "            elif df['종목'][i][-8:-6]=='12':\n",
    "                expiry = ql.Date(10,12,2020)\n",
    "        elif df['종목'][i][-9]=='1':\n",
    "            if df['종목'][i][-7]=='3':\n",
    "                expiry = ql.Date(11,3,2021)\n",
    "            elif df['종목'][i][-7]=='6':\n",
    "                expiry = ql.Date(10,6,2021)\n",
    "            elif df['종목'][i][-7]=='9':\n",
    "                expiry = ql.Date(9,9,2021)\n",
    "            elif df['종목'][i][-8:-6]=='12':\n",
    "                expiry = ql.Date(9,12,2021)\n",
    "        elif df['종목'][i][-9]=='2':\n",
    "            if df['종목'][i][-7]=='3':\n",
    "                expiry = ql.Date(10,3,2022)\n",
    "            elif df['종목'][i][-7]=='6':\n",
    "                expiry = ql.Date(9,6,2022)\n",
    "            elif df['종목'][i][-7]=='9':\n",
    "                expiry = ql.Date(8,9,2022)\n",
    "            elif df['종목'][i][-8:-6]=='12':\n",
    "                expiry = ql.Date(8,12,2022)\n",
    "\n",
    "        T.append(round(day_count.yearFraction(calculation_date,expiry),4))\n",
    "        K.append(float(df['종목'][i][-5:]))\n",
    "        S.append(float(df['현재가'][i]))"
   ]
  },
  {
   "cell_type": "code",
   "execution_count": 50,
   "metadata": {},
   "outputs": [
    {
     "name": "stdout",
     "output_type": "stream",
     "text": "[0.0329, 0.0329, 0.0329, 0.0329, 0.0329, 0.0329, 0.0329, 0.0329, 0.0329, 0.1096, 0.1096, 0.1096, 0.1096, 0.1096, 0.1096, 0.1096, 0.1096, 0.1096, 0.2055, 0.2055, 0.2055, 0.2055, 0.2055, 0.2055, 0.2055, 0.2055, 0.2055, 0.2822, 0.2822, 0.2822, 0.2822, 0.2822, 0.2822, 0.2822, 0.2822, 0.2822, 0.3589, 0.3589, 0.3589, 0.3589, 0.3589, 0.3589, 0.3589, 0.3589, 0.3589, 0.4548, 0.4548, 0.4548, 0.4548, 0.4548, 0.4548, 0.4548, 0.4548, 0.4548, 0.5315, 0.5315, 0.5315, 0.5315, 0.5315, 0.5315, 0.5315, 0.5315, 0.5315, 0.7808, 0.7808, 0.7808, 0.7808, 0.7808, 0.7808, 0.7808, 0.7808, 0.7808, 1.0301, 1.0301, 1.0301, 1.0301, 1.0301, 1.0301, 1.0301, 1.0301, 1.0301, 1.5288, 1.5288, 1.5288, 1.5288, 1.5288, 1.5288, 1.5288, 1.5288, 1.5288, 2.526, 2.526, 2.526, 2.526, 2.526, 2.526, 2.526, 2.526, 2.526]\n[220.0, 230.0, 240.0, 250.0, 260.0, 270.0, 280.0, 290.0, 300.0, 220.0, 230.0, 240.0, 250.0, 260.0, 270.0, 280.0, 290.0, 300.0, 220.0, 230.0, 240.0, 250.0, 260.0, 270.0, 280.0, 290.0, 300.0, 220.0, 230.0, 240.0, 250.0, 260.0, 270.0, 280.0, 290.0, 300.0, 220.0, 230.0, 240.0, 250.0, 260.0, 270.0, 280.0, 290.0, 300.0, 220.0, 230.0, 240.0, 250.0, 260.0, 270.0, 280.0, 290.0, 300.0, 220.0, 230.0, 240.0, 250.0, 260.0, 270.0, 280.0, 290.0, 300.0, 220.0, 230.0, 240.0, 250.0, 260.0, 270.0, 280.0, 290.0, 300.0, 220.0, 230.0, 240.0, 250.0, 260.0, 270.0, 280.0, 290.0, 300.0, 220.0, 230.0, 240.0, 250.0, 260.0, 270.0, 280.0, 290.0, 300.0, 220.0, 230.0, 240.0, 250.0, 260.0, 270.0, 280.0, 290.0, 300.0]\n[0.17, 0.29, 0.53, 1.06, 2.43, 5.97, 13.2, 19.8, 32.4, 0.74, 1.15, 1.87, 3.09, 5.31, 10.2, 14.5, 22.45, 34.8, 1.66, 2.58, 3.65, 5.82, 9.5, 14.35, 20.4, 27.5, 35.5, 2.23, 3.54, 4.02, 6.78, 10.5, 15.8, 22.2, 29.4, 37.3, 3.91, 6.1, 9.04, 12.65, 16.9, 22.25, 28.15, 34.6, 42.0, 4.48, 6.16, 8.67, 11.7, 15.15, 19.85, 25.85, 32.4, 39.75, 4.89, 5.46, 7.4, 10.6, 14.0, 17.0, 23.1, 29.9, 37.45, 6.71, 20.35, 24.8, 29.3, 34.9, 40.55, 46.5, 53.2, 59.85, 17.85, 22.0, 12.8, 31.15, 20.0, 42.35, 48.35, 55.0, 61.7, 12.1, 15.4, 19.65, 20.0, 29.3, 34.65, 40.9, 47.35, 54.1, 15.2, 17.4, 22.25, 27.15, 32.45, 38.1, 44.45, 50.8, 57.9]\n"
    }
   ],
   "source": [
    "print(T)\n",
    "print(K)\n",
    "print(S)"
   ]
  },
  {
   "cell_type": "code",
   "execution_count": 51,
   "metadata": {},
   "outputs": [
    {
     "name": "stdout",
     "output_type": "stream",
     "text": "[0.5710676642627747, 0.5109519756242066, 0.4543216032753612, 0.403639011157178, 0.3710253935602258, 0.3801906828809589, 0.47954929730960966, 0.4639719969392601, 0.7925252309453259, 0.5241654409547133, 0.5028918867321466, 0.49031599892972144, 0.4863930570509216, 0.5021004736824913, 0.5809459341451797, 0.6046256157867563, 0.7136734219430239, 0.9283216868036579, 0.5759885426692134, 0.5823593171697453, 0.5807603896354029, 0.6106419142787474, 0.6687173288725021, 0.7355512103678566, 0.8125821795462381, 0.8978496953354327, 0.9902402467968705, 0.6114539051591592, 0.6351839655051917, 0.6066788379005753, 0.6605864882500453, 0.7200220008306222, 0.8004577417097373, 0.8875749531353891, 0.9769149940827448, nan, 0.7089465974048538, 0.7545096944647823, 0.806130646902108, 0.8597450357426318, 0.9151075817472735, 0.9838093014102788, nan, nan, nan, 0.7477114503056528, 0.7733296172898941, 0.8154412706614302, 0.8592004280733923, 0.9021462089208143, 0.9646120543326735, nan, nan, nan, 0.7793310151551156, 0.7625274765824102, 0.7932437546686605, 0.851242712072323, 0.8999725336284577, 0.9286787360294331, nan, nan, nan, 0.91092781060412, nan, nan, nan, nan, nan, nan, nan, nan, nan, nan, nan, nan, nan, nan, nan, nan, nan, nan, nan, nan, nan, nan, nan, nan, nan, nan, nan, nan, nan, nan, nan, nan, nan, nan, nan]\n"
    }
   ],
   "source": [
    "implied_volatility=[]\n",
    "for i in range(len(T)):\n",
    "    s = np.asarray(267.82) # Underlying Price : Kospi200 5.29\n",
    "    k = np.asarray([K[i]]) # Strike Price \n",
    "    tau = np.asarray([T[i]]) # Time to Maturity \n",
    "    r = np.asarray(0.81)  # CD91일물 금리 2020.5.29일 기준\n",
    "    q = np.asarray(0.00) # Dividend Rate \n",
    "    cp = np.asarray(-1) # Option Type \n",
    "    P = np.asarray([S[i]]) # Market Price\n",
    "    \n",
    "    imp_vol = calcbsimpvol(dict(cp=cp, P=P, S=s, K=k, tau=tau, r=r, q=q))\n",
    "    if imp_vol[0][0]>=1:\n",
    "        imp_vol[0][0]=nan\n",
    "     \n",
    "    implied_volatility.append(imp_vol[0][0])\n",
    "print(implied_volatility)"
   ]
  },
  {
   "cell_type": "code",
   "execution_count": 52,
   "metadata": {},
   "outputs": [
    {
     "name": "stdout",
     "output_type": "stream",
     "text": "[290.0, 260.0, 230.0, 300.0, 270.0, 240.0, 280.0, 250.0, 220.0]\n[0.0329, 0.2822, 0.2055, 0.3589, 0.1096, 0.4548, 0.5315, 0.7808, 1.0301, 1.5288, 2.526]\n"
    }
   ],
   "source": [
    "K=list(set(K))\n",
    "T=list(set(T))\n",
    "print(K)\n",
    "print(T)"
   ]
  },
  {
   "cell_type": "code",
   "execution_count": 53,
   "metadata": {},
   "outputs": [
    {
     "name": "stdout",
     "output_type": "stream",
     "text": "[220.0, 230.0, 240.0, 250.0, 260.0, 270.0, 280.0, 290.0, 300.0]\n[0.0329, 0.1096, 0.2055, 0.2822, 0.3589, 0.4548, 0.5315, 0.7808, 1.0301, 1.5288, 2.526]\n"
    }
   ],
   "source": [
    "K.sort()\n",
    "T.sort()\n",
    "print(K)\n",
    "print(T)"
   ]
  },
  {
   "cell_type": "code",
   "execution_count": 54,
   "metadata": {},
   "outputs": [
    {
     "name": "stdout",
     "output_type": "stream",
     "text": "[[0.57106766 0.52416544 0.57598854 0.61145391 0.7089466  0.74771145\n  0.77933102 0.91092781        nan        nan        nan]\n [0.51095198 0.50289189 0.58235932 0.63518397 0.75450969 0.77332962\n  0.76252748        nan        nan        nan        nan]\n [0.4543216  0.490316   0.58076039 0.60667884 0.80613065 0.81544127\n  0.79324375        nan        nan        nan        nan]\n [0.40363901 0.48639306 0.61064191 0.66058649 0.85974504 0.85920043\n  0.85124271        nan        nan        nan        nan]\n [0.37102539 0.50210047 0.66871733 0.720022   0.91510758 0.90214621\n  0.89997253        nan        nan        nan        nan]\n [0.38019068 0.58094593 0.73555121 0.80045774 0.9838093  0.96461205\n  0.92867874        nan        nan        nan        nan]\n [0.4795493  0.60462562 0.81258218 0.88757495        nan        nan\n         nan        nan        nan        nan        nan]\n [0.463972   0.71367342 0.8978497  0.97691499        nan        nan\n         nan        nan        nan        nan        nan]\n [0.79252523 0.92832169 0.99024025        nan        nan        nan\n         nan        nan        nan        nan        nan]]\n"
    }
   ],
   "source": [
    "TM=np.asarray(T)\n",
    "KP=np.asarray(K)\n",
    "TM,KP=np.meshgrid(TM,KP)\n",
    "imp_vol=np.asarray(implied_volatility)\n",
    "imp_vol=np.reshape(imp_vol,(len(T),len(K))).T\n",
    "print(imp_vol)"
   ]
  },
  {
   "cell_type": "code",
   "execution_count": 55,
   "metadata": {},
   "outputs": [
    {
     "data": {
      "text/html": "        <script type=\"text/javascript\">\n        window.PlotlyConfig = {MathJaxConfig: 'local'};\n        if (window.MathJax) {MathJax.Hub.Config({SVG: {font: \"STIX-Web\"}});}\n        if (typeof require !== 'undefined') {\n        require.undef(\"plotly\");\n        requirejs.config({\n            paths: {\n                'plotly': ['https://cdn.plot.ly/plotly-latest.min']\n            }\n        });\n        require(['plotly'], function(Plotly) {\n            window._Plotly = Plotly;\n        });\n        }\n        </script>\n        "
     },
     "metadata": {},
     "output_type": "display_data"
    },
    {
     "data": {
      "application/vnd.plotly.v1+json": {
       "config": {
        "linkText": "Export to plot.ly",
        "plotlyServerURL": "https://plot.ly",
        "responsive": true,
        "showLink": false
       },
       "data": [
        {
         "colorscale": "Jet",
         "contours": {
          "x": {
           "color": "black",
           "end": 1,
           "project": {
            "x": true
           },
           "show": true,
           "size": 0.02,
           "start": 0
          },
          "y": {
           "color": "black",
           "end": 300,
           "project": {
            "y": true
           },
           "show": true,
           "size": 2,
           "start": 200
          }
         },
         "opacity": 0.8,
         "type": "surface",
         "uid": "03d6f7bd-76c4-4394-97a3-c174dabe5632",
         "x": [
          [
           0.0329,
           0.1096,
           0.2055,
           0.2822,
           0.3589,
           0.4548,
           0.5315,
           0.7808,
           1.0301,
           1.5288,
           2.526
          ],
          [
           0.0329,
           0.1096,
           0.2055,
           0.2822,
           0.3589,
           0.4548,
           0.5315,
           0.7808,
           1.0301,
           1.5288,
           2.526
          ],
          [
           0.0329,
           0.1096,
           0.2055,
           0.2822,
           0.3589,
           0.4548,
           0.5315,
           0.7808,
           1.0301,
           1.5288,
           2.526
          ],
          [
           0.0329,
           0.1096,
           0.2055,
           0.2822,
           0.3589,
           0.4548,
           0.5315,
           0.7808,
           1.0301,
           1.5288,
           2.526
          ],
          [
           0.0329,
           0.1096,
           0.2055,
           0.2822,
           0.3589,
           0.4548,
           0.5315,
           0.7808,
           1.0301,
           1.5288,
           2.526
          ],
          [
           0.0329,
           0.1096,
           0.2055,
           0.2822,
           0.3589,
           0.4548,
           0.5315,
           0.7808,
           1.0301,
           1.5288,
           2.526
          ],
          [
           0.0329,
           0.1096,
           0.2055,
           0.2822,
           0.3589,
           0.4548,
           0.5315,
           0.7808,
           1.0301,
           1.5288,
           2.526
          ],
          [
           0.0329,
           0.1096,
           0.2055,
           0.2822,
           0.3589,
           0.4548,
           0.5315,
           0.7808,
           1.0301,
           1.5288,
           2.526
          ],
          [
           0.0329,
           0.1096,
           0.2055,
           0.2822,
           0.3589,
           0.4548,
           0.5315,
           0.7808,
           1.0301,
           1.5288,
           2.526
          ]
         ],
         "y": [
          [
           220,
           220,
           220,
           220,
           220,
           220,
           220,
           220,
           220,
           220,
           220
          ],
          [
           230,
           230,
           230,
           230,
           230,
           230,
           230,
           230,
           230,
           230,
           230
          ],
          [
           240,
           240,
           240,
           240,
           240,
           240,
           240,
           240,
           240,
           240,
           240
          ],
          [
           250,
           250,
           250,
           250,
           250,
           250,
           250,
           250,
           250,
           250,
           250
          ],
          [
           260,
           260,
           260,
           260,
           260,
           260,
           260,
           260,
           260,
           260,
           260
          ],
          [
           270,
           270,
           270,
           270,
           270,
           270,
           270,
           270,
           270,
           270,
           270
          ],
          [
           280,
           280,
           280,
           280,
           280,
           280,
           280,
           280,
           280,
           280,
           280
          ],
          [
           290,
           290,
           290,
           290,
           290,
           290,
           290,
           290,
           290,
           290,
           290
          ],
          [
           300,
           300,
           300,
           300,
           300,
           300,
           300,
           300,
           300,
           300,
           300
          ]
         ],
         "z": [
          [
           0.5710676642627747,
           0.5241654409547133,
           0.5759885426692134,
           0.6114539051591592,
           0.7089465974048538,
           0.7477114503056528,
           0.7793310151551156,
           0.91092781060412,
           null,
           null,
           null
          ],
          [
           0.5109519756242066,
           0.5028918867321466,
           0.5823593171697453,
           0.6351839655051917,
           0.7545096944647823,
           0.7733296172898941,
           0.7625274765824102,
           null,
           null,
           null,
           null
          ],
          [
           0.4543216032753612,
           0.49031599892972144,
           0.5807603896354029,
           0.6066788379005753,
           0.806130646902108,
           0.8154412706614302,
           0.7932437546686605,
           null,
           null,
           null,
           null
          ],
          [
           0.403639011157178,
           0.4863930570509216,
           0.6106419142787474,
           0.6605864882500453,
           0.8597450357426318,
           0.8592004280733923,
           0.851242712072323,
           null,
           null,
           null,
           null
          ],
          [
           0.3710253935602258,
           0.5021004736824913,
           0.6687173288725021,
           0.7200220008306222,
           0.9151075817472735,
           0.9021462089208143,
           0.8999725336284577,
           null,
           null,
           null,
           null
          ],
          [
           0.3801906828809589,
           0.5809459341451797,
           0.7355512103678566,
           0.8004577417097373,
           0.9838093014102788,
           0.9646120543326735,
           0.9286787360294331,
           null,
           null,
           null,
           null
          ],
          [
           0.47954929730960966,
           0.6046256157867563,
           0.8125821795462381,
           0.8875749531353891,
           null,
           null,
           null,
           null,
           null,
           null,
           null
          ],
          [
           0.4639719969392601,
           0.7136734219430239,
           0.8978496953354327,
           0.9769149940827448,
           null,
           null,
           null,
           null,
           null,
           null,
           null
          ],
          [
           0.7925252309453259,
           0.9283216868036579,
           0.9902402467968705,
           null,
           null,
           null,
           null,
           null,
           null,
           null,
           null
          ]
         ]
        }
       ],
       "layout": {
        "autosize": false,
        "height": 1000,
        "margin": {
         "pad": 0
        },
        "scene": {
         "xaxis": {
          "title": {
           "text": "Maturity"
          }
         },
         "yaxis": {
          "title": {
           "text": "Strike Price"
          }
         },
         "zaxis": {
          "title": {
           "text": "implied volatility"
          }
         }
        },
        "title": {
         "text": "Implied Volatility Surface of put option"
        },
        "width": 1000
       }
      },
      "text/html": "<div>\n        \n        \n            <div id=\"a09b9a40-e076-4618-af74-7028846cfc5e\" class=\"plotly-graph-div\" style=\"height:1000px; width:1000px;\"></div>\n            <script type=\"text/javascript\">\n                require([\"plotly\"], function(Plotly) {\n                    window.PLOTLYENV=window.PLOTLYENV || {};\n                    window.PLOTLYENV.BASE_URL='https://plot.ly';\n                    \n                if (document.getElementById(\"a09b9a40-e076-4618-af74-7028846cfc5e\")) {\n                    Plotly.newPlot(\n                        'a09b9a40-e076-4618-af74-7028846cfc5e',\n                        [{\"colorscale\": \"Jet\", \"contours\": {\"x\": {\"color\": \"black\", \"end\": 1, \"project\": {\"x\": true}, \"show\": true, \"size\": 0.02, \"start\": 0}, \"y\": {\"color\": \"black\", \"end\": 300, \"project\": {\"y\": true}, \"show\": true, \"size\": 2.0, \"start\": 200}}, \"opacity\": 0.8, \"type\": \"surface\", \"uid\": \"572f35ff-4044-440b-91ad-e42fcf35ea8b\", \"x\": [[0.0329, 0.1096, 0.2055, 0.2822, 0.3589, 0.4548, 0.5315, 0.7808, 1.0301, 1.5288, 2.526], [0.0329, 0.1096, 0.2055, 0.2822, 0.3589, 0.4548, 0.5315, 0.7808, 1.0301, 1.5288, 2.526], [0.0329, 0.1096, 0.2055, 0.2822, 0.3589, 0.4548, 0.5315, 0.7808, 1.0301, 1.5288, 2.526], [0.0329, 0.1096, 0.2055, 0.2822, 0.3589, 0.4548, 0.5315, 0.7808, 1.0301, 1.5288, 2.526], [0.0329, 0.1096, 0.2055, 0.2822, 0.3589, 0.4548, 0.5315, 0.7808, 1.0301, 1.5288, 2.526], [0.0329, 0.1096, 0.2055, 0.2822, 0.3589, 0.4548, 0.5315, 0.7808, 1.0301, 1.5288, 2.526], [0.0329, 0.1096, 0.2055, 0.2822, 0.3589, 0.4548, 0.5315, 0.7808, 1.0301, 1.5288, 2.526], [0.0329, 0.1096, 0.2055, 0.2822, 0.3589, 0.4548, 0.5315, 0.7808, 1.0301, 1.5288, 2.526], [0.0329, 0.1096, 0.2055, 0.2822, 0.3589, 0.4548, 0.5315, 0.7808, 1.0301, 1.5288, 2.526]], \"y\": [[220.0, 220.0, 220.0, 220.0, 220.0, 220.0, 220.0, 220.0, 220.0, 220.0, 220.0], [230.0, 230.0, 230.0, 230.0, 230.0, 230.0, 230.0, 230.0, 230.0, 230.0, 230.0], [240.0, 240.0, 240.0, 240.0, 240.0, 240.0, 240.0, 240.0, 240.0, 240.0, 240.0], [250.0, 250.0, 250.0, 250.0, 250.0, 250.0, 250.0, 250.0, 250.0, 250.0, 250.0], [260.0, 260.0, 260.0, 260.0, 260.0, 260.0, 260.0, 260.0, 260.0, 260.0, 260.0], [270.0, 270.0, 270.0, 270.0, 270.0, 270.0, 270.0, 270.0, 270.0, 270.0, 270.0], [280.0, 280.0, 280.0, 280.0, 280.0, 280.0, 280.0, 280.0, 280.0, 280.0, 280.0], [290.0, 290.0, 290.0, 290.0, 290.0, 290.0, 290.0, 290.0, 290.0, 290.0, 290.0], [300.0, 300.0, 300.0, 300.0, 300.0, 300.0, 300.0, 300.0, 300.0, 300.0, 300.0]], \"z\": [[0.5710676642627747, 0.5241654409547133, 0.5759885426692134, 0.6114539051591592, 0.7089465974048538, 0.7477114503056528, 0.7793310151551156, 0.91092781060412, null, null, null], [0.5109519756242066, 0.5028918867321466, 0.5823593171697453, 0.6351839655051917, 0.7545096944647823, 0.7733296172898941, 0.7625274765824102, null, null, null, null], [0.4543216032753612, 0.49031599892972144, 0.5807603896354029, 0.6066788379005753, 0.806130646902108, 0.8154412706614302, 0.7932437546686605, null, null, null, null], [0.403639011157178, 0.4863930570509216, 0.6106419142787474, 0.6605864882500453, 0.8597450357426318, 0.8592004280733923, 0.851242712072323, null, null, null, null], [0.3710253935602258, 0.5021004736824913, 0.6687173288725021, 0.7200220008306222, 0.9151075817472735, 0.9021462089208143, 0.8999725336284577, null, null, null, null], [0.3801906828809589, 0.5809459341451797, 0.7355512103678566, 0.8004577417097373, 0.9838093014102788, 0.9646120543326735, 0.9286787360294331, null, null, null, null], [0.47954929730960966, 0.6046256157867563, 0.8125821795462381, 0.8875749531353891, null, null, null, null, null, null, null], [0.4639719969392601, 0.7136734219430239, 0.8978496953354327, 0.9769149940827448, null, null, null, null, null, null, null], [0.7925252309453259, 0.9283216868036579, 0.9902402467968705, null, null, null, null, null, null, null, null]]}],\n                        {\"autosize\": false, \"height\": 1000, \"margin\": {\"pad\": 0}, \"scene\": {\"xaxis\": {\"title\": {\"text\": \"Maturity\"}}, \"yaxis\": {\"title\": {\"text\": \"Strike Price\"}}, \"zaxis\": {\"title\": {\"text\": \"implied volatility\"}}}, \"title\": {\"text\": \"Implied Volatility Surface of put option\"}, \"width\": 1000},\n                        {\"showLink\": false, \"linkText\": \"Export to plot.ly\", \"plotlyServerURL\": \"https://plot.ly\", \"responsive\": true}\n                    ).then(function(){\n                            \nvar gd = document.getElementById('a09b9a40-e076-4618-af74-7028846cfc5e');\nvar x = new MutationObserver(function (mutations, observer) {{\n        var display = window.getComputedStyle(gd).display;\n        if (!display || display === 'none') {{\n            console.log([gd, 'removed!']);\n            Plotly.purge(gd);\n            observer.disconnect();\n        }}\n}});\n\n// Listen for the removal of the full notebook cells\nvar notebookContainer = gd.closest('#notebook-container');\nif (notebookContainer) {{\n    x.observe(notebookContainer, {childList: true});\n}}\n\n// Listen for the clearing of the current output cell\nvar outputEl = gd.closest('.output');\nif (outputEl) {{\n    x.observe(outputEl, {childList: true});\n}}\n\n                        })\n                };\n                });\n            </script>\n        </div>"
     },
     "metadata": {},
     "output_type": "display_data"
    }
   ],
   "source": [
    "import plotly.graph_objs as go\n",
    "from plotly.offline import download_plotlyjs, init_notebook_mode, plot, iplot\n",
    "init_notebook_mode(connected=True)\n",
    "\n",
    "trace = go.Surface(x=TM, y=KP, z=imp_vol, colorscale='Jet', opacity=0.8,contours_x=dict(show=True, color=\"black\", start=0, end=1, size=(1 - 0)/50, project_x=True), contours_y=dict(show=True, color=\"black\", start=200, end=300, size=(300 - 200)/50, project_y=True))\n",
    "data = [trace] \n",
    "layout = go.Layout(title='Implied Volatility Surface of put option', \n",
    "        scene={'xaxis':{'title':'Maturity'}, 'yaxis':{'title':'Strike Price'}, 'zaxis':{'title':'implied volatility'}}, \n",
    "        width=1000, height=1000, autosize=False, margin=dict(pad=0) ) \n",
    "fig = go.Figure(data=data, layout=layout) \n",
    "iplot(fig)"
   ]
  },
  {
   "cell_type": "code",
   "execution_count": null,
   "metadata": {},
   "outputs": [],
   "source": []
  }
 ]
}