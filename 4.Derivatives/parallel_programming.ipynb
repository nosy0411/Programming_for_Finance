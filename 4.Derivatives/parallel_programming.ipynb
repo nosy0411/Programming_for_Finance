{
 "metadata": {
  "language_info": {
   "codemirror_mode": {
    "name": "ipython",
    "version": 3
   },
   "file_extension": ".py",
   "mimetype": "text/x-python",
   "name": "python",
   "nbconvert_exporter": "python",
   "pygments_lexer": "ipython3",
   "version": "3.6.8-final"
  },
  "orig_nbformat": 2,
  "kernelspec": {
   "name": "python_defaultSpec_1599971011491",
   "display_name": "Python 3.6.8 64-bit ('base': conda)"
  }
 },
 "nbformat": 4,
 "nbformat_minor": 2,
 "cells": [
  {
   "cell_type": "code",
   "execution_count": 1,
   "metadata": {},
   "outputs": [],
   "source": [
    "# 파이썬 성능개선법. 자료구조 효율적인 저장법\n",
    "# (1) cython 정적컴파일 방법\n",
    "# (2) IPython.parallel 클러스터나 로컬 컴퓨터에서 코드와 함수를 병렬 실행\n",
    "# (3) numpexpr 수치 연산 속도 계선\n",
    "# (4) multiprocessing 로컬 병렬 프로세싱을 위한 파이썬 표준 모델\n",
    "# (5) Numba 단일 cpu 성능 개선을 위해 파이썬 코드를 동적으로 컴파일\n",
    "# (6) NumbaPro 멀티 코어 CPU와 GPU의 성능 개선을 위해 파이썬 코드를 동적으로 컴파일"
   ]
  },
  {
   "cell_type": "code",
   "execution_count": 25,
   "metadata": {},
   "outputs": [],
   "source": [
    "# 여러 함수의 성능을 비교하기 위한 함수\n",
    "def perf_comp_data(func_list, data_list, rep=3, number=1):\n",
    "    # func_list : 함수 이름 문자열 리스트\n",
    "    # data_list : 자료 집합 문자열 리스트\n",
    "    # rep       : 전체 비교를 위한 반복 횟수\n",
    "    # number    : 개별 함수의 실행 횟수\n",
    "\n",
    "    from timeit import repeat\n",
    "\n",
    "    res_list={}\n",
    "\n",
    "    # 특정 함수나 코드의 실행 시간 측정\n",
    "    for name in enumerate(func_list):\n",
    "        stmt = name[1] + '(' + data_list[name[0]] + ')'\n",
    "        setup = \"from __main__ import \" + name[1] + ', ' + data_list[name[0]]\n",
    "        # stmt : 실행 측정할 코드 및 함수\n",
    "        # setup : stmt를 실행하기 위해 사전에 필요한 코드나 함수를 선언. setup의 실행 시간은 전체 측정 실행 시간에서 제외됨\n",
    "        # number : 선언한 stmt의 수행 횟수. 선언하지 않으면 기본값으로 1000000번이 실행됨\n",
    "        results = repeat(stmt=stmt, setup=setup, repeat=rep, number=number)\n",
    "        res_list[name[1]] = sum(results) / rep\n",
    "     \n",
    "    res_sort = sorted(res_list.items(), key = lambda x : x[1])\n",
    "\n",
    "    for item in res_sort:\n",
    "        rel = item[1] / res_sort[0][1]\n",
    "\n",
    "        print('function: ' + item[0] + ', av. time sec: %9.5f, ' %item[1] + 'relative: %6.1f' %rel)\n"
   ]
  },
  {
   "cell_type": "code",
   "execution_count": 11,
   "metadata": {},
   "outputs": [],
   "source": [
    "from math import *\n",
    "import numpy as np\n",
    "import numexpr as ne\n",
    "\n",
    "I=500000\n",
    "a_py = range(I)\n",
    "a_np = np.arange(I)\n",
    "\n",
    "def f(x):\n",
    "    return abs(cos(x))**0.5 + sin(2+3*x)\n",
    "\n",
    "# 명시적으로 반복문을 사용한 표준 파이썬 함수\n",
    "def f1(a):\n",
    "    res=[]\n",
    "    for x in a:\n",
    "        res.append(f(x))\n",
    "    return res\n",
    "\n",
    "# 암묵적 반복문을 사용한 반복자 구현\n",
    "def f2(a):\n",
    "    return [f(x) for x in a]\n",
    "\n",
    "# 암묵적 반복문과 eval명령을 사용한 반복자 구현\n",
    "def f3(a):\n",
    "    ex = 'abs(cos(x))**0.5 + sin(2+3*x)'\n",
    "    return [eval(ex) for x in a]\n",
    "\n",
    "# numpy 벡터화 구현\n",
    "def f4(a):\n",
    "    return (np.abs(np.cos(a))**0.5 + np.sin(2+3*a))\n",
    "\n",
    "# numpexpr를 사용한 단일 스레드 구현\n",
    "def f5(a):\n",
    "    ex = 'abs(cos(a))**0.5 + sin(2+3*a)'\n",
    "    ne.set_num_threads(1)\n",
    "    return ne.evaluate(ex)\n",
    "\n",
    "# numpexpr를 사용한 멀티 스레드 구현\n",
    "def f6(a):\n",
    "    ex = 'abs(cos(a))**0.5 + sin(2+3*a)'\n",
    "    ne.set_num_threads(16)\n",
    "    return ne.evaluate(ex) "
   ]
  },
  {
   "cell_type": "code",
   "execution_count": 12,
   "metadata": {
    "tags": []
   },
   "outputs": [
    {
     "output_type": "stream",
     "name": "stdout",
     "text": "Wall time: 18 s\n"
    }
   ],
   "source": [
    "%%time\n",
    "r1 = f1(a_py)\n",
    "r2 = f2(a_py)\n",
    "r3 = f3(a_py)\n",
    "r4 = f4(a_np)\n",
    "r5 = f5(a_np)\n",
    "r6 = f6(a_np)\n"
   ]
  },
  {
   "cell_type": "code",
   "execution_count": 13,
   "metadata": {},
   "outputs": [
    {
     "output_type": "execute_result",
     "data": {
      "text/plain": "True"
     },
     "metadata": {},
     "execution_count": 13
    }
   ],
   "source": [
    " np.allclose(r1, r2)\n",
    " np.allclose(r1, r3)\n",
    " np.allclose(r1, r4)\n",
    " np.allclose(r1, r5)\n",
    " np.allclose(r1, r6)"
   ]
  },
  {
   "cell_type": "code",
   "execution_count": 26,
   "metadata": {
    "tags": []
   },
   "outputs": [
    {
     "output_type": "stream",
     "name": "stdout",
     "text": "function: f6, av. time sec:   0.00913, relative:    1.0\nfunction: f5, av. time sec:   0.03096, relative:    3.4\nfunction: f4, av. time sec:   0.04257, relative:    4.7\nfunction: f2, av. time sec:   0.72694, relative:   79.6\nfunction: f1, av. time sec:   0.95526, relative:  104.6\nfunction: f3, av. time sec:  13.01209, relative: 1424.8\n"
    }
   ],
   "source": [
    "func_list = ['f1', 'f2', 'f3', 'f4', 'f5', 'f6']\n",
    "data_list = ['a_py', 'a_py', 'a_py', 'a_np', 'a_np', 'a_np']\n",
    "\n",
    "perf_comp_data(func_list, data_list)"
   ]
  },
  {
   "cell_type": "code",
   "execution_count": 30,
   "metadata": {
    "tags": []
   },
   "outputs": [],
   "source": [
    "# 메모리 배치와 성능\n",
    "# numpy에서는 ndarray 객체마다 dtype을 설정할 수 있음.\n",
    "# 또한 ndarray 객체를 초기화할 때 두 개의 다른 메모리 배치 방법을 선택할 수 있으며 객체의 구조에 따라 특정한 메모리 배치가 더 유리할 수 있음\n",
    "import numpy as np\n",
    "b = np.zeros((3,3), dtype=np.float64, order='C')\n",
    "\n",
    "# 행 우선 저장방식\n",
    "c = np.array([[1.,1.,1.],\n",
    "              [2.,2.,2.],\n",
    "              [3.,3.,3.]], order='C')\n",
    "\n",
    "# 열 우선 저장방식\n",
    "f = np.array([[1.,1.,1.],\n",
    "              [2.,2.,2.],\n",
    "              [3.,3.,3.]], order='F')\n",
    "\n",
    "x = np.random.standard_normal((3, 1500000))\n",
    "C = np.array(x, order='C')\n",
    "F = np.array(x, order='F')"
   ]
  },
  {
   "cell_type": "code",
   "execution_count": 31,
   "metadata": {
    "tags": []
   },
   "outputs": [
    {
     "output_type": "stream",
     "name": "stdout",
     "text": "37.4 ms ± 2.57 ms per loop (mean ± std. dev. of 7 runs, 10 loops each)\n14.5 ms ± 1.14 ms per loop (mean ± std. dev. of 7 runs, 100 loops each)\n161 ms ± 8.11 ms per loop (mean ± std. dev. of 7 runs, 10 loops each)\n92.3 ms ± 7.75 ms per loop (mean ± std. dev. of 7 runs, 10 loops each)\n"
    }
   ],
   "source": [
    "%timeit C.sum(axis=0)\n",
    "%timeit C.sum(axis=1)\n",
    "%timeit C.std(axis=0)\n",
    "%timeit C.std(axis=1)"
   ]
  },
  {
   "cell_type": "code",
   "execution_count": 32,
   "metadata": {
    "tags": []
   },
   "outputs": [
    {
     "output_type": "stream",
     "name": "stdout",
     "text": "46.5 ms ± 5.45 ms per loop (mean ± std. dev. of 7 runs, 10 loops each)\n41.1 ms ± 3.34 ms per loop (mean ± std. dev. of 7 runs, 10 loops each)\n247 ms ± 36.6 ms per loop (mean ± std. dev. of 7 runs, 10 loops each)\n261 ms ± 43.1 ms per loop (mean ± std. dev. of 7 runs, 1 loop each)\n"
    }
   ],
   "source": [
    "%timeit F.sum(axis=0)\n",
    "%timeit F.sum(axis=1)\n",
    "%timeit F.std(axis=0)\n",
    "%timeit F.std(axis=1)"
   ]
  },
  {
   "cell_type": "code",
   "execution_count": 2,
   "metadata": {
    "tags": []
   },
   "outputs": [
    {
     "output_type": "stream",
     "name": "stdout",
     "text": "8.021352235143176\n7.9004418077181455\n8.099034277924247\n7.7963866473350585\n"
    }
   ],
   "source": [
    "# 유러피언 옵션을 몬테카를로를 이용해서 구할 때 병렬 프로그래밍을 이용해 구해보자\n",
    "import numpy as np\n",
    "import scipy.stats as stat\n",
    "\n",
    "\n",
    "# 몬테카를로 시뮬레이션 으로 구한 유러피언 옵션\n",
    "def bsm_mcs_europian_option(S, K, T, r, sigma, option_type):\n",
    "\n",
    "    # 만기 주가는 다음과 같은 식을 따름. 유도는 13장 참고 \n",
    "    # ST = S * np.exp((r-0.5 * sigma ** 2)*T + sigma * np.sqrt(T) * z)\n",
    "    \n",
    "    S0 = S\n",
    "    I = 20000                                  # 시뮬레이션 횟수\n",
    "    M = 50                                    # 만기까지 기간을 M 구간 나눔\n",
    "    dt = T/M\n",
    "\n",
    "    np.random.seed(0)                         # 난수 초기값 설정\n",
    "    z = np.random.standard_normal((M+1,I))    # 난수 생성 (M+1 by I)\n",
    "\n",
    "    S = np.zeros((M+1,I))\n",
    "    S[0] = S0                                 # [S0, ... S0] 리스트 안의 원소수 I개\n",
    "\n",
    "    for t in range(1, M+1):\n",
    "        S[t] = S[t-1] * np.exp((r-0.5 * sigma ** 2)*dt + sigma * np.sqrt(dt) * z[t])\n",
    "\n",
    "    # 즉 S는 M구간의 주가이동경로를 I개 만큼 가지고 있음. 주가이동경로는 기하브라운운동(gbm))\n",
    "    # 마지막 구간 즉 만기에서 나온 값들을 평균냄 (몬테카를로 시뮬레이션)\n",
    "    # 여기서 주의해야할 점은 np.max와 np.maximum이 다르다는 것. \n",
    "    # np.max는 전체 배열에서 최대 요소 값을 찾음. np.maximum은 요소 별 최댓값을 찾음\n",
    "    if option_type == 'call':\n",
    "        hT = np.maximum(S[-1] - K, 0)\n",
    "\n",
    "        return np.exp(-r * T) * np.sum(hT) / I\n",
    "\n",
    "    else:\n",
    "        hT = np.maximum(K - S[-1], 0)\n",
    "\n",
    "        return np.exp(-r * T) * np.sum(hT) / I\n",
    "\n",
    "# 블랙-숄즈-머튼 모형의 유러피언 옵션과 비교\n",
    "def europian_option(S, K, T, r, sigma, option_type):\n",
    "    d1 = (np.log(S / K) + (r + 0.5 * sigma ** 2) * T) / (sigma * np.sqrt(T))\n",
    "    d2 = d1 - sigma * np.sqrt(T)\n",
    "    # d2 = (np.log(S / K) + (r - 0.5 * sigma ** 2) * T) / (sigma * np.sqrt(T))\n",
    "\n",
    "    if option_type == 'call':\n",
    "        V = S * stat.norm.cdf(d1) - K * np.exp(-r * T) * stat.norm.cdf(d2)\n",
    "\n",
    "    else:\n",
    "        V = K * np.exp(-r * T) * stat.norm.cdf(-d2) - S * stat.norm.cdf(-d1)\n",
    "\n",
    "    return V\n",
    "\n",
    "print(europian_option(100,105,1,0.05,0.2,'call'))\n",
    "print(europian_option(100,105,1,0.05,0.2,'put'))\n",
    "\n",
    "print(bsm_mcs_europian_option(100,105,1,0.05,0.2,'call'))\n",
    "print(bsm_mcs_europian_option(100,105,1,0.05,0.2,'put'))"
   ]
  },
  {
   "cell_type": "code",
   "execution_count": 3,
   "metadata": {
    "tags": []
   },
   "outputs": [
    {
     "output_type": "stream",
     "name": "stdout",
     "text": "Wall time: 8.92 s\n"
    }
   ],
   "source": [
    "# 벤치마크 케이스로 행사가(strike price)가 다른 100개의 옵션을 평가해보자\n",
    "# 함수 seq_value는 몬테카를로 계산기를 순차적으로 사용하여 행사가와 평가 결과를 리스트 객체에 담아 반환한다.\n",
    "\n",
    "# 옵션 가치의 순차 계산\n",
    "def seq_value(n):\n",
    "    # n은 행사가의 갯수\n",
    "\n",
    "    strikes = np.linspace(80,120,n)\n",
    "    option_values = []\n",
    "\n",
    "    for strike in strikes:\n",
    "        option_values.append(bsm_mcs_europian_option(100,strike,1,0.05,0.2,'call'))\n",
    "    \n",
    "    return strikes, option_values\n",
    "\n",
    "n=100\n",
    "%time strikes, option_values_seq = seq_value(n)\n"
   ]
  },
  {
   "cell_type": "code",
   "execution_count": 36,
   "metadata": {},
   "outputs": [
    {
     "output_type": "execute_result",
     "data": {
      "text/plain": "Text(0, 0.5, 'European call option values')"
     },
     "metadata": {},
     "execution_count": 36
    },
    {
     "output_type": "display_data",
     "data": {
      "text/plain": "<Figure size 1080x576 with 1 Axes>",
      "image/svg+xml": "<?xml version=\"1.0\" encoding=\"utf-8\" standalone=\"no\"?>\r\n<!DOCTYPE svg PUBLIC \"-//W3C//DTD SVG 1.1//EN\"\r\n  \"http://www.w3.org/Graphics/SVG/1.1/DTD/svg11.dtd\">\r\n<!-- Created with matplotlib (https://matplotlib.org/) -->\r\n<svg height=\"479.63625pt\" version=\"1.1\" viewBox=\"0 0 884.803125 479.63625\" width=\"884.803125pt\" xmlns=\"http://www.w3.org/2000/svg\" xmlns:xlink=\"http://www.w3.org/1999/xlink\">\r\n <defs>\r\n  <style type=\"text/css\">\r\n*{stroke-linecap:butt;stroke-linejoin:round;}\r\n  </style>\r\n </defs>\r\n <g id=\"figure_1\">\r\n  <g id=\"patch_1\">\r\n   <path d=\"M 0 479.63625 \r\nL 884.803125 479.63625 \r\nL 884.803125 0 \r\nL 0 0 \r\nz\r\n\" style=\"fill:none;\"/>\r\n  </g>\r\n  <g id=\"axes_1\">\r\n   <g id=\"patch_2\">\r\n    <path d=\"M 40.603125 442.08 \r\nL 877.603125 442.08 \r\nL 877.603125 7.2 \r\nL 40.603125 7.2 \r\nz\r\n\" style=\"fill:#ffffff;\"/>\r\n   </g>\r\n   <g id=\"matplotlib.axis_1\">\r\n    <g id=\"xtick_1\">\r\n     <g id=\"line2d_1\">\r\n      <path clip-path=\"url(#p6dbf468f78)\" d=\"M 78.64858 442.08 \r\nL 78.64858 7.2 \r\n\" style=\"fill:none;stroke:#b0b0b0;stroke-linecap:square;stroke-width:0.8;\"/>\r\n     </g>\r\n     <g id=\"line2d_2\">\r\n      <defs>\r\n       <path d=\"M 0 0 \r\nL 0 3.5 \r\n\" id=\"m8a6bb1fa4a\" style=\"stroke:#000000;stroke-width:0.8;\"/>\r\n      </defs>\r\n      <g>\r\n       <use style=\"stroke:#000000;stroke-width:0.8;\" x=\"78.64858\" xlink:href=\"#m8a6bb1fa4a\" y=\"442.08\"/>\r\n      </g>\r\n     </g>\r\n     <g id=\"text_1\">\r\n      <!-- 80 -->\r\n      <defs>\r\n       <path d=\"M 31.78125 34.625 \r\nQ 24.75 34.625 20.71875 30.859375 \r\nQ 16.703125 27.09375 16.703125 20.515625 \r\nQ 16.703125 13.921875 20.71875 10.15625 \r\nQ 24.75 6.390625 31.78125 6.390625 \r\nQ 38.8125 6.390625 42.859375 10.171875 \r\nQ 46.921875 13.96875 46.921875 20.515625 \r\nQ 46.921875 27.09375 42.890625 30.859375 \r\nQ 38.875 34.625 31.78125 34.625 \r\nz\r\nM 21.921875 38.8125 \r\nQ 15.578125 40.375 12.03125 44.71875 \r\nQ 8.5 49.078125 8.5 55.328125 \r\nQ 8.5 64.0625 14.71875 69.140625 \r\nQ 20.953125 74.21875 31.78125 74.21875 \r\nQ 42.671875 74.21875 48.875 69.140625 \r\nQ 55.078125 64.0625 55.078125 55.328125 \r\nQ 55.078125 49.078125 51.53125 44.71875 \r\nQ 48 40.375 41.703125 38.8125 \r\nQ 48.828125 37.15625 52.796875 32.3125 \r\nQ 56.78125 27.484375 56.78125 20.515625 \r\nQ 56.78125 9.90625 50.3125 4.234375 \r\nQ 43.84375 -1.421875 31.78125 -1.421875 \r\nQ 19.734375 -1.421875 13.25 4.234375 \r\nQ 6.78125 9.90625 6.78125 20.515625 \r\nQ 6.78125 27.484375 10.78125 32.3125 \r\nQ 14.796875 37.15625 21.921875 38.8125 \r\nz\r\nM 18.3125 54.390625 \r\nQ 18.3125 48.734375 21.84375 45.5625 \r\nQ 25.390625 42.390625 31.78125 42.390625 \r\nQ 38.140625 42.390625 41.71875 45.5625 \r\nQ 45.3125 48.734375 45.3125 54.390625 \r\nQ 45.3125 60.0625 41.71875 63.234375 \r\nQ 38.140625 66.40625 31.78125 66.40625 \r\nQ 25.390625 66.40625 21.84375 63.234375 \r\nQ 18.3125 60.0625 18.3125 54.390625 \r\nz\r\n\" id=\"DejaVuSans-56\"/>\r\n       <path d=\"M 31.78125 66.40625 \r\nQ 24.171875 66.40625 20.328125 58.90625 \r\nQ 16.5 51.421875 16.5 36.375 \r\nQ 16.5 21.390625 20.328125 13.890625 \r\nQ 24.171875 6.390625 31.78125 6.390625 \r\nQ 39.453125 6.390625 43.28125 13.890625 \r\nQ 47.125 21.390625 47.125 36.375 \r\nQ 47.125 51.421875 43.28125 58.90625 \r\nQ 39.453125 66.40625 31.78125 66.40625 \r\nz\r\nM 31.78125 74.21875 \r\nQ 44.046875 74.21875 50.515625 64.515625 \r\nQ 56.984375 54.828125 56.984375 36.375 \r\nQ 56.984375 17.96875 50.515625 8.265625 \r\nQ 44.046875 -1.421875 31.78125 -1.421875 \r\nQ 19.53125 -1.421875 13.0625 8.265625 \r\nQ 6.59375 17.96875 6.59375 36.375 \r\nQ 6.59375 54.828125 13.0625 64.515625 \r\nQ 19.53125 74.21875 31.78125 74.21875 \r\nz\r\n\" id=\"DejaVuSans-48\"/>\r\n      </defs>\r\n      <g transform=\"translate(72.28608 456.678437)scale(0.1 -0.1)\">\r\n       <use xlink:href=\"#DejaVuSans-56\"/>\r\n       <use x=\"63.623047\" xlink:href=\"#DejaVuSans-48\"/>\r\n      </g>\r\n     </g>\r\n    </g>\r\n    <g id=\"xtick_2\">\r\n     <g id=\"line2d_3\">\r\n      <path clip-path=\"url(#p6dbf468f78)\" d=\"M 173.762216 442.08 \r\nL 173.762216 7.2 \r\n\" style=\"fill:none;stroke:#b0b0b0;stroke-linecap:square;stroke-width:0.8;\"/>\r\n     </g>\r\n     <g id=\"line2d_4\">\r\n      <g>\r\n       <use style=\"stroke:#000000;stroke-width:0.8;\" x=\"173.762216\" xlink:href=\"#m8a6bb1fa4a\" y=\"442.08\"/>\r\n      </g>\r\n     </g>\r\n     <g id=\"text_2\">\r\n      <!-- 85 -->\r\n      <defs>\r\n       <path d=\"M 10.796875 72.90625 \r\nL 49.515625 72.90625 \r\nL 49.515625 64.59375 \r\nL 19.828125 64.59375 \r\nL 19.828125 46.734375 \r\nQ 21.96875 47.46875 24.109375 47.828125 \r\nQ 26.265625 48.1875 28.421875 48.1875 \r\nQ 40.625 48.1875 47.75 41.5 \r\nQ 54.890625 34.8125 54.890625 23.390625 \r\nQ 54.890625 11.625 47.5625 5.09375 \r\nQ 40.234375 -1.421875 26.90625 -1.421875 \r\nQ 22.3125 -1.421875 17.546875 -0.640625 \r\nQ 12.796875 0.140625 7.71875 1.703125 \r\nL 7.71875 11.625 \r\nQ 12.109375 9.234375 16.796875 8.0625 \r\nQ 21.484375 6.890625 26.703125 6.890625 \r\nQ 35.15625 6.890625 40.078125 11.328125 \r\nQ 45.015625 15.765625 45.015625 23.390625 \r\nQ 45.015625 31 40.078125 35.4375 \r\nQ 35.15625 39.890625 26.703125 39.890625 \r\nQ 22.75 39.890625 18.8125 39.015625 \r\nQ 14.890625 38.140625 10.796875 36.28125 \r\nz\r\n\" id=\"DejaVuSans-53\"/>\r\n      </defs>\r\n      <g transform=\"translate(167.399716 456.678437)scale(0.1 -0.1)\">\r\n       <use xlink:href=\"#DejaVuSans-56\"/>\r\n       <use x=\"63.623047\" xlink:href=\"#DejaVuSans-53\"/>\r\n      </g>\r\n     </g>\r\n    </g>\r\n    <g id=\"xtick_3\">\r\n     <g id=\"line2d_5\">\r\n      <path clip-path=\"url(#p6dbf468f78)\" d=\"M 268.875852 442.08 \r\nL 268.875852 7.2 \r\n\" style=\"fill:none;stroke:#b0b0b0;stroke-linecap:square;stroke-width:0.8;\"/>\r\n     </g>\r\n     <g id=\"line2d_6\">\r\n      <g>\r\n       <use style=\"stroke:#000000;stroke-width:0.8;\" x=\"268.875852\" xlink:href=\"#m8a6bb1fa4a\" y=\"442.08\"/>\r\n      </g>\r\n     </g>\r\n     <g id=\"text_3\">\r\n      <!-- 90 -->\r\n      <defs>\r\n       <path d=\"M 10.984375 1.515625 \r\nL 10.984375 10.5 \r\nQ 14.703125 8.734375 18.5 7.8125 \r\nQ 22.3125 6.890625 25.984375 6.890625 \r\nQ 35.75 6.890625 40.890625 13.453125 \r\nQ 46.046875 20.015625 46.78125 33.40625 \r\nQ 43.953125 29.203125 39.59375 26.953125 \r\nQ 35.25 24.703125 29.984375 24.703125 \r\nQ 19.046875 24.703125 12.671875 31.3125 \r\nQ 6.296875 37.9375 6.296875 49.421875 \r\nQ 6.296875 60.640625 12.9375 67.421875 \r\nQ 19.578125 74.21875 30.609375 74.21875 \r\nQ 43.265625 74.21875 49.921875 64.515625 \r\nQ 56.59375 54.828125 56.59375 36.375 \r\nQ 56.59375 19.140625 48.40625 8.859375 \r\nQ 40.234375 -1.421875 26.421875 -1.421875 \r\nQ 22.703125 -1.421875 18.890625 -0.6875 \r\nQ 15.09375 0.046875 10.984375 1.515625 \r\nz\r\nM 30.609375 32.421875 \r\nQ 37.25 32.421875 41.125 36.953125 \r\nQ 45.015625 41.5 45.015625 49.421875 \r\nQ 45.015625 57.28125 41.125 61.84375 \r\nQ 37.25 66.40625 30.609375 66.40625 \r\nQ 23.96875 66.40625 20.09375 61.84375 \r\nQ 16.21875 57.28125 16.21875 49.421875 \r\nQ 16.21875 41.5 20.09375 36.953125 \r\nQ 23.96875 32.421875 30.609375 32.421875 \r\nz\r\n\" id=\"DejaVuSans-57\"/>\r\n      </defs>\r\n      <g transform=\"translate(262.513352 456.678437)scale(0.1 -0.1)\">\r\n       <use xlink:href=\"#DejaVuSans-57\"/>\r\n       <use x=\"63.623047\" xlink:href=\"#DejaVuSans-48\"/>\r\n      </g>\r\n     </g>\r\n    </g>\r\n    <g id=\"xtick_4\">\r\n     <g id=\"line2d_7\">\r\n      <path clip-path=\"url(#p6dbf468f78)\" d=\"M 363.989489 442.08 \r\nL 363.989489 7.2 \r\n\" style=\"fill:none;stroke:#b0b0b0;stroke-linecap:square;stroke-width:0.8;\"/>\r\n     </g>\r\n     <g id=\"line2d_8\">\r\n      <g>\r\n       <use style=\"stroke:#000000;stroke-width:0.8;\" x=\"363.989489\" xlink:href=\"#m8a6bb1fa4a\" y=\"442.08\"/>\r\n      </g>\r\n     </g>\r\n     <g id=\"text_4\">\r\n      <!-- 95 -->\r\n      <g transform=\"translate(357.626989 456.678437)scale(0.1 -0.1)\">\r\n       <use xlink:href=\"#DejaVuSans-57\"/>\r\n       <use x=\"63.623047\" xlink:href=\"#DejaVuSans-53\"/>\r\n      </g>\r\n     </g>\r\n    </g>\r\n    <g id=\"xtick_5\">\r\n     <g id=\"line2d_9\">\r\n      <path clip-path=\"url(#p6dbf468f78)\" d=\"M 459.103125 442.08 \r\nL 459.103125 7.2 \r\n\" style=\"fill:none;stroke:#b0b0b0;stroke-linecap:square;stroke-width:0.8;\"/>\r\n     </g>\r\n     <g id=\"line2d_10\">\r\n      <g>\r\n       <use style=\"stroke:#000000;stroke-width:0.8;\" x=\"459.103125\" xlink:href=\"#m8a6bb1fa4a\" y=\"442.08\"/>\r\n      </g>\r\n     </g>\r\n     <g id=\"text_5\">\r\n      <!-- 100 -->\r\n      <defs>\r\n       <path d=\"M 12.40625 8.296875 \r\nL 28.515625 8.296875 \r\nL 28.515625 63.921875 \r\nL 10.984375 60.40625 \r\nL 10.984375 69.390625 \r\nL 28.421875 72.90625 \r\nL 38.28125 72.90625 \r\nL 38.28125 8.296875 \r\nL 54.390625 8.296875 \r\nL 54.390625 0 \r\nL 12.40625 0 \r\nz\r\n\" id=\"DejaVuSans-49\"/>\r\n      </defs>\r\n      <g transform=\"translate(449.559375 456.678437)scale(0.1 -0.1)\">\r\n       <use xlink:href=\"#DejaVuSans-49\"/>\r\n       <use x=\"63.623047\" xlink:href=\"#DejaVuSans-48\"/>\r\n       <use x=\"127.246094\" xlink:href=\"#DejaVuSans-48\"/>\r\n      </g>\r\n     </g>\r\n    </g>\r\n    <g id=\"xtick_6\">\r\n     <g id=\"line2d_11\">\r\n      <path clip-path=\"url(#p6dbf468f78)\" d=\"M 554.216761 442.08 \r\nL 554.216761 7.2 \r\n\" style=\"fill:none;stroke:#b0b0b0;stroke-linecap:square;stroke-width:0.8;\"/>\r\n     </g>\r\n     <g id=\"line2d_12\">\r\n      <g>\r\n       <use style=\"stroke:#000000;stroke-width:0.8;\" x=\"554.216761\" xlink:href=\"#m8a6bb1fa4a\" y=\"442.08\"/>\r\n      </g>\r\n     </g>\r\n     <g id=\"text_6\">\r\n      <!-- 105 -->\r\n      <g transform=\"translate(544.673011 456.678437)scale(0.1 -0.1)\">\r\n       <use xlink:href=\"#DejaVuSans-49\"/>\r\n       <use x=\"63.623047\" xlink:href=\"#DejaVuSans-48\"/>\r\n       <use x=\"127.246094\" xlink:href=\"#DejaVuSans-53\"/>\r\n      </g>\r\n     </g>\r\n    </g>\r\n    <g id=\"xtick_7\">\r\n     <g id=\"line2d_13\">\r\n      <path clip-path=\"url(#p6dbf468f78)\" d=\"M 649.330398 442.08 \r\nL 649.330398 7.2 \r\n\" style=\"fill:none;stroke:#b0b0b0;stroke-linecap:square;stroke-width:0.8;\"/>\r\n     </g>\r\n     <g id=\"line2d_14\">\r\n      <g>\r\n       <use style=\"stroke:#000000;stroke-width:0.8;\" x=\"649.330398\" xlink:href=\"#m8a6bb1fa4a\" y=\"442.08\"/>\r\n      </g>\r\n     </g>\r\n     <g id=\"text_7\">\r\n      <!-- 110 -->\r\n      <g transform=\"translate(639.786648 456.678437)scale(0.1 -0.1)\">\r\n       <use xlink:href=\"#DejaVuSans-49\"/>\r\n       <use x=\"63.623047\" xlink:href=\"#DejaVuSans-49\"/>\r\n       <use x=\"127.246094\" xlink:href=\"#DejaVuSans-48\"/>\r\n      </g>\r\n     </g>\r\n    </g>\r\n    <g id=\"xtick_8\">\r\n     <g id=\"line2d_15\">\r\n      <path clip-path=\"url(#p6dbf468f78)\" d=\"M 744.444034 442.08 \r\nL 744.444034 7.2 \r\n\" style=\"fill:none;stroke:#b0b0b0;stroke-linecap:square;stroke-width:0.8;\"/>\r\n     </g>\r\n     <g id=\"line2d_16\">\r\n      <g>\r\n       <use style=\"stroke:#000000;stroke-width:0.8;\" x=\"744.444034\" xlink:href=\"#m8a6bb1fa4a\" y=\"442.08\"/>\r\n      </g>\r\n     </g>\r\n     <g id=\"text_8\">\r\n      <!-- 115 -->\r\n      <g transform=\"translate(734.900284 456.678437)scale(0.1 -0.1)\">\r\n       <use xlink:href=\"#DejaVuSans-49\"/>\r\n       <use x=\"63.623047\" xlink:href=\"#DejaVuSans-49\"/>\r\n       <use x=\"127.246094\" xlink:href=\"#DejaVuSans-53\"/>\r\n      </g>\r\n     </g>\r\n    </g>\r\n    <g id=\"xtick_9\">\r\n     <g id=\"line2d_17\">\r\n      <path clip-path=\"url(#p6dbf468f78)\" d=\"M 839.55767 442.08 \r\nL 839.55767 7.2 \r\n\" style=\"fill:none;stroke:#b0b0b0;stroke-linecap:square;stroke-width:0.8;\"/>\r\n     </g>\r\n     <g id=\"line2d_18\">\r\n      <g>\r\n       <use style=\"stroke:#000000;stroke-width:0.8;\" x=\"839.55767\" xlink:href=\"#m8a6bb1fa4a\" y=\"442.08\"/>\r\n      </g>\r\n     </g>\r\n     <g id=\"text_9\">\r\n      <!-- 120 -->\r\n      <defs>\r\n       <path d=\"M 19.1875 8.296875 \r\nL 53.609375 8.296875 \r\nL 53.609375 0 \r\nL 7.328125 0 \r\nL 7.328125 8.296875 \r\nQ 12.9375 14.109375 22.625 23.890625 \r\nQ 32.328125 33.6875 34.8125 36.53125 \r\nQ 39.546875 41.84375 41.421875 45.53125 \r\nQ 43.3125 49.21875 43.3125 52.78125 \r\nQ 43.3125 58.59375 39.234375 62.25 \r\nQ 35.15625 65.921875 28.609375 65.921875 \r\nQ 23.96875 65.921875 18.8125 64.3125 \r\nQ 13.671875 62.703125 7.8125 59.421875 \r\nL 7.8125 69.390625 \r\nQ 13.765625 71.78125 18.9375 73 \r\nQ 24.125 74.21875 28.421875 74.21875 \r\nQ 39.75 74.21875 46.484375 68.546875 \r\nQ 53.21875 62.890625 53.21875 53.421875 \r\nQ 53.21875 48.921875 51.53125 44.890625 \r\nQ 49.859375 40.875 45.40625 35.40625 \r\nQ 44.1875 33.984375 37.640625 27.21875 \r\nQ 31.109375 20.453125 19.1875 8.296875 \r\nz\r\n\" id=\"DejaVuSans-50\"/>\r\n      </defs>\r\n      <g transform=\"translate(830.01392 456.678437)scale(0.1 -0.1)\">\r\n       <use xlink:href=\"#DejaVuSans-49\"/>\r\n       <use x=\"63.623047\" xlink:href=\"#DejaVuSans-50\"/>\r\n       <use x=\"127.246094\" xlink:href=\"#DejaVuSans-48\"/>\r\n      </g>\r\n     </g>\r\n    </g>\r\n    <g id=\"text_10\">\r\n     <!-- strikes -->\r\n     <defs>\r\n      <path d=\"M 44.28125 53.078125 \r\nL 44.28125 44.578125 \r\nQ 40.484375 46.53125 36.375 47.5 \r\nQ 32.28125 48.484375 27.875 48.484375 \r\nQ 21.1875 48.484375 17.84375 46.4375 \r\nQ 14.5 44.390625 14.5 40.28125 \r\nQ 14.5 37.15625 16.890625 35.375 \r\nQ 19.28125 33.59375 26.515625 31.984375 \r\nL 29.59375 31.296875 \r\nQ 39.15625 29.25 43.1875 25.515625 \r\nQ 47.21875 21.78125 47.21875 15.09375 \r\nQ 47.21875 7.46875 41.1875 3.015625 \r\nQ 35.15625 -1.421875 24.609375 -1.421875 \r\nQ 20.21875 -1.421875 15.453125 -0.5625 \r\nQ 10.6875 0.296875 5.421875 2 \r\nL 5.421875 11.28125 \r\nQ 10.40625 8.6875 15.234375 7.390625 \r\nQ 20.0625 6.109375 24.8125 6.109375 \r\nQ 31.15625 6.109375 34.5625 8.28125 \r\nQ 37.984375 10.453125 37.984375 14.40625 \r\nQ 37.984375 18.0625 35.515625 20.015625 \r\nQ 33.0625 21.96875 24.703125 23.78125 \r\nL 21.578125 24.515625 \r\nQ 13.234375 26.265625 9.515625 29.90625 \r\nQ 5.8125 33.546875 5.8125 39.890625 \r\nQ 5.8125 47.609375 11.28125 51.796875 \r\nQ 16.75 56 26.8125 56 \r\nQ 31.78125 56 36.171875 55.265625 \r\nQ 40.578125 54.546875 44.28125 53.078125 \r\nz\r\n\" id=\"DejaVuSans-115\"/>\r\n      <path d=\"M 18.3125 70.21875 \r\nL 18.3125 54.6875 \r\nL 36.8125 54.6875 \r\nL 36.8125 47.703125 \r\nL 18.3125 47.703125 \r\nL 18.3125 18.015625 \r\nQ 18.3125 11.328125 20.140625 9.421875 \r\nQ 21.96875 7.515625 27.59375 7.515625 \r\nL 36.8125 7.515625 \r\nL 36.8125 0 \r\nL 27.59375 0 \r\nQ 17.1875 0 13.234375 3.875 \r\nQ 9.28125 7.765625 9.28125 18.015625 \r\nL 9.28125 47.703125 \r\nL 2.6875 47.703125 \r\nL 2.6875 54.6875 \r\nL 9.28125 54.6875 \r\nL 9.28125 70.21875 \r\nz\r\n\" id=\"DejaVuSans-116\"/>\r\n      <path d=\"M 41.109375 46.296875 \r\nQ 39.59375 47.171875 37.8125 47.578125 \r\nQ 36.03125 48 33.890625 48 \r\nQ 26.265625 48 22.1875 43.046875 \r\nQ 18.109375 38.09375 18.109375 28.8125 \r\nL 18.109375 0 \r\nL 9.078125 0 \r\nL 9.078125 54.6875 \r\nL 18.109375 54.6875 \r\nL 18.109375 46.1875 \r\nQ 20.953125 51.171875 25.484375 53.578125 \r\nQ 30.03125 56 36.53125 56 \r\nQ 37.453125 56 38.578125 55.875 \r\nQ 39.703125 55.765625 41.0625 55.515625 \r\nz\r\n\" id=\"DejaVuSans-114\"/>\r\n      <path d=\"M 9.421875 54.6875 \r\nL 18.40625 54.6875 \r\nL 18.40625 0 \r\nL 9.421875 0 \r\nz\r\nM 9.421875 75.984375 \r\nL 18.40625 75.984375 \r\nL 18.40625 64.59375 \r\nL 9.421875 64.59375 \r\nz\r\n\" id=\"DejaVuSans-105\"/>\r\n      <path d=\"M 9.078125 75.984375 \r\nL 18.109375 75.984375 \r\nL 18.109375 31.109375 \r\nL 44.921875 54.6875 \r\nL 56.390625 54.6875 \r\nL 27.390625 29.109375 \r\nL 57.625 0 \r\nL 45.90625 0 \r\nL 18.109375 26.703125 \r\nL 18.109375 0 \r\nL 9.078125 0 \r\nz\r\n\" id=\"DejaVuSans-107\"/>\r\n      <path d=\"M 56.203125 29.59375 \r\nL 56.203125 25.203125 \r\nL 14.890625 25.203125 \r\nQ 15.484375 15.921875 20.484375 11.0625 \r\nQ 25.484375 6.203125 34.421875 6.203125 \r\nQ 39.59375 6.203125 44.453125 7.46875 \r\nQ 49.3125 8.734375 54.109375 11.28125 \r\nL 54.109375 2.78125 \r\nQ 49.265625 0.734375 44.1875 -0.34375 \r\nQ 39.109375 -1.421875 33.890625 -1.421875 \r\nQ 20.796875 -1.421875 13.15625 6.1875 \r\nQ 5.515625 13.8125 5.515625 26.8125 \r\nQ 5.515625 40.234375 12.765625 48.109375 \r\nQ 20.015625 56 32.328125 56 \r\nQ 43.359375 56 49.78125 48.890625 \r\nQ 56.203125 41.796875 56.203125 29.59375 \r\nz\r\nM 47.21875 32.234375 \r\nQ 47.125 39.59375 43.09375 43.984375 \r\nQ 39.0625 48.390625 32.421875 48.390625 \r\nQ 24.90625 48.390625 20.390625 44.140625 \r\nQ 15.875 39.890625 15.1875 32.171875 \r\nz\r\n\" id=\"DejaVuSans-101\"/>\r\n     </defs>\r\n     <g transform=\"translate(442.698438 470.356562)scale(0.1 -0.1)\">\r\n      <use xlink:href=\"#DejaVuSans-115\"/>\r\n      <use x=\"52.099609\" xlink:href=\"#DejaVuSans-116\"/>\r\n      <use x=\"91.308594\" xlink:href=\"#DejaVuSans-114\"/>\r\n      <use x=\"132.421875\" xlink:href=\"#DejaVuSans-105\"/>\r\n      <use x=\"160.205078\" xlink:href=\"#DejaVuSans-107\"/>\r\n      <use x=\"214.490234\" xlink:href=\"#DejaVuSans-101\"/>\r\n      <use x=\"276.013672\" xlink:href=\"#DejaVuSans-115\"/>\r\n     </g>\r\n    </g>\r\n   </g>\r\n   <g id=\"matplotlib.axis_2\">\r\n    <g id=\"ytick_1\">\r\n     <g id=\"line2d_19\">\r\n      <path clip-path=\"url(#p6dbf468f78)\" d=\"M 40.603125 390.063937 \r\nL 877.603125 390.063937 \r\n\" style=\"fill:none;stroke:#b0b0b0;stroke-linecap:square;stroke-width:0.8;\"/>\r\n     </g>\r\n     <g id=\"line2d_20\">\r\n      <defs>\r\n       <path d=\"M 0 0 \r\nL -3.5 0 \r\n\" id=\"m536169fe32\" style=\"stroke:#000000;stroke-width:0.8;\"/>\r\n      </defs>\r\n      <g>\r\n       <use style=\"stroke:#000000;stroke-width:0.8;\" x=\"40.603125\" xlink:href=\"#m536169fe32\" y=\"390.063937\"/>\r\n      </g>\r\n     </g>\r\n     <g id=\"text_11\">\r\n      <!-- 5 -->\r\n      <g transform=\"translate(27.240625 393.863156)scale(0.1 -0.1)\">\r\n       <use xlink:href=\"#DejaVuSans-53\"/>\r\n      </g>\r\n     </g>\r\n    </g>\r\n    <g id=\"ytick_2\">\r\n     <g id=\"line2d_21\">\r\n      <path clip-path=\"url(#p6dbf468f78)\" d=\"M 40.603125 298.078285 \r\nL 877.603125 298.078285 \r\n\" style=\"fill:none;stroke:#b0b0b0;stroke-linecap:square;stroke-width:0.8;\"/>\r\n     </g>\r\n     <g id=\"line2d_22\">\r\n      <g>\r\n       <use style=\"stroke:#000000;stroke-width:0.8;\" x=\"40.603125\" xlink:href=\"#m536169fe32\" y=\"298.078285\"/>\r\n      </g>\r\n     </g>\r\n     <g id=\"text_12\">\r\n      <!-- 10 -->\r\n      <g transform=\"translate(20.878125 301.877504)scale(0.1 -0.1)\">\r\n       <use xlink:href=\"#DejaVuSans-49\"/>\r\n       <use x=\"63.623047\" xlink:href=\"#DejaVuSans-48\"/>\r\n      </g>\r\n     </g>\r\n    </g>\r\n    <g id=\"ytick_3\">\r\n     <g id=\"line2d_23\">\r\n      <path clip-path=\"url(#p6dbf468f78)\" d=\"M 40.603125 206.092633 \r\nL 877.603125 206.092633 \r\n\" style=\"fill:none;stroke:#b0b0b0;stroke-linecap:square;stroke-width:0.8;\"/>\r\n     </g>\r\n     <g id=\"line2d_24\">\r\n      <g>\r\n       <use style=\"stroke:#000000;stroke-width:0.8;\" x=\"40.603125\" xlink:href=\"#m536169fe32\" y=\"206.092633\"/>\r\n      </g>\r\n     </g>\r\n     <g id=\"text_13\">\r\n      <!-- 15 -->\r\n      <g transform=\"translate(20.878125 209.891852)scale(0.1 -0.1)\">\r\n       <use xlink:href=\"#DejaVuSans-49\"/>\r\n       <use x=\"63.623047\" xlink:href=\"#DejaVuSans-53\"/>\r\n      </g>\r\n     </g>\r\n    </g>\r\n    <g id=\"ytick_4\">\r\n     <g id=\"line2d_25\">\r\n      <path clip-path=\"url(#p6dbf468f78)\" d=\"M 40.603125 114.106981 \r\nL 877.603125 114.106981 \r\n\" style=\"fill:none;stroke:#b0b0b0;stroke-linecap:square;stroke-width:0.8;\"/>\r\n     </g>\r\n     <g id=\"line2d_26\">\r\n      <g>\r\n       <use style=\"stroke:#000000;stroke-width:0.8;\" x=\"40.603125\" xlink:href=\"#m536169fe32\" y=\"114.106981\"/>\r\n      </g>\r\n     </g>\r\n     <g id=\"text_14\">\r\n      <!-- 20 -->\r\n      <g transform=\"translate(20.878125 117.906199)scale(0.1 -0.1)\">\r\n       <use xlink:href=\"#DejaVuSans-50\"/>\r\n       <use x=\"63.623047\" xlink:href=\"#DejaVuSans-48\"/>\r\n      </g>\r\n     </g>\r\n    </g>\r\n    <g id=\"ytick_5\">\r\n     <g id=\"line2d_27\">\r\n      <path clip-path=\"url(#p6dbf468f78)\" d=\"M 40.603125 22.121328 \r\nL 877.603125 22.121328 \r\n\" style=\"fill:none;stroke:#b0b0b0;stroke-linecap:square;stroke-width:0.8;\"/>\r\n     </g>\r\n     <g id=\"line2d_28\">\r\n      <g>\r\n       <use style=\"stroke:#000000;stroke-width:0.8;\" x=\"40.603125\" xlink:href=\"#m536169fe32\" y=\"22.121328\"/>\r\n      </g>\r\n     </g>\r\n     <g id=\"text_15\">\r\n      <!-- 25 -->\r\n      <g transform=\"translate(20.878125 25.920547)scale(0.1 -0.1)\">\r\n       <use xlink:href=\"#DejaVuSans-50\"/>\r\n       <use x=\"63.623047\" xlink:href=\"#DejaVuSans-53\"/>\r\n      </g>\r\n     </g>\r\n    </g>\r\n    <g id=\"text_16\">\r\n     <!-- European call option values -->\r\n     <defs>\r\n      <path d=\"M 9.8125 72.90625 \r\nL 55.90625 72.90625 \r\nL 55.90625 64.59375 \r\nL 19.671875 64.59375 \r\nL 19.671875 43.015625 \r\nL 54.390625 43.015625 \r\nL 54.390625 34.71875 \r\nL 19.671875 34.71875 \r\nL 19.671875 8.296875 \r\nL 56.78125 8.296875 \r\nL 56.78125 0 \r\nL 9.8125 0 \r\nz\r\n\" id=\"DejaVuSans-69\"/>\r\n      <path d=\"M 8.5 21.578125 \r\nL 8.5 54.6875 \r\nL 17.484375 54.6875 \r\nL 17.484375 21.921875 \r\nQ 17.484375 14.15625 20.5 10.265625 \r\nQ 23.53125 6.390625 29.59375 6.390625 \r\nQ 36.859375 6.390625 41.078125 11.03125 \r\nQ 45.3125 15.671875 45.3125 23.6875 \r\nL 45.3125 54.6875 \r\nL 54.296875 54.6875 \r\nL 54.296875 0 \r\nL 45.3125 0 \r\nL 45.3125 8.40625 \r\nQ 42.046875 3.421875 37.71875 1 \r\nQ 33.40625 -1.421875 27.6875 -1.421875 \r\nQ 18.265625 -1.421875 13.375 4.4375 \r\nQ 8.5 10.296875 8.5 21.578125 \r\nz\r\nM 31.109375 56 \r\nz\r\n\" id=\"DejaVuSans-117\"/>\r\n      <path d=\"M 30.609375 48.390625 \r\nQ 23.390625 48.390625 19.1875 42.75 \r\nQ 14.984375 37.109375 14.984375 27.296875 \r\nQ 14.984375 17.484375 19.15625 11.84375 \r\nQ 23.34375 6.203125 30.609375 6.203125 \r\nQ 37.796875 6.203125 41.984375 11.859375 \r\nQ 46.1875 17.53125 46.1875 27.296875 \r\nQ 46.1875 37.015625 41.984375 42.703125 \r\nQ 37.796875 48.390625 30.609375 48.390625 \r\nz\r\nM 30.609375 56 \r\nQ 42.328125 56 49.015625 48.375 \r\nQ 55.71875 40.765625 55.71875 27.296875 \r\nQ 55.71875 13.875 49.015625 6.21875 \r\nQ 42.328125 -1.421875 30.609375 -1.421875 \r\nQ 18.84375 -1.421875 12.171875 6.21875 \r\nQ 5.515625 13.875 5.515625 27.296875 \r\nQ 5.515625 40.765625 12.171875 48.375 \r\nQ 18.84375 56 30.609375 56 \r\nz\r\n\" id=\"DejaVuSans-111\"/>\r\n      <path d=\"M 18.109375 8.203125 \r\nL 18.109375 -20.796875 \r\nL 9.078125 -20.796875 \r\nL 9.078125 54.6875 \r\nL 18.109375 54.6875 \r\nL 18.109375 46.390625 \r\nQ 20.953125 51.265625 25.265625 53.625 \r\nQ 29.59375 56 35.59375 56 \r\nQ 45.5625 56 51.78125 48.09375 \r\nQ 58.015625 40.1875 58.015625 27.296875 \r\nQ 58.015625 14.40625 51.78125 6.484375 \r\nQ 45.5625 -1.421875 35.59375 -1.421875 \r\nQ 29.59375 -1.421875 25.265625 0.953125 \r\nQ 20.953125 3.328125 18.109375 8.203125 \r\nz\r\nM 48.6875 27.296875 \r\nQ 48.6875 37.203125 44.609375 42.84375 \r\nQ 40.53125 48.484375 33.40625 48.484375 \r\nQ 26.265625 48.484375 22.1875 42.84375 \r\nQ 18.109375 37.203125 18.109375 27.296875 \r\nQ 18.109375 17.390625 22.1875 11.75 \r\nQ 26.265625 6.109375 33.40625 6.109375 \r\nQ 40.53125 6.109375 44.609375 11.75 \r\nQ 48.6875 17.390625 48.6875 27.296875 \r\nz\r\n\" id=\"DejaVuSans-112\"/>\r\n      <path d=\"M 34.28125 27.484375 \r\nQ 23.390625 27.484375 19.1875 25 \r\nQ 14.984375 22.515625 14.984375 16.5 \r\nQ 14.984375 11.71875 18.140625 8.90625 \r\nQ 21.296875 6.109375 26.703125 6.109375 \r\nQ 34.1875 6.109375 38.703125 11.40625 \r\nQ 43.21875 16.703125 43.21875 25.484375 \r\nL 43.21875 27.484375 \r\nz\r\nM 52.203125 31.203125 \r\nL 52.203125 0 \r\nL 43.21875 0 \r\nL 43.21875 8.296875 \r\nQ 40.140625 3.328125 35.546875 0.953125 \r\nQ 30.953125 -1.421875 24.3125 -1.421875 \r\nQ 15.921875 -1.421875 10.953125 3.296875 \r\nQ 6 8.015625 6 15.921875 \r\nQ 6 25.140625 12.171875 29.828125 \r\nQ 18.359375 34.515625 30.609375 34.515625 \r\nL 43.21875 34.515625 \r\nL 43.21875 35.40625 \r\nQ 43.21875 41.609375 39.140625 45 \r\nQ 35.0625 48.390625 27.6875 48.390625 \r\nQ 23 48.390625 18.546875 47.265625 \r\nQ 14.109375 46.140625 10.015625 43.890625 \r\nL 10.015625 52.203125 \r\nQ 14.9375 54.109375 19.578125 55.046875 \r\nQ 24.21875 56 28.609375 56 \r\nQ 40.484375 56 46.34375 49.84375 \r\nQ 52.203125 43.703125 52.203125 31.203125 \r\nz\r\n\" id=\"DejaVuSans-97\"/>\r\n      <path d=\"M 54.890625 33.015625 \r\nL 54.890625 0 \r\nL 45.90625 0 \r\nL 45.90625 32.71875 \r\nQ 45.90625 40.484375 42.875 44.328125 \r\nQ 39.84375 48.1875 33.796875 48.1875 \r\nQ 26.515625 48.1875 22.3125 43.546875 \r\nQ 18.109375 38.921875 18.109375 30.90625 \r\nL 18.109375 0 \r\nL 9.078125 0 \r\nL 9.078125 54.6875 \r\nL 18.109375 54.6875 \r\nL 18.109375 46.1875 \r\nQ 21.34375 51.125 25.703125 53.5625 \r\nQ 30.078125 56 35.796875 56 \r\nQ 45.21875 56 50.046875 50.171875 \r\nQ 54.890625 44.34375 54.890625 33.015625 \r\nz\r\n\" id=\"DejaVuSans-110\"/>\r\n      <path id=\"DejaVuSans-32\"/>\r\n      <path d=\"M 48.78125 52.59375 \r\nL 48.78125 44.1875 \r\nQ 44.96875 46.296875 41.140625 47.34375 \r\nQ 37.3125 48.390625 33.40625 48.390625 \r\nQ 24.65625 48.390625 19.8125 42.84375 \r\nQ 14.984375 37.3125 14.984375 27.296875 \r\nQ 14.984375 17.28125 19.8125 11.734375 \r\nQ 24.65625 6.203125 33.40625 6.203125 \r\nQ 37.3125 6.203125 41.140625 7.25 \r\nQ 44.96875 8.296875 48.78125 10.40625 \r\nL 48.78125 2.09375 \r\nQ 45.015625 0.34375 40.984375 -0.53125 \r\nQ 36.96875 -1.421875 32.421875 -1.421875 \r\nQ 20.0625 -1.421875 12.78125 6.34375 \r\nQ 5.515625 14.109375 5.515625 27.296875 \r\nQ 5.515625 40.671875 12.859375 48.328125 \r\nQ 20.21875 56 33.015625 56 \r\nQ 37.15625 56 41.109375 55.140625 \r\nQ 45.0625 54.296875 48.78125 52.59375 \r\nz\r\n\" id=\"DejaVuSans-99\"/>\r\n      <path d=\"M 9.421875 75.984375 \r\nL 18.40625 75.984375 \r\nL 18.40625 0 \r\nL 9.421875 0 \r\nz\r\n\" id=\"DejaVuSans-108\"/>\r\n      <path d=\"M 2.984375 54.6875 \r\nL 12.5 54.6875 \r\nL 29.59375 8.796875 \r\nL 46.6875 54.6875 \r\nL 56.203125 54.6875 \r\nL 35.6875 0 \r\nL 23.484375 0 \r\nz\r\n\" id=\"DejaVuSans-118\"/>\r\n     </defs>\r\n     <g transform=\"translate(14.798438 293.886094)rotate(-90)scale(0.1 -0.1)\">\r\n      <use xlink:href=\"#DejaVuSans-69\"/>\r\n      <use x=\"63.183594\" xlink:href=\"#DejaVuSans-117\"/>\r\n      <use x=\"126.5625\" xlink:href=\"#DejaVuSans-114\"/>\r\n      <use x=\"165.425781\" xlink:href=\"#DejaVuSans-111\"/>\r\n      <use x=\"226.607422\" xlink:href=\"#DejaVuSans-112\"/>\r\n      <use x=\"290.083984\" xlink:href=\"#DejaVuSans-101\"/>\r\n      <use x=\"351.607422\" xlink:href=\"#DejaVuSans-97\"/>\r\n      <use x=\"412.886719\" xlink:href=\"#DejaVuSans-110\"/>\r\n      <use x=\"476.265625\" xlink:href=\"#DejaVuSans-32\"/>\r\n      <use x=\"508.052734\" xlink:href=\"#DejaVuSans-99\"/>\r\n      <use x=\"563.033203\" xlink:href=\"#DejaVuSans-97\"/>\r\n      <use x=\"624.3125\" xlink:href=\"#DejaVuSans-108\"/>\r\n      <use x=\"652.095703\" xlink:href=\"#DejaVuSans-108\"/>\r\n      <use x=\"679.878906\" xlink:href=\"#DejaVuSans-32\"/>\r\n      <use x=\"711.666016\" xlink:href=\"#DejaVuSans-111\"/>\r\n      <use x=\"772.847656\" xlink:href=\"#DejaVuSans-112\"/>\r\n      <use x=\"836.324219\" xlink:href=\"#DejaVuSans-116\"/>\r\n      <use x=\"875.533203\" xlink:href=\"#DejaVuSans-105\"/>\r\n      <use x=\"903.316406\" xlink:href=\"#DejaVuSans-111\"/>\r\n      <use x=\"964.498047\" xlink:href=\"#DejaVuSans-110\"/>\r\n      <use x=\"1027.876953\" xlink:href=\"#DejaVuSans-32\"/>\r\n      <use x=\"1059.664062\" xlink:href=\"#DejaVuSans-118\"/>\r\n      <use x=\"1118.84375\" xlink:href=\"#DejaVuSans-97\"/>\r\n      <use x=\"1180.123047\" xlink:href=\"#DejaVuSans-108\"/>\r\n      <use x=\"1207.90625\" xlink:href=\"#DejaVuSans-117\"/>\r\n      <use x=\"1271.285156\" xlink:href=\"#DejaVuSans-101\"/>\r\n      <use x=\"1332.808594\" xlink:href=\"#DejaVuSans-115\"/>\r\n     </g>\r\n    </g>\r\n   </g>\r\n   <g id=\"line2d_29\">\r\n    <path clip-path=\"url(#p6dbf468f78)\" d=\"M 78.64858 26.967273 \r\nL 86.33453 33.315501 \r\nL 94.02048 39.632396 \r\nL 101.706431 45.916527 \r\nL 109.392381 52.168699 \r\nL 117.078332 58.38897 \r\nL 124.764282 64.571709 \r\nL 132.450232 70.715121 \r\nL 140.136183 76.825502 \r\nL 147.822133 82.89972 \r\nL 155.508084 88.935868 \r\nL 163.194034 94.92704 \r\nL 170.879985 100.877456 \r\nL 178.565935 106.783465 \r\nL 186.251885 112.643653 \r\nL 193.937836 118.459369 \r\nL 201.623786 124.229611 \r\nL 209.309737 129.956114 \r\nL 216.995687 135.635358 \r\nL 224.681637 141.26527 \r\nL 232.367588 146.845923 \r\nL 240.053538 152.376759 \r\nL 247.739489 157.860866 \r\nL 255.425439 163.299228 \r\nL 263.111389 168.687908 \r\nL 270.79734 174.020514 \r\nL 278.48329 179.302899 \r\nL 286.169241 184.535376 \r\nL 293.855191 189.712824 \r\nL 301.541142 194.836211 \r\nL 309.227092 199.90812 \r\nL 316.913042 204.926357 \r\nL 324.598993 209.894308 \r\nL 332.284943 214.811233 \r\nL 339.970894 219.677255 \r\nL 347.656844 224.485759 \r\nL 355.342794 229.238349 \r\nL 363.028745 233.933467 \r\nL 370.714695 238.574097 \r\nL 378.400646 243.159755 \r\nL 386.086596 247.691438 \r\nL 393.772546 252.169708 \r\nL 401.458497 256.590962 \r\nL 409.144447 260.957547 \r\nL 416.830398 265.272196 \r\nL 424.516348 269.532464 \r\nL 432.202299 273.738779 \r\nL 439.888249 277.887765 \r\nL 447.574199 281.979179 \r\nL 455.26015 286.014823 \r\nL 462.9461 289.996418 \r\nL 470.632051 293.918349 \r\nL 478.318001 297.784269 \r\nL 486.003951 301.595807 \r\nL 493.689902 305.352578 \r\nL 501.375852 309.05647 \r\nL 509.061803 312.700817 \r\nL 516.747753 316.292782 \r\nL 524.433704 319.83061 \r\nL 532.119654 323.317036 \r\nL 539.805604 326.752657 \r\nL 547.491555 330.132983 \r\nL 555.177505 333.464598 \r\nL 562.863456 336.74658 \r\nL 570.549406 339.977292 \r\nL 578.235356 343.158274 \r\nL 585.921307 346.292394 \r\nL 593.607257 349.372815 \r\nL 601.293208 352.402395 \r\nL 608.979158 355.375345 \r\nL 616.665108 358.297484 \r\nL 624.351059 361.16876 \r\nL 632.037009 363.989047 \r\nL 639.72296 366.757849 \r\nL 647.40891 369.472974 \r\nL 655.094861 372.137319 \r\nL 662.780811 374.750426 \r\nL 670.466761 377.317222 \r\nL 678.152712 379.836615 \r\nL 685.838662 382.309798 \r\nL 693.524613 384.732042 \r\nL 701.210563 387.111447 \r\nL 708.896513 389.448196 \r\nL 716.582464 391.736237 \r\nL 724.268414 393.978585 \r\nL 731.954365 396.172328 \r\nL 739.640315 398.31522 \r\nL 747.326265 400.412574 \r\nL 755.012216 402.471036 \r\nL 762.698166 404.487716 \r\nL 770.384117 406.457045 \r\nL 778.070067 408.380056 \r\nL 785.756018 410.25705 \r\nL 793.441968 412.089338 \r\nL 801.127918 413.884721 \r\nL 808.813869 415.644786 \r\nL 816.499819 417.369391 \r\nL 824.18577 419.054729 \r\nL 831.87172 420.701978 \r\nL 839.55767 422.312727 \r\n\" style=\"fill:none;stroke:#0000ff;stroke-linecap:square;stroke-width:1.5;\"/>\r\n   </g>\r\n   <g id=\"line2d_30\">\r\n    <path clip-path=\"url(#p6dbf468f78)\" d=\"M 78.64858 26.967273 \r\nL 86.33453 33.315501 \r\nL 94.02048 39.632396 \r\nL 101.706431 45.916527 \r\nL 109.392381 52.168699 \r\nL 117.078332 58.38897 \r\nL 124.764282 64.571709 \r\nL 132.450232 70.715121 \r\nL 140.136183 76.825502 \r\nL 147.822133 82.89972 \r\nL 155.508084 88.935868 \r\nL 163.194034 94.92704 \r\nL 170.879985 100.877456 \r\nL 178.565935 106.783465 \r\nL 186.251885 112.643653 \r\nL 193.937836 118.459369 \r\nL 201.623786 124.229611 \r\nL 209.309737 129.956114 \r\nL 216.995687 135.635358 \r\nL 224.681637 141.26527 \r\nL 232.367588 146.845923 \r\nL 240.053538 152.376759 \r\nL 247.739489 157.860866 \r\nL 255.425439 163.299228 \r\nL 263.111389 168.687908 \r\nL 270.79734 174.020514 \r\nL 278.48329 179.302899 \r\nL 286.169241 184.535376 \r\nL 293.855191 189.712824 \r\nL 301.541142 194.836211 \r\nL 309.227092 199.90812 \r\nL 316.913042 204.926357 \r\nL 324.598993 209.894308 \r\nL 332.284943 214.811233 \r\nL 339.970894 219.677255 \r\nL 347.656844 224.485759 \r\nL 355.342794 229.238349 \r\nL 363.028745 233.933467 \r\nL 370.714695 238.574097 \r\nL 378.400646 243.159755 \r\nL 386.086596 247.691438 \r\nL 393.772546 252.169708 \r\nL 401.458497 256.590962 \r\nL 409.144447 260.957547 \r\nL 416.830398 265.272196 \r\nL 424.516348 269.532464 \r\nL 432.202299 273.738779 \r\nL 439.888249 277.887765 \r\nL 447.574199 281.979179 \r\nL 455.26015 286.014823 \r\nL 462.9461 289.996418 \r\nL 470.632051 293.918349 \r\nL 478.318001 297.784269 \r\nL 486.003951 301.595807 \r\nL 493.689902 305.352578 \r\nL 501.375852 309.05647 \r\nL 509.061803 312.700817 \r\nL 516.747753 316.292782 \r\nL 524.433704 319.83061 \r\nL 532.119654 323.317036 \r\nL 539.805604 326.752657 \r\nL 547.491555 330.132983 \r\nL 555.177505 333.464598 \r\nL 562.863456 336.74658 \r\nL 570.549406 339.977292 \r\nL 578.235356 343.158274 \r\nL 585.921307 346.292394 \r\nL 593.607257 349.372815 \r\nL 601.293208 352.402395 \r\nL 608.979158 355.375345 \r\nL 616.665108 358.297484 \r\nL 624.351059 361.16876 \r\nL 632.037009 363.989047 \r\nL 639.72296 366.757849 \r\nL 647.40891 369.472974 \r\nL 655.094861 372.137319 \r\nL 662.780811 374.750426 \r\nL 670.466761 377.317222 \r\nL 678.152712 379.836615 \r\nL 685.838662 382.309798 \r\nL 693.524613 384.732042 \r\nL 701.210563 387.111447 \r\nL 708.896513 389.448196 \r\nL 716.582464 391.736237 \r\nL 724.268414 393.978585 \r\nL 731.954365 396.172328 \r\nL 739.640315 398.31522 \r\nL 747.326265 400.412574 \r\nL 755.012216 402.471036 \r\nL 762.698166 404.487716 \r\nL 770.384117 406.457045 \r\nL 778.070067 408.380056 \r\nL 785.756018 410.25705 \r\nL 793.441968 412.089338 \r\nL 801.127918 413.884721 \r\nL 808.813869 415.644786 \r\nL 816.499819 417.369391 \r\nL 824.18577 419.054729 \r\nL 831.87172 420.701978 \r\nL 839.55767 422.312727 \r\n\" style=\"fill:none;stroke:#ff0000;stroke-linecap:square;stroke-width:1.5;\"/>\r\n    <defs>\r\n     <path d=\"M 0 0.125 \r\nC 0.03315 0.125 0.064947 0.111829 0.088388 0.088388 \r\nC 0.111829 0.064947 0.125 0.03315 0.125 0 \r\nC 0.125 -0.03315 0.111829 -0.064947 0.088388 -0.088388 \r\nC 0.064947 -0.111829 0.03315 -0.125 0 -0.125 \r\nC -0.03315 -0.125 -0.064947 -0.111829 -0.088388 -0.088388 \r\nC -0.111829 -0.064947 -0.125 -0.03315 -0.125 0 \r\nC -0.125 0.03315 -0.111829 0.064947 -0.088388 0.088388 \r\nC -0.064947 0.111829 -0.03315 0.125 0 0.125 \r\nz\r\n\" id=\"m9bf3375397\" style=\"stroke:#ff0000;\"/>\r\n    </defs>\r\n    <g clip-path=\"url(#p6dbf468f78)\">\r\n     <use style=\"fill:#ff0000;stroke:#ff0000;\" x=\"78.64858\" xlink:href=\"#m9bf3375397\" y=\"26.967273\"/>\r\n     <use style=\"fill:#ff0000;stroke:#ff0000;\" x=\"86.33453\" xlink:href=\"#m9bf3375397\" y=\"33.315501\"/>\r\n     <use style=\"fill:#ff0000;stroke:#ff0000;\" x=\"94.02048\" xlink:href=\"#m9bf3375397\" y=\"39.632396\"/>\r\n     <use style=\"fill:#ff0000;stroke:#ff0000;\" x=\"101.706431\" xlink:href=\"#m9bf3375397\" y=\"45.916527\"/>\r\n     <use style=\"fill:#ff0000;stroke:#ff0000;\" x=\"109.392381\" xlink:href=\"#m9bf3375397\" y=\"52.168699\"/>\r\n     <use style=\"fill:#ff0000;stroke:#ff0000;\" x=\"117.078332\" xlink:href=\"#m9bf3375397\" y=\"58.38897\"/>\r\n     <use style=\"fill:#ff0000;stroke:#ff0000;\" x=\"124.764282\" xlink:href=\"#m9bf3375397\" y=\"64.571709\"/>\r\n     <use style=\"fill:#ff0000;stroke:#ff0000;\" x=\"132.450232\" xlink:href=\"#m9bf3375397\" y=\"70.715121\"/>\r\n     <use style=\"fill:#ff0000;stroke:#ff0000;\" x=\"140.136183\" xlink:href=\"#m9bf3375397\" y=\"76.825502\"/>\r\n     <use style=\"fill:#ff0000;stroke:#ff0000;\" x=\"147.822133\" xlink:href=\"#m9bf3375397\" y=\"82.89972\"/>\r\n     <use style=\"fill:#ff0000;stroke:#ff0000;\" x=\"155.508084\" xlink:href=\"#m9bf3375397\" y=\"88.935868\"/>\r\n     <use style=\"fill:#ff0000;stroke:#ff0000;\" x=\"163.194034\" xlink:href=\"#m9bf3375397\" y=\"94.92704\"/>\r\n     <use style=\"fill:#ff0000;stroke:#ff0000;\" x=\"170.879985\" xlink:href=\"#m9bf3375397\" y=\"100.877456\"/>\r\n     <use style=\"fill:#ff0000;stroke:#ff0000;\" x=\"178.565935\" xlink:href=\"#m9bf3375397\" y=\"106.783465\"/>\r\n     <use style=\"fill:#ff0000;stroke:#ff0000;\" x=\"186.251885\" xlink:href=\"#m9bf3375397\" y=\"112.643653\"/>\r\n     <use style=\"fill:#ff0000;stroke:#ff0000;\" x=\"193.937836\" xlink:href=\"#m9bf3375397\" y=\"118.459369\"/>\r\n     <use style=\"fill:#ff0000;stroke:#ff0000;\" x=\"201.623786\" xlink:href=\"#m9bf3375397\" y=\"124.229611\"/>\r\n     <use style=\"fill:#ff0000;stroke:#ff0000;\" x=\"209.309737\" xlink:href=\"#m9bf3375397\" y=\"129.956114\"/>\r\n     <use style=\"fill:#ff0000;stroke:#ff0000;\" x=\"216.995687\" xlink:href=\"#m9bf3375397\" y=\"135.635358\"/>\r\n     <use style=\"fill:#ff0000;stroke:#ff0000;\" x=\"224.681637\" xlink:href=\"#m9bf3375397\" y=\"141.26527\"/>\r\n     <use style=\"fill:#ff0000;stroke:#ff0000;\" x=\"232.367588\" xlink:href=\"#m9bf3375397\" y=\"146.845923\"/>\r\n     <use style=\"fill:#ff0000;stroke:#ff0000;\" x=\"240.053538\" xlink:href=\"#m9bf3375397\" y=\"152.376759\"/>\r\n     <use style=\"fill:#ff0000;stroke:#ff0000;\" x=\"247.739489\" xlink:href=\"#m9bf3375397\" y=\"157.860866\"/>\r\n     <use style=\"fill:#ff0000;stroke:#ff0000;\" x=\"255.425439\" xlink:href=\"#m9bf3375397\" y=\"163.299228\"/>\r\n     <use style=\"fill:#ff0000;stroke:#ff0000;\" x=\"263.111389\" xlink:href=\"#m9bf3375397\" y=\"168.687908\"/>\r\n     <use style=\"fill:#ff0000;stroke:#ff0000;\" x=\"270.79734\" xlink:href=\"#m9bf3375397\" y=\"174.020514\"/>\r\n     <use style=\"fill:#ff0000;stroke:#ff0000;\" x=\"278.48329\" xlink:href=\"#m9bf3375397\" y=\"179.302899\"/>\r\n     <use style=\"fill:#ff0000;stroke:#ff0000;\" x=\"286.169241\" xlink:href=\"#m9bf3375397\" y=\"184.535376\"/>\r\n     <use style=\"fill:#ff0000;stroke:#ff0000;\" x=\"293.855191\" xlink:href=\"#m9bf3375397\" y=\"189.712824\"/>\r\n     <use style=\"fill:#ff0000;stroke:#ff0000;\" x=\"301.541142\" xlink:href=\"#m9bf3375397\" y=\"194.836211\"/>\r\n     <use style=\"fill:#ff0000;stroke:#ff0000;\" x=\"309.227092\" xlink:href=\"#m9bf3375397\" y=\"199.90812\"/>\r\n     <use style=\"fill:#ff0000;stroke:#ff0000;\" x=\"316.913042\" xlink:href=\"#m9bf3375397\" y=\"204.926357\"/>\r\n     <use style=\"fill:#ff0000;stroke:#ff0000;\" x=\"324.598993\" xlink:href=\"#m9bf3375397\" y=\"209.894308\"/>\r\n     <use style=\"fill:#ff0000;stroke:#ff0000;\" x=\"332.284943\" xlink:href=\"#m9bf3375397\" y=\"214.811233\"/>\r\n     <use style=\"fill:#ff0000;stroke:#ff0000;\" x=\"339.970894\" xlink:href=\"#m9bf3375397\" y=\"219.677255\"/>\r\n     <use style=\"fill:#ff0000;stroke:#ff0000;\" x=\"347.656844\" xlink:href=\"#m9bf3375397\" y=\"224.485759\"/>\r\n     <use style=\"fill:#ff0000;stroke:#ff0000;\" x=\"355.342794\" xlink:href=\"#m9bf3375397\" y=\"229.238349\"/>\r\n     <use style=\"fill:#ff0000;stroke:#ff0000;\" x=\"363.028745\" xlink:href=\"#m9bf3375397\" y=\"233.933467\"/>\r\n     <use style=\"fill:#ff0000;stroke:#ff0000;\" x=\"370.714695\" xlink:href=\"#m9bf3375397\" y=\"238.574097\"/>\r\n     <use style=\"fill:#ff0000;stroke:#ff0000;\" x=\"378.400646\" xlink:href=\"#m9bf3375397\" y=\"243.159755\"/>\r\n     <use style=\"fill:#ff0000;stroke:#ff0000;\" x=\"386.086596\" xlink:href=\"#m9bf3375397\" y=\"247.691438\"/>\r\n     <use style=\"fill:#ff0000;stroke:#ff0000;\" x=\"393.772546\" xlink:href=\"#m9bf3375397\" y=\"252.169708\"/>\r\n     <use style=\"fill:#ff0000;stroke:#ff0000;\" x=\"401.458497\" xlink:href=\"#m9bf3375397\" y=\"256.590962\"/>\r\n     <use style=\"fill:#ff0000;stroke:#ff0000;\" x=\"409.144447\" xlink:href=\"#m9bf3375397\" y=\"260.957547\"/>\r\n     <use style=\"fill:#ff0000;stroke:#ff0000;\" x=\"416.830398\" xlink:href=\"#m9bf3375397\" y=\"265.272196\"/>\r\n     <use style=\"fill:#ff0000;stroke:#ff0000;\" x=\"424.516348\" xlink:href=\"#m9bf3375397\" y=\"269.532464\"/>\r\n     <use style=\"fill:#ff0000;stroke:#ff0000;\" x=\"432.202299\" xlink:href=\"#m9bf3375397\" y=\"273.738779\"/>\r\n     <use style=\"fill:#ff0000;stroke:#ff0000;\" x=\"439.888249\" xlink:href=\"#m9bf3375397\" y=\"277.887765\"/>\r\n     <use style=\"fill:#ff0000;stroke:#ff0000;\" x=\"447.574199\" xlink:href=\"#m9bf3375397\" y=\"281.979179\"/>\r\n     <use style=\"fill:#ff0000;stroke:#ff0000;\" x=\"455.26015\" xlink:href=\"#m9bf3375397\" y=\"286.014823\"/>\r\n     <use style=\"fill:#ff0000;stroke:#ff0000;\" x=\"462.9461\" xlink:href=\"#m9bf3375397\" y=\"289.996418\"/>\r\n     <use style=\"fill:#ff0000;stroke:#ff0000;\" x=\"470.632051\" xlink:href=\"#m9bf3375397\" y=\"293.918349\"/>\r\n     <use style=\"fill:#ff0000;stroke:#ff0000;\" x=\"478.318001\" xlink:href=\"#m9bf3375397\" y=\"297.784269\"/>\r\n     <use style=\"fill:#ff0000;stroke:#ff0000;\" x=\"486.003951\" xlink:href=\"#m9bf3375397\" y=\"301.595807\"/>\r\n     <use style=\"fill:#ff0000;stroke:#ff0000;\" x=\"493.689902\" xlink:href=\"#m9bf3375397\" y=\"305.352578\"/>\r\n     <use style=\"fill:#ff0000;stroke:#ff0000;\" x=\"501.375852\" xlink:href=\"#m9bf3375397\" y=\"309.05647\"/>\r\n     <use style=\"fill:#ff0000;stroke:#ff0000;\" x=\"509.061803\" xlink:href=\"#m9bf3375397\" y=\"312.700817\"/>\r\n     <use style=\"fill:#ff0000;stroke:#ff0000;\" x=\"516.747753\" xlink:href=\"#m9bf3375397\" y=\"316.292782\"/>\r\n     <use style=\"fill:#ff0000;stroke:#ff0000;\" x=\"524.433704\" xlink:href=\"#m9bf3375397\" y=\"319.83061\"/>\r\n     <use style=\"fill:#ff0000;stroke:#ff0000;\" x=\"532.119654\" xlink:href=\"#m9bf3375397\" y=\"323.317036\"/>\r\n     <use style=\"fill:#ff0000;stroke:#ff0000;\" x=\"539.805604\" xlink:href=\"#m9bf3375397\" y=\"326.752657\"/>\r\n     <use style=\"fill:#ff0000;stroke:#ff0000;\" x=\"547.491555\" xlink:href=\"#m9bf3375397\" y=\"330.132983\"/>\r\n     <use style=\"fill:#ff0000;stroke:#ff0000;\" x=\"555.177505\" xlink:href=\"#m9bf3375397\" y=\"333.464598\"/>\r\n     <use style=\"fill:#ff0000;stroke:#ff0000;\" x=\"562.863456\" xlink:href=\"#m9bf3375397\" y=\"336.74658\"/>\r\n     <use style=\"fill:#ff0000;stroke:#ff0000;\" x=\"570.549406\" xlink:href=\"#m9bf3375397\" y=\"339.977292\"/>\r\n     <use style=\"fill:#ff0000;stroke:#ff0000;\" x=\"578.235356\" xlink:href=\"#m9bf3375397\" y=\"343.158274\"/>\r\n     <use style=\"fill:#ff0000;stroke:#ff0000;\" x=\"585.921307\" xlink:href=\"#m9bf3375397\" y=\"346.292394\"/>\r\n     <use style=\"fill:#ff0000;stroke:#ff0000;\" x=\"593.607257\" xlink:href=\"#m9bf3375397\" y=\"349.372815\"/>\r\n     <use style=\"fill:#ff0000;stroke:#ff0000;\" x=\"601.293208\" xlink:href=\"#m9bf3375397\" y=\"352.402395\"/>\r\n     <use style=\"fill:#ff0000;stroke:#ff0000;\" x=\"608.979158\" xlink:href=\"#m9bf3375397\" y=\"355.375345\"/>\r\n     <use style=\"fill:#ff0000;stroke:#ff0000;\" x=\"616.665108\" xlink:href=\"#m9bf3375397\" y=\"358.297484\"/>\r\n     <use style=\"fill:#ff0000;stroke:#ff0000;\" x=\"624.351059\" xlink:href=\"#m9bf3375397\" y=\"361.16876\"/>\r\n     <use style=\"fill:#ff0000;stroke:#ff0000;\" x=\"632.037009\" xlink:href=\"#m9bf3375397\" y=\"363.989047\"/>\r\n     <use style=\"fill:#ff0000;stroke:#ff0000;\" x=\"639.72296\" xlink:href=\"#m9bf3375397\" y=\"366.757849\"/>\r\n     <use style=\"fill:#ff0000;stroke:#ff0000;\" x=\"647.40891\" xlink:href=\"#m9bf3375397\" y=\"369.472974\"/>\r\n     <use style=\"fill:#ff0000;stroke:#ff0000;\" x=\"655.094861\" xlink:href=\"#m9bf3375397\" y=\"372.137319\"/>\r\n     <use style=\"fill:#ff0000;stroke:#ff0000;\" x=\"662.780811\" xlink:href=\"#m9bf3375397\" y=\"374.750426\"/>\r\n     <use style=\"fill:#ff0000;stroke:#ff0000;\" x=\"670.466761\" xlink:href=\"#m9bf3375397\" y=\"377.317222\"/>\r\n     <use style=\"fill:#ff0000;stroke:#ff0000;\" x=\"678.152712\" xlink:href=\"#m9bf3375397\" y=\"379.836615\"/>\r\n     <use style=\"fill:#ff0000;stroke:#ff0000;\" x=\"685.838662\" xlink:href=\"#m9bf3375397\" y=\"382.309798\"/>\r\n     <use style=\"fill:#ff0000;stroke:#ff0000;\" x=\"693.524613\" xlink:href=\"#m9bf3375397\" y=\"384.732042\"/>\r\n     <use style=\"fill:#ff0000;stroke:#ff0000;\" x=\"701.210563\" xlink:href=\"#m9bf3375397\" y=\"387.111447\"/>\r\n     <use style=\"fill:#ff0000;stroke:#ff0000;\" x=\"708.896513\" xlink:href=\"#m9bf3375397\" y=\"389.448196\"/>\r\n     <use style=\"fill:#ff0000;stroke:#ff0000;\" x=\"716.582464\" xlink:href=\"#m9bf3375397\" y=\"391.736237\"/>\r\n     <use style=\"fill:#ff0000;stroke:#ff0000;\" x=\"724.268414\" xlink:href=\"#m9bf3375397\" y=\"393.978585\"/>\r\n     <use style=\"fill:#ff0000;stroke:#ff0000;\" x=\"731.954365\" xlink:href=\"#m9bf3375397\" y=\"396.172328\"/>\r\n     <use style=\"fill:#ff0000;stroke:#ff0000;\" x=\"739.640315\" xlink:href=\"#m9bf3375397\" y=\"398.31522\"/>\r\n     <use style=\"fill:#ff0000;stroke:#ff0000;\" x=\"747.326265\" xlink:href=\"#m9bf3375397\" y=\"400.412574\"/>\r\n     <use style=\"fill:#ff0000;stroke:#ff0000;\" x=\"755.012216\" xlink:href=\"#m9bf3375397\" y=\"402.471036\"/>\r\n     <use style=\"fill:#ff0000;stroke:#ff0000;\" x=\"762.698166\" xlink:href=\"#m9bf3375397\" y=\"404.487716\"/>\r\n     <use style=\"fill:#ff0000;stroke:#ff0000;\" x=\"770.384117\" xlink:href=\"#m9bf3375397\" y=\"406.457045\"/>\r\n     <use style=\"fill:#ff0000;stroke:#ff0000;\" x=\"778.070067\" xlink:href=\"#m9bf3375397\" y=\"408.380056\"/>\r\n     <use style=\"fill:#ff0000;stroke:#ff0000;\" x=\"785.756018\" xlink:href=\"#m9bf3375397\" y=\"410.25705\"/>\r\n     <use style=\"fill:#ff0000;stroke:#ff0000;\" x=\"793.441968\" xlink:href=\"#m9bf3375397\" y=\"412.089338\"/>\r\n     <use style=\"fill:#ff0000;stroke:#ff0000;\" x=\"801.127918\" xlink:href=\"#m9bf3375397\" y=\"413.884721\"/>\r\n     <use style=\"fill:#ff0000;stroke:#ff0000;\" x=\"808.813869\" xlink:href=\"#m9bf3375397\" y=\"415.644786\"/>\r\n     <use style=\"fill:#ff0000;stroke:#ff0000;\" x=\"816.499819\" xlink:href=\"#m9bf3375397\" y=\"417.369391\"/>\r\n     <use style=\"fill:#ff0000;stroke:#ff0000;\" x=\"824.18577\" xlink:href=\"#m9bf3375397\" y=\"419.054729\"/>\r\n     <use style=\"fill:#ff0000;stroke:#ff0000;\" x=\"831.87172\" xlink:href=\"#m9bf3375397\" y=\"420.701978\"/>\r\n     <use style=\"fill:#ff0000;stroke:#ff0000;\" x=\"839.55767\" xlink:href=\"#m9bf3375397\" y=\"422.312727\"/>\r\n    </g>\r\n   </g>\r\n   <g id=\"patch_3\">\r\n    <path d=\"M 40.603125 442.08 \r\nL 40.603125 7.2 \r\n\" style=\"fill:none;stroke:#000000;stroke-linecap:square;stroke-linejoin:miter;stroke-width:0.8;\"/>\r\n   </g>\r\n   <g id=\"patch_4\">\r\n    <path d=\"M 877.603125 442.08 \r\nL 877.603125 7.2 \r\n\" style=\"fill:none;stroke:#000000;stroke-linecap:square;stroke-linejoin:miter;stroke-width:0.8;\"/>\r\n   </g>\r\n   <g id=\"patch_5\">\r\n    <path d=\"M 40.603125 442.08 \r\nL 877.603125 442.08 \r\n\" style=\"fill:none;stroke:#000000;stroke-linecap:square;stroke-linejoin:miter;stroke-width:0.8;\"/>\r\n   </g>\r\n   <g id=\"patch_6\">\r\n    <path d=\"M 40.603125 7.2 \r\nL 877.603125 7.2 \r\n\" style=\"fill:none;stroke:#000000;stroke-linecap:square;stroke-linejoin:miter;stroke-width:0.8;\"/>\r\n   </g>\r\n  </g>\r\n </g>\r\n <defs>\r\n  <clipPath id=\"p6dbf468f78\">\r\n   <rect height=\"434.88\" width=\"837\" x=\"40.603125\" y=\"7.2\"/>\r\n  </clipPath>\r\n </defs>\r\n</svg>\r\n",
      "image/png": "[encoded data removed]"
     },
     "metadata": {
      "needs_background": "light"
     }
    }
   ],
   "source": [
    "import matplotlib.pyplot as plt\n",
    "%matplotlib inline\n",
    "\n",
    "plt.figure(figsize=(15,8))\n",
    "plt.plot(strikes, option_values_seq, color='b')\n",
    "plt.plot(strikes, option_values_seq, color='r', markersize=0.5, marker='.')\n",
    "plt.grid(True)\n",
    "plt.xlabel('strikes')\n",
    "plt.ylabel('European call option values')"
   ]
  },
  {
   "cell_type": "code",
   "execution_count": 1,
   "metadata": {
    "tags": []
   },
   "outputs": [
    {
     "output_type": "stream",
     "name": "stdout",
     "text": "[0, 1, 2, 3, 4, 5, 6, 7]\n"
    }
   ],
   "source": [
    "# 병렬계산 방식 (2) IPython.parallel 클러스터나 로컬 컴퓨터에서 코드와 함수를 병렬 실행\n",
    "# 참고 : https://velog.io/@prayme/Ipyparallel-%EB%AC%B8%EC%84%9C-%EC%9D%BD%EA%B8%B0\n",
    "# https://coderzcolumn.com/tutorials/python/ipyparallel-parallel-processing-in-python#3.2\n",
    "# https://github.com/ipython/ipyparallel\n",
    "# async의 개념도 공부..\n",
    "# 현재 작동 안함 ...\n",
    "# terminal에 ipcluster start로 시작\n",
    "# ipcluster stop으로 정지\n",
    "\n",
    "\n",
    "import ipyparallel as ipp\n",
    "import numpy as np\n",
    "import matplotlib.pyplot as plt\n",
    "%matplotlib inline\n",
    "\n",
    "rc = ipp.Client(profile=\"default\")\n",
    "print(rc.ids)\n",
    "# direct_view = rc[:]\n",
    "# dv = rc[:]\n",
    "# direct_view.apply\n",
    "view = rc.load_balanced_view()\n",
    "\n",
    "\n",
    "# @ipp.require('np')\n",
    "# 몬테카를로 시뮬레이션 으로 구한 유러피언 옵션\n",
    "def bsm_mcs_europian_option(S, K, T, r, sigma, option_type):\n",
    "\n",
    "    # 만기 주가는 다음과 같은 식을 따름. 유도는 13장 참고 \n",
    "    # ST = S * np.exp((r-0.5 * sigma ** 2)*T + sigma * np.sqrt(T) * z)\n",
    "    \n",
    "    import numpy as np\n",
    "\n",
    "    S0 = S\n",
    "    I = 20000                                  # 시뮬레이션 횟수\n",
    "    M = 50                                    # 만기까지 기간을 M 구간 나눔\n",
    "    dt = T/M\n",
    "\n",
    "    np.random.seed(0)                         # 난수 초기값 설정\n",
    "    z = np.random.standard_normal((M+1,I))    # 난수 생성 (M+1 by I)\n",
    "\n",
    "    S = np.zeros((M+1,I))\n",
    "    S[0] = S0                                 # [S0, ... S0] 리스트 안의 원소수 I개\n",
    "    \n",
    "    for t in range(1, M+1):\n",
    "        S[t] = S[t-1] * np.exp((r-0.5 * sigma ** 2)*dt + sigma * np.sqrt(dt) * z[t])\n",
    "\n",
    "    # 즉 S는 M구간의 주가이동경로를 I개 만큼 가지고 있음\n",
    "    # 마지막 구간 즉 만기에서 나온 값들을 평균냄\n",
    "    # 여기서 주의해야할 점은 np.max와 np.maximum이 다르다는 것. \n",
    "    # np.max는 전체 배열에서 최대 요소 값을 찾음. np.maximum은 요소 별 최댓값을 찾음\n",
    "    if option_type == 'call':\n",
    "        hT = np.maximum(S[-1] - K, 0)\n",
    "\n",
    "        return np.exp(-r * T) * np.sum(hT) / I\n",
    "\n",
    "    else:\n",
    "        hT = np.maximum(K - S[-1], 0)\n",
    "\n",
    "        return np.exp(-r * T) * np.sum(hT) / I\n",
    "\n",
    "# 옵션 가치의 병렬 계산\n",
    "def par_value(n):\n",
    "    # n은 행사가의 갯수\n",
    "\n",
    "    strikes = np.linspace(80,120,n)\n",
    "    option_values = []\n",
    "    all_ids = []\n",
    "\n",
    "    for strike in strikes:\n",
    "        # print(strike)\n",
    "        # apply_async와 apply_sync의 차이... \n",
    "        value = view.apply_async(bsm_mcs_europian_option,100,strike,1,0.05,0.2,'call')\n",
    "        option_values.append(value)\n",
    "    rc.wait(option_values)\n",
    "    return strikes, option_values\n",
    "\n",
    "n=100\n",
    "%time strikes, option_values_par = par_value(n)\n",
    "print(option_values_par[0].metadata)\n",
    "print('check2')\n",
    "# result = [x.get_dict() for x in option_values_par]\n",
    "# print(result)\n",
    "print('check3')\n",
    "plt.figure(figsize=(15,8))\n",
    "plt.plot(strikes, option_values_par, color='b')\n",
    "plt.plot(strikes, option_values_par, color='r', markersize=0.5, marker='.')\n",
    "plt.grid(True)\n",
    "plt.xlabel('strikes')\n",
    "plt.ylabel('European call option values')\n",
    "print('check4')\n"
   ]
  },
  {
   "cell_type": "code",
   "execution_count": 1,
   "metadata": {
    "tags": []
   },
   "outputs": [
    {
     "output_type": "stream",
     "name": "stdout",
     "text": "[[100.         100.        ]\n [105.99723855 106.57964675]\n [118.99609035 112.70405671]\n [119.70575783 120.80584541]\n [111.8474495  118.56672306]\n [112.54772845 119.97501751]]\n"
    }
   ],
   "source": [
    "# 멜티프로세싱 테스트. 파이썬의 표준 멀티프로세싱 모듈 사용\n",
    "# 하나의 컴퓨터에서 코드를 병렬실행. \n",
    "\n",
    "import multiprocessing as mp\n",
    "import matplotlib.pyplot as plt\n",
    "import numpy as np\n",
    "from time import time\n",
    "\n",
    "def simulate_geometric_brownian_motion(p):\n",
    "    M, I = p\n",
    "      # time steps, paths\n",
    "    S0 = 100; r = 0.05; sigma = 0.2; T = 1.0\n",
    "      # model parameters\n",
    "    dt = T / M\n",
    "    paths = np.zeros((M + 1, I))\n",
    "    paths[0] = S0\n",
    "    for t in range(1, M + 1):\n",
    "        paths[t] = paths[t - 1] * np.exp((r - 0.5 * sigma ** 2) * dt +\n",
    "                    sigma * np.sqrt(dt) * np.random.standard_normal(I))\n",
    "    return paths\n",
    "\n",
    "paths = simulate_geometric_brownian_motion((5, 2))\n",
    "print(paths)\n",
    "\n",
    "\n",
    "I = 10000  # number of paths\n",
    "M = 50  # number of time steps\n",
    "t = 20  # number of tasks/simulations\n",
    "\n",
    "times=[]\n",
    "\n",
    "\n",
    "t0 = time()\n",
    "pool = mp.Pool(processes=3)\n",
    "\n",
    "pool.map(simulate_geometric_brownian_motion, t * [(M, I), ])\n",
    "pool.close()\n",
    "pool.join()\n",
    "\n",
    "times.append(time() - t0)\n",
    "\n",
    "plt.plot(range(1,5), times)\n",
    "plt.plot(range(1,5), times, 'ro')\n",
    "plt.grid(True)\n",
    "plt.xlabel('number of processes')\n",
    "plt.ylabel('time in seconds')\n",
    "plt.show()\n"
   ]
  },
  {
   "cell_type": "code",
   "execution_count": 1,
   "metadata": {},
   "outputs": [
    {
     "output_type": "error",
     "ename": "ImportError",
     "evalue": "DLL load failed: 지정된 모듈을 찾을 수 없습니다.",
     "traceback": [
      "\u001b[1;31m---------------------------------------------------------------------------\u001b[0m",
      "\u001b[1;31mImportError\u001b[0m                               Traceback (most recent call last)",
      "\u001b[1;32m<ipython-input-1-1fafae8283ff>\u001b[0m in \u001b[0;36m<module>\u001b[1;34m\u001b[0m\n\u001b[0;32m      2\u001b[0m \u001b[1;31m# 오류 관련 : https://github.com/numba/numba/issues/5600\u001b[0m\u001b[1;33m\u001b[0m\u001b[1;33m\u001b[0m\u001b[1;33m\u001b[0m\u001b[0m\n\u001b[0;32m      3\u001b[0m \u001b[1;32mfrom\u001b[0m \u001b[0mmath\u001b[0m \u001b[1;32mimport\u001b[0m \u001b[0mcos\u001b[0m\u001b[1;33m,\u001b[0m \u001b[0mlog\u001b[0m\u001b[1;33m\u001b[0m\u001b[1;33m\u001b[0m\u001b[0m\n\u001b[1;32m----> 4\u001b[1;33m \u001b[1;32mimport\u001b[0m \u001b[0mnumba\u001b[0m \u001b[1;32mas\u001b[0m \u001b[0mnb\u001b[0m\u001b[1;33m\u001b[0m\u001b[1;33m\u001b[0m\u001b[0m\n\u001b[0m\u001b[0;32m      5\u001b[0m \u001b[1;33m\u001b[0m\u001b[0m\n\u001b[0;32m      6\u001b[0m \u001b[1;32mdef\u001b[0m \u001b[0mf_py\u001b[0m\u001b[1;33m(\u001b[0m\u001b[0mI\u001b[0m\u001b[1;33m,\u001b[0m\u001b[0mJ\u001b[0m\u001b[1;33m)\u001b[0m\u001b[1;33m:\u001b[0m\u001b[1;33m\u001b[0m\u001b[1;33m\u001b[0m\u001b[0m\n",
      "\u001b[1;32mC:\\Anaconda3\\lib\\site-packages\\numba\\__init__.py\u001b[0m in \u001b[0;36m<module>\u001b[1;34m\u001b[0m\n\u001b[0;32m     10\u001b[0m \u001b[1;33m\u001b[0m\u001b[0m\n\u001b[0;32m     11\u001b[0m \u001b[1;31m# Re-export typeof\u001b[0m\u001b[1;33m\u001b[0m\u001b[1;33m\u001b[0m\u001b[1;33m\u001b[0m\u001b[0m\n\u001b[1;32m---> 12\u001b[1;33m \u001b[1;32mfrom\u001b[0m \u001b[1;33m.\u001b[0m\u001b[0mspecial\u001b[0m \u001b[1;32mimport\u001b[0m \u001b[0mtypeof\u001b[0m\u001b[1;33m\u001b[0m\u001b[1;33m\u001b[0m\u001b[0m\n\u001b[0m\u001b[0;32m     13\u001b[0m \u001b[1;33m\u001b[0m\u001b[0m\n\u001b[0;32m     14\u001b[0m \u001b[1;31m# Re-export error classes\u001b[0m\u001b[1;33m\u001b[0m\u001b[1;33m\u001b[0m\u001b[1;33m\u001b[0m\u001b[0m\n",
      "\u001b[1;32mC:\\Anaconda3\\lib\\site-packages\\numba\\special.py\u001b[0m in \u001b[0;36m<module>\u001b[1;34m\u001b[0m\n\u001b[0;32m      1\u001b[0m \u001b[1;32mfrom\u001b[0m \u001b[0m__future__\u001b[0m \u001b[1;32mimport\u001b[0m \u001b[0mprint_function\u001b[0m\u001b[1;33m,\u001b[0m \u001b[0mdivision\u001b[0m\u001b[1;33m,\u001b[0m \u001b[0mabsolute_import\u001b[0m\u001b[1;33m\u001b[0m\u001b[1;33m\u001b[0m\u001b[0m\n\u001b[0;32m      2\u001b[0m \u001b[1;33m\u001b[0m\u001b[0m\n\u001b[1;32m----> 3\u001b[1;33m \u001b[1;32mfrom\u001b[0m \u001b[1;33m.\u001b[0m\u001b[0mtyping\u001b[0m\u001b[1;33m.\u001b[0m\u001b[0mtypeof\u001b[0m \u001b[1;32mimport\u001b[0m \u001b[0mtypeof\u001b[0m\u001b[1;33m\u001b[0m\u001b[1;33m\u001b[0m\u001b[0m\n\u001b[0m\u001b[0;32m      4\u001b[0m \u001b[1;33m\u001b[0m\u001b[0m\n\u001b[0;32m      5\u001b[0m \u001b[1;33m\u001b[0m\u001b[0m\n",
      "\u001b[1;32mC:\\Anaconda3\\lib\\site-packages\\numba\\typing\\__init__.py\u001b[0m in \u001b[0;36m<module>\u001b[1;34m\u001b[0m\n\u001b[0;32m      1\u001b[0m \u001b[1;32mfrom\u001b[0m \u001b[0m__future__\u001b[0m \u001b[1;32mimport\u001b[0m \u001b[0mabsolute_import\u001b[0m\u001b[1;33m\u001b[0m\u001b[1;33m\u001b[0m\u001b[0m\n\u001b[1;32m----> 2\u001b[1;33m \u001b[1;32mfrom\u001b[0m \u001b[1;33m.\u001b[0m\u001b[0mcontext\u001b[0m \u001b[1;32mimport\u001b[0m \u001b[0mBaseContext\u001b[0m\u001b[1;33m,\u001b[0m \u001b[0mContext\u001b[0m\u001b[1;33m\u001b[0m\u001b[1;33m\u001b[0m\u001b[0m\n\u001b[0m\u001b[0;32m      3\u001b[0m from .templates import (signature, make_concrete_template, Signature,\n\u001b[0;32m      4\u001b[0m                         fold_arguments)\n",
      "\u001b[1;32mC:\\Anaconda3\\lib\\site-packages\\numba\\typing\\context.py\u001b[0m in \u001b[0;36m<module>\u001b[1;34m\u001b[0m\n\u001b[0;32m      6\u001b[0m \u001b[1;33m\u001b[0m\u001b[0m\n\u001b[0;32m      7\u001b[0m \u001b[1;32mfrom\u001b[0m \u001b[0mnumba\u001b[0m \u001b[1;32mimport\u001b[0m \u001b[0mtypes\u001b[0m\u001b[1;33m,\u001b[0m \u001b[0merrors\u001b[0m\u001b[1;33m\u001b[0m\u001b[1;33m\u001b[0m\u001b[0m\n\u001b[1;32m----> 8\u001b[1;33m \u001b[1;32mfrom\u001b[0m \u001b[0mnumba\u001b[0m\u001b[1;33m.\u001b[0m\u001b[0mtypeconv\u001b[0m \u001b[1;32mimport\u001b[0m \u001b[0mConversion\u001b[0m\u001b[1;33m,\u001b[0m \u001b[0mrules\u001b[0m\u001b[1;33m\u001b[0m\u001b[1;33m\u001b[0m\u001b[0m\n\u001b[0m\u001b[0;32m      9\u001b[0m \u001b[1;32mfrom\u001b[0m \u001b[1;33m.\u001b[0m \u001b[1;32mimport\u001b[0m \u001b[0mtemplates\u001b[0m\u001b[1;33m\u001b[0m\u001b[1;33m\u001b[0m\u001b[0m\n\u001b[0;32m     10\u001b[0m \u001b[1;32mfrom\u001b[0m \u001b[1;33m.\u001b[0m\u001b[0mtypeof\u001b[0m \u001b[1;32mimport\u001b[0m \u001b[0mtypeof\u001b[0m\u001b[1;33m,\u001b[0m \u001b[0mPurpose\u001b[0m\u001b[1;33m\u001b[0m\u001b[1;33m\u001b[0m\u001b[0m\n",
      "\u001b[1;32mC:\\Anaconda3\\lib\\site-packages\\numba\\typeconv\\rules.py\u001b[0m in \u001b[0;36m<module>\u001b[1;34m\u001b[0m\n\u001b[0;32m      1\u001b[0m \u001b[1;32mfrom\u001b[0m \u001b[0m__future__\u001b[0m \u001b[1;32mimport\u001b[0m \u001b[0mprint_function\u001b[0m\u001b[1;33m,\u001b[0m \u001b[0mabsolute_import\u001b[0m\u001b[1;33m\u001b[0m\u001b[1;33m\u001b[0m\u001b[0m\n\u001b[0;32m      2\u001b[0m \u001b[1;32mimport\u001b[0m \u001b[0mitertools\u001b[0m\u001b[1;33m\u001b[0m\u001b[1;33m\u001b[0m\u001b[0m\n\u001b[1;32m----> 3\u001b[1;33m \u001b[1;32mfrom\u001b[0m \u001b[1;33m.\u001b[0m\u001b[0mtypeconv\u001b[0m \u001b[1;32mimport\u001b[0m \u001b[0mTypeManager\u001b[0m\u001b[1;33m,\u001b[0m \u001b[0mTypeCastingRules\u001b[0m\u001b[1;33m\u001b[0m\u001b[1;33m\u001b[0m\u001b[0m\n\u001b[0m\u001b[0;32m      4\u001b[0m \u001b[1;32mfrom\u001b[0m \u001b[0mnumba\u001b[0m \u001b[1;32mimport\u001b[0m \u001b[0mtypes\u001b[0m\u001b[1;33m\u001b[0m\u001b[1;33m\u001b[0m\u001b[0m\n\u001b[0;32m      5\u001b[0m \u001b[1;33m\u001b[0m\u001b[0m\n",
      "\u001b[1;32mC:\\Anaconda3\\lib\\site-packages\\numba\\typeconv\\typeconv.py\u001b[0m in \u001b[0;36m<module>\u001b[1;34m\u001b[0m\n\u001b[0;32m      1\u001b[0m \u001b[1;32mfrom\u001b[0m \u001b[0m__future__\u001b[0m \u001b[1;32mimport\u001b[0m \u001b[0mprint_function\u001b[0m\u001b[1;33m,\u001b[0m \u001b[0mabsolute_import\u001b[0m\u001b[1;33m\u001b[0m\u001b[1;33m\u001b[0m\u001b[0m\n\u001b[0;32m      2\u001b[0m \u001b[1;33m\u001b[0m\u001b[0m\n\u001b[1;32m----> 3\u001b[1;33m \u001b[1;32mfrom\u001b[0m \u001b[1;33m.\u001b[0m \u001b[1;32mimport\u001b[0m \u001b[0m_typeconv\u001b[0m\u001b[1;33m,\u001b[0m \u001b[0mcastgraph\u001b[0m\u001b[1;33m,\u001b[0m \u001b[0mConversion\u001b[0m\u001b[1;33m\u001b[0m\u001b[1;33m\u001b[0m\u001b[0m\n\u001b[0m\u001b[0;32m      4\u001b[0m \u001b[1;33m\u001b[0m\u001b[0m\n\u001b[0;32m      5\u001b[0m \u001b[1;33m\u001b[0m\u001b[0m\n",
      "\u001b[1;32mC:\\Anaconda3\\lib\\site-packages\\numba\\typeconv\\_typeconv.cp35-win_amd64.pyd\u001b[0m in \u001b[0;36m<module>\u001b[1;34m\u001b[0m\n",
      "\u001b[1;32mC:\\Anaconda3\\lib\\site-packages\\numba\\typeconv\\_typeconv.cp35-win_amd64.pyd\u001b[0m in \u001b[0;36m__bootstrap__\u001b[1;34m()\u001b[0m\n",
      "\u001b[1;32mC:\\Anaconda3\\lib\\imp.py\u001b[0m in \u001b[0;36mload_dynamic\u001b[1;34m(name, path, file)\u001b[0m\n\u001b[0;32m    341\u001b[0m         spec = importlib.machinery.ModuleSpec(\n\u001b[0;32m    342\u001b[0m             name=name, loader=loader, origin=path)\n\u001b[1;32m--> 343\u001b[1;33m         \u001b[1;32mreturn\u001b[0m \u001b[0m_load\u001b[0m\u001b[1;33m(\u001b[0m\u001b[0mspec\u001b[0m\u001b[1;33m)\u001b[0m\u001b[1;33m\u001b[0m\u001b[1;33m\u001b[0m\u001b[0m\n\u001b[0m\u001b[0;32m    344\u001b[0m \u001b[1;33m\u001b[0m\u001b[0m\n\u001b[0;32m    345\u001b[0m \u001b[1;32melse\u001b[0m\u001b[1;33m:\u001b[0m\u001b[1;33m\u001b[0m\u001b[1;33m\u001b[0m\u001b[0m\n",
      "\u001b[1;31mImportError\u001b[0m: DLL load failed: 지정된 모듈을 찾을 수 없습니다."
     ]
    }
   ],
   "source": [
    "# 동적 컴파일 numba\n",
    "# 오류 관련 : https://github.com/numba/numba/issues/5600\n",
    "from math import cos, log\n",
    "import numba as nb\n",
    "\n",
    "def f_py(I,J):\n",
    "    res=0\n",
    "\n",
    "    for i in range(I):\n",
    "        for j in range(J):\n",
    "            res += int(cos(log(1)))\n",
    "    return res\n",
    "I, J = 5000, 5000\n",
    "f_nb = nb.jit(f_py)\n"
   ]
  },
  {
   "cell_type": "code",
   "execution_count": null,
   "metadata": {},
   "outputs": [],
   "source": [
    "# 이외 Cython이나 CUDA를 사용하는 방법도 있음"
   ]
  }
 ]
}