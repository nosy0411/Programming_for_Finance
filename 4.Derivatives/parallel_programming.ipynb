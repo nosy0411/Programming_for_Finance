{
 "metadata": {
  "language_info": {
   "codemirror_mode": {
    "name": "ipython",
    "version": 3
   },
   "file_extension": ".py",
   "mimetype": "text/x-python",
   "name": "python",
   "nbconvert_exporter": "python",
   "pygments_lexer": "ipython3",
   "version": "3.6.8"
  },
  "orig_nbformat": 2,
  "kernelspec": {
   "name": "python3_rl",
   "display_name": "python3_rl",
   "language": "python"
  }
 },
 "nbformat": 4,
 "nbformat_minor": 2,
 "cells": [
  {
   "cell_type": "code",
   "execution_count": 1,
   "metadata": {},
   "outputs": [],
   "source": [
    "# 파이썬 성능개선법. 자료구조 효율적인 저장법\n",
    "# (1) cython 정적컴파일 방법\n",
    "# (2) IPython.parallel 클러스터나 로컬 컴퓨터에서 코드와 함수를 병렬 실행\n",
    "# (3) numpexpr 수치 연산 속도 계선\n",
    "# (4) multiprocessing 로컬 병렬 프로세싱을 위한 파이썬 표준 모델\n",
    "# (5) Numba 단일 cpu 성능 개선을 위해 파이썬 코드를 동적으로 컴파일\n",
    "# (6) NumbaPro 멀티 코어 CPU와 GPU의 성능 개선을 위해 파이썬 코드를 동적으로 컴파일"
   ]
  },
  {
   "cell_type": "code",
   "execution_count": 1,
   "metadata": {},
   "outputs": [],
   "source": [
    "# 여러 함수의 성능을 비교하기 위한 함수\n",
    "def perf_comp_data(func_list, data_list, rep=3, number=1):\n",
    "    # func_list : 함수 이름 문자열 리스트\n",
    "    # data_list : 자료 집합 문자열 리스트\n",
    "    # rep       : 전체 비교를 위한 반복 횟수\n",
    "    # number    : 개별 함수의 실행 횟수\n",
    "\n",
    "    from timeit import repeat\n",
    "\n",
    "    res_list={}\n",
    "\n",
    "    # 특정 함수나 코드의 실행 시간 측정\n",
    "    for name in enumerate(func_list):\n",
    "        stmt = name[1] + '(' + data_list[name[0]] + ')'\n",
    "        setup = \"from __main__ import \" + name[1] + ', ' + data_list[name[0]]\n",
    "        # stmt : 실행 측정할 코드 및 함수\n",
    "        # setup : stmt를 실행하기 위해 사전에 필요한 코드나 함수를 선언. setup의 실행 시간은 전체 측정 실행 시간에서 제외됨\n",
    "        # number : 선언한 stmt의 수행 횟수. 선언하지 않으면 기본값으로 1000000번이 실행됨\n",
    "        results = repeat(stmt=stmt, setup=setup, repeat=rep, number=number)\n",
    "        res_list[name[1]] = sum(results) / rep\n",
    "     \n",
    "    res_sort = sorted(res_list.items(), key = lambda x : x[1])\n",
    "\n",
    "    for item in res_sort:\n",
    "        rel = item[1] / res_sort[0][1]\n",
    "\n",
    "        print('function: ' + item[0] + ', av. time sec: %9.5f, ' %item[1] + 'relative: %6.1f' %rel)\n"
   ]
  },
  {
   "cell_type": "code",
   "execution_count": 3,
   "metadata": {},
   "outputs": [],
   "source": [
    "from math import *\n",
    "import numpy as np\n",
    "import numexpr as ne\n",
    "\n",
    "I=500000\n",
    "a_py = range(I)\n",
    "a_np = np.arange(I)\n",
    "\n",
    "def f(x):\n",
    "    return abs(cos(x))**0.5 + sin(2+3*x)\n",
    "\n",
    "# 명시적으로 반복문을 사용한 표준 파이썬 함수\n",
    "def f1(a):\n",
    "    res=[]\n",
    "    for x in a:\n",
    "        res.append(f(x))\n",
    "    return res\n",
    "\n",
    "# 암묵적 반복문을 사용한 반복자 구현\n",
    "def f2(a):\n",
    "    return [f(x) for x in a]\n",
    "\n",
    "# 암묵적 반복문과 eval명령을 사용한 반복자 구현\n",
    "def f3(a):\n",
    "    ex = 'abs(cos(x))**0.5 + sin(2+3*x)'\n",
    "    return [eval(ex) for x in a]\n",
    "\n",
    "# numpy 벡터화 구현\n",
    "def f4(a):\n",
    "    return (np.abs(np.cos(a))**0.5 + np.sin(2+3*a))\n",
    "\n",
    "# numpexpr를 사용한 단일 스레드 구현\n",
    "def f5(a):\n",
    "    ex = 'abs(cos(a))**0.5 + sin(2+3*a)'\n",
    "    ne.set_num_threads(1)\n",
    "    return ne.evaluate(ex)\n",
    "\n",
    "# numpexpr를 사용한 멀티 스레드 구현\n",
    "def f6(a):\n",
    "    ex = 'abs(cos(a))**0.5 + sin(2+3*a)'\n",
    "    ne.set_num_threads(16)\n",
    "    return ne.evaluate(ex) "
   ]
  },
  {
   "cell_type": "code",
   "execution_count": 4,
   "metadata": {
    "tags": []
   },
   "outputs": [
    {
     "output_type": "stream",
     "name": "stdout",
     "text": [
      "CPU times: user 6.56 s, sys: 189 ms, total: 6.75 s\nWall time: 6.79 s\n"
     ]
    }
   ],
   "source": [
    "%%time\n",
    "r1 = f1(a_py)\n",
    "r2 = f2(a_py)\n",
    "r3 = f3(a_py)\n",
    "r4 = f4(a_np)\n",
    "r5 = f5(a_np)\n",
    "r6 = f6(a_np)\n"
   ]
  },
  {
   "cell_type": "code",
   "execution_count": 5,
   "metadata": {},
   "outputs": [
    {
     "output_type": "execute_result",
     "data": {
      "text/plain": [
       "True"
      ]
     },
     "metadata": {},
     "execution_count": 5
    }
   ],
   "source": [
    " np.allclose(r1, r2)\n",
    " np.allclose(r1, r3)\n",
    " np.allclose(r1, r4)\n",
    " np.allclose(r1, r5)\n",
    " np.allclose(r1, r6)"
   ]
  },
  {
   "cell_type": "code",
   "execution_count": 6,
   "metadata": {
    "tags": []
   },
   "outputs": [
    {
     "output_type": "stream",
     "name": "stdout",
     "text": [
      "function: f6, av. time sec:   0.00389, relative:    1.0\nfunction: f5, av. time sec:   0.01549, relative:    4.0\nfunction: f4, av. time sec:   0.01913, relative:    4.9\nfunction: f2, av. time sec:   0.21555, relative:   55.4\nfunction: f1, av. time sec:   0.24459, relative:   62.8\nfunction: f3, av. time sec:   6.38687, relative: 1640.5\n"
     ]
    }
   ],
   "source": [
    "func_list = ['f1', 'f2', 'f3', 'f4', 'f5', 'f6']\n",
    "data_list = ['a_py', 'a_py', 'a_py', 'a_np', 'a_np', 'a_np']\n",
    "\n",
    "perf_comp_data(func_list, data_list)"
   ]
  },
  {
   "cell_type": "code",
   "execution_count": 7,
   "metadata": {
    "tags": []
   },
   "outputs": [],
   "source": [
    "# 메모리 배치와 성능\n",
    "# numpy에서는 ndarray 객체마다 dtype을 설정할 수 있음.\n",
    "# 또한 ndarray 객체를 초기화할 때 두 개의 다른 메모리 배치 방법을 선택할 수 있으며 객체의 구조에 따라 특정한 메모리 배치가 더 유리할 수 있음\n",
    "import numpy as np\n",
    "b = np.zeros((3,3), dtype=np.float64, order='C')\n",
    "\n",
    "# 행 우선 저장방식\n",
    "c = np.array([[1.,1.,1.],\n",
    "              [2.,2.,2.],\n",
    "              [3.,3.,3.]], order='C')\n",
    "\n",
    "# 열 우선 저장방식\n",
    "f = np.array([[1.,1.,1.],\n",
    "              [2.,2.,2.],\n",
    "              [3.,3.,3.]], order='F')\n",
    "\n",
    "x = np.random.standard_normal((3, 1500000))\n",
    "C = np.array(x, order='C')\n",
    "F = np.array(x, order='F')"
   ]
  },
  {
   "cell_type": "code",
   "execution_count": 8,
   "metadata": {
    "tags": []
   },
   "outputs": [
    {
     "output_type": "stream",
     "name": "stdout",
     "text": [
      "5.14 ms ± 19.4 µs per loop (mean ± std. dev. of 7 runs, 100 loops each)\n",
      "1.87 ms ± 15.1 µs per loop (mean ± std. dev. of 7 runs, 1000 loops each)\n",
      "29.9 ms ± 302 µs per loop (mean ± std. dev. of 7 runs, 10 loops each)\n",
      "13.4 ms ± 125 µs per loop (mean ± std. dev. of 7 runs, 100 loops each)\n"
     ]
    }
   ],
   "source": [
    "%timeit C.sum(axis=0)\n",
    "%timeit C.sum(axis=1)\n",
    "%timeit C.std(axis=0)\n",
    "%timeit C.std(axis=1)"
   ]
  },
  {
   "cell_type": "code",
   "execution_count": 9,
   "metadata": {
    "tags": []
   },
   "outputs": [
    {
     "output_type": "stream",
     "name": "stdout",
     "text": [
      "22.5 ms ± 95.6 µs per loop (mean ± std. dev. of 7 runs, 10 loops each)\n",
      "23.3 ms ± 103 µs per loop (mean ± std. dev. of 7 runs, 10 loops each)\n",
      "66.8 ms ± 95.2 µs per loop (mean ± std. dev. of 7 runs, 10 loops each)\n",
      "63.1 ms ± 177 µs per loop (mean ± std. dev. of 7 runs, 10 loops each)\n"
     ]
    }
   ],
   "source": [
    "%timeit F.sum(axis=0)\n",
    "%timeit F.sum(axis=1)\n",
    "%timeit F.std(axis=0)\n",
    "%timeit F.std(axis=1)"
   ]
  },
  {
   "cell_type": "code",
   "execution_count": 10,
   "metadata": {
    "tags": []
   },
   "outputs": [
    {
     "output_type": "stream",
     "name": "stdout",
     "text": [
      "8.021352235143176\n7.9004418077181455\n8.099034277924247\n7.7963866473350585\n"
     ]
    }
   ],
   "source": [
    "# 유러피언 옵션을 몬테카를로를 이용해서 구할 때 병렬 프로그래밍을 이용해 구해보자\n",
    "import numpy as np\n",
    "import scipy.stats as stat\n",
    "\n",
    "\n",
    "# 몬테카를로 시뮬레이션 으로 구한 유러피언 옵션\n",
    "def bsm_mcs_europian_option(S, K, T, r, sigma, option_type):\n",
    "\n",
    "    # 만기 주가는 다음과 같은 식을 따름. 유도는 13장 참고 \n",
    "    # ST = S * np.exp((r-0.5 * sigma ** 2)*T + sigma * np.sqrt(T) * z)\n",
    "    \n",
    "    S0 = S\n",
    "    I = 20000                                  # 시뮬레이션 횟수\n",
    "    M = 50                                    # 만기까지 기간을 M 구간 나눔\n",
    "    dt = T/M\n",
    "\n",
    "    np.random.seed(0)                         # 난수 초기값 설정\n",
    "    z = np.random.standard_normal((M+1,I))    # 난수 생성 (M+1 by I)\n",
    "\n",
    "    S = np.zeros((M+1,I))\n",
    "    S[0] = S0                                 # [S0, ... S0] 리스트 안의 원소수 I개\n",
    "\n",
    "    for t in range(1, M+1):\n",
    "        S[t] = S[t-1] * np.exp((r-0.5 * sigma ** 2)*dt + sigma * np.sqrt(dt) * z[t])\n",
    "\n",
    "    # 즉 S는 M구간의 주가이동경로를 I개 만큼 가지고 있음. 주가이동경로는 기하브라운운동(gbm))\n",
    "    # 마지막 구간 즉 만기에서 나온 값들을 평균냄 (몬테카를로 시뮬레이션)\n",
    "    # 여기서 주의해야할 점은 np.max와 np.maximum이 다르다는 것. \n",
    "    # np.max는 전체 배열에서 최대 요소 값을 찾음. np.maximum은 요소 별 최댓값을 찾음\n",
    "    if option_type == 'call':\n",
    "        hT = np.maximum(S[-1] - K, 0)\n",
    "\n",
    "        return np.exp(-r * T) * np.sum(hT) / I\n",
    "\n",
    "    else:\n",
    "        hT = np.maximum(K - S[-1], 0)\n",
    "\n",
    "        return np.exp(-r * T) * np.sum(hT) / I\n",
    "\n",
    "# 블랙-숄즈-머튼 모형의 유러피언 옵션과 비교\n",
    "def europian_option(S, K, T, r, sigma, option_type):\n",
    "    d1 = (np.log(S / K) + (r + 0.5 * sigma ** 2) * T) / (sigma * np.sqrt(T))\n",
    "    d2 = d1 - sigma * np.sqrt(T)\n",
    "    # d2 = (np.log(S / K) + (r - 0.5 * sigma ** 2) * T) / (sigma * np.sqrt(T))\n",
    "\n",
    "    if option_type == 'call':\n",
    "        V = S * stat.norm.cdf(d1) - K * np.exp(-r * T) * stat.norm.cdf(d2)\n",
    "\n",
    "    else:\n",
    "        V = K * np.exp(-r * T) * stat.norm.cdf(-d2) - S * stat.norm.cdf(-d1)\n",
    "\n",
    "    return V\n",
    "\n",
    "print(europian_option(100,105,1,0.05,0.2,'call'))\n",
    "print(europian_option(100,105,1,0.05,0.2,'put'))\n",
    "\n",
    "print(bsm_mcs_europian_option(100,105,1,0.05,0.2,'call'))\n",
    "print(bsm_mcs_europian_option(100,105,1,0.05,0.2,'put'))"
   ]
  },
  {
   "cell_type": "code",
   "execution_count": 11,
   "metadata": {
    "tags": []
   },
   "outputs": [
    {
     "output_type": "stream",
     "name": "stdout",
     "text": [
      "CPU times: user 3.43 s, sys: 167 ms, total: 3.59 s\nWall time: 3.62 s\n"
     ]
    }
   ],
   "source": [
    "# 벤치마크 케이스로 행사가(strike price)가 다른 100개의 옵션을 평가해보자\n",
    "# 함수 seq_value는 몬테카를로 계산기를 순차적으로 사용하여 행사가와 평가 결과를 리스트 객체에 담아 반환한다.\n",
    "\n",
    "# 옵션 가치의 순차 계산\n",
    "def seq_value(n):\n",
    "    # n은 행사가의 갯수\n",
    "\n",
    "    strikes = np.linspace(80,120,n)\n",
    "    option_values = []\n",
    "\n",
    "    for strike in strikes:\n",
    "        option_values.append(bsm_mcs_europian_option(100,strike,1,0.05,0.2,'call'))\n",
    "    \n",
    "    return strikes, option_values\n",
    "\n",
    "n=100\n",
    "%time strikes, option_values_seq = seq_value(n)\n"
   ]
  },
  {
   "cell_type": "code",
   "execution_count": 12,
   "metadata": {},
   "outputs": [
    {
     "output_type": "execute_result",
     "data": {
      "text/plain": [
       "Text(0, 0.5, 'European call option values')"
      ]
     },
     "metadata": {},
     "execution_count": 12
    },
    {
     "output_type": "display_data",
     "data": {
      "text/plain": "<Figure size 1080x576 with 1 Axes>",
      "image/svg+xml": "<?xml version=\"1.0\" encoding=\"utf-8\" standalone=\"no\"?>\n<!DOCTYPE svg PUBLIC \"-//W3C//DTD SVG 1.1//EN\"\n  \"http://www.w3.org/Graphics/SVG/1.1/DTD/svg11.dtd\">\n<!-- Created with matplotlib (https://matplotlib.org/) -->\n<svg height=\"479.63625pt\" version=\"1.1\" viewBox=\"0 0 884.803125 479.63625\" width=\"884.803125pt\" xmlns=\"http://www.w3.org/2000/svg\" xmlns:xlink=\"http://www.w3.org/1999/xlink\">\n <metadata>\n  <rdf:RDF xmlns:cc=\"http://creativecommons.org/ns#\" xmlns:dc=\"http://purl.org/dc/elements/1.1/\" xmlns:rdf=\"http://www.w3.org/1999/02/22-rdf-syntax-ns#\">\n   <cc:Work>\n    <dc:type rdf:resource=\"http://purl.org/dc/dcmitype/StillImage\"/>\n    <dc:date>2021-07-30T21:07:20.142400</dc:date>\n    <dc:format>image/svg+xml</dc:format>\n    <dc:creator>\n     <cc:Agent>\n      <dc:title>Matplotlib v3.3.4, https://matplotlib.org/</dc:title>\n     </cc:Agent>\n    </dc:creator>\n   </cc:Work>\n  </rdf:RDF>\n </metadata>\n <defs>\n  <style type=\"text/css\">*{stroke-linecap:butt;stroke-linejoin:round;}</style>\n </defs>\n <g id=\"figure_1\">\n  <g id=\"patch_1\">\n   <path d=\"M 0 479.63625 \nL 884.803125 479.63625 \nL 884.803125 0 \nL 0 0 \nz\n\" style=\"fill:none;\"/>\n  </g>\n  <g id=\"axes_1\">\n   <g id=\"patch_2\">\n    <path d=\"M 40.603125 442.08 \nL 877.603125 442.08 \nL 877.603125 7.2 \nL 40.603125 7.2 \nz\n\" style=\"fill:#ffffff;\"/>\n   </g>\n   <g id=\"matplotlib.axis_1\">\n    <g id=\"xtick_1\">\n     <g id=\"line2d_1\">\n      <path clip-path=\"url(#p3038fb382c)\" d=\"M 78.64858 442.08 \nL 78.64858 7.2 \n\" style=\"fill:none;stroke:#b0b0b0;stroke-linecap:square;stroke-width:0.8;\"/>\n     </g>\n     <g id=\"line2d_2\">\n      <defs>\n       <path d=\"M 0 0 \nL 0 3.5 \n\" id=\"mc9a907981e\" style=\"stroke:#000000;stroke-width:0.8;\"/>\n      </defs>\n      <g>\n       <use style=\"stroke:#000000;stroke-width:0.8;\" x=\"78.64858\" xlink:href=\"#mc9a907981e\" y=\"442.08\"/>\n      </g>\n     </g>\n     <g id=\"text_1\">\n      <!-- 80 -->\n      <g transform=\"translate(72.28608 456.678437)scale(0.1 -0.1)\">\n       <defs>\n        <path d=\"M 31.78125 34.625 \nQ 24.75 34.625 20.71875 30.859375 \nQ 16.703125 27.09375 16.703125 20.515625 \nQ 16.703125 13.921875 20.71875 10.15625 \nQ 24.75 6.390625 31.78125 6.390625 \nQ 38.8125 6.390625 42.859375 10.171875 \nQ 46.921875 13.96875 46.921875 20.515625 \nQ 46.921875 27.09375 42.890625 30.859375 \nQ 38.875 34.625 31.78125 34.625 \nz\nM 21.921875 38.8125 \nQ 15.578125 40.375 12.03125 44.71875 \nQ 8.5 49.078125 8.5 55.328125 \nQ 8.5 64.0625 14.71875 69.140625 \nQ 20.953125 74.21875 31.78125 74.21875 \nQ 42.671875 74.21875 48.875 69.140625 \nQ 55.078125 64.0625 55.078125 55.328125 \nQ 55.078125 49.078125 51.53125 44.71875 \nQ 48 40.375 41.703125 38.8125 \nQ 48.828125 37.15625 52.796875 32.3125 \nQ 56.78125 27.484375 56.78125 20.515625 \nQ 56.78125 9.90625 50.3125 4.234375 \nQ 43.84375 -1.421875 31.78125 -1.421875 \nQ 19.734375 -1.421875 13.25 4.234375 \nQ 6.78125 9.90625 6.78125 20.515625 \nQ 6.78125 27.484375 10.78125 32.3125 \nQ 14.796875 37.15625 21.921875 38.8125 \nz\nM 18.3125 54.390625 \nQ 18.3125 48.734375 21.84375 45.5625 \nQ 25.390625 42.390625 31.78125 42.390625 \nQ 38.140625 42.390625 41.71875 45.5625 \nQ 45.3125 48.734375 45.3125 54.390625 \nQ 45.3125 60.0625 41.71875 63.234375 \nQ 38.140625 66.40625 31.78125 66.40625 \nQ 25.390625 66.40625 21.84375 63.234375 \nQ 18.3125 60.0625 18.3125 54.390625 \nz\n\" id=\"DejaVuSans-56\"/>\n        <path d=\"M 31.78125 66.40625 \nQ 24.171875 66.40625 20.328125 58.90625 \nQ 16.5 51.421875 16.5 36.375 \nQ 16.5 21.390625 20.328125 13.890625 \nQ 24.171875 6.390625 31.78125 6.390625 \nQ 39.453125 6.390625 43.28125 13.890625 \nQ 47.125 21.390625 47.125 36.375 \nQ 47.125 51.421875 43.28125 58.90625 \nQ 39.453125 66.40625 31.78125 66.40625 \nz\nM 31.78125 74.21875 \nQ 44.046875 74.21875 50.515625 64.515625 \nQ 56.984375 54.828125 56.984375 36.375 \nQ 56.984375 17.96875 50.515625 8.265625 \nQ 44.046875 -1.421875 31.78125 -1.421875 \nQ 19.53125 -1.421875 13.0625 8.265625 \nQ 6.59375 17.96875 6.59375 36.375 \nQ 6.59375 54.828125 13.0625 64.515625 \nQ 19.53125 74.21875 31.78125 74.21875 \nz\n\" id=\"DejaVuSans-48\"/>\n       </defs>\n       <use xlink:href=\"#DejaVuSans-56\"/>\n       <use x=\"63.623047\" xlink:href=\"#DejaVuSans-48\"/>\n      </g>\n     </g>\n    </g>\n    <g id=\"xtick_2\">\n     <g id=\"line2d_3\">\n      <path clip-path=\"url(#p3038fb382c)\" d=\"M 173.762216 442.08 \nL 173.762216 7.2 \n\" style=\"fill:none;stroke:#b0b0b0;stroke-linecap:square;stroke-width:0.8;\"/>\n     </g>\n     <g id=\"line2d_4\">\n      <g>\n       <use style=\"stroke:#000000;stroke-width:0.8;\" x=\"173.762216\" xlink:href=\"#mc9a907981e\" y=\"442.08\"/>\n      </g>\n     </g>\n     <g id=\"text_2\">\n      <!-- 85 -->\n      <g transform=\"translate(167.399716 456.678437)scale(0.1 -0.1)\">\n       <defs>\n        <path d=\"M 10.796875 72.90625 \nL 49.515625 72.90625 \nL 49.515625 64.59375 \nL 19.828125 64.59375 \nL 19.828125 46.734375 \nQ 21.96875 47.46875 24.109375 47.828125 \nQ 26.265625 48.1875 28.421875 48.1875 \nQ 40.625 48.1875 47.75 41.5 \nQ 54.890625 34.8125 54.890625 23.390625 \nQ 54.890625 11.625 47.5625 5.09375 \nQ 40.234375 -1.421875 26.90625 -1.421875 \nQ 22.3125 -1.421875 17.546875 -0.640625 \nQ 12.796875 0.140625 7.71875 1.703125 \nL 7.71875 11.625 \nQ 12.109375 9.234375 16.796875 8.0625 \nQ 21.484375 6.890625 26.703125 6.890625 \nQ 35.15625 6.890625 40.078125 11.328125 \nQ 45.015625 15.765625 45.015625 23.390625 \nQ 45.015625 31 40.078125 35.4375 \nQ 35.15625 39.890625 26.703125 39.890625 \nQ 22.75 39.890625 18.8125 39.015625 \nQ 14.890625 38.140625 10.796875 36.28125 \nz\n\" id=\"DejaVuSans-53\"/>\n       </defs>\n       <use xlink:href=\"#DejaVuSans-56\"/>\n       <use x=\"63.623047\" xlink:href=\"#DejaVuSans-53\"/>\n      </g>\n     </g>\n    </g>\n    <g id=\"xtick_3\">\n     <g id=\"line2d_5\">\n      <path clip-path=\"url(#p3038fb382c)\" d=\"M 268.875852 442.08 \nL 268.875852 7.2 \n\" style=\"fill:none;stroke:#b0b0b0;stroke-linecap:square;stroke-width:0.8;\"/>\n     </g>\n     <g id=\"line2d_6\">\n      <g>\n       <use style=\"stroke:#000000;stroke-width:0.8;\" x=\"268.875852\" xlink:href=\"#mc9a907981e\" y=\"442.08\"/>\n      </g>\n     </g>\n     <g id=\"text_3\">\n      <!-- 90 -->\n      <g transform=\"translate(262.513352 456.678437)scale(0.1 -0.1)\">\n       <defs>\n        <path d=\"M 10.984375 1.515625 \nL 10.984375 10.5 \nQ 14.703125 8.734375 18.5 7.8125 \nQ 22.3125 6.890625 25.984375 6.890625 \nQ 35.75 6.890625 40.890625 13.453125 \nQ 46.046875 20.015625 46.78125 33.40625 \nQ 43.953125 29.203125 39.59375 26.953125 \nQ 35.25 24.703125 29.984375 24.703125 \nQ 19.046875 24.703125 12.671875 31.3125 \nQ 6.296875 37.9375 6.296875 49.421875 \nQ 6.296875 60.640625 12.9375 67.421875 \nQ 19.578125 74.21875 30.609375 74.21875 \nQ 43.265625 74.21875 49.921875 64.515625 \nQ 56.59375 54.828125 56.59375 36.375 \nQ 56.59375 19.140625 48.40625 8.859375 \nQ 40.234375 -1.421875 26.421875 -1.421875 \nQ 22.703125 -1.421875 18.890625 -0.6875 \nQ 15.09375 0.046875 10.984375 1.515625 \nz\nM 30.609375 32.421875 \nQ 37.25 32.421875 41.125 36.953125 \nQ 45.015625 41.5 45.015625 49.421875 \nQ 45.015625 57.28125 41.125 61.84375 \nQ 37.25 66.40625 30.609375 66.40625 \nQ 23.96875 66.40625 20.09375 61.84375 \nQ 16.21875 57.28125 16.21875 49.421875 \nQ 16.21875 41.5 20.09375 36.953125 \nQ 23.96875 32.421875 30.609375 32.421875 \nz\n\" id=\"DejaVuSans-57\"/>\n       </defs>\n       <use xlink:href=\"#DejaVuSans-57\"/>\n       <use x=\"63.623047\" xlink:href=\"#DejaVuSans-48\"/>\n      </g>\n     </g>\n    </g>\n    <g id=\"xtick_4\">\n     <g id=\"line2d_7\">\n      <path clip-path=\"url(#p3038fb382c)\" d=\"M 363.989489 442.08 \nL 363.989489 7.2 \n\" style=\"fill:none;stroke:#b0b0b0;stroke-linecap:square;stroke-width:0.8;\"/>\n     </g>\n     <g id=\"line2d_8\">\n      <g>\n       <use style=\"stroke:#000000;stroke-width:0.8;\" x=\"363.989489\" xlink:href=\"#mc9a907981e\" y=\"442.08\"/>\n      </g>\n     </g>\n     <g id=\"text_4\">\n      <!-- 95 -->\n      <g transform=\"translate(357.626989 456.678437)scale(0.1 -0.1)\">\n       <use xlink:href=\"#DejaVuSans-57\"/>\n       <use x=\"63.623047\" xlink:href=\"#DejaVuSans-53\"/>\n      </g>\n     </g>\n    </g>\n    <g id=\"xtick_5\">\n     <g id=\"line2d_9\">\n      <path clip-path=\"url(#p3038fb382c)\" d=\"M 459.103125 442.08 \nL 459.103125 7.2 \n\" style=\"fill:none;stroke:#b0b0b0;stroke-linecap:square;stroke-width:0.8;\"/>\n     </g>\n     <g id=\"line2d_10\">\n      <g>\n       <use style=\"stroke:#000000;stroke-width:0.8;\" x=\"459.103125\" xlink:href=\"#mc9a907981e\" y=\"442.08\"/>\n      </g>\n     </g>\n     <g id=\"text_5\">\n      <!-- 100 -->\n      <g transform=\"translate(449.559375 456.678437)scale(0.1 -0.1)\">\n       <defs>\n        <path d=\"M 12.40625 8.296875 \nL 28.515625 8.296875 \nL 28.515625 63.921875 \nL 10.984375 60.40625 \nL 10.984375 69.390625 \nL 28.421875 72.90625 \nL 38.28125 72.90625 \nL 38.28125 8.296875 \nL 54.390625 8.296875 \nL 54.390625 0 \nL 12.40625 0 \nz\n\" id=\"DejaVuSans-49\"/>\n       </defs>\n       <use xlink:href=\"#DejaVuSans-49\"/>\n       <use x=\"63.623047\" xlink:href=\"#DejaVuSans-48\"/>\n       <use x=\"127.246094\" xlink:href=\"#DejaVuSans-48\"/>\n      </g>\n     </g>\n    </g>\n    <g id=\"xtick_6\">\n     <g id=\"line2d_11\">\n      <path clip-path=\"url(#p3038fb382c)\" d=\"M 554.216761 442.08 \nL 554.216761 7.2 \n\" style=\"fill:none;stroke:#b0b0b0;stroke-linecap:square;stroke-width:0.8;\"/>\n     </g>\n     <g id=\"line2d_12\">\n      <g>\n       <use style=\"stroke:#000000;stroke-width:0.8;\" x=\"554.216761\" xlink:href=\"#mc9a907981e\" y=\"442.08\"/>\n      </g>\n     </g>\n     <g id=\"text_6\">\n      <!-- 105 -->\n      <g transform=\"translate(544.673011 456.678437)scale(0.1 -0.1)\">\n       <use xlink:href=\"#DejaVuSans-49\"/>\n       <use x=\"63.623047\" xlink:href=\"#DejaVuSans-48\"/>\n       <use x=\"127.246094\" xlink:href=\"#DejaVuSans-53\"/>\n      </g>\n     </g>\n    </g>\n    <g id=\"xtick_7\">\n     <g id=\"line2d_13\">\n      <path clip-path=\"url(#p3038fb382c)\" d=\"M 649.330398 442.08 \nL 649.330398 7.2 \n\" style=\"fill:none;stroke:#b0b0b0;stroke-linecap:square;stroke-width:0.8;\"/>\n     </g>\n     <g id=\"line2d_14\">\n      <g>\n       <use style=\"stroke:#000000;stroke-width:0.8;\" x=\"649.330398\" xlink:href=\"#mc9a907981e\" y=\"442.08\"/>\n      </g>\n     </g>\n     <g id=\"text_7\">\n      <!-- 110 -->\n      <g transform=\"translate(639.786648 456.678437)scale(0.1 -0.1)\">\n       <use xlink:href=\"#DejaVuSans-49\"/>\n       <use x=\"63.623047\" xlink:href=\"#DejaVuSans-49\"/>\n       <use x=\"127.246094\" xlink:href=\"#DejaVuSans-48\"/>\n      </g>\n     </g>\n    </g>\n    <g id=\"xtick_8\">\n     <g id=\"line2d_15\">\n      <path clip-path=\"url(#p3038fb382c)\" d=\"M 744.444034 442.08 \nL 744.444034 7.2 \n\" style=\"fill:none;stroke:#b0b0b0;stroke-linecap:square;stroke-width:0.8;\"/>\n     </g>\n     <g id=\"line2d_16\">\n      <g>\n       <use style=\"stroke:#000000;stroke-width:0.8;\" x=\"744.444034\" xlink:href=\"#mc9a907981e\" y=\"442.08\"/>\n      </g>\n     </g>\n     <g id=\"text_8\">\n      <!-- 115 -->\n      <g transform=\"translate(734.900284 456.678437)scale(0.1 -0.1)\">\n       <use xlink:href=\"#DejaVuSans-49\"/>\n       <use x=\"63.623047\" xlink:href=\"#DejaVuSans-49\"/>\n       <use x=\"127.246094\" xlink:href=\"#DejaVuSans-53\"/>\n      </g>\n     </g>\n    </g>\n    <g id=\"xtick_9\">\n     <g id=\"line2d_17\">\n      <path clip-path=\"url(#p3038fb382c)\" d=\"M 839.55767 442.08 \nL 839.55767 7.2 \n\" style=\"fill:none;stroke:#b0b0b0;stroke-linecap:square;stroke-width:0.8;\"/>\n     </g>\n     <g id=\"line2d_18\">\n      <g>\n       <use style=\"stroke:#000000;stroke-width:0.8;\" x=\"839.55767\" xlink:href=\"#mc9a907981e\" y=\"442.08\"/>\n      </g>\n     </g>\n     <g id=\"text_9\">\n      <!-- 120 -->\n      <g transform=\"translate(830.01392 456.678437)scale(0.1 -0.1)\">\n       <defs>\n        <path d=\"M 19.1875 8.296875 \nL 53.609375 8.296875 \nL 53.609375 0 \nL 7.328125 0 \nL 7.328125 8.296875 \nQ 12.9375 14.109375 22.625 23.890625 \nQ 32.328125 33.6875 34.8125 36.53125 \nQ 39.546875 41.84375 41.421875 45.53125 \nQ 43.3125 49.21875 43.3125 52.78125 \nQ 43.3125 58.59375 39.234375 62.25 \nQ 35.15625 65.921875 28.609375 65.921875 \nQ 23.96875 65.921875 18.8125 64.3125 \nQ 13.671875 62.703125 7.8125 59.421875 \nL 7.8125 69.390625 \nQ 13.765625 71.78125 18.9375 73 \nQ 24.125 74.21875 28.421875 74.21875 \nQ 39.75 74.21875 46.484375 68.546875 \nQ 53.21875 62.890625 53.21875 53.421875 \nQ 53.21875 48.921875 51.53125 44.890625 \nQ 49.859375 40.875 45.40625 35.40625 \nQ 44.1875 33.984375 37.640625 27.21875 \nQ 31.109375 20.453125 19.1875 8.296875 \nz\n\" id=\"DejaVuSans-50\"/>\n       </defs>\n       <use xlink:href=\"#DejaVuSans-49\"/>\n       <use x=\"63.623047\" xlink:href=\"#DejaVuSans-50\"/>\n       <use x=\"127.246094\" xlink:href=\"#DejaVuSans-48\"/>\n      </g>\n     </g>\n    </g>\n    <g id=\"text_10\">\n     <!-- strikes -->\n     <g transform=\"translate(442.698438 470.356562)scale(0.1 -0.1)\">\n      <defs>\n       <path d=\"M 44.28125 53.078125 \nL 44.28125 44.578125 \nQ 40.484375 46.53125 36.375 47.5 \nQ 32.28125 48.484375 27.875 48.484375 \nQ 21.1875 48.484375 17.84375 46.4375 \nQ 14.5 44.390625 14.5 40.28125 \nQ 14.5 37.15625 16.890625 35.375 \nQ 19.28125 33.59375 26.515625 31.984375 \nL 29.59375 31.296875 \nQ 39.15625 29.25 43.1875 25.515625 \nQ 47.21875 21.78125 47.21875 15.09375 \nQ 47.21875 7.46875 41.1875 3.015625 \nQ 35.15625 -1.421875 24.609375 -1.421875 \nQ 20.21875 -1.421875 15.453125 -0.5625 \nQ 10.6875 0.296875 5.421875 2 \nL 5.421875 11.28125 \nQ 10.40625 8.6875 15.234375 7.390625 \nQ 20.0625 6.109375 24.8125 6.109375 \nQ 31.15625 6.109375 34.5625 8.28125 \nQ 37.984375 10.453125 37.984375 14.40625 \nQ 37.984375 18.0625 35.515625 20.015625 \nQ 33.0625 21.96875 24.703125 23.78125 \nL 21.578125 24.515625 \nQ 13.234375 26.265625 9.515625 29.90625 \nQ 5.8125 33.546875 5.8125 39.890625 \nQ 5.8125 47.609375 11.28125 51.796875 \nQ 16.75 56 26.8125 56 \nQ 31.78125 56 36.171875 55.265625 \nQ 40.578125 54.546875 44.28125 53.078125 \nz\n\" id=\"DejaVuSans-115\"/>\n       <path d=\"M 18.3125 70.21875 \nL 18.3125 54.6875 \nL 36.8125 54.6875 \nL 36.8125 47.703125 \nL 18.3125 47.703125 \nL 18.3125 18.015625 \nQ 18.3125 11.328125 20.140625 9.421875 \nQ 21.96875 7.515625 27.59375 7.515625 \nL 36.8125 7.515625 \nL 36.8125 0 \nL 27.59375 0 \nQ 17.1875 0 13.234375 3.875 \nQ 9.28125 7.765625 9.28125 18.015625 \nL 9.28125 47.703125 \nL 2.6875 47.703125 \nL 2.6875 54.6875 \nL 9.28125 54.6875 \nL 9.28125 70.21875 \nz\n\" id=\"DejaVuSans-116\"/>\n       <path d=\"M 41.109375 46.296875 \nQ 39.59375 47.171875 37.8125 47.578125 \nQ 36.03125 48 33.890625 48 \nQ 26.265625 48 22.1875 43.046875 \nQ 18.109375 38.09375 18.109375 28.8125 \nL 18.109375 0 \nL 9.078125 0 \nL 9.078125 54.6875 \nL 18.109375 54.6875 \nL 18.109375 46.1875 \nQ 20.953125 51.171875 25.484375 53.578125 \nQ 30.03125 56 36.53125 56 \nQ 37.453125 56 38.578125 55.875 \nQ 39.703125 55.765625 41.0625 55.515625 \nz\n\" id=\"DejaVuSans-114\"/>\n       <path d=\"M 9.421875 54.6875 \nL 18.40625 54.6875 \nL 18.40625 0 \nL 9.421875 0 \nz\nM 9.421875 75.984375 \nL 18.40625 75.984375 \nL 18.40625 64.59375 \nL 9.421875 64.59375 \nz\n\" id=\"DejaVuSans-105\"/>\n       <path d=\"M 9.078125 75.984375 \nL 18.109375 75.984375 \nL 18.109375 31.109375 \nL 44.921875 54.6875 \nL 56.390625 54.6875 \nL 27.390625 29.109375 \nL 57.625 0 \nL 45.90625 0 \nL 18.109375 26.703125 \nL 18.109375 0 \nL 9.078125 0 \nz\n\" id=\"DejaVuSans-107\"/>\n       <path d=\"M 56.203125 29.59375 \nL 56.203125 25.203125 \nL 14.890625 25.203125 \nQ 15.484375 15.921875 20.484375 11.0625 \nQ 25.484375 6.203125 34.421875 6.203125 \nQ 39.59375 6.203125 44.453125 7.46875 \nQ 49.3125 8.734375 54.109375 11.28125 \nL 54.109375 2.78125 \nQ 49.265625 0.734375 44.1875 -0.34375 \nQ 39.109375 -1.421875 33.890625 -1.421875 \nQ 20.796875 -1.421875 13.15625 6.1875 \nQ 5.515625 13.8125 5.515625 26.8125 \nQ 5.515625 40.234375 12.765625 48.109375 \nQ 20.015625 56 32.328125 56 \nQ 43.359375 56 49.78125 48.890625 \nQ 56.203125 41.796875 56.203125 29.59375 \nz\nM 47.21875 32.234375 \nQ 47.125 39.59375 43.09375 43.984375 \nQ 39.0625 48.390625 32.421875 48.390625 \nQ 24.90625 48.390625 20.390625 44.140625 \nQ 15.875 39.890625 15.1875 32.171875 \nz\n\" id=\"DejaVuSans-101\"/>\n      </defs>\n      <use xlink:href=\"#DejaVuSans-115\"/>\n      <use x=\"52.099609\" xlink:href=\"#DejaVuSans-116\"/>\n      <use x=\"91.308594\" xlink:href=\"#DejaVuSans-114\"/>\n      <use x=\"132.421875\" xlink:href=\"#DejaVuSans-105\"/>\n      <use x=\"160.205078\" xlink:href=\"#DejaVuSans-107\"/>\n      <use x=\"214.490234\" xlink:href=\"#DejaVuSans-101\"/>\n      <use x=\"276.013672\" xlink:href=\"#DejaVuSans-115\"/>\n     </g>\n    </g>\n   </g>\n   <g id=\"matplotlib.axis_2\">\n    <g id=\"ytick_1\">\n     <g id=\"line2d_19\">\n      <path clip-path=\"url(#p3038fb382c)\" d=\"M 40.603125 390.063937 \nL 877.603125 390.063937 \n\" style=\"fill:none;stroke:#b0b0b0;stroke-linecap:square;stroke-width:0.8;\"/>\n     </g>\n     <g id=\"line2d_20\">\n      <defs>\n       <path d=\"M 0 0 \nL -3.5 0 \n\" id=\"m1755465ff8\" style=\"stroke:#000000;stroke-width:0.8;\"/>\n      </defs>\n      <g>\n       <use style=\"stroke:#000000;stroke-width:0.8;\" x=\"40.603125\" xlink:href=\"#m1755465ff8\" y=\"390.063937\"/>\n      </g>\n     </g>\n     <g id=\"text_11\">\n      <!-- 5 -->\n      <g transform=\"translate(27.240625 393.863156)scale(0.1 -0.1)\">\n       <use xlink:href=\"#DejaVuSans-53\"/>\n      </g>\n     </g>\n    </g>\n    <g id=\"ytick_2\">\n     <g id=\"line2d_21\">\n      <path clip-path=\"url(#p3038fb382c)\" d=\"M 40.603125 298.078285 \nL 877.603125 298.078285 \n\" style=\"fill:none;stroke:#b0b0b0;stroke-linecap:square;stroke-width:0.8;\"/>\n     </g>\n     <g id=\"line2d_22\">\n      <g>\n       <use style=\"stroke:#000000;stroke-width:0.8;\" x=\"40.603125\" xlink:href=\"#m1755465ff8\" y=\"298.078285\"/>\n      </g>\n     </g>\n     <g id=\"text_12\">\n      <!-- 10 -->\n      <g transform=\"translate(20.878125 301.877504)scale(0.1 -0.1)\">\n       <use xlink:href=\"#DejaVuSans-49\"/>\n       <use x=\"63.623047\" xlink:href=\"#DejaVuSans-48\"/>\n      </g>\n     </g>\n    </g>\n    <g id=\"ytick_3\">\n     <g id=\"line2d_23\">\n      <path clip-path=\"url(#p3038fb382c)\" d=\"M 40.603125 206.092633 \nL 877.603125 206.092633 \n\" style=\"fill:none;stroke:#b0b0b0;stroke-linecap:square;stroke-width:0.8;\"/>\n     </g>\n     <g id=\"line2d_24\">\n      <g>\n       <use style=\"stroke:#000000;stroke-width:0.8;\" x=\"40.603125\" xlink:href=\"#m1755465ff8\" y=\"206.092633\"/>\n      </g>\n     </g>\n     <g id=\"text_13\">\n      <!-- 15 -->\n      <g transform=\"translate(20.878125 209.891852)scale(0.1 -0.1)\">\n       <use xlink:href=\"#DejaVuSans-49\"/>\n       <use x=\"63.623047\" xlink:href=\"#DejaVuSans-53\"/>\n      </g>\n     </g>\n    </g>\n    <g id=\"ytick_4\">\n     <g id=\"line2d_25\">\n      <path clip-path=\"url(#p3038fb382c)\" d=\"M 40.603125 114.106981 \nL 877.603125 114.106981 \n\" style=\"fill:none;stroke:#b0b0b0;stroke-linecap:square;stroke-width:0.8;\"/>\n     </g>\n     <g id=\"line2d_26\">\n      <g>\n       <use style=\"stroke:#000000;stroke-width:0.8;\" x=\"40.603125\" xlink:href=\"#m1755465ff8\" y=\"114.106981\"/>\n      </g>\n     </g>\n     <g id=\"text_14\">\n      <!-- 20 -->\n      <g transform=\"translate(20.878125 117.906199)scale(0.1 -0.1)\">\n       <use xlink:href=\"#DejaVuSans-50\"/>\n       <use x=\"63.623047\" xlink:href=\"#DejaVuSans-48\"/>\n      </g>\n     </g>\n    </g>\n    <g id=\"ytick_5\">\n     <g id=\"line2d_27\">\n      <path clip-path=\"url(#p3038fb382c)\" d=\"M 40.603125 22.121328 \nL 877.603125 22.121328 \n\" style=\"fill:none;stroke:#b0b0b0;stroke-linecap:square;stroke-width:0.8;\"/>\n     </g>\n     <g id=\"line2d_28\">\n      <g>\n       <use style=\"stroke:#000000;stroke-width:0.8;\" x=\"40.603125\" xlink:href=\"#m1755465ff8\" y=\"22.121328\"/>\n      </g>\n     </g>\n     <g id=\"text_15\">\n      <!-- 25 -->\n      <g transform=\"translate(20.878125 25.920547)scale(0.1 -0.1)\">\n       <use xlink:href=\"#DejaVuSans-50\"/>\n       <use x=\"63.623047\" xlink:href=\"#DejaVuSans-53\"/>\n      </g>\n     </g>\n    </g>\n    <g id=\"text_16\">\n     <!-- European call option values -->\n     <g transform=\"translate(14.798438 293.886094)rotate(-90)scale(0.1 -0.1)\">\n      <defs>\n       <path d=\"M 9.8125 72.90625 \nL 55.90625 72.90625 \nL 55.90625 64.59375 \nL 19.671875 64.59375 \nL 19.671875 43.015625 \nL 54.390625 43.015625 \nL 54.390625 34.71875 \nL 19.671875 34.71875 \nL 19.671875 8.296875 \nL 56.78125 8.296875 \nL 56.78125 0 \nL 9.8125 0 \nz\n\" id=\"DejaVuSans-69\"/>\n       <path d=\"M 8.5 21.578125 \nL 8.5 54.6875 \nL 17.484375 54.6875 \nL 17.484375 21.921875 \nQ 17.484375 14.15625 20.5 10.265625 \nQ 23.53125 6.390625 29.59375 6.390625 \nQ 36.859375 6.390625 41.078125 11.03125 \nQ 45.3125 15.671875 45.3125 23.6875 \nL 45.3125 54.6875 \nL 54.296875 54.6875 \nL 54.296875 0 \nL 45.3125 0 \nL 45.3125 8.40625 \nQ 42.046875 3.421875 37.71875 1 \nQ 33.40625 -1.421875 27.6875 -1.421875 \nQ 18.265625 -1.421875 13.375 4.4375 \nQ 8.5 10.296875 8.5 21.578125 \nz\nM 31.109375 56 \nz\n\" id=\"DejaVuSans-117\"/>\n       <path d=\"M 30.609375 48.390625 \nQ 23.390625 48.390625 19.1875 42.75 \nQ 14.984375 37.109375 14.984375 27.296875 \nQ 14.984375 17.484375 19.15625 11.84375 \nQ 23.34375 6.203125 30.609375 6.203125 \nQ 37.796875 6.203125 41.984375 11.859375 \nQ 46.1875 17.53125 46.1875 27.296875 \nQ 46.1875 37.015625 41.984375 42.703125 \nQ 37.796875 48.390625 30.609375 48.390625 \nz\nM 30.609375 56 \nQ 42.328125 56 49.015625 48.375 \nQ 55.71875 40.765625 55.71875 27.296875 \nQ 55.71875 13.875 49.015625 6.21875 \nQ 42.328125 -1.421875 30.609375 -1.421875 \nQ 18.84375 -1.421875 12.171875 6.21875 \nQ 5.515625 13.875 5.515625 27.296875 \nQ 5.515625 40.765625 12.171875 48.375 \nQ 18.84375 56 30.609375 56 \nz\n\" id=\"DejaVuSans-111\"/>\n       <path d=\"M 18.109375 8.203125 \nL 18.109375 -20.796875 \nL 9.078125 -20.796875 \nL 9.078125 54.6875 \nL 18.109375 54.6875 \nL 18.109375 46.390625 \nQ 20.953125 51.265625 25.265625 53.625 \nQ 29.59375 56 35.59375 56 \nQ 45.5625 56 51.78125 48.09375 \nQ 58.015625 40.1875 58.015625 27.296875 \nQ 58.015625 14.40625 51.78125 6.484375 \nQ 45.5625 -1.421875 35.59375 -1.421875 \nQ 29.59375 -1.421875 25.265625 0.953125 \nQ 20.953125 3.328125 18.109375 8.203125 \nz\nM 48.6875 27.296875 \nQ 48.6875 37.203125 44.609375 42.84375 \nQ 40.53125 48.484375 33.40625 48.484375 \nQ 26.265625 48.484375 22.1875 42.84375 \nQ 18.109375 37.203125 18.109375 27.296875 \nQ 18.109375 17.390625 22.1875 11.75 \nQ 26.265625 6.109375 33.40625 6.109375 \nQ 40.53125 6.109375 44.609375 11.75 \nQ 48.6875 17.390625 48.6875 27.296875 \nz\n\" id=\"DejaVuSans-112\"/>\n       <path d=\"M 34.28125 27.484375 \nQ 23.390625 27.484375 19.1875 25 \nQ 14.984375 22.515625 14.984375 16.5 \nQ 14.984375 11.71875 18.140625 8.90625 \nQ 21.296875 6.109375 26.703125 6.109375 \nQ 34.1875 6.109375 38.703125 11.40625 \nQ 43.21875 16.703125 43.21875 25.484375 \nL 43.21875 27.484375 \nz\nM 52.203125 31.203125 \nL 52.203125 0 \nL 43.21875 0 \nL 43.21875 8.296875 \nQ 40.140625 3.328125 35.546875 0.953125 \nQ 30.953125 -1.421875 24.3125 -1.421875 \nQ 15.921875 -1.421875 10.953125 3.296875 \nQ 6 8.015625 6 15.921875 \nQ 6 25.140625 12.171875 29.828125 \nQ 18.359375 34.515625 30.609375 34.515625 \nL 43.21875 34.515625 \nL 43.21875 35.40625 \nQ 43.21875 41.609375 39.140625 45 \nQ 35.0625 48.390625 27.6875 48.390625 \nQ 23 48.390625 18.546875 47.265625 \nQ 14.109375 46.140625 10.015625 43.890625 \nL 10.015625 52.203125 \nQ 14.9375 54.109375 19.578125 55.046875 \nQ 24.21875 56 28.609375 56 \nQ 40.484375 56 46.34375 49.84375 \nQ 52.203125 43.703125 52.203125 31.203125 \nz\n\" id=\"DejaVuSans-97\"/>\n       <path d=\"M 54.890625 33.015625 \nL 54.890625 0 \nL 45.90625 0 \nL 45.90625 32.71875 \nQ 45.90625 40.484375 42.875 44.328125 \nQ 39.84375 48.1875 33.796875 48.1875 \nQ 26.515625 48.1875 22.3125 43.546875 \nQ 18.109375 38.921875 18.109375 30.90625 \nL 18.109375 0 \nL 9.078125 0 \nL 9.078125 54.6875 \nL 18.109375 54.6875 \nL 18.109375 46.1875 \nQ 21.34375 51.125 25.703125 53.5625 \nQ 30.078125 56 35.796875 56 \nQ 45.21875 56 50.046875 50.171875 \nQ 54.890625 44.34375 54.890625 33.015625 \nz\n\" id=\"DejaVuSans-110\"/>\n       <path id=\"DejaVuSans-32\"/>\n       <path d=\"M 48.78125 52.59375 \nL 48.78125 44.1875 \nQ 44.96875 46.296875 41.140625 47.34375 \nQ 37.3125 48.390625 33.40625 48.390625 \nQ 24.65625 48.390625 19.8125 42.84375 \nQ 14.984375 37.3125 14.984375 27.296875 \nQ 14.984375 17.28125 19.8125 11.734375 \nQ 24.65625 6.203125 33.40625 6.203125 \nQ 37.3125 6.203125 41.140625 7.25 \nQ 44.96875 8.296875 48.78125 10.40625 \nL 48.78125 2.09375 \nQ 45.015625 0.34375 40.984375 -0.53125 \nQ 36.96875 -1.421875 32.421875 -1.421875 \nQ 20.0625 -1.421875 12.78125 6.34375 \nQ 5.515625 14.109375 5.515625 27.296875 \nQ 5.515625 40.671875 12.859375 48.328125 \nQ 20.21875 56 33.015625 56 \nQ 37.15625 56 41.109375 55.140625 \nQ 45.0625 54.296875 48.78125 52.59375 \nz\n\" id=\"DejaVuSans-99\"/>\n       <path d=\"M 9.421875 75.984375 \nL 18.40625 75.984375 \nL 18.40625 0 \nL 9.421875 0 \nz\n\" id=\"DejaVuSans-108\"/>\n       <path d=\"M 2.984375 54.6875 \nL 12.5 54.6875 \nL 29.59375 8.796875 \nL 46.6875 54.6875 \nL 56.203125 54.6875 \nL 35.6875 0 \nL 23.484375 0 \nz\n\" id=\"DejaVuSans-118\"/>\n      </defs>\n      <use xlink:href=\"#DejaVuSans-69\"/>\n      <use x=\"63.183594\" xlink:href=\"#DejaVuSans-117\"/>\n      <use x=\"126.5625\" xlink:href=\"#DejaVuSans-114\"/>\n      <use x=\"165.425781\" xlink:href=\"#DejaVuSans-111\"/>\n      <use x=\"226.607422\" xlink:href=\"#DejaVuSans-112\"/>\n      <use x=\"290.083984\" xlink:href=\"#DejaVuSans-101\"/>\n      <use x=\"351.607422\" xlink:href=\"#DejaVuSans-97\"/>\n      <use x=\"412.886719\" xlink:href=\"#DejaVuSans-110\"/>\n      <use x=\"476.265625\" xlink:href=\"#DejaVuSans-32\"/>\n      <use x=\"508.052734\" xlink:href=\"#DejaVuSans-99\"/>\n      <use x=\"563.033203\" xlink:href=\"#DejaVuSans-97\"/>\n      <use x=\"624.3125\" xlink:href=\"#DejaVuSans-108\"/>\n      <use x=\"652.095703\" xlink:href=\"#DejaVuSans-108\"/>\n      <use x=\"679.878906\" xlink:href=\"#DejaVuSans-32\"/>\n      <use x=\"711.666016\" xlink:href=\"#DejaVuSans-111\"/>\n      <use x=\"772.847656\" xlink:href=\"#DejaVuSans-112\"/>\n      <use x=\"836.324219\" xlink:href=\"#DejaVuSans-116\"/>\n      <use x=\"875.533203\" xlink:href=\"#DejaVuSans-105\"/>\n      <use x=\"903.316406\" xlink:href=\"#DejaVuSans-111\"/>\n      <use x=\"964.498047\" xlink:href=\"#DejaVuSans-110\"/>\n      <use x=\"1027.876953\" xlink:href=\"#DejaVuSans-32\"/>\n      <use x=\"1059.664062\" xlink:href=\"#DejaVuSans-118\"/>\n      <use x=\"1118.84375\" xlink:href=\"#DejaVuSans-97\"/>\n      <use x=\"1180.123047\" xlink:href=\"#DejaVuSans-108\"/>\n      <use x=\"1207.90625\" xlink:href=\"#DejaVuSans-117\"/>\n      <use x=\"1271.285156\" xlink:href=\"#DejaVuSans-101\"/>\n      <use x=\"1332.808594\" xlink:href=\"#DejaVuSans-115\"/>\n     </g>\n    </g>\n   </g>\n   <g id=\"line2d_29\">\n    <path clip-path=\"url(#p3038fb382c)\" d=\"M 78.64858 26.967273 \nL 86.33453 33.315501 \nL 94.02048 39.632396 \nL 101.706431 45.916527 \nL 109.392381 52.168699 \nL 117.078332 58.38897 \nL 124.764282 64.571709 \nL 132.450232 70.715121 \nL 140.136183 76.825502 \nL 147.822133 82.89972 \nL 155.508084 88.935868 \nL 163.194034 94.92704 \nL 170.879985 100.877456 \nL 178.565935 106.783465 \nL 186.251885 112.643653 \nL 193.937836 118.459369 \nL 201.623786 124.229611 \nL 209.309737 129.956114 \nL 216.995687 135.635358 \nL 224.681637 141.26527 \nL 232.367588 146.845923 \nL 240.053538 152.376759 \nL 247.739489 157.860866 \nL 255.425439 163.299228 \nL 263.111389 168.687908 \nL 270.79734 174.020514 \nL 278.48329 179.302899 \nL 286.169241 184.535376 \nL 293.855191 189.712824 \nL 301.541142 194.836211 \nL 309.227092 199.90812 \nL 316.913042 204.926357 \nL 324.598993 209.894308 \nL 332.284943 214.811233 \nL 339.970894 219.677255 \nL 347.656844 224.485759 \nL 355.342794 229.238349 \nL 363.028745 233.933467 \nL 370.714695 238.574097 \nL 378.400646 243.159755 \nL 386.086596 247.691438 \nL 393.772546 252.169708 \nL 401.458497 256.590962 \nL 409.144447 260.957547 \nL 416.830398 265.272196 \nL 424.516348 269.532464 \nL 432.202299 273.738779 \nL 439.888249 277.887765 \nL 447.574199 281.979179 \nL 455.26015 286.014823 \nL 462.9461 289.996418 \nL 470.632051 293.918349 \nL 478.318001 297.784269 \nL 486.003951 301.595807 \nL 493.689902 305.352578 \nL 501.375852 309.05647 \nL 509.061803 312.700817 \nL 516.747753 316.292782 \nL 524.433704 319.83061 \nL 532.119654 323.317036 \nL 539.805604 326.752657 \nL 547.491555 330.132983 \nL 555.177505 333.464598 \nL 562.863456 336.74658 \nL 570.549406 339.977292 \nL 578.235356 343.158274 \nL 585.921307 346.292394 \nL 593.607257 349.372815 \nL 601.293208 352.402395 \nL 608.979158 355.375345 \nL 616.665108 358.297484 \nL 624.351059 361.16876 \nL 632.037009 363.989047 \nL 639.72296 366.757849 \nL 647.40891 369.472974 \nL 655.094861 372.137319 \nL 662.780811 374.750426 \nL 670.466761 377.317222 \nL 678.152712 379.836615 \nL 685.838662 382.309798 \nL 693.524613 384.732042 \nL 701.210563 387.111447 \nL 708.896513 389.448196 \nL 716.582464 391.736237 \nL 724.268414 393.978585 \nL 731.954365 396.172328 \nL 739.640315 398.31522 \nL 747.326265 400.412574 \nL 755.012216 402.471036 \nL 762.698166 404.487716 \nL 770.384117 406.457045 \nL 778.070067 408.380056 \nL 785.756018 410.25705 \nL 793.441968 412.089338 \nL 801.127918 413.884721 \nL 808.813869 415.644786 \nL 816.499819 417.369391 \nL 824.18577 419.054729 \nL 831.87172 420.701978 \nL 839.55767 422.312727 \n\" style=\"fill:none;stroke:#0000ff;stroke-linecap:square;stroke-width:1.5;\"/>\n   </g>\n   <g id=\"line2d_30\">\n    <path clip-path=\"url(#p3038fb382c)\" d=\"M 78.64858 26.967273 \nL 86.33453 33.315501 \nL 94.02048 39.632396 \nL 101.706431 45.916527 \nL 109.392381 52.168699 \nL 117.078332 58.38897 \nL 124.764282 64.571709 \nL 132.450232 70.715121 \nL 140.136183 76.825502 \nL 147.822133 82.89972 \nL 155.508084 88.935868 \nL 163.194034 94.92704 \nL 170.879985 100.877456 \nL 178.565935 106.783465 \nL 186.251885 112.643653 \nL 193.937836 118.459369 \nL 201.623786 124.229611 \nL 209.309737 129.956114 \nL 216.995687 135.635358 \nL 224.681637 141.26527 \nL 232.367588 146.845923 \nL 240.053538 152.376759 \nL 247.739489 157.860866 \nL 255.425439 163.299228 \nL 263.111389 168.687908 \nL 270.79734 174.020514 \nL 278.48329 179.302899 \nL 286.169241 184.535376 \nL 293.855191 189.712824 \nL 301.541142 194.836211 \nL 309.227092 199.90812 \nL 316.913042 204.926357 \nL 324.598993 209.894308 \nL 332.284943 214.811233 \nL 339.970894 219.677255 \nL 347.656844 224.485759 \nL 355.342794 229.238349 \nL 363.028745 233.933467 \nL 370.714695 238.574097 \nL 378.400646 243.159755 \nL 386.086596 247.691438 \nL 393.772546 252.169708 \nL 401.458497 256.590962 \nL 409.144447 260.957547 \nL 416.830398 265.272196 \nL 424.516348 269.532464 \nL 432.202299 273.738779 \nL 439.888249 277.887765 \nL 447.574199 281.979179 \nL 455.26015 286.014823 \nL 462.9461 289.996418 \nL 470.632051 293.918349 \nL 478.318001 297.784269 \nL 486.003951 301.595807 \nL 493.689902 305.352578 \nL 501.375852 309.05647 \nL 509.061803 312.700817 \nL 516.747753 316.292782 \nL 524.433704 319.83061 \nL 532.119654 323.317036 \nL 539.805604 326.752657 \nL 547.491555 330.132983 \nL 555.177505 333.464598 \nL 562.863456 336.74658 \nL 570.549406 339.977292 \nL 578.235356 343.158274 \nL 585.921307 346.292394 \nL 593.607257 349.372815 \nL 601.293208 352.402395 \nL 608.979158 355.375345 \nL 616.665108 358.297484 \nL 624.351059 361.16876 \nL 632.037009 363.989047 \nL 639.72296 366.757849 \nL 647.40891 369.472974 \nL 655.094861 372.137319 \nL 662.780811 374.750426 \nL 670.466761 377.317222 \nL 678.152712 379.836615 \nL 685.838662 382.309798 \nL 693.524613 384.732042 \nL 701.210563 387.111447 \nL 708.896513 389.448196 \nL 716.582464 391.736237 \nL 724.268414 393.978585 \nL 731.954365 396.172328 \nL 739.640315 398.31522 \nL 747.326265 400.412574 \nL 755.012216 402.471036 \nL 762.698166 404.487716 \nL 770.384117 406.457045 \nL 778.070067 408.380056 \nL 785.756018 410.25705 \nL 793.441968 412.089338 \nL 801.127918 413.884721 \nL 808.813869 415.644786 \nL 816.499819 417.369391 \nL 824.18577 419.054729 \nL 831.87172 420.701978 \nL 839.55767 422.312727 \n\" style=\"fill:none;stroke:#ff0000;stroke-linecap:square;stroke-width:1.5;\"/>\n    <defs>\n     <path d=\"M 0 0.125 \nC 0.03315 0.125 0.064947 0.111829 0.088388 0.088388 \nC 0.111829 0.064947 0.125 0.03315 0.125 0 \nC 0.125 -0.03315 0.111829 -0.064947 0.088388 -0.088388 \nC 0.064947 -0.111829 0.03315 -0.125 0 -0.125 \nC -0.03315 -0.125 -0.064947 -0.111829 -0.088388 -0.088388 \nC -0.111829 -0.064947 -0.125 -0.03315 -0.125 0 \nC -0.125 0.03315 -0.111829 0.064947 -0.088388 0.088388 \nC -0.064947 0.111829 -0.03315 0.125 0 0.125 \nz\n\" id=\"m4fa1dc493e\" style=\"stroke:#ff0000;\"/>\n    </defs>\n    <g clip-path=\"url(#p3038fb382c)\">\n     <use style=\"fill:#ff0000;stroke:#ff0000;\" x=\"78.64858\" xlink:href=\"#m4fa1dc493e\" y=\"26.967273\"/>\n     <use style=\"fill:#ff0000;stroke:#ff0000;\" x=\"86.33453\" xlink:href=\"#m4fa1dc493e\" y=\"33.315501\"/>\n     <use style=\"fill:#ff0000;stroke:#ff0000;\" x=\"94.02048\" xlink:href=\"#m4fa1dc493e\" y=\"39.632396\"/>\n     <use style=\"fill:#ff0000;stroke:#ff0000;\" x=\"101.706431\" xlink:href=\"#m4fa1dc493e\" y=\"45.916527\"/>\n     <use style=\"fill:#ff0000;stroke:#ff0000;\" x=\"109.392381\" xlink:href=\"#m4fa1dc493e\" y=\"52.168699\"/>\n     <use style=\"fill:#ff0000;stroke:#ff0000;\" x=\"117.078332\" xlink:href=\"#m4fa1dc493e\" y=\"58.38897\"/>\n     <use style=\"fill:#ff0000;stroke:#ff0000;\" x=\"124.764282\" xlink:href=\"#m4fa1dc493e\" y=\"64.571709\"/>\n     <use style=\"fill:#ff0000;stroke:#ff0000;\" x=\"132.450232\" xlink:href=\"#m4fa1dc493e\" y=\"70.715121\"/>\n     <use style=\"fill:#ff0000;stroke:#ff0000;\" x=\"140.136183\" xlink:href=\"#m4fa1dc493e\" y=\"76.825502\"/>\n     <use style=\"fill:#ff0000;stroke:#ff0000;\" x=\"147.822133\" xlink:href=\"#m4fa1dc493e\" y=\"82.89972\"/>\n     <use style=\"fill:#ff0000;stroke:#ff0000;\" x=\"155.508084\" xlink:href=\"#m4fa1dc493e\" y=\"88.935868\"/>\n     <use style=\"fill:#ff0000;stroke:#ff0000;\" x=\"163.194034\" xlink:href=\"#m4fa1dc493e\" y=\"94.92704\"/>\n     <use style=\"fill:#ff0000;stroke:#ff0000;\" x=\"170.879985\" xlink:href=\"#m4fa1dc493e\" y=\"100.877456\"/>\n     <use style=\"fill:#ff0000;stroke:#ff0000;\" x=\"178.565935\" xlink:href=\"#m4fa1dc493e\" y=\"106.783465\"/>\n     <use style=\"fill:#ff0000;stroke:#ff0000;\" x=\"186.251885\" xlink:href=\"#m4fa1dc493e\" y=\"112.643653\"/>\n     <use style=\"fill:#ff0000;stroke:#ff0000;\" x=\"193.937836\" xlink:href=\"#m4fa1dc493e\" y=\"118.459369\"/>\n     <use style=\"fill:#ff0000;stroke:#ff0000;\" x=\"201.623786\" xlink:href=\"#m4fa1dc493e\" y=\"124.229611\"/>\n     <use style=\"fill:#ff0000;stroke:#ff0000;\" x=\"209.309737\" xlink:href=\"#m4fa1dc493e\" y=\"129.956114\"/>\n     <use style=\"fill:#ff0000;stroke:#ff0000;\" x=\"216.995687\" xlink:href=\"#m4fa1dc493e\" y=\"135.635358\"/>\n     <use style=\"fill:#ff0000;stroke:#ff0000;\" x=\"224.681637\" xlink:href=\"#m4fa1dc493e\" y=\"141.26527\"/>\n     <use style=\"fill:#ff0000;stroke:#ff0000;\" x=\"232.367588\" xlink:href=\"#m4fa1dc493e\" y=\"146.845923\"/>\n     <use style=\"fill:#ff0000;stroke:#ff0000;\" x=\"240.053538\" xlink:href=\"#m4fa1dc493e\" y=\"152.376759\"/>\n     <use style=\"fill:#ff0000;stroke:#ff0000;\" x=\"247.739489\" xlink:href=\"#m4fa1dc493e\" y=\"157.860866\"/>\n     <use style=\"fill:#ff0000;stroke:#ff0000;\" x=\"255.425439\" xlink:href=\"#m4fa1dc493e\" y=\"163.299228\"/>\n     <use style=\"fill:#ff0000;stroke:#ff0000;\" x=\"263.111389\" xlink:href=\"#m4fa1dc493e\" y=\"168.687908\"/>\n     <use style=\"fill:#ff0000;stroke:#ff0000;\" x=\"270.79734\" xlink:href=\"#m4fa1dc493e\" y=\"174.020514\"/>\n     <use style=\"fill:#ff0000;stroke:#ff0000;\" x=\"278.48329\" xlink:href=\"#m4fa1dc493e\" y=\"179.302899\"/>\n     <use style=\"fill:#ff0000;stroke:#ff0000;\" x=\"286.169241\" xlink:href=\"#m4fa1dc493e\" y=\"184.535376\"/>\n     <use style=\"fill:#ff0000;stroke:#ff0000;\" x=\"293.855191\" xlink:href=\"#m4fa1dc493e\" y=\"189.712824\"/>\n     <use style=\"fill:#ff0000;stroke:#ff0000;\" x=\"301.541142\" xlink:href=\"#m4fa1dc493e\" y=\"194.836211\"/>\n     <use style=\"fill:#ff0000;stroke:#ff0000;\" x=\"309.227092\" xlink:href=\"#m4fa1dc493e\" y=\"199.90812\"/>\n     <use style=\"fill:#ff0000;stroke:#ff0000;\" x=\"316.913042\" xlink:href=\"#m4fa1dc493e\" y=\"204.926357\"/>\n     <use style=\"fill:#ff0000;stroke:#ff0000;\" x=\"324.598993\" xlink:href=\"#m4fa1dc493e\" y=\"209.894308\"/>\n     <use style=\"fill:#ff0000;stroke:#ff0000;\" x=\"332.284943\" xlink:href=\"#m4fa1dc493e\" y=\"214.811233\"/>\n     <use style=\"fill:#ff0000;stroke:#ff0000;\" x=\"339.970894\" xlink:href=\"#m4fa1dc493e\" y=\"219.677255\"/>\n     <use style=\"fill:#ff0000;stroke:#ff0000;\" x=\"347.656844\" xlink:href=\"#m4fa1dc493e\" y=\"224.485759\"/>\n     <use style=\"fill:#ff0000;stroke:#ff0000;\" x=\"355.342794\" xlink:href=\"#m4fa1dc493e\" y=\"229.238349\"/>\n     <use style=\"fill:#ff0000;stroke:#ff0000;\" x=\"363.028745\" xlink:href=\"#m4fa1dc493e\" y=\"233.933467\"/>\n     <use style=\"fill:#ff0000;stroke:#ff0000;\" x=\"370.714695\" xlink:href=\"#m4fa1dc493e\" y=\"238.574097\"/>\n     <use style=\"fill:#ff0000;stroke:#ff0000;\" x=\"378.400646\" xlink:href=\"#m4fa1dc493e\" y=\"243.159755\"/>\n     <use style=\"fill:#ff0000;stroke:#ff0000;\" x=\"386.086596\" xlink:href=\"#m4fa1dc493e\" y=\"247.691438\"/>\n     <use style=\"fill:#ff0000;stroke:#ff0000;\" x=\"393.772546\" xlink:href=\"#m4fa1dc493e\" y=\"252.169708\"/>\n     <use style=\"fill:#ff0000;stroke:#ff0000;\" x=\"401.458497\" xlink:href=\"#m4fa1dc493e\" y=\"256.590962\"/>\n     <use style=\"fill:#ff0000;stroke:#ff0000;\" x=\"409.144447\" xlink:href=\"#m4fa1dc493e\" y=\"260.957547\"/>\n     <use style=\"fill:#ff0000;stroke:#ff0000;\" x=\"416.830398\" xlink:href=\"#m4fa1dc493e\" y=\"265.272196\"/>\n     <use style=\"fill:#ff0000;stroke:#ff0000;\" x=\"424.516348\" xlink:href=\"#m4fa1dc493e\" y=\"269.532464\"/>\n     <use style=\"fill:#ff0000;stroke:#ff0000;\" x=\"432.202299\" xlink:href=\"#m4fa1dc493e\" y=\"273.738779\"/>\n     <use style=\"fill:#ff0000;stroke:#ff0000;\" x=\"439.888249\" xlink:href=\"#m4fa1dc493e\" y=\"277.887765\"/>\n     <use style=\"fill:#ff0000;stroke:#ff0000;\" x=\"447.574199\" xlink:href=\"#m4fa1dc493e\" y=\"281.979179\"/>\n     <use style=\"fill:#ff0000;stroke:#ff0000;\" x=\"455.26015\" xlink:href=\"#m4fa1dc493e\" y=\"286.014823\"/>\n     <use style=\"fill:#ff0000;stroke:#ff0000;\" x=\"462.9461\" xlink:href=\"#m4fa1dc493e\" y=\"289.996418\"/>\n     <use style=\"fill:#ff0000;stroke:#ff0000;\" x=\"470.632051\" xlink:href=\"#m4fa1dc493e\" y=\"293.918349\"/>\n     <use style=\"fill:#ff0000;stroke:#ff0000;\" x=\"478.318001\" xlink:href=\"#m4fa1dc493e\" y=\"297.784269\"/>\n     <use style=\"fill:#ff0000;stroke:#ff0000;\" x=\"486.003951\" xlink:href=\"#m4fa1dc493e\" y=\"301.595807\"/>\n     <use style=\"fill:#ff0000;stroke:#ff0000;\" x=\"493.689902\" xlink:href=\"#m4fa1dc493e\" y=\"305.352578\"/>\n     <use style=\"fill:#ff0000;stroke:#ff0000;\" x=\"501.375852\" xlink:href=\"#m4fa1dc493e\" y=\"309.05647\"/>\n     <use style=\"fill:#ff0000;stroke:#ff0000;\" x=\"509.061803\" xlink:href=\"#m4fa1dc493e\" y=\"312.700817\"/>\n     <use style=\"fill:#ff0000;stroke:#ff0000;\" x=\"516.747753\" xlink:href=\"#m4fa1dc493e\" y=\"316.292782\"/>\n     <use style=\"fill:#ff0000;stroke:#ff0000;\" x=\"524.433704\" xlink:href=\"#m4fa1dc493e\" y=\"319.83061\"/>\n     <use style=\"fill:#ff0000;stroke:#ff0000;\" x=\"532.119654\" xlink:href=\"#m4fa1dc493e\" y=\"323.317036\"/>\n     <use style=\"fill:#ff0000;stroke:#ff0000;\" x=\"539.805604\" xlink:href=\"#m4fa1dc493e\" y=\"326.752657\"/>\n     <use style=\"fill:#ff0000;stroke:#ff0000;\" x=\"547.491555\" xlink:href=\"#m4fa1dc493e\" y=\"330.132983\"/>\n     <use style=\"fill:#ff0000;stroke:#ff0000;\" x=\"555.177505\" xlink:href=\"#m4fa1dc493e\" y=\"333.464598\"/>\n     <use style=\"fill:#ff0000;stroke:#ff0000;\" x=\"562.863456\" xlink:href=\"#m4fa1dc493e\" y=\"336.74658\"/>\n     <use style=\"fill:#ff0000;stroke:#ff0000;\" x=\"570.549406\" xlink:href=\"#m4fa1dc493e\" y=\"339.977292\"/>\n     <use style=\"fill:#ff0000;stroke:#ff0000;\" x=\"578.235356\" xlink:href=\"#m4fa1dc493e\" y=\"343.158274\"/>\n     <use style=\"fill:#ff0000;stroke:#ff0000;\" x=\"585.921307\" xlink:href=\"#m4fa1dc493e\" y=\"346.292394\"/>\n     <use style=\"fill:#ff0000;stroke:#ff0000;\" x=\"593.607257\" xlink:href=\"#m4fa1dc493e\" y=\"349.372815\"/>\n     <use style=\"fill:#ff0000;stroke:#ff0000;\" x=\"601.293208\" xlink:href=\"#m4fa1dc493e\" y=\"352.402395\"/>\n     <use style=\"fill:#ff0000;stroke:#ff0000;\" x=\"608.979158\" xlink:href=\"#m4fa1dc493e\" y=\"355.375345\"/>\n     <use style=\"fill:#ff0000;stroke:#ff0000;\" x=\"616.665108\" xlink:href=\"#m4fa1dc493e\" y=\"358.297484\"/>\n     <use style=\"fill:#ff0000;stroke:#ff0000;\" x=\"624.351059\" xlink:href=\"#m4fa1dc493e\" y=\"361.16876\"/>\n     <use style=\"fill:#ff0000;stroke:#ff0000;\" x=\"632.037009\" xlink:href=\"#m4fa1dc493e\" y=\"363.989047\"/>\n     <use style=\"fill:#ff0000;stroke:#ff0000;\" x=\"639.72296\" xlink:href=\"#m4fa1dc493e\" y=\"366.757849\"/>\n     <use style=\"fill:#ff0000;stroke:#ff0000;\" x=\"647.40891\" xlink:href=\"#m4fa1dc493e\" y=\"369.472974\"/>\n     <use style=\"fill:#ff0000;stroke:#ff0000;\" x=\"655.094861\" xlink:href=\"#m4fa1dc493e\" y=\"372.137319\"/>\n     <use style=\"fill:#ff0000;stroke:#ff0000;\" x=\"662.780811\" xlink:href=\"#m4fa1dc493e\" y=\"374.750426\"/>\n     <use style=\"fill:#ff0000;stroke:#ff0000;\" x=\"670.466761\" xlink:href=\"#m4fa1dc493e\" y=\"377.317222\"/>\n     <use style=\"fill:#ff0000;stroke:#ff0000;\" x=\"678.152712\" xlink:href=\"#m4fa1dc493e\" y=\"379.836615\"/>\n     <use style=\"fill:#ff0000;stroke:#ff0000;\" x=\"685.838662\" xlink:href=\"#m4fa1dc493e\" y=\"382.309798\"/>\n     <use style=\"fill:#ff0000;stroke:#ff0000;\" x=\"693.524613\" xlink:href=\"#m4fa1dc493e\" y=\"384.732042\"/>\n     <use style=\"fill:#ff0000;stroke:#ff0000;\" x=\"701.210563\" xlink:href=\"#m4fa1dc493e\" y=\"387.111447\"/>\n     <use style=\"fill:#ff0000;stroke:#ff0000;\" x=\"708.896513\" xlink:href=\"#m4fa1dc493e\" y=\"389.448196\"/>\n     <use style=\"fill:#ff0000;stroke:#ff0000;\" x=\"716.582464\" xlink:href=\"#m4fa1dc493e\" y=\"391.736237\"/>\n     <use style=\"fill:#ff0000;stroke:#ff0000;\" x=\"724.268414\" xlink:href=\"#m4fa1dc493e\" y=\"393.978585\"/>\n     <use style=\"fill:#ff0000;stroke:#ff0000;\" x=\"731.954365\" xlink:href=\"#m4fa1dc493e\" y=\"396.172328\"/>\n     <use style=\"fill:#ff0000;stroke:#ff0000;\" x=\"739.640315\" xlink:href=\"#m4fa1dc493e\" y=\"398.31522\"/>\n     <use style=\"fill:#ff0000;stroke:#ff0000;\" x=\"747.326265\" xlink:href=\"#m4fa1dc493e\" y=\"400.412574\"/>\n     <use style=\"fill:#ff0000;stroke:#ff0000;\" x=\"755.012216\" xlink:href=\"#m4fa1dc493e\" y=\"402.471036\"/>\n     <use style=\"fill:#ff0000;stroke:#ff0000;\" x=\"762.698166\" xlink:href=\"#m4fa1dc493e\" y=\"404.487716\"/>\n     <use style=\"fill:#ff0000;stroke:#ff0000;\" x=\"770.384117\" xlink:href=\"#m4fa1dc493e\" y=\"406.457045\"/>\n     <use style=\"fill:#ff0000;stroke:#ff0000;\" x=\"778.070067\" xlink:href=\"#m4fa1dc493e\" y=\"408.380056\"/>\n     <use style=\"fill:#ff0000;stroke:#ff0000;\" x=\"785.756018\" xlink:href=\"#m4fa1dc493e\" y=\"410.25705\"/>\n     <use style=\"fill:#ff0000;stroke:#ff0000;\" x=\"793.441968\" xlink:href=\"#m4fa1dc493e\" y=\"412.089338\"/>\n     <use style=\"fill:#ff0000;stroke:#ff0000;\" x=\"801.127918\" xlink:href=\"#m4fa1dc493e\" y=\"413.884721\"/>\n     <use style=\"fill:#ff0000;stroke:#ff0000;\" x=\"808.813869\" xlink:href=\"#m4fa1dc493e\" y=\"415.644786\"/>\n     <use style=\"fill:#ff0000;stroke:#ff0000;\" x=\"816.499819\" xlink:href=\"#m4fa1dc493e\" y=\"417.369391\"/>\n     <use style=\"fill:#ff0000;stroke:#ff0000;\" x=\"824.18577\" xlink:href=\"#m4fa1dc493e\" y=\"419.054729\"/>\n     <use style=\"fill:#ff0000;stroke:#ff0000;\" x=\"831.87172\" xlink:href=\"#m4fa1dc493e\" y=\"420.701978\"/>\n     <use style=\"fill:#ff0000;stroke:#ff0000;\" x=\"839.55767\" xlink:href=\"#m4fa1dc493e\" y=\"422.312727\"/>\n    </g>\n   </g>\n   <g id=\"patch_3\">\n    <path d=\"M 40.603125 442.08 \nL 40.603125 7.2 \n\" style=\"fill:none;stroke:#000000;stroke-linecap:square;stroke-linejoin:miter;stroke-width:0.8;\"/>\n   </g>\n   <g id=\"patch_4\">\n    <path d=\"M 877.603125 442.08 \nL 877.603125 7.2 \n\" style=\"fill:none;stroke:#000000;stroke-linecap:square;stroke-linejoin:miter;stroke-width:0.8;\"/>\n   </g>\n   <g id=\"patch_5\">\n    <path d=\"M 40.603125 442.08 \nL 877.603125 442.08 \n\" style=\"fill:none;stroke:#000000;stroke-linecap:square;stroke-linejoin:miter;stroke-width:0.8;\"/>\n   </g>\n   <g id=\"patch_6\">\n    <path d=\"M 40.603125 7.2 \nL 877.603125 7.2 \n\" style=\"fill:none;stroke:#000000;stroke-linecap:square;stroke-linejoin:miter;stroke-width:0.8;\"/>\n   </g>\n  </g>\n </g>\n <defs>\n  <clipPath id=\"p3038fb382c\">\n   <rect height=\"434.88\" width=\"837\" x=\"40.603125\" y=\"7.2\"/>\n  </clipPath>\n </defs>\n</svg>\n",
      "image/png": "[encoded data removed]"
     },
     "metadata": {
      "needs_background": "light"
     }
    }
   ],
   "source": [
    "import matplotlib.pyplot as plt\n",
    "%matplotlib inline\n",
    "\n",
    "plt.figure(figsize=(15,8))\n",
    "plt.plot(strikes, option_values_seq, color='b')\n",
    "plt.plot(strikes, option_values_seq, color='r', markersize=0.5, marker='.')\n",
    "plt.grid(True)\n",
    "plt.xlabel('strikes')\n",
    "plt.ylabel('European call option values')"
   ]
  },
  {
   "cell_type": "code",
   "execution_count": 14,
   "metadata": {
    "tags": []
   },
   "outputs": [
    {
     "output_type": "stream",
     "name": "stdout",
     "text": [
      "Waiting for connection file: ~/.ipython/profile_default/security/ipcontroller-client.json\n"
     ]
    },
    {
     "output_type": "error",
     "ename": "OSError",
     "evalue": "Connection file '~/.ipython/profile_default/security/ipcontroller-client.json' not found.\nYou have attempted to connect to an IPython Cluster but no Controller could be found.\nPlease double-check your configuration and ensure that a cluster is running.",
     "traceback": [
      "\u001b[0;31m---------------------------------------------------------------------------\u001b[0m",
      "\u001b[0;31mOSError\u001b[0m                                   Traceback (most recent call last)",
      "\u001b[0;32m<ipython-input-14-e8d8f2a5c9d5>\u001b[0m in \u001b[0;36m<module>\u001b[0;34m\u001b[0m\n\u001b[1;32m     14\u001b[0m \u001b[0mget_ipython\u001b[0m\u001b[0;34m(\u001b[0m\u001b[0;34m)\u001b[0m\u001b[0;34m.\u001b[0m\u001b[0mrun_line_magic\u001b[0m\u001b[0;34m(\u001b[0m\u001b[0;34m'matplotlib'\u001b[0m\u001b[0;34m,\u001b[0m \u001b[0;34m'inline'\u001b[0m\u001b[0;34m)\u001b[0m\u001b[0;34m\u001b[0m\u001b[0;34m\u001b[0m\u001b[0m\n\u001b[1;32m     15\u001b[0m \u001b[0;34m\u001b[0m\u001b[0m\n\u001b[0;32m---> 16\u001b[0;31m \u001b[0mrc\u001b[0m \u001b[0;34m=\u001b[0m \u001b[0mipp\u001b[0m\u001b[0;34m.\u001b[0m\u001b[0mClient\u001b[0m\u001b[0;34m(\u001b[0m\u001b[0mprofile\u001b[0m\u001b[0;34m=\u001b[0m\u001b[0;34m\"default\"\u001b[0m\u001b[0;34m)\u001b[0m\u001b[0;34m\u001b[0m\u001b[0;34m\u001b[0m\u001b[0m\n\u001b[0m\u001b[1;32m     17\u001b[0m \u001b[0mprint\u001b[0m\u001b[0;34m(\u001b[0m\u001b[0mrc\u001b[0m\u001b[0;34m.\u001b[0m\u001b[0mids\u001b[0m\u001b[0;34m)\u001b[0m\u001b[0;34m\u001b[0m\u001b[0;34m\u001b[0m\u001b[0m\n\u001b[1;32m     18\u001b[0m \u001b[0;31m# direct_view = rc[:]\u001b[0m\u001b[0;34m\u001b[0m\u001b[0;34m\u001b[0m\u001b[0;34m\u001b[0m\u001b[0m\n",
      "\u001b[0;32m~/opt/anaconda3/envs/rl/lib/python3.6/site-packages/ipyparallel/client/client.py\u001b[0m in \u001b[0;36m__init__\u001b[0;34m(self, url_file, profile, profile_dir, ipython_dir, context, debug, sshserver, sshkey, password, paramiko, timeout, cluster_id, **extra_args)\u001b[0m\n\u001b[1;32m    415\u001b[0m                         \u001b[0mno_file_msg\u001b[0m\u001b[0;34m,\u001b[0m\u001b[0;34m\u001b[0m\u001b[0;34m\u001b[0m\u001b[0m\n\u001b[1;32m    416\u001b[0m                     ])\n\u001b[0;32m--> 417\u001b[0;31m                     \u001b[0;32mraise\u001b[0m \u001b[0mIOError\u001b[0m\u001b[0;34m(\u001b[0m\u001b[0mmsg\u001b[0m\u001b[0;34m)\u001b[0m\u001b[0;34m\u001b[0m\u001b[0;34m\u001b[0m\u001b[0m\n\u001b[0m\u001b[1;32m    418\u001b[0m         \u001b[0;32mif\u001b[0m \u001b[0murl_file\u001b[0m \u001b[0;32mis\u001b[0m \u001b[0;32mNone\u001b[0m\u001b[0;34m:\u001b[0m\u001b[0;34m\u001b[0m\u001b[0;34m\u001b[0m\u001b[0m\n\u001b[1;32m    419\u001b[0m             \u001b[0;32mraise\u001b[0m \u001b[0mIOError\u001b[0m\u001b[0;34m(\u001b[0m\u001b[0mno_file_msg\u001b[0m\u001b[0;34m)\u001b[0m\u001b[0;34m\u001b[0m\u001b[0;34m\u001b[0m\u001b[0m\n",
      "\u001b[0;31mOSError\u001b[0m: Connection file '~/.ipython/profile_default/security/ipcontroller-client.json' not found.\nYou have attempted to connect to an IPython Cluster but no Controller could be found.\nPlease double-check your configuration and ensure that a cluster is running."
     ]
    }
   ],
   "source": [
    "# 병렬계산 방식 (2) IPython.parallel 클러스터나 로컬 컴퓨터에서 코드와 함수를 병렬 실행\n",
    "# 참고 : https://velog.io/@prayme/Ipyparallel-%EB%AC%B8%EC%84%9C-%EC%9D%BD%EA%B8%B0\n",
    "# https://coderzcolumn.com/tutorials/python/ipyparallel-parallel-processing-in-python#3.2\n",
    "# https://github.com/ipython/ipyparallel\n",
    "# async의 개념도 공부..\n",
    "# 현재 작동 안함 ...\n",
    "# terminal에 ipcluster start로 시작\n",
    "# ipcluster stop으로 정지\n",
    "\n",
    "\n",
    "import ipyparallel as ipp\n",
    "import numpy as np\n",
    "import matplotlib.pyplot as plt\n",
    "%matplotlib inline\n",
    "\n",
    "rc = ipp.Client(profile=\"default\")\n",
    "print(rc.ids)\n",
    "# direct_view = rc[:]\n",
    "# dv = rc[:]\n",
    "# direct_view.apply\n",
    "view = rc.load_balanced_view()\n",
    "\n",
    "\n",
    "# @ipp.require('np')\n",
    "# 몬테카를로 시뮬레이션 으로 구한 유러피언 옵션\n",
    "def bsm_mcs_europian_option(S, K, T, r, sigma, option_type):\n",
    "\n",
    "    # 만기 주가는 다음과 같은 식을 따름. 유도는 13장 참고 \n",
    "    # ST = S * np.exp((r-0.5 * sigma ** 2)*T + sigma * np.sqrt(T) * z)\n",
    "    \n",
    "    import numpy as np\n",
    "\n",
    "    S0 = S\n",
    "    I = 20000                                  # 시뮬레이션 횟수\n",
    "    M = 50                                    # 만기까지 기간을 M 구간 나눔\n",
    "    dt = T/M\n",
    "\n",
    "    np.random.seed(0)                         # 난수 초기값 설정\n",
    "    z = np.random.standard_normal((M+1,I))    # 난수 생성 (M+1 by I)\n",
    "\n",
    "    S = np.zeros((M+1,I))\n",
    "    S[0] = S0                                 # [S0, ... S0] 리스트 안의 원소수 I개\n",
    "    \n",
    "    for t in range(1, M+1):\n",
    "        S[t] = S[t-1] * np.exp((r-0.5 * sigma ** 2)*dt + sigma * np.sqrt(dt) * z[t])\n",
    "\n",
    "    # 즉 S는 M구간의 주가이동경로를 I개 만큼 가지고 있음\n",
    "    # 마지막 구간 즉 만기에서 나온 값들을 평균냄\n",
    "    # 여기서 주의해야할 점은 np.max와 np.maximum이 다르다는 것. \n",
    "    # np.max는 전체 배열에서 최대 요소 값을 찾음. np.maximum은 요소 별 최댓값을 찾음\n",
    "    if option_type == 'call':\n",
    "        hT = np.maximum(S[-1] - K, 0)\n",
    "\n",
    "        return np.exp(-r * T) * np.sum(hT) / I\n",
    "\n",
    "    else:\n",
    "        hT = np.maximum(K - S[-1], 0)\n",
    "\n",
    "        return np.exp(-r * T) * np.sum(hT) / I\n",
    "\n",
    "# 옵션 가치의 병렬 계산\n",
    "def par_value(n):\n",
    "    # n은 행사가의 갯수\n",
    "\n",
    "    strikes = np.linspace(80,120,n)\n",
    "    option_values = []\n",
    "    all_ids = []\n",
    "\n",
    "    for strike in strikes:\n",
    "        # print(strike)\n",
    "        # apply_async와 apply_sync의 차이... \n",
    "        value = view.apply_async(bsm_mcs_europian_option,100,strike,1,0.05,0.2,'call')\n",
    "        option_values.append(value)\n",
    "    rc.wait(option_values)\n",
    "    return strikes, option_values\n",
    "\n",
    "n=100\n",
    "%time strikes, option_values_par = par_value(n)\n",
    "print(option_values_par[0].metadata)\n",
    "print('check2')\n",
    "# result = [x.get_dict() for x in option_values_par]\n",
    "# print(result)\n",
    "print('check3')\n",
    "plt.figure(figsize=(15,8))\n",
    "plt.plot(strikes, option_values_par, color='b')\n",
    "plt.plot(strikes, option_values_par, color='r', markersize=0.5, marker='.')\n",
    "plt.grid(True)\n",
    "plt.xlabel('strikes')\n",
    "plt.ylabel('European call option values')\n",
    "print('check4')\n"
   ]
  },
  {
   "cell_type": "code",
   "execution_count": 21,
   "metadata": {
    "tags": []
   },
   "outputs": [
    {
     "output_type": "stream",
     "name": "stdout",
     "text": [
      "[[100.         100.        ]\n [112.05633581  94.15514269]\n [109.58461751 114.46685697]\n [122.73759783 127.76507413]\n [128.88727591 133.96302932]\n [115.26907786 133.01981557]]\n"
     ]
    }
   ],
   "source": [
    "# 멜티프로세싱 테스트. 파이썬의 표준 멀티프로세싱 모듈 사용\n",
    "# 하나의 컴퓨터에서 코드를 병렬실행. \n",
    "\n",
    "import multiprocessing as mp\n",
    "import matplotlib.pyplot as plt\n",
    "import numpy as np\n",
    "from time import time\n",
    "\n",
    "def simulate_geometric_brownian_motion(p):\n",
    "    M, I = p\n",
    "      # time steps, paths\n",
    "    S0 = 100; r = 0.05; sigma = 0.2; T = 1.0\n",
    "      # model parameters\n",
    "    dt = T / M\n",
    "    paths = np.zeros((M + 1, I))\n",
    "    paths[0] = S0\n",
    "    for t in range(1, M + 1):\n",
    "        paths[t] = paths[t - 1] * np.exp((r - 0.5 * sigma ** 2) * dt +\n",
    "                    sigma * np.sqrt(dt) * np.random.standard_normal(I))\n",
    "    return paths\n",
    "\n",
    "paths = simulate_geometric_brownian_motion((5, 2))\n",
    "print(paths)\n",
    "\n",
    "\n",
    "I = 10000  # number of paths\n",
    "M = 50  # number of time steps\n",
    "t = 20  # number of tasks/simulations\n",
    "\n",
    "pool = mp.Pool(processes=4)\n"
   ]
  },
  {
   "cell_type": "code",
   "execution_count": 25,
   "metadata": {},
   "outputs": [
    {
     "output_type": "stream",
     "name": "stdout",
     "text": [
      "CPU times: user 70.5 ms, sys: 134 ms, total: 204 ms\nWall time: 283 ms\n"
     ]
    },
    {
     "output_type": "execute_result",
     "data": {
      "text/plain": [
       "[array([[100.        , 100.        , 100.        , ..., 100.        ,\n",
       "         100.        , 100.        ],\n",
       "        [ 98.85926478,  99.38233661,  96.99598864, ...,  98.10644333,\n",
       "         101.37387396, 101.01748029],\n",
       "        [102.87400808, 100.64279732,  94.68167216, ...,  94.88117985,\n",
       "         103.5378687 ,  98.32803599],\n",
       "        ...,\n",
       "        [104.71387974, 121.21214539,  85.19673872, ..., 159.59722062,\n",
       "          87.67145707,  77.53429112],\n",
       "        [108.90616126, 121.83944285,  84.91480232, ..., 159.55095653,\n",
       "          87.11954006,  81.23374195],\n",
       "        [111.69684821, 117.38879919,  83.06726167, ..., 163.20125161,\n",
       "          86.08191911,  80.96648877]]),\n",
       " array([[100.        , 100.        , 100.        , ..., 100.        ,\n",
       "         100.        , 100.        ],\n",
       "        [ 96.12782876,  96.31816337,  99.07638955, ...,  99.07867518,\n",
       "          98.83416565,  99.27566675],\n",
       "        [ 97.87929795,  95.07363825,  98.66625298, ...,  93.42223804,\n",
       "         104.19256702, 101.59421047],\n",
       "        ...,\n",
       "        [ 70.67951056,  94.23191463, 107.87229247, ...,  63.42235476,\n",
       "          92.54851857, 114.97306803],\n",
       "        [ 68.11611432,  92.10552868, 110.21041071, ...,  62.09029894,\n",
       "          91.83219096, 113.99728307],\n",
       "        [ 66.90745845,  89.71604336, 108.36213776, ...,  61.67830923,\n",
       "          93.97105732, 110.50663119]]),\n",
       " array([[100.        , 100.        , 100.        , ..., 100.        ,\n",
       "         100.        , 100.        ],\n",
       "        [ 98.85926478,  99.38233661,  96.99598864, ...,  98.10644333,\n",
       "         101.37387396, 101.01748029],\n",
       "        [102.87400808, 100.64279732,  94.68167216, ...,  94.88117985,\n",
       "         103.5378687 ,  98.32803599],\n",
       "        ...,\n",
       "        [104.71387974, 121.21214539,  85.19673872, ..., 159.59722062,\n",
       "          87.67145707,  77.53429112],\n",
       "        [108.90616126, 121.83944285,  84.91480232, ..., 159.55095653,\n",
       "          87.11954006,  81.23374195],\n",
       "        [111.69684821, 117.38879919,  83.06726167, ..., 163.20125161,\n",
       "          86.08191911,  80.96648877]]),\n",
       " array([[100.        , 100.        , 100.        , ..., 100.        ,\n",
       "         100.        , 100.        ],\n",
       "        [ 96.12782876,  96.31816337,  99.07638955, ...,  99.07867518,\n",
       "          98.83416565,  99.27566675],\n",
       "        [ 97.87929795,  95.07363825,  98.66625298, ...,  93.42223804,\n",
       "         104.19256702, 101.59421047],\n",
       "        ...,\n",
       "        [ 70.67951056,  94.23191463, 107.87229247, ...,  63.42235476,\n",
       "          92.54851857, 114.97306803],\n",
       "        [ 68.11611432,  92.10552868, 110.21041071, ...,  62.09029894,\n",
       "          91.83219096, 113.99728307],\n",
       "        [ 66.90745845,  89.71604336, 108.36213776, ...,  61.67830923,\n",
       "          93.97105732, 110.50663119]]),\n",
       " array([[100.        , 100.        , 100.        , ..., 100.        ,\n",
       "         100.        , 100.        ],\n",
       "        [ 99.92808605, 100.69071056,  97.19221428, ...,  97.23457704,\n",
       "         103.80629375, 100.95885291],\n",
       "        [ 99.08815971,  99.93422911,  99.87392436, ...,  91.64533938,\n",
       "         105.04265324, 102.15834405],\n",
       "        ...,\n",
       "        [126.15153685,  99.8392151 , 141.64934423, ...,  93.98062184,\n",
       "         113.23961386,  72.56935278],\n",
       "        [125.55105165,  98.72704052, 144.69618063, ...,  89.76308554,\n",
       "         112.32890851,  73.49009111],\n",
       "        [125.53249765, 105.98927386, 147.96825124, ...,  90.47861916,\n",
       "         109.82932219,  73.89611199]]),\n",
       " array([[100.        , 100.        , 100.        , ..., 100.        ,\n",
       "         100.        , 100.        ],\n",
       "        [101.94348476,  99.4603799 , 100.10404746, ..., 102.32882052,\n",
       "          99.6792578 , 100.0046949 ],\n",
       "        [101.67180838,  98.81985816,  93.93966561, ..., 102.33084429,\n",
       "         101.62948122, 101.00642027],\n",
       "        ...,\n",
       "        [107.11079006, 133.80880027,  86.28468738, ...,  92.7100255 ,\n",
       "          86.39001703,  93.85409183],\n",
       "        [105.67276357, 135.03230425,  86.4283771 , ...,  95.55962018,\n",
       "          84.12021595,  94.92122962],\n",
       "        [108.83532104, 135.30384845,  82.97128067, ...,  94.63065189,\n",
       "          83.7209797 ,  92.88395616]]),\n",
       " array([[100.        , 100.        , 100.        , ..., 100.        ,\n",
       "         100.        , 100.        ],\n",
       "        [ 99.92808605, 100.69071056,  97.19221428, ...,  97.23457704,\n",
       "         103.80629375, 100.95885291],\n",
       "        [ 99.08815971,  99.93422911,  99.87392436, ...,  91.64533938,\n",
       "         105.04265324, 102.15834405],\n",
       "        ...,\n",
       "        [126.15153685,  99.8392151 , 141.64934423, ...,  93.98062184,\n",
       "         113.23961386,  72.56935278],\n",
       "        [125.55105165,  98.72704052, 144.69618063, ...,  89.76308554,\n",
       "         112.32890851,  73.49009111],\n",
       "        [125.53249765, 105.98927386, 147.96825124, ...,  90.47861916,\n",
       "         109.82932219,  73.89611199]]),\n",
       " array([[100.        , 100.        , 100.        , ..., 100.        ,\n",
       "         100.        , 100.        ],\n",
       "        [101.94348476,  99.4603799 , 100.10404746, ..., 102.32882052,\n",
       "          99.6792578 , 100.0046949 ],\n",
       "        [101.67180838,  98.81985816,  93.93966561, ..., 102.33084429,\n",
       "         101.62948122, 101.00642027],\n",
       "        ...,\n",
       "        [107.11079006, 133.80880027,  86.28468738, ...,  92.7100255 ,\n",
       "          86.39001703,  93.85409183],\n",
       "        [105.67276357, 135.03230425,  86.4283771 , ...,  95.55962018,\n",
       "          84.12021595,  94.92122962],\n",
       "        [108.83532104, 135.30384845,  82.97128067, ...,  94.63065189,\n",
       "          83.7209797 ,  92.88395616]]),\n",
       " array([[100.        , 100.        , 100.        , ..., 100.        ,\n",
       "         100.        , 100.        ],\n",
       "        [ 99.92808605, 100.69071056,  97.19221428, ...,  97.23457704,\n",
       "         103.80629375, 100.95885291],\n",
       "        [ 99.08815971,  99.93422911,  99.87392436, ...,  91.64533938,\n",
       "         105.04265324, 102.15834405],\n",
       "        ...,\n",
       "        [126.15153685,  99.8392151 , 141.64934423, ...,  93.98062184,\n",
       "         113.23961386,  72.56935278],\n",
       "        [125.55105165,  98.72704052, 144.69618063, ...,  89.76308554,\n",
       "         112.32890851,  73.49009111],\n",
       "        [125.53249765, 105.98927386, 147.96825124, ...,  90.47861916,\n",
       "         109.82932219,  73.89611199]]),\n",
       " array([[100.        , 100.        , 100.        , ..., 100.        ,\n",
       "         100.        , 100.        ],\n",
       "        [101.94348476,  99.4603799 , 100.10404746, ..., 102.32882052,\n",
       "          99.6792578 , 100.0046949 ],\n",
       "        [101.67180838,  98.81985816,  93.93966561, ..., 102.33084429,\n",
       "         101.62948122, 101.00642027],\n",
       "        ...,\n",
       "        [107.11079006, 133.80880027,  86.28468738, ...,  92.7100255 ,\n",
       "          86.39001703,  93.85409183],\n",
       "        [105.67276357, 135.03230425,  86.4283771 , ...,  95.55962018,\n",
       "          84.12021595,  94.92122962],\n",
       "        [108.83532104, 135.30384845,  82.97128067, ...,  94.63065189,\n",
       "          83.7209797 ,  92.88395616]]),\n",
       " array([[100.        , 100.        , 100.        , ..., 100.        ,\n",
       "         100.        , 100.        ],\n",
       "        [100.43899594, 100.24394145,  96.53916282, ..., 100.57335604,\n",
       "         101.14828807, 103.43781927],\n",
       "        [ 96.77612409, 102.15276556,  97.19579986, ...,  99.45808201,\n",
       "         101.77536128, 103.9515192 ],\n",
       "        ...,\n",
       "        [ 91.68260597, 175.31808941, 100.43095887, ..., 142.05892264,\n",
       "         120.18262508, 102.03188337],\n",
       "        [ 91.81050483, 175.51929591, 101.05007899, ..., 146.16703532,\n",
       "         124.40962338, 100.70090415],\n",
       "        [ 90.17943742, 181.43309818, 102.46427012, ..., 147.06624897,\n",
       "         124.95475955, 101.56136967]]),\n",
       " array([[100.        , 100.        , 100.        , ..., 100.        ,\n",
       "         100.        , 100.        ],\n",
       "        [101.8233619 , 103.47404866, 103.82413781, ..., 103.35073444,\n",
       "          95.38065632, 102.56549381],\n",
       "        [ 97.57275294, 108.21405288, 101.72769361, ..., 103.08093585,\n",
       "          98.47744258, 103.70772552],\n",
       "        ...,\n",
       "        [101.76172173, 108.55446765, 107.33136321, ...,  88.1668858 ,\n",
       "         113.37445455, 100.79885187],\n",
       "        [102.69961696, 108.74557468, 107.40836957, ...,  86.54424823,\n",
       "         114.94815786, 106.55582085],\n",
       "        [108.73150754, 103.98346452, 100.92929449, ...,  83.61479403,\n",
       "         109.91389143, 108.05011696]]),\n",
       " array([[100.        , 100.        , 100.        , ..., 100.        ,\n",
       "         100.        , 100.        ],\n",
       "        [100.43899594, 100.24394145,  96.53916282, ..., 100.57335604,\n",
       "         101.14828807, 103.43781927],\n",
       "        [ 96.77612409, 102.15276556,  97.19579986, ...,  99.45808201,\n",
       "         101.77536128, 103.9515192 ],\n",
       "        ...,\n",
       "        [ 91.68260597, 175.31808941, 100.43095887, ..., 142.05892264,\n",
       "         120.18262508, 102.03188337],\n",
       "        [ 91.81050483, 175.51929591, 101.05007899, ..., 146.16703532,\n",
       "         124.40962338, 100.70090415],\n",
       "        [ 90.17943742, 181.43309818, 102.46427012, ..., 147.06624897,\n",
       "         124.95475955, 101.56136967]]),\n",
       " array([[100.        , 100.        , 100.        , ..., 100.        ,\n",
       "         100.        , 100.        ],\n",
       "        [101.8233619 , 103.47404866, 103.82413781, ..., 103.35073444,\n",
       "          95.38065632, 102.56549381],\n",
       "        [ 97.57275294, 108.21405288, 101.72769361, ..., 103.08093585,\n",
       "          98.47744258, 103.70772552],\n",
       "        ...,\n",
       "        [101.76172173, 108.55446765, 107.33136321, ...,  88.1668858 ,\n",
       "         113.37445455, 100.79885187],\n",
       "        [102.69961696, 108.74557468, 107.40836957, ...,  86.54424823,\n",
       "         114.94815786, 106.55582085],\n",
       "        [108.73150754, 103.98346452, 100.92929449, ...,  83.61479403,\n",
       "         109.91389143, 108.05011696]]),\n",
       " array([[100.        , 100.        , 100.        , ..., 100.        ,\n",
       "         100.        , 100.        ],\n",
       "        [ 99.92808605, 100.69071056,  97.19221428, ...,  97.23457704,\n",
       "         103.80629375, 100.95885291],\n",
       "        [ 99.08815971,  99.93422911,  99.87392436, ...,  91.64533938,\n",
       "         105.04265324, 102.15834405],\n",
       "        ...,\n",
       "        [126.15153685,  99.8392151 , 141.64934423, ...,  93.98062184,\n",
       "         113.23961386,  72.56935278],\n",
       "        [125.55105165,  98.72704052, 144.69618063, ...,  89.76308554,\n",
       "         112.32890851,  73.49009111],\n",
       "        [125.53249765, 105.98927386, 147.96825124, ...,  90.47861916,\n",
       "         109.82932219,  73.89611199]]),\n",
       " array([[100.        , 100.        , 100.        , ..., 100.        ,\n",
       "         100.        , 100.        ],\n",
       "        [101.94348476,  99.4603799 , 100.10404746, ..., 102.32882052,\n",
       "          99.6792578 , 100.0046949 ],\n",
       "        [101.67180838,  98.81985816,  93.93966561, ..., 102.33084429,\n",
       "         101.62948122, 101.00642027],\n",
       "        ...,\n",
       "        [107.11079006, 133.80880027,  86.28468738, ...,  92.7100255 ,\n",
       "          86.39001703,  93.85409183],\n",
       "        [105.67276357, 135.03230425,  86.4283771 , ...,  95.55962018,\n",
       "          84.12021595,  94.92122962],\n",
       "        [108.83532104, 135.30384845,  82.97128067, ...,  94.63065189,\n",
       "          83.7209797 ,  92.88395616]]),\n",
       " array([[100.        , 100.        , 100.        , ..., 100.        ,\n",
       "         100.        , 100.        ],\n",
       "        [100.43899594, 100.24394145,  96.53916282, ..., 100.57335604,\n",
       "         101.14828807, 103.43781927],\n",
       "        [ 96.77612409, 102.15276556,  97.19579986, ...,  99.45808201,\n",
       "         101.77536128, 103.9515192 ],\n",
       "        ...,\n",
       "        [ 91.68260597, 175.31808941, 100.43095887, ..., 142.05892264,\n",
       "         120.18262508, 102.03188337],\n",
       "        [ 91.81050483, 175.51929591, 101.05007899, ..., 146.16703532,\n",
       "         124.40962338, 100.70090415],\n",
       "        [ 90.17943742, 181.43309818, 102.46427012, ..., 147.06624897,\n",
       "         124.95475955, 101.56136967]]),\n",
       " array([[100.        , 100.        , 100.        , ..., 100.        ,\n",
       "         100.        , 100.        ],\n",
       "        [101.8233619 , 103.47404866, 103.82413781, ..., 103.35073444,\n",
       "          95.38065632, 102.56549381],\n",
       "        [ 97.57275294, 108.21405288, 101.72769361, ..., 103.08093585,\n",
       "          98.47744258, 103.70772552],\n",
       "        ...,\n",
       "        [101.76172173, 108.55446765, 107.33136321, ...,  88.1668858 ,\n",
       "         113.37445455, 100.79885187],\n",
       "        [102.69961696, 108.74557468, 107.40836957, ...,  86.54424823,\n",
       "         114.94815786, 106.55582085],\n",
       "        [108.73150754, 103.98346452, 100.92929449, ...,  83.61479403,\n",
       "         109.91389143, 108.05011696]]),\n",
       " array([[100.        , 100.        , 100.        , ..., 100.        ,\n",
       "         100.        , 100.        ],\n",
       "        [102.06686478, 100.32254869,  96.55358184, ..., 100.55172001,\n",
       "         100.11931732, 103.30916334],\n",
       "        [108.95690625, 102.75589924,  97.8858866 , ..., 102.63869168,\n",
       "          97.65160833, 100.59404492],\n",
       "        ...,\n",
       "        [130.8192073 ,  88.8590776 , 105.97542421, ...,  90.50662258,\n",
       "         116.20445514, 150.1566741 ],\n",
       "        [135.02003703,  85.44749867, 106.73116213, ...,  92.67716961,\n",
       "         118.93346248, 148.99233462],\n",
       "        [136.85804847,  85.53290424, 113.47793116, ...,  91.82983178,\n",
       "         120.86653045, 145.51814123]]),\n",
       " array([[100.        , 100.        , 100.        , ..., 100.        ,\n",
       "         100.        , 100.        ],\n",
       "        [ 96.02524661,  96.2961875 ,  98.8799144 , ...,  99.8125881 ,\n",
       "          96.45716704,  97.81705649],\n",
       "        [ 99.77916444, 100.45940623,  99.58149018, ..., 101.09594593,\n",
       "          95.65829158,  98.76343376],\n",
       "        ...,\n",
       "        [ 88.4873579 , 111.82861449, 131.59244986, ..., 113.71775984,\n",
       "          75.73415393,  73.46466534],\n",
       "        [ 90.9789771 , 108.5852396 , 133.4430627 , ..., 118.50741176,\n",
       "          75.59402173,  71.30528565],\n",
       "        [ 89.0402709 , 110.74691083, 130.45374346, ..., 112.81547294,\n",
       "          75.29713386,  69.40550073]])]"
      ]
     },
     "metadata": {},
     "execution_count": 25
    }
   ],
   "source": [
    "%time pool.map(simulate_geometric_brownian_motion, t * [(M, I),])\n"
   ]
  },
  {
   "cell_type": "code",
   "execution_count": 23,
   "metadata": {},
   "outputs": [],
   "source": [
    "times = []\n",
    "for w in range(1, 5):\n",
    "    t0 = time()\n",
    "    pool = mp.Pool(processes=w)\n",
    "      # the pool of workers\n",
    "    result = pool.map(simulate_geometric_brownian_motion, t * [(M, I), ])\n",
    "      # the mapping of the function to the list of parameter tuples\n",
    "    times.append(time() - t0)"
   ]
  },
  {
   "cell_type": "code",
   "execution_count": 24,
   "metadata": {},
   "outputs": [
    {
     "output_type": "execute_result",
     "data": {
      "text/plain": [
       "Text(0.5, 1.0, '20 Monte Carlo simulations')"
      ]
     },
     "metadata": {},
     "execution_count": 24
    },
    {
     "output_type": "display_data",
     "data": {
      "text/plain": "<Figure size 432x288 with 1 Axes>",
      "image/svg+xml": "<?xml version=\"1.0\" encoding=\"utf-8\" standalone=\"no\"?>\n<!DOCTYPE svg PUBLIC \"-//W3C//DTD SVG 1.1//EN\"\n  \"http://www.w3.org/Graphics/SVG/1.1/DTD/svg11.dtd\">\n<!-- Created with matplotlib (https://matplotlib.org/) -->\n<svg height=\"277.314375pt\" version=\"1.1\" viewBox=\"0 0 392.14375 277.314375\" width=\"392.14375pt\" xmlns=\"http://www.w3.org/2000/svg\" xmlns:xlink=\"http://www.w3.org/1999/xlink\">\n <metadata>\n  <rdf:RDF xmlns:cc=\"http://creativecommons.org/ns#\" xmlns:dc=\"http://purl.org/dc/elements/1.1/\" xmlns:rdf=\"http://www.w3.org/1999/02/22-rdf-syntax-ns#\">\n   <cc:Work>\n    <dc:type rdf:resource=\"http://purl.org/dc/dcmitype/StillImage\"/>\n    <dc:date>2021-07-30T21:25:47.313334</dc:date>\n    <dc:format>image/svg+xml</dc:format>\n    <dc:creator>\n     <cc:Agent>\n      <dc:title>Matplotlib v3.3.4, https://matplotlib.org/</dc:title>\n     </cc:Agent>\n    </dc:creator>\n   </cc:Work>\n  </rdf:RDF>\n </metadata>\n <defs>\n  <style type=\"text/css\">*{stroke-linecap:butt;stroke-linejoin:round;}</style>\n </defs>\n <g id=\"figure_1\">\n  <g id=\"patch_1\">\n   <path d=\"M 0 277.314375 \nL 392.14375 277.314375 \nL 392.14375 0 \nL 0 0 \nz\n\" style=\"fill:none;\"/>\n  </g>\n  <g id=\"axes_1\">\n   <g id=\"patch_2\">\n    <path d=\"M 50.14375 239.758125 \nL 384.94375 239.758125 \nL 384.94375 22.318125 \nL 50.14375 22.318125 \nz\n\" style=\"fill:#ffffff;\"/>\n   </g>\n   <g id=\"matplotlib.axis_1\">\n    <g id=\"xtick_1\">\n     <g id=\"line2d_1\">\n      <path clip-path=\"url(#p2d4086ff46)\" d=\"M 65.361932 239.758125 \nL 65.361932 22.318125 \n\" style=\"fill:none;stroke:#b0b0b0;stroke-linecap:square;stroke-width:0.8;\"/>\n     </g>\n     <g id=\"line2d_2\">\n      <defs>\n       <path d=\"M 0 0 \nL 0 3.5 \n\" id=\"m7104046122\" style=\"stroke:#000000;stroke-width:0.8;\"/>\n      </defs>\n      <g>\n       <use style=\"stroke:#000000;stroke-width:0.8;\" x=\"65.361932\" xlink:href=\"#m7104046122\" y=\"239.758125\"/>\n      </g>\n     </g>\n     <g id=\"text_1\">\n      <!-- 1.0 -->\n      <g transform=\"translate(57.410369 254.356562)scale(0.1 -0.1)\">\n       <defs>\n        <path d=\"M 12.40625 8.296875 \nL 28.515625 8.296875 \nL 28.515625 63.921875 \nL 10.984375 60.40625 \nL 10.984375 69.390625 \nL 28.421875 72.90625 \nL 38.28125 72.90625 \nL 38.28125 8.296875 \nL 54.390625 8.296875 \nL 54.390625 0 \nL 12.40625 0 \nz\n\" id=\"DejaVuSans-49\"/>\n        <path d=\"M 10.6875 12.40625 \nL 21 12.40625 \nL 21 0 \nL 10.6875 0 \nz\n\" id=\"DejaVuSans-46\"/>\n        <path d=\"M 31.78125 66.40625 \nQ 24.171875 66.40625 20.328125 58.90625 \nQ 16.5 51.421875 16.5 36.375 \nQ 16.5 21.390625 20.328125 13.890625 \nQ 24.171875 6.390625 31.78125 6.390625 \nQ 39.453125 6.390625 43.28125 13.890625 \nQ 47.125 21.390625 47.125 36.375 \nQ 47.125 51.421875 43.28125 58.90625 \nQ 39.453125 66.40625 31.78125 66.40625 \nz\nM 31.78125 74.21875 \nQ 44.046875 74.21875 50.515625 64.515625 \nQ 56.984375 54.828125 56.984375 36.375 \nQ 56.984375 17.96875 50.515625 8.265625 \nQ 44.046875 -1.421875 31.78125 -1.421875 \nQ 19.53125 -1.421875 13.0625 8.265625 \nQ 6.59375 17.96875 6.59375 36.375 \nQ 6.59375 54.828125 13.0625 64.515625 \nQ 19.53125 74.21875 31.78125 74.21875 \nz\n\" id=\"DejaVuSans-48\"/>\n       </defs>\n       <use xlink:href=\"#DejaVuSans-49\"/>\n       <use x=\"63.623047\" xlink:href=\"#DejaVuSans-46\"/>\n       <use x=\"95.410156\" xlink:href=\"#DejaVuSans-48\"/>\n      </g>\n     </g>\n    </g>\n    <g id=\"xtick_2\">\n     <g id=\"line2d_3\">\n      <path clip-path=\"url(#p2d4086ff46)\" d=\"M 116.089205 239.758125 \nL 116.089205 22.318125 \n\" style=\"fill:none;stroke:#b0b0b0;stroke-linecap:square;stroke-width:0.8;\"/>\n     </g>\n     <g id=\"line2d_4\">\n      <g>\n       <use style=\"stroke:#000000;stroke-width:0.8;\" x=\"116.089205\" xlink:href=\"#m7104046122\" y=\"239.758125\"/>\n      </g>\n     </g>\n     <g id=\"text_2\">\n      <!-- 1.5 -->\n      <g transform=\"translate(108.137642 254.356562)scale(0.1 -0.1)\">\n       <defs>\n        <path d=\"M 10.796875 72.90625 \nL 49.515625 72.90625 \nL 49.515625 64.59375 \nL 19.828125 64.59375 \nL 19.828125 46.734375 \nQ 21.96875 47.46875 24.109375 47.828125 \nQ 26.265625 48.1875 28.421875 48.1875 \nQ 40.625 48.1875 47.75 41.5 \nQ 54.890625 34.8125 54.890625 23.390625 \nQ 54.890625 11.625 47.5625 5.09375 \nQ 40.234375 -1.421875 26.90625 -1.421875 \nQ 22.3125 -1.421875 17.546875 -0.640625 \nQ 12.796875 0.140625 7.71875 1.703125 \nL 7.71875 11.625 \nQ 12.109375 9.234375 16.796875 8.0625 \nQ 21.484375 6.890625 26.703125 6.890625 \nQ 35.15625 6.890625 40.078125 11.328125 \nQ 45.015625 15.765625 45.015625 23.390625 \nQ 45.015625 31 40.078125 35.4375 \nQ 35.15625 39.890625 26.703125 39.890625 \nQ 22.75 39.890625 18.8125 39.015625 \nQ 14.890625 38.140625 10.796875 36.28125 \nz\n\" id=\"DejaVuSans-53\"/>\n       </defs>\n       <use xlink:href=\"#DejaVuSans-49\"/>\n       <use x=\"63.623047\" xlink:href=\"#DejaVuSans-46\"/>\n       <use x=\"95.410156\" xlink:href=\"#DejaVuSans-53\"/>\n      </g>\n     </g>\n    </g>\n    <g id=\"xtick_3\">\n     <g id=\"line2d_5\">\n      <path clip-path=\"url(#p2d4086ff46)\" d=\"M 166.816477 239.758125 \nL 166.816477 22.318125 \n\" style=\"fill:none;stroke:#b0b0b0;stroke-linecap:square;stroke-width:0.8;\"/>\n     </g>\n     <g id=\"line2d_6\">\n      <g>\n       <use style=\"stroke:#000000;stroke-width:0.8;\" x=\"166.816477\" xlink:href=\"#m7104046122\" y=\"239.758125\"/>\n      </g>\n     </g>\n     <g id=\"text_3\">\n      <!-- 2.0 -->\n      <g transform=\"translate(158.864915 254.356562)scale(0.1 -0.1)\">\n       <defs>\n        <path d=\"M 19.1875 8.296875 \nL 53.609375 8.296875 \nL 53.609375 0 \nL 7.328125 0 \nL 7.328125 8.296875 \nQ 12.9375 14.109375 22.625 23.890625 \nQ 32.328125 33.6875 34.8125 36.53125 \nQ 39.546875 41.84375 41.421875 45.53125 \nQ 43.3125 49.21875 43.3125 52.78125 \nQ 43.3125 58.59375 39.234375 62.25 \nQ 35.15625 65.921875 28.609375 65.921875 \nQ 23.96875 65.921875 18.8125 64.3125 \nQ 13.671875 62.703125 7.8125 59.421875 \nL 7.8125 69.390625 \nQ 13.765625 71.78125 18.9375 73 \nQ 24.125 74.21875 28.421875 74.21875 \nQ 39.75 74.21875 46.484375 68.546875 \nQ 53.21875 62.890625 53.21875 53.421875 \nQ 53.21875 48.921875 51.53125 44.890625 \nQ 49.859375 40.875 45.40625 35.40625 \nQ 44.1875 33.984375 37.640625 27.21875 \nQ 31.109375 20.453125 19.1875 8.296875 \nz\n\" id=\"DejaVuSans-50\"/>\n       </defs>\n       <use xlink:href=\"#DejaVuSans-50\"/>\n       <use x=\"63.623047\" xlink:href=\"#DejaVuSans-46\"/>\n       <use x=\"95.410156\" xlink:href=\"#DejaVuSans-48\"/>\n      </g>\n     </g>\n    </g>\n    <g id=\"xtick_4\">\n     <g id=\"line2d_7\">\n      <path clip-path=\"url(#p2d4086ff46)\" d=\"M 217.54375 239.758125 \nL 217.54375 22.318125 \n\" style=\"fill:none;stroke:#b0b0b0;stroke-linecap:square;stroke-width:0.8;\"/>\n     </g>\n     <g id=\"line2d_8\">\n      <g>\n       <use style=\"stroke:#000000;stroke-width:0.8;\" x=\"217.54375\" xlink:href=\"#m7104046122\" y=\"239.758125\"/>\n      </g>\n     </g>\n     <g id=\"text_4\">\n      <!-- 2.5 -->\n      <g transform=\"translate(209.592187 254.356562)scale(0.1 -0.1)\">\n       <use xlink:href=\"#DejaVuSans-50\"/>\n       <use x=\"63.623047\" xlink:href=\"#DejaVuSans-46\"/>\n       <use x=\"95.410156\" xlink:href=\"#DejaVuSans-53\"/>\n      </g>\n     </g>\n    </g>\n    <g id=\"xtick_5\">\n     <g id=\"line2d_9\">\n      <path clip-path=\"url(#p2d4086ff46)\" d=\"M 268.271023 239.758125 \nL 268.271023 22.318125 \n\" style=\"fill:none;stroke:#b0b0b0;stroke-linecap:square;stroke-width:0.8;\"/>\n     </g>\n     <g id=\"line2d_10\">\n      <g>\n       <use style=\"stroke:#000000;stroke-width:0.8;\" x=\"268.271023\" xlink:href=\"#m7104046122\" y=\"239.758125\"/>\n      </g>\n     </g>\n     <g id=\"text_5\">\n      <!-- 3.0 -->\n      <g transform=\"translate(260.31946 254.356562)scale(0.1 -0.1)\">\n       <defs>\n        <path d=\"M 40.578125 39.3125 \nQ 47.65625 37.796875 51.625 33 \nQ 55.609375 28.21875 55.609375 21.1875 \nQ 55.609375 10.40625 48.1875 4.484375 \nQ 40.765625 -1.421875 27.09375 -1.421875 \nQ 22.515625 -1.421875 17.65625 -0.515625 \nQ 12.796875 0.390625 7.625 2.203125 \nL 7.625 11.71875 \nQ 11.71875 9.328125 16.59375 8.109375 \nQ 21.484375 6.890625 26.8125 6.890625 \nQ 36.078125 6.890625 40.9375 10.546875 \nQ 45.796875 14.203125 45.796875 21.1875 \nQ 45.796875 27.640625 41.28125 31.265625 \nQ 36.765625 34.90625 28.71875 34.90625 \nL 20.21875 34.90625 \nL 20.21875 43.015625 \nL 29.109375 43.015625 \nQ 36.375 43.015625 40.234375 45.921875 \nQ 44.09375 48.828125 44.09375 54.296875 \nQ 44.09375 59.90625 40.109375 62.90625 \nQ 36.140625 65.921875 28.71875 65.921875 \nQ 24.65625 65.921875 20.015625 65.03125 \nQ 15.375 64.15625 9.8125 62.3125 \nL 9.8125 71.09375 \nQ 15.4375 72.65625 20.34375 73.4375 \nQ 25.25 74.21875 29.59375 74.21875 \nQ 40.828125 74.21875 47.359375 69.109375 \nQ 53.90625 64.015625 53.90625 55.328125 \nQ 53.90625 49.265625 50.4375 45.09375 \nQ 46.96875 40.921875 40.578125 39.3125 \nz\n\" id=\"DejaVuSans-51\"/>\n       </defs>\n       <use xlink:href=\"#DejaVuSans-51\"/>\n       <use x=\"63.623047\" xlink:href=\"#DejaVuSans-46\"/>\n       <use x=\"95.410156\" xlink:href=\"#DejaVuSans-48\"/>\n      </g>\n     </g>\n    </g>\n    <g id=\"xtick_6\">\n     <g id=\"line2d_11\">\n      <path clip-path=\"url(#p2d4086ff46)\" d=\"M 318.998295 239.758125 \nL 318.998295 22.318125 \n\" style=\"fill:none;stroke:#b0b0b0;stroke-linecap:square;stroke-width:0.8;\"/>\n     </g>\n     <g id=\"line2d_12\">\n      <g>\n       <use style=\"stroke:#000000;stroke-width:0.8;\" x=\"318.998295\" xlink:href=\"#m7104046122\" y=\"239.758125\"/>\n      </g>\n     </g>\n     <g id=\"text_6\">\n      <!-- 3.5 -->\n      <g transform=\"translate(311.046733 254.356562)scale(0.1 -0.1)\">\n       <use xlink:href=\"#DejaVuSans-51\"/>\n       <use x=\"63.623047\" xlink:href=\"#DejaVuSans-46\"/>\n       <use x=\"95.410156\" xlink:href=\"#DejaVuSans-53\"/>\n      </g>\n     </g>\n    </g>\n    <g id=\"xtick_7\">\n     <g id=\"line2d_13\">\n      <path clip-path=\"url(#p2d4086ff46)\" d=\"M 369.725568 239.758125 \nL 369.725568 22.318125 \n\" style=\"fill:none;stroke:#b0b0b0;stroke-linecap:square;stroke-width:0.8;\"/>\n     </g>\n     <g id=\"line2d_14\">\n      <g>\n       <use style=\"stroke:#000000;stroke-width:0.8;\" x=\"369.725568\" xlink:href=\"#m7104046122\" y=\"239.758125\"/>\n      </g>\n     </g>\n     <g id=\"text_7\">\n      <!-- 4.0 -->\n      <g transform=\"translate(361.774006 254.356562)scale(0.1 -0.1)\">\n       <defs>\n        <path d=\"M 37.796875 64.3125 \nL 12.890625 25.390625 \nL 37.796875 25.390625 \nz\nM 35.203125 72.90625 \nL 47.609375 72.90625 \nL 47.609375 25.390625 \nL 58.015625 25.390625 \nL 58.015625 17.1875 \nL 47.609375 17.1875 \nL 47.609375 0 \nL 37.796875 0 \nL 37.796875 17.1875 \nL 4.890625 17.1875 \nL 4.890625 26.703125 \nz\n\" id=\"DejaVuSans-52\"/>\n       </defs>\n       <use xlink:href=\"#DejaVuSans-52\"/>\n       <use x=\"63.623047\" xlink:href=\"#DejaVuSans-46\"/>\n       <use x=\"95.410156\" xlink:href=\"#DejaVuSans-48\"/>\n      </g>\n     </g>\n    </g>\n    <g id=\"text_8\">\n     <!-- number of processes -->\n     <g transform=\"translate(165.139063 268.034687)scale(0.1 -0.1)\">\n      <defs>\n       <path d=\"M 54.890625 33.015625 \nL 54.890625 0 \nL 45.90625 0 \nL 45.90625 32.71875 \nQ 45.90625 40.484375 42.875 44.328125 \nQ 39.84375 48.1875 33.796875 48.1875 \nQ 26.515625 48.1875 22.3125 43.546875 \nQ 18.109375 38.921875 18.109375 30.90625 \nL 18.109375 0 \nL 9.078125 0 \nL 9.078125 54.6875 \nL 18.109375 54.6875 \nL 18.109375 46.1875 \nQ 21.34375 51.125 25.703125 53.5625 \nQ 30.078125 56 35.796875 56 \nQ 45.21875 56 50.046875 50.171875 \nQ 54.890625 44.34375 54.890625 33.015625 \nz\n\" id=\"DejaVuSans-110\"/>\n       <path d=\"M 8.5 21.578125 \nL 8.5 54.6875 \nL 17.484375 54.6875 \nL 17.484375 21.921875 \nQ 17.484375 14.15625 20.5 10.265625 \nQ 23.53125 6.390625 29.59375 6.390625 \nQ 36.859375 6.390625 41.078125 11.03125 \nQ 45.3125 15.671875 45.3125 23.6875 \nL 45.3125 54.6875 \nL 54.296875 54.6875 \nL 54.296875 0 \nL 45.3125 0 \nL 45.3125 8.40625 \nQ 42.046875 3.421875 37.71875 1 \nQ 33.40625 -1.421875 27.6875 -1.421875 \nQ 18.265625 -1.421875 13.375 4.4375 \nQ 8.5 10.296875 8.5 21.578125 \nz\nM 31.109375 56 \nz\n\" id=\"DejaVuSans-117\"/>\n       <path d=\"M 52 44.1875 \nQ 55.375 50.25 60.0625 53.125 \nQ 64.75 56 71.09375 56 \nQ 79.640625 56 84.28125 50.015625 \nQ 88.921875 44.046875 88.921875 33.015625 \nL 88.921875 0 \nL 79.890625 0 \nL 79.890625 32.71875 \nQ 79.890625 40.578125 77.09375 44.375 \nQ 74.3125 48.1875 68.609375 48.1875 \nQ 61.625 48.1875 57.5625 43.546875 \nQ 53.515625 38.921875 53.515625 30.90625 \nL 53.515625 0 \nL 44.484375 0 \nL 44.484375 32.71875 \nQ 44.484375 40.625 41.703125 44.40625 \nQ 38.921875 48.1875 33.109375 48.1875 \nQ 26.21875 48.1875 22.15625 43.53125 \nQ 18.109375 38.875 18.109375 30.90625 \nL 18.109375 0 \nL 9.078125 0 \nL 9.078125 54.6875 \nL 18.109375 54.6875 \nL 18.109375 46.1875 \nQ 21.1875 51.21875 25.484375 53.609375 \nQ 29.78125 56 35.6875 56 \nQ 41.65625 56 45.828125 52.96875 \nQ 50 49.953125 52 44.1875 \nz\n\" id=\"DejaVuSans-109\"/>\n       <path d=\"M 48.6875 27.296875 \nQ 48.6875 37.203125 44.609375 42.84375 \nQ 40.53125 48.484375 33.40625 48.484375 \nQ 26.265625 48.484375 22.1875 42.84375 \nQ 18.109375 37.203125 18.109375 27.296875 \nQ 18.109375 17.390625 22.1875 11.75 \nQ 26.265625 6.109375 33.40625 6.109375 \nQ 40.53125 6.109375 44.609375 11.75 \nQ 48.6875 17.390625 48.6875 27.296875 \nz\nM 18.109375 46.390625 \nQ 20.953125 51.265625 25.265625 53.625 \nQ 29.59375 56 35.59375 56 \nQ 45.5625 56 51.78125 48.09375 \nQ 58.015625 40.1875 58.015625 27.296875 \nQ 58.015625 14.40625 51.78125 6.484375 \nQ 45.5625 -1.421875 35.59375 -1.421875 \nQ 29.59375 -1.421875 25.265625 0.953125 \nQ 20.953125 3.328125 18.109375 8.203125 \nL 18.109375 0 \nL 9.078125 0 \nL 9.078125 75.984375 \nL 18.109375 75.984375 \nz\n\" id=\"DejaVuSans-98\"/>\n       <path d=\"M 56.203125 29.59375 \nL 56.203125 25.203125 \nL 14.890625 25.203125 \nQ 15.484375 15.921875 20.484375 11.0625 \nQ 25.484375 6.203125 34.421875 6.203125 \nQ 39.59375 6.203125 44.453125 7.46875 \nQ 49.3125 8.734375 54.109375 11.28125 \nL 54.109375 2.78125 \nQ 49.265625 0.734375 44.1875 -0.34375 \nQ 39.109375 -1.421875 33.890625 -1.421875 \nQ 20.796875 -1.421875 13.15625 6.1875 \nQ 5.515625 13.8125 5.515625 26.8125 \nQ 5.515625 40.234375 12.765625 48.109375 \nQ 20.015625 56 32.328125 56 \nQ 43.359375 56 49.78125 48.890625 \nQ 56.203125 41.796875 56.203125 29.59375 \nz\nM 47.21875 32.234375 \nQ 47.125 39.59375 43.09375 43.984375 \nQ 39.0625 48.390625 32.421875 48.390625 \nQ 24.90625 48.390625 20.390625 44.140625 \nQ 15.875 39.890625 15.1875 32.171875 \nz\n\" id=\"DejaVuSans-101\"/>\n       <path d=\"M 41.109375 46.296875 \nQ 39.59375 47.171875 37.8125 47.578125 \nQ 36.03125 48 33.890625 48 \nQ 26.265625 48 22.1875 43.046875 \nQ 18.109375 38.09375 18.109375 28.8125 \nL 18.109375 0 \nL 9.078125 0 \nL 9.078125 54.6875 \nL 18.109375 54.6875 \nL 18.109375 46.1875 \nQ 20.953125 51.171875 25.484375 53.578125 \nQ 30.03125 56 36.53125 56 \nQ 37.453125 56 38.578125 55.875 \nQ 39.703125 55.765625 41.0625 55.515625 \nz\n\" id=\"DejaVuSans-114\"/>\n       <path id=\"DejaVuSans-32\"/>\n       <path d=\"M 30.609375 48.390625 \nQ 23.390625 48.390625 19.1875 42.75 \nQ 14.984375 37.109375 14.984375 27.296875 \nQ 14.984375 17.484375 19.15625 11.84375 \nQ 23.34375 6.203125 30.609375 6.203125 \nQ 37.796875 6.203125 41.984375 11.859375 \nQ 46.1875 17.53125 46.1875 27.296875 \nQ 46.1875 37.015625 41.984375 42.703125 \nQ 37.796875 48.390625 30.609375 48.390625 \nz\nM 30.609375 56 \nQ 42.328125 56 49.015625 48.375 \nQ 55.71875 40.765625 55.71875 27.296875 \nQ 55.71875 13.875 49.015625 6.21875 \nQ 42.328125 -1.421875 30.609375 -1.421875 \nQ 18.84375 -1.421875 12.171875 6.21875 \nQ 5.515625 13.875 5.515625 27.296875 \nQ 5.515625 40.765625 12.171875 48.375 \nQ 18.84375 56 30.609375 56 \nz\n\" id=\"DejaVuSans-111\"/>\n       <path d=\"M 37.109375 75.984375 \nL 37.109375 68.5 \nL 28.515625 68.5 \nQ 23.6875 68.5 21.796875 66.546875 \nQ 19.921875 64.59375 19.921875 59.515625 \nL 19.921875 54.6875 \nL 34.71875 54.6875 \nL 34.71875 47.703125 \nL 19.921875 47.703125 \nL 19.921875 0 \nL 10.890625 0 \nL 10.890625 47.703125 \nL 2.296875 47.703125 \nL 2.296875 54.6875 \nL 10.890625 54.6875 \nL 10.890625 58.5 \nQ 10.890625 67.625 15.140625 71.796875 \nQ 19.390625 75.984375 28.609375 75.984375 \nz\n\" id=\"DejaVuSans-102\"/>\n       <path d=\"M 18.109375 8.203125 \nL 18.109375 -20.796875 \nL 9.078125 -20.796875 \nL 9.078125 54.6875 \nL 18.109375 54.6875 \nL 18.109375 46.390625 \nQ 20.953125 51.265625 25.265625 53.625 \nQ 29.59375 56 35.59375 56 \nQ 45.5625 56 51.78125 48.09375 \nQ 58.015625 40.1875 58.015625 27.296875 \nQ 58.015625 14.40625 51.78125 6.484375 \nQ 45.5625 -1.421875 35.59375 -1.421875 \nQ 29.59375 -1.421875 25.265625 0.953125 \nQ 20.953125 3.328125 18.109375 8.203125 \nz\nM 48.6875 27.296875 \nQ 48.6875 37.203125 44.609375 42.84375 \nQ 40.53125 48.484375 33.40625 48.484375 \nQ 26.265625 48.484375 22.1875 42.84375 \nQ 18.109375 37.203125 18.109375 27.296875 \nQ 18.109375 17.390625 22.1875 11.75 \nQ 26.265625 6.109375 33.40625 6.109375 \nQ 40.53125 6.109375 44.609375 11.75 \nQ 48.6875 17.390625 48.6875 27.296875 \nz\n\" id=\"DejaVuSans-112\"/>\n       <path d=\"M 48.78125 52.59375 \nL 48.78125 44.1875 \nQ 44.96875 46.296875 41.140625 47.34375 \nQ 37.3125 48.390625 33.40625 48.390625 \nQ 24.65625 48.390625 19.8125 42.84375 \nQ 14.984375 37.3125 14.984375 27.296875 \nQ 14.984375 17.28125 19.8125 11.734375 \nQ 24.65625 6.203125 33.40625 6.203125 \nQ 37.3125 6.203125 41.140625 7.25 \nQ 44.96875 8.296875 48.78125 10.40625 \nL 48.78125 2.09375 \nQ 45.015625 0.34375 40.984375 -0.53125 \nQ 36.96875 -1.421875 32.421875 -1.421875 \nQ 20.0625 -1.421875 12.78125 6.34375 \nQ 5.515625 14.109375 5.515625 27.296875 \nQ 5.515625 40.671875 12.859375 48.328125 \nQ 20.21875 56 33.015625 56 \nQ 37.15625 56 41.109375 55.140625 \nQ 45.0625 54.296875 48.78125 52.59375 \nz\n\" id=\"DejaVuSans-99\"/>\n       <path d=\"M 44.28125 53.078125 \nL 44.28125 44.578125 \nQ 40.484375 46.53125 36.375 47.5 \nQ 32.28125 48.484375 27.875 48.484375 \nQ 21.1875 48.484375 17.84375 46.4375 \nQ 14.5 44.390625 14.5 40.28125 \nQ 14.5 37.15625 16.890625 35.375 \nQ 19.28125 33.59375 26.515625 31.984375 \nL 29.59375 31.296875 \nQ 39.15625 29.25 43.1875 25.515625 \nQ 47.21875 21.78125 47.21875 15.09375 \nQ 47.21875 7.46875 41.1875 3.015625 \nQ 35.15625 -1.421875 24.609375 -1.421875 \nQ 20.21875 -1.421875 15.453125 -0.5625 \nQ 10.6875 0.296875 5.421875 2 \nL 5.421875 11.28125 \nQ 10.40625 8.6875 15.234375 7.390625 \nQ 20.0625 6.109375 24.8125 6.109375 \nQ 31.15625 6.109375 34.5625 8.28125 \nQ 37.984375 10.453125 37.984375 14.40625 \nQ 37.984375 18.0625 35.515625 20.015625 \nQ 33.0625 21.96875 24.703125 23.78125 \nL 21.578125 24.515625 \nQ 13.234375 26.265625 9.515625 29.90625 \nQ 5.8125 33.546875 5.8125 39.890625 \nQ 5.8125 47.609375 11.28125 51.796875 \nQ 16.75 56 26.8125 56 \nQ 31.78125 56 36.171875 55.265625 \nQ 40.578125 54.546875 44.28125 53.078125 \nz\n\" id=\"DejaVuSans-115\"/>\n      </defs>\n      <use xlink:href=\"#DejaVuSans-110\"/>\n      <use x=\"63.378906\" xlink:href=\"#DejaVuSans-117\"/>\n      <use x=\"126.757812\" xlink:href=\"#DejaVuSans-109\"/>\n      <use x=\"224.169922\" xlink:href=\"#DejaVuSans-98\"/>\n      <use x=\"287.646484\" xlink:href=\"#DejaVuSans-101\"/>\n      <use x=\"349.169922\" xlink:href=\"#DejaVuSans-114\"/>\n      <use x=\"390.283203\" xlink:href=\"#DejaVuSans-32\"/>\n      <use x=\"422.070312\" xlink:href=\"#DejaVuSans-111\"/>\n      <use x=\"483.251953\" xlink:href=\"#DejaVuSans-102\"/>\n      <use x=\"518.457031\" xlink:href=\"#DejaVuSans-32\"/>\n      <use x=\"550.244141\" xlink:href=\"#DejaVuSans-112\"/>\n      <use x=\"613.720703\" xlink:href=\"#DejaVuSans-114\"/>\n      <use x=\"652.583984\" xlink:href=\"#DejaVuSans-111\"/>\n      <use x=\"713.765625\" xlink:href=\"#DejaVuSans-99\"/>\n      <use x=\"768.746094\" xlink:href=\"#DejaVuSans-101\"/>\n      <use x=\"830.269531\" xlink:href=\"#DejaVuSans-115\"/>\n      <use x=\"882.369141\" xlink:href=\"#DejaVuSans-115\"/>\n      <use x=\"934.46875\" xlink:href=\"#DejaVuSans-101\"/>\n      <use x=\"995.992188\" xlink:href=\"#DejaVuSans-115\"/>\n     </g>\n    </g>\n   </g>\n   <g id=\"matplotlib.axis_2\">\n    <g id=\"ytick_1\">\n     <g id=\"line2d_15\">\n      <path clip-path=\"url(#p2d4086ff46)\" d=\"M 50.14375 217.861643 \nL 384.94375 217.861643 \n\" style=\"fill:none;stroke:#b0b0b0;stroke-linecap:square;stroke-width:0.8;\"/>\n     </g>\n     <g id=\"line2d_16\">\n      <defs>\n       <path d=\"M 0 0 \nL -3.5 0 \n\" id=\"m47a12e376f\" style=\"stroke:#000000;stroke-width:0.8;\"/>\n      </defs>\n      <g>\n       <use style=\"stroke:#000000;stroke-width:0.8;\" x=\"50.14375\" xlink:href=\"#m47a12e376f\" y=\"217.861643\"/>\n      </g>\n     </g>\n     <g id=\"text_9\">\n      <!-- 0.35 -->\n      <g transform=\"translate(20.878125 221.660862)scale(0.1 -0.1)\">\n       <use xlink:href=\"#DejaVuSans-48\"/>\n       <use x=\"63.623047\" xlink:href=\"#DejaVuSans-46\"/>\n       <use x=\"95.410156\" xlink:href=\"#DejaVuSans-51\"/>\n       <use x=\"159.033203\" xlink:href=\"#DejaVuSans-53\"/>\n      </g>\n     </g>\n    </g>\n    <g id=\"ytick_2\">\n     <g id=\"line2d_17\">\n      <path clip-path=\"url(#p2d4086ff46)\" d=\"M 50.14375 188.829495 \nL 384.94375 188.829495 \n\" style=\"fill:none;stroke:#b0b0b0;stroke-linecap:square;stroke-width:0.8;\"/>\n     </g>\n     <g id=\"line2d_18\">\n      <g>\n       <use style=\"stroke:#000000;stroke-width:0.8;\" x=\"50.14375\" xlink:href=\"#m47a12e376f\" y=\"188.829495\"/>\n      </g>\n     </g>\n     <g id=\"text_10\">\n      <!-- 0.40 -->\n      <g transform=\"translate(20.878125 192.628714)scale(0.1 -0.1)\">\n       <use xlink:href=\"#DejaVuSans-48\"/>\n       <use x=\"63.623047\" xlink:href=\"#DejaVuSans-46\"/>\n       <use x=\"95.410156\" xlink:href=\"#DejaVuSans-52\"/>\n       <use x=\"159.033203\" xlink:href=\"#DejaVuSans-48\"/>\n      </g>\n     </g>\n    </g>\n    <g id=\"ytick_3\">\n     <g id=\"line2d_19\">\n      <path clip-path=\"url(#p2d4086ff46)\" d=\"M 50.14375 159.797347 \nL 384.94375 159.797347 \n\" style=\"fill:none;stroke:#b0b0b0;stroke-linecap:square;stroke-width:0.8;\"/>\n     </g>\n     <g id=\"line2d_20\">\n      <g>\n       <use style=\"stroke:#000000;stroke-width:0.8;\" x=\"50.14375\" xlink:href=\"#m47a12e376f\" y=\"159.797347\"/>\n      </g>\n     </g>\n     <g id=\"text_11\">\n      <!-- 0.45 -->\n      <g transform=\"translate(20.878125 163.596565)scale(0.1 -0.1)\">\n       <use xlink:href=\"#DejaVuSans-48\"/>\n       <use x=\"63.623047\" xlink:href=\"#DejaVuSans-46\"/>\n       <use x=\"95.410156\" xlink:href=\"#DejaVuSans-52\"/>\n       <use x=\"159.033203\" xlink:href=\"#DejaVuSans-53\"/>\n      </g>\n     </g>\n    </g>\n    <g id=\"ytick_4\">\n     <g id=\"line2d_21\">\n      <path clip-path=\"url(#p2d4086ff46)\" d=\"M 50.14375 130.765198 \nL 384.94375 130.765198 \n\" style=\"fill:none;stroke:#b0b0b0;stroke-linecap:square;stroke-width:0.8;\"/>\n     </g>\n     <g id=\"line2d_22\">\n      <g>\n       <use style=\"stroke:#000000;stroke-width:0.8;\" x=\"50.14375\" xlink:href=\"#m47a12e376f\" y=\"130.765198\"/>\n      </g>\n     </g>\n     <g id=\"text_12\">\n      <!-- 0.50 -->\n      <g transform=\"translate(20.878125 134.564417)scale(0.1 -0.1)\">\n       <use xlink:href=\"#DejaVuSans-48\"/>\n       <use x=\"63.623047\" xlink:href=\"#DejaVuSans-46\"/>\n       <use x=\"95.410156\" xlink:href=\"#DejaVuSans-53\"/>\n       <use x=\"159.033203\" xlink:href=\"#DejaVuSans-48\"/>\n      </g>\n     </g>\n    </g>\n    <g id=\"ytick_5\">\n     <g id=\"line2d_23\">\n      <path clip-path=\"url(#p2d4086ff46)\" d=\"M 50.14375 101.73305 \nL 384.94375 101.73305 \n\" style=\"fill:none;stroke:#b0b0b0;stroke-linecap:square;stroke-width:0.8;\"/>\n     </g>\n     <g id=\"line2d_24\">\n      <g>\n       <use style=\"stroke:#000000;stroke-width:0.8;\" x=\"50.14375\" xlink:href=\"#m47a12e376f\" y=\"101.73305\"/>\n      </g>\n     </g>\n     <g id=\"text_13\">\n      <!-- 0.55 -->\n      <g transform=\"translate(20.878125 105.532269)scale(0.1 -0.1)\">\n       <use xlink:href=\"#DejaVuSans-48\"/>\n       <use x=\"63.623047\" xlink:href=\"#DejaVuSans-46\"/>\n       <use x=\"95.410156\" xlink:href=\"#DejaVuSans-53\"/>\n       <use x=\"159.033203\" xlink:href=\"#DejaVuSans-53\"/>\n      </g>\n     </g>\n    </g>\n    <g id=\"ytick_6\">\n     <g id=\"line2d_25\">\n      <path clip-path=\"url(#p2d4086ff46)\" d=\"M 50.14375 72.700902 \nL 384.94375 72.700902 \n\" style=\"fill:none;stroke:#b0b0b0;stroke-linecap:square;stroke-width:0.8;\"/>\n     </g>\n     <g id=\"line2d_26\">\n      <g>\n       <use style=\"stroke:#000000;stroke-width:0.8;\" x=\"50.14375\" xlink:href=\"#m47a12e376f\" y=\"72.700902\"/>\n      </g>\n     </g>\n     <g id=\"text_14\">\n      <!-- 0.60 -->\n      <g transform=\"translate(20.878125 76.50012)scale(0.1 -0.1)\">\n       <defs>\n        <path d=\"M 33.015625 40.375 \nQ 26.375 40.375 22.484375 35.828125 \nQ 18.609375 31.296875 18.609375 23.390625 \nQ 18.609375 15.53125 22.484375 10.953125 \nQ 26.375 6.390625 33.015625 6.390625 \nQ 39.65625 6.390625 43.53125 10.953125 \nQ 47.40625 15.53125 47.40625 23.390625 \nQ 47.40625 31.296875 43.53125 35.828125 \nQ 39.65625 40.375 33.015625 40.375 \nz\nM 52.59375 71.296875 \nL 52.59375 62.3125 \nQ 48.875 64.0625 45.09375 64.984375 \nQ 41.3125 65.921875 37.59375 65.921875 \nQ 27.828125 65.921875 22.671875 59.328125 \nQ 17.53125 52.734375 16.796875 39.40625 \nQ 19.671875 43.65625 24.015625 45.921875 \nQ 28.375 48.1875 33.59375 48.1875 \nQ 44.578125 48.1875 50.953125 41.515625 \nQ 57.328125 34.859375 57.328125 23.390625 \nQ 57.328125 12.15625 50.6875 5.359375 \nQ 44.046875 -1.421875 33.015625 -1.421875 \nQ 20.359375 -1.421875 13.671875 8.265625 \nQ 6.984375 17.96875 6.984375 36.375 \nQ 6.984375 53.65625 15.1875 63.9375 \nQ 23.390625 74.21875 37.203125 74.21875 \nQ 40.921875 74.21875 44.703125 73.484375 \nQ 48.484375 72.75 52.59375 71.296875 \nz\n\" id=\"DejaVuSans-54\"/>\n       </defs>\n       <use xlink:href=\"#DejaVuSans-48\"/>\n       <use x=\"63.623047\" xlink:href=\"#DejaVuSans-46\"/>\n       <use x=\"95.410156\" xlink:href=\"#DejaVuSans-54\"/>\n       <use x=\"159.033203\" xlink:href=\"#DejaVuSans-48\"/>\n      </g>\n     </g>\n    </g>\n    <g id=\"ytick_7\">\n     <g id=\"line2d_27\">\n      <path clip-path=\"url(#p2d4086ff46)\" d=\"M 50.14375 43.668753 \nL 384.94375 43.668753 \n\" style=\"fill:none;stroke:#b0b0b0;stroke-linecap:square;stroke-width:0.8;\"/>\n     </g>\n     <g id=\"line2d_28\">\n      <g>\n       <use style=\"stroke:#000000;stroke-width:0.8;\" x=\"50.14375\" xlink:href=\"#m47a12e376f\" y=\"43.668753\"/>\n      </g>\n     </g>\n     <g id=\"text_15\">\n      <!-- 0.65 -->\n      <g transform=\"translate(20.878125 47.467972)scale(0.1 -0.1)\">\n       <use xlink:href=\"#DejaVuSans-48\"/>\n       <use x=\"63.623047\" xlink:href=\"#DejaVuSans-46\"/>\n       <use x=\"95.410156\" xlink:href=\"#DejaVuSans-54\"/>\n       <use x=\"159.033203\" xlink:href=\"#DejaVuSans-53\"/>\n      </g>\n     </g>\n    </g>\n    <g id=\"text_16\">\n     <!-- time in seconds -->\n     <g transform=\"translate(14.798438 170.507656)rotate(-90)scale(0.1 -0.1)\">\n      <defs>\n       <path d=\"M 18.3125 70.21875 \nL 18.3125 54.6875 \nL 36.8125 54.6875 \nL 36.8125 47.703125 \nL 18.3125 47.703125 \nL 18.3125 18.015625 \nQ 18.3125 11.328125 20.140625 9.421875 \nQ 21.96875 7.515625 27.59375 7.515625 \nL 36.8125 7.515625 \nL 36.8125 0 \nL 27.59375 0 \nQ 17.1875 0 13.234375 3.875 \nQ 9.28125 7.765625 9.28125 18.015625 \nL 9.28125 47.703125 \nL 2.6875 47.703125 \nL 2.6875 54.6875 \nL 9.28125 54.6875 \nL 9.28125 70.21875 \nz\n\" id=\"DejaVuSans-116\"/>\n       <path d=\"M 9.421875 54.6875 \nL 18.40625 54.6875 \nL 18.40625 0 \nL 9.421875 0 \nz\nM 9.421875 75.984375 \nL 18.40625 75.984375 \nL 18.40625 64.59375 \nL 9.421875 64.59375 \nz\n\" id=\"DejaVuSans-105\"/>\n       <path d=\"M 45.40625 46.390625 \nL 45.40625 75.984375 \nL 54.390625 75.984375 \nL 54.390625 0 \nL 45.40625 0 \nL 45.40625 8.203125 \nQ 42.578125 3.328125 38.25 0.953125 \nQ 33.9375 -1.421875 27.875 -1.421875 \nQ 17.96875 -1.421875 11.734375 6.484375 \nQ 5.515625 14.40625 5.515625 27.296875 \nQ 5.515625 40.1875 11.734375 48.09375 \nQ 17.96875 56 27.875 56 \nQ 33.9375 56 38.25 53.625 \nQ 42.578125 51.265625 45.40625 46.390625 \nz\nM 14.796875 27.296875 \nQ 14.796875 17.390625 18.875 11.75 \nQ 22.953125 6.109375 30.078125 6.109375 \nQ 37.203125 6.109375 41.296875 11.75 \nQ 45.40625 17.390625 45.40625 27.296875 \nQ 45.40625 37.203125 41.296875 42.84375 \nQ 37.203125 48.484375 30.078125 48.484375 \nQ 22.953125 48.484375 18.875 42.84375 \nQ 14.796875 37.203125 14.796875 27.296875 \nz\n\" id=\"DejaVuSans-100\"/>\n      </defs>\n      <use xlink:href=\"#DejaVuSans-116\"/>\n      <use x=\"39.208984\" xlink:href=\"#DejaVuSans-105\"/>\n      <use x=\"66.992188\" xlink:href=\"#DejaVuSans-109\"/>\n      <use x=\"164.404297\" xlink:href=\"#DejaVuSans-101\"/>\n      <use x=\"225.927734\" xlink:href=\"#DejaVuSans-32\"/>\n      <use x=\"257.714844\" xlink:href=\"#DejaVuSans-105\"/>\n      <use x=\"285.498047\" xlink:href=\"#DejaVuSans-110\"/>\n      <use x=\"348.876953\" xlink:href=\"#DejaVuSans-32\"/>\n      <use x=\"380.664062\" xlink:href=\"#DejaVuSans-115\"/>\n      <use x=\"432.763672\" xlink:href=\"#DejaVuSans-101\"/>\n      <use x=\"494.287109\" xlink:href=\"#DejaVuSans-99\"/>\n      <use x=\"549.267578\" xlink:href=\"#DejaVuSans-111\"/>\n      <use x=\"610.449219\" xlink:href=\"#DejaVuSans-110\"/>\n      <use x=\"673.828125\" xlink:href=\"#DejaVuSans-100\"/>\n      <use x=\"737.304688\" xlink:href=\"#DejaVuSans-115\"/>\n     </g>\n    </g>\n   </g>\n   <g id=\"line2d_29\">\n    <path clip-path=\"url(#p2d4086ff46)\" d=\"M 65.361932 32.201761 \nL 166.816477 195.130496 \nL 268.271023 221.635743 \nL 369.725568 229.874489 \n\" style=\"fill:none;stroke:#1f77b4;stroke-linecap:square;stroke-width:1.5;\"/>\n   </g>\n   <g id=\"line2d_30\">\n    <defs>\n     <path d=\"M 0 3 \nC 0.795609 3 1.55874 2.683901 2.12132 2.12132 \nC 2.683901 1.55874 3 0.795609 3 0 \nC 3 -0.795609 2.683901 -1.55874 2.12132 -2.12132 \nC 1.55874 -2.683901 0.795609 -3 0 -3 \nC -0.795609 -3 -1.55874 -2.683901 -2.12132 -2.12132 \nC -2.683901 -1.55874 -3 -0.795609 -3 0 \nC -3 0.795609 -2.683901 1.55874 -2.12132 2.12132 \nC -1.55874 2.683901 -0.795609 3 0 3 \nz\n\" id=\"m3086e67331\" style=\"stroke:#ff0000;\"/>\n    </defs>\n    <g clip-path=\"url(#p2d4086ff46)\">\n     <use style=\"fill:#ff0000;stroke:#ff0000;\" x=\"65.361932\" xlink:href=\"#m3086e67331\" y=\"32.201761\"/>\n     <use style=\"fill:#ff0000;stroke:#ff0000;\" x=\"166.816477\" xlink:href=\"#m3086e67331\" y=\"195.130496\"/>\n     <use style=\"fill:#ff0000;stroke:#ff0000;\" x=\"268.271023\" xlink:href=\"#m3086e67331\" y=\"221.635743\"/>\n     <use style=\"fill:#ff0000;stroke:#ff0000;\" x=\"369.725568\" xlink:href=\"#m3086e67331\" y=\"229.874489\"/>\n    </g>\n   </g>\n   <g id=\"patch_3\">\n    <path d=\"M 50.14375 239.758125 \nL 50.14375 22.318125 \n\" style=\"fill:none;stroke:#000000;stroke-linecap:square;stroke-linejoin:miter;stroke-width:0.8;\"/>\n   </g>\n   <g id=\"patch_4\">\n    <path d=\"M 384.94375 239.758125 \nL 384.94375 22.318125 \n\" style=\"fill:none;stroke:#000000;stroke-linecap:square;stroke-linejoin:miter;stroke-width:0.8;\"/>\n   </g>\n   <g id=\"patch_5\">\n    <path d=\"M 50.14375 239.758125 \nL 384.94375 239.758125 \n\" style=\"fill:none;stroke:#000000;stroke-linecap:square;stroke-linejoin:miter;stroke-width:0.8;\"/>\n   </g>\n   <g id=\"patch_6\">\n    <path d=\"M 50.14375 22.318125 \nL 384.94375 22.318125 \n\" style=\"fill:none;stroke:#000000;stroke-linecap:square;stroke-linejoin:miter;stroke-width:0.8;\"/>\n   </g>\n   <g id=\"text_17\">\n    <!-- 20 Monte Carlo simulations -->\n    <g transform=\"translate(135.420625 16.318125)scale(0.12 -0.12)\">\n     <defs>\n      <path d=\"M 9.8125 72.90625 \nL 24.515625 72.90625 \nL 43.109375 23.296875 \nL 61.8125 72.90625 \nL 76.515625 72.90625 \nL 76.515625 0 \nL 66.890625 0 \nL 66.890625 64.015625 \nL 48.09375 14.015625 \nL 38.1875 14.015625 \nL 19.390625 64.015625 \nL 19.390625 0 \nL 9.8125 0 \nz\n\" id=\"DejaVuSans-77\"/>\n      <path d=\"M 64.40625 67.28125 \nL 64.40625 56.890625 \nQ 59.421875 61.53125 53.78125 63.8125 \nQ 48.140625 66.109375 41.796875 66.109375 \nQ 29.296875 66.109375 22.65625 58.46875 \nQ 16.015625 50.828125 16.015625 36.375 \nQ 16.015625 21.96875 22.65625 14.328125 \nQ 29.296875 6.6875 41.796875 6.6875 \nQ 48.140625 6.6875 53.78125 8.984375 \nQ 59.421875 11.28125 64.40625 15.921875 \nL 64.40625 5.609375 \nQ 59.234375 2.09375 53.4375 0.328125 \nQ 47.65625 -1.421875 41.21875 -1.421875 \nQ 24.65625 -1.421875 15.125 8.703125 \nQ 5.609375 18.84375 5.609375 36.375 \nQ 5.609375 53.953125 15.125 64.078125 \nQ 24.65625 74.21875 41.21875 74.21875 \nQ 47.75 74.21875 53.53125 72.484375 \nQ 59.328125 70.75 64.40625 67.28125 \nz\n\" id=\"DejaVuSans-67\"/>\n      <path d=\"M 34.28125 27.484375 \nQ 23.390625 27.484375 19.1875 25 \nQ 14.984375 22.515625 14.984375 16.5 \nQ 14.984375 11.71875 18.140625 8.90625 \nQ 21.296875 6.109375 26.703125 6.109375 \nQ 34.1875 6.109375 38.703125 11.40625 \nQ 43.21875 16.703125 43.21875 25.484375 \nL 43.21875 27.484375 \nz\nM 52.203125 31.203125 \nL 52.203125 0 \nL 43.21875 0 \nL 43.21875 8.296875 \nQ 40.140625 3.328125 35.546875 0.953125 \nQ 30.953125 -1.421875 24.3125 -1.421875 \nQ 15.921875 -1.421875 10.953125 3.296875 \nQ 6 8.015625 6 15.921875 \nQ 6 25.140625 12.171875 29.828125 \nQ 18.359375 34.515625 30.609375 34.515625 \nL 43.21875 34.515625 \nL 43.21875 35.40625 \nQ 43.21875 41.609375 39.140625 45 \nQ 35.0625 48.390625 27.6875 48.390625 \nQ 23 48.390625 18.546875 47.265625 \nQ 14.109375 46.140625 10.015625 43.890625 \nL 10.015625 52.203125 \nQ 14.9375 54.109375 19.578125 55.046875 \nQ 24.21875 56 28.609375 56 \nQ 40.484375 56 46.34375 49.84375 \nQ 52.203125 43.703125 52.203125 31.203125 \nz\n\" id=\"DejaVuSans-97\"/>\n      <path d=\"M 9.421875 75.984375 \nL 18.40625 75.984375 \nL 18.40625 0 \nL 9.421875 0 \nz\n\" id=\"DejaVuSans-108\"/>\n     </defs>\n     <use xlink:href=\"#DejaVuSans-50\"/>\n     <use x=\"63.623047\" xlink:href=\"#DejaVuSans-48\"/>\n     <use x=\"127.246094\" xlink:href=\"#DejaVuSans-32\"/>\n     <use x=\"159.033203\" xlink:href=\"#DejaVuSans-77\"/>\n     <use x=\"245.3125\" xlink:href=\"#DejaVuSans-111\"/>\n     <use x=\"306.494141\" xlink:href=\"#DejaVuSans-110\"/>\n     <use x=\"369.873047\" xlink:href=\"#DejaVuSans-116\"/>\n     <use x=\"409.082031\" xlink:href=\"#DejaVuSans-101\"/>\n     <use x=\"470.605469\" xlink:href=\"#DejaVuSans-32\"/>\n     <use x=\"502.392578\" xlink:href=\"#DejaVuSans-67\"/>\n     <use x=\"572.216797\" xlink:href=\"#DejaVuSans-97\"/>\n     <use x=\"633.496094\" xlink:href=\"#DejaVuSans-114\"/>\n     <use x=\"674.609375\" xlink:href=\"#DejaVuSans-108\"/>\n     <use x=\"702.392578\" xlink:href=\"#DejaVuSans-111\"/>\n     <use x=\"763.574219\" xlink:href=\"#DejaVuSans-32\"/>\n     <use x=\"795.361328\" xlink:href=\"#DejaVuSans-115\"/>\n     <use x=\"847.460938\" xlink:href=\"#DejaVuSans-105\"/>\n     <use x=\"875.244141\" xlink:href=\"#DejaVuSans-109\"/>\n     <use x=\"972.65625\" xlink:href=\"#DejaVuSans-117\"/>\n     <use x=\"1036.035156\" xlink:href=\"#DejaVuSans-108\"/>\n     <use x=\"1063.818359\" xlink:href=\"#DejaVuSans-97\"/>\n     <use x=\"1125.097656\" xlink:href=\"#DejaVuSans-116\"/>\n     <use x=\"1164.306641\" xlink:href=\"#DejaVuSans-105\"/>\n     <use x=\"1192.089844\" xlink:href=\"#DejaVuSans-111\"/>\n     <use x=\"1253.271484\" xlink:href=\"#DejaVuSans-110\"/>\n     <use x=\"1316.650391\" xlink:href=\"#DejaVuSans-115\"/>\n    </g>\n   </g>\n  </g>\n </g>\n <defs>\n  <clipPath id=\"p2d4086ff46\">\n   <rect height=\"217.44\" width=\"334.8\" x=\"50.14375\" y=\"22.318125\"/>\n  </clipPath>\n </defs>\n</svg>\n",
      "image/png": "[encoded data removed]"
     },
     "metadata": {
      "needs_background": "light"
     }
    }
   ],
   "source": [
    "plt.plot(range(1, 5), times)\n",
    "plt.plot(range(1, 5), times, 'ro')\n",
    "plt.grid(True)\n",
    "plt.xlabel('number of processes')\n",
    "plt.ylabel('time in seconds')\n",
    "plt.title('%d Monte Carlo simulations' % t)\n",
    "# tag: multi_proc\n",
    "# title: Comparison execution speed dependent on the number of threads used (4 core machine)\n",
    "# size: 60"
   ]
  },
  {
   "cell_type": "code",
   "execution_count": 28,
   "metadata": {},
   "outputs": [],
   "source": [
    "# 동적 컴파일 numba\n",
    "# 오류 관련 : https://github.com/numba/numba/issues/5600\n",
    "from math import cos, log\n",
    "import numba as nb\n",
    "\n",
    "def f_py(I,J):\n",
    "    res=0\n",
    "\n",
    "    for i in range(I):\n",
    "        for j in range(J):\n",
    "            res += int(cos(log(1)))\n",
    "    return res\n",
    "I, J = 5000, 5000"
   ]
  },
  {
   "cell_type": "code",
   "execution_count": 29,
   "metadata": {},
   "outputs": [
    {
     "output_type": "stream",
     "name": "stdout",
     "text": [
      "CPU times: user 6.59 s, sys: 56.8 ms, total: 6.64 s\nWall time: 6.69 s\n"
     ]
    },
    {
     "output_type": "execute_result",
     "data": {
      "text/plain": [
       "25000000"
      ]
     },
     "metadata": {},
     "execution_count": 29
    }
   ],
   "source": [
    "%time f_py(I, J)"
   ]
  },
  {
   "cell_type": "code",
   "execution_count": 31,
   "metadata": {},
   "outputs": [],
   "source": [
    "f_nb = nb.jit(f_py)\n"
   ]
  },
  {
   "cell_type": "code",
   "execution_count": 32,
   "metadata": {},
   "outputs": [
    {
     "output_type": "stream",
     "name": "stdout",
     "text": [
      "CPU times: user 216 ms, sys: 35.4 ms, total: 251 ms\nWall time: 504 ms\n"
     ]
    },
    {
     "output_type": "execute_result",
     "data": {
      "text/plain": [
       "25000000"
      ]
     },
     "metadata": {},
     "execution_count": 32
    }
   ],
   "source": [
    "%time f_nb(I, J)\n"
   ]
  },
  {
   "cell_type": "code",
   "execution_count": 33,
   "metadata": {},
   "outputs": [],
   "source": [
    "def f_np(I, J):\n",
    "    a = np.ones((I, J), dtype=np.float64)\n",
    "    return int(np.sum(np.cos(np.log(a)))), a"
   ]
  },
  {
   "cell_type": "code",
   "execution_count": 34,
   "metadata": {},
   "outputs": [
    {
     "output_type": "stream",
     "name": "stdout",
     "text": [
      "CPU times: user 407 ms, sys: 225 ms, total: 631 ms\nWall time: 697 ms\n"
     ]
    }
   ],
   "source": [
    "%time res, a = f_np(I, J)\n"
   ]
  },
  {
   "cell_type": "code",
   "execution_count": 35,
   "metadata": {},
   "outputs": [
    {
     "output_type": "stream",
     "name": "stdout",
     "text": [
      "function: f_nb, av. time sec:   0.00000, relative:    1.0\nfunction: f_np, av. time sec:   0.58481, relative: 120050.8\nfunction: f_py, av. time sec:   6.60774, relative: 1356453.9\n"
     ]
    }
   ],
   "source": [
    "func_list = ['f_py', 'f_np', 'f_nb']\n",
    "data_list = 3 * ['I, J']\n",
    "\n",
    "perf_comp_data(func_list, data_list)\n"
   ]
  },
  {
   "cell_type": "code",
   "execution_count": 38,
   "metadata": {},
   "outputs": [],
   "source": [
    "# model & option Parameters\n",
    "S0 = 100.  # initial index level\n",
    "T = 1.  # call option maturity\n",
    "r = 0.05  # constant short rate\n",
    "vola = 0.20  # constant volatility factor of diffusion\n",
    "\n",
    "# time parameters\n",
    "M = 1000  # time steps\n",
    "dt = T / M  # length of time interval\n",
    "df = exp(-r * dt)  # discount factor per time interval\n",
    "\n",
    "# binomial parameters\n",
    "u = exp(vola * sqrt(dt))  # up-movement\n",
    "d = 1 / u  # down-movement\n",
    "q = (exp(r * dt) - d) / (u - d)  # martingale probability\n",
    "\n",
    "def binomial_np(strike):\n",
    "    ''' Binomial option pricing with NumPy.\n",
    "    \n",
    "    Parameters\n",
    "    ==========\n",
    "    strike : float\n",
    "        strike price of the European call option\n",
    "    '''\n",
    "    # Index Levels with NumPy\n",
    "    mu = np.arange(M + 1)\n",
    "    mu = np.resize(mu, (M + 1, M + 1))\n",
    "    md = np.transpose(mu)\n",
    "    mu = u ** (mu - md)\n",
    "    md = d ** md\n",
    "    S = S0 * mu * md\n",
    "    \n",
    "    # Valuation Loop\n",
    "    pv = np.maximum(S - strike, 0)\n",
    "\n",
    "    z = 0\n",
    "    for t in range(M - 1, -1, -1):  # backwards iteration\n",
    "        pv[0:M - z, t] = (q * pv[0:M - z, t + 1]\n",
    "                        + (1 - q) * pv[1:M - z + 1, t + 1]) * df\n",
    "        z += 1\n",
    "    return pv[0, 0]"
   ]
  },
  {
   "cell_type": "code",
   "execution_count": 39,
   "metadata": {},
   "outputs": [
    {
     "output_type": "stream",
     "name": "stdout",
     "text": [
      "CPU times: user 64.6 ms, sys: 16 ms, total: 80.5 ms\nWall time: 80.3 ms\n"
     ]
    },
    {
     "output_type": "execute_result",
     "data": {
      "text/plain": [
       "10.449"
      ]
     },
     "metadata": {},
     "execution_count": 39
    }
   ],
   "source": [
    "M = 1000  # reset number of time steps\n",
    "%time round(binomial_np(100), 3)"
   ]
  },
  {
   "cell_type": "code",
   "execution_count": 40,
   "metadata": {},
   "outputs": [],
   "source": [
    "def binomial_py(strike):\n",
    "    ''' Binomial option pricing via looping.\n",
    "    \n",
    "    Parameters\n",
    "    ==========\n",
    "    strike : float\n",
    "        strike price of the European call option\n",
    "    '''\n",
    "    # LOOP 1 - Index Levels\n",
    "    S = np.zeros((M + 1, M + 1), dtype=np.float64)\n",
    "      # index level array\n",
    "    S[0, 0] = S0\n",
    "    z1 = 0\n",
    "    for j in range(1, M + 1, 1):\n",
    "        z1 = z1 + 1\n",
    "        for i in range(z1 + 1):\n",
    "            S[i, j] = S[0, 0] * (u ** j) * (d ** (i * 2))\n",
    "            \n",
    "    # LOOP 2 - Inner Values\n",
    "    iv = np.zeros((M + 1, M + 1), dtype=np.float64)\n",
    "      # inner value array\n",
    "    z2 = 0\n",
    "    for j in range(0, M + 1, 1):\n",
    "        for i in range(z2 + 1):\n",
    "            iv[i, j] = max(S[i, j] - strike, 0)\n",
    "        z2 = z2 + 1\n",
    "        \n",
    "    # LOOP 3 - Valuation\n",
    "    pv = np.zeros((M + 1, M + 1), dtype=np.float64)\n",
    "      # present value array\n",
    "    pv[:, M] = iv[:, M]  # initialize last time point\n",
    "    z3 = M + 1\n",
    "    for j in range(M - 1, -1, -1):\n",
    "        z3 = z3 - 1\n",
    "        for i in range(z3):\n",
    "            pv[i, j] = (q * pv[i, j + 1] +\n",
    "                        (1 - q) * pv[i + 1, j + 1]) * df\n",
    "    return pv[0, 0]"
   ]
  },
  {
   "cell_type": "code",
   "execution_count": 41,
   "metadata": {},
   "outputs": [
    {
     "output_type": "stream",
     "name": "stdout",
     "text": [
      "CPU times: user 1.42 s, sys: 17.1 ms, total: 1.44 s\nWall time: 1.45 s\n"
     ]
    },
    {
     "output_type": "execute_result",
     "data": {
      "text/plain": [
       "10.449"
      ]
     },
     "metadata": {},
     "execution_count": 41
    }
   ],
   "source": [
    "%time round(binomial_py(100), 3)\n"
   ]
  },
  {
   "cell_type": "code",
   "execution_count": 42,
   "metadata": {},
   "outputs": [],
   "source": [
    "binomial_nb = nb.jit(binomial_py)\n"
   ]
  },
  {
   "cell_type": "code",
   "execution_count": 43,
   "metadata": {},
   "outputs": [
    {
     "output_type": "stream",
     "name": "stdout",
     "text": [
      "CPU times: user 587 ms, sys: 42.7 ms, total: 630 ms\nWall time: 637 ms\n"
     ]
    },
    {
     "output_type": "execute_result",
     "data": {
      "text/plain": [
       "10.449"
      ]
     },
     "metadata": {},
     "execution_count": 43
    }
   ],
   "source": [
    "%time round(binomial_nb(100), 3)\n"
   ]
  },
  {
   "cell_type": "code",
   "execution_count": 44,
   "metadata": {},
   "outputs": [
    {
     "output_type": "stream",
     "name": "stdout",
     "text": [
      "function: binomial_np, av. time sec:   0.06153, relative:    1.0\nfunction: binomial_nb, av. time sec:   0.16854, relative:    2.7\nfunction: binomial_py, av. time sec:   1.32218, relative:   21.5\n"
     ]
    }
   ],
   "source": [
    "func_list = ['binomial_py', 'binomial_np', 'binomial_nb']\n",
    "K = 100.\n",
    "data_list = 3 * ['K']\n",
    "\n",
    "perf_comp_data(func_list, data_list)\n"
   ]
  },
  {
   "cell_type": "code",
   "execution_count": null,
   "metadata": {},
   "outputs": [],
   "source": []
  },
  {
   "cell_type": "code",
   "execution_count": null,
   "metadata": {},
   "outputs": [],
   "source": [
    "# 이외 Cython이나 CUDA를 사용하는 방법도 있음"
   ]
  }
 ]
}