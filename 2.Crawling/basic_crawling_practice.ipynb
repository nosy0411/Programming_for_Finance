{
 "metadata": {
  "language_info": {
   "codemirror_mode": {
    "name": "ipython",
    "version": 3
   },
   "file_extension": ".py",
   "mimetype": "text/x-python",
   "name": "python",
   "nbconvert_exporter": "python",
   "pygments_lexer": "ipython3",
   "version": "3.6.8-final"
  },
  "orig_nbformat": 2,
  "kernelspec": {
   "name": "python_defaultSpec_1599589483393",
   "display_name": "Python 3.6.8 64-bit ('base': conda)"
  }
 },
 "nbformat": 4,
 "nbformat_minor": 2,
 "cells": [
  {
   "cell_type": "markdown",
   "metadata": {},
   "source": [
    "## urllib 라이브러리\n",
    "\n",
    "- urllib은 표준 파이썬 라이브러리입니다.\n",
    "\n",
    "- requests 라는 라이브러리는 설치가 필요하지만 urllib는 뭔가 추가로 설치할 필요가 없습니다. requests는 다음에 다룹니다.\n",
    "\n",
    "- urllib는 웹을 통해 데이터를 요청하는 함수, 쿠키를 처리하는 함수, 심지어 헤더나 유저 에이전트 같은 메타데이터를 바꾸는 함수도 포함하는 통합 패키지 입니다.\n",
    "\n",
    "- urllib 패키지에서 포함한 함수인 urlopen은 네트워크를 통해 원격 객체를 읽습니다. urlopen은 HTML파일이나 이미지 파일, 기타 파일 스트림을 쉽게 열 수 있는 매우 범용적인 라이브러리입니다. 여기서는 우선 urlopen으로 HTML 파일 소스코드를 읽어왔습니다. 이 읽어온 HTML 파일은 BeautifulSoup 이라는 패키지에서 처리하여 데이터화 시킵니다.\n",
    "\n",
    "- BeautifulSoup 객체에 들어 있는 태그에 접근할 때마다 그 태그가 실제 존재하는지 체크하는 편이 좋습니다. 가능한 에러를 모두 체크하고 처리하는 게 처음에는 지겨워 보일 수 있지만, 코드를 조금만 수정하면 좀 더 쉽게 읽을 수 있게 만들 수 있습니다.\n",
    "\n",
    "- 이 예제에서는 페이지 타이틀을 반환하거나, 어떤 문제가 있으면 None 객체를 반환하는 getTitle 함수를 만듭니다."
   ]
  },
  {
   "cell_type": "code",
   "execution_count": 1,
   "metadata": {
    "tags": []
   },
   "outputs": [
    {
     "output_type": "stream",
     "name": "stdout",
     "text": "<h1>An Interesting Title</h1>\n"
    }
   ],
   "source": [
    "from urllib.request import urlopen\n",
    "from urllib.error import HTTPError\n",
    "from bs4 import BeautifulSoup\n",
    "\n",
    "def getTitle(url):\n",
    "    try:\n",
    "        html = urlopen(url)\n",
    "    except HTTPError as e:\n",
    "        return None\n",
    "    try:\n",
    "        soup = BeautifulSoup(html.read(), \"html.parser\")\n",
    "        # soup 객체의 첫번째 body를 찾고 그 다음 첫번째 h1 을 찾는다\n",
    "        title = soup.body.h1\n",
    "    except AttributeError as e:\n",
    "        return None\n",
    "    return title\n",
    "\n",
    "\n",
    "title = getTitle(\"http://www.pythonscraping.com/pages/page1.html\")\n",
    "if title == None:\n",
    "    print(\"Title could not be found\")\n",
    "else:\n",
    "    print(title)"
   ]
  },
  {
   "cell_type": "markdown",
   "metadata": {},
   "source": [
    "## Request 라이브러리\n",
    "\n",
    "- 이번에는 request를 사용해서 웹 요청을 합니다."
   ]
  },
  {
   "cell_type": "code",
   "execution_count": 2,
   "metadata": {
    "tags": []
   },
   "outputs": [
    {
     "output_type": "stream",
     "name": "stdout",
     "text": "<Response [200]>\nreq was printed\n\n\n<h2>Tell me your name!</h2>\n<form method=\"post\" action=\"processing.php\">\nFirst name: <input type=\"text\" name=\"firstname\"><br>\nLast name: <input type=\"text\" name=\"lastname\"><br>\n<input type=\"submit\" value=\"Submit\" id=\"submit\">\n</form>\nhtml was printed\n\n\n{'Date': 'Tue, 08 Sep 2020 18:25:13 GMT', 'Server': 'Apache', 'Last-Modified': 'Sat, 09 Jun 2018 19:16:01 GMT', 'ETag': '\"4121be2-e9-56e3a58da861a\"', 'Accept-Ranges': 'bytes', 'Content-Length': '233', 'Cache-Control': 'max-age=1209600', 'Expires': 'Tue, 22 Sep 2020 18:25:13 GMT', 'Keep-Alive': 'timeout=5, max=100', 'Connection': 'Keep-Alive', 'Content-Type': 'text/html'}\nheader was printed\n\n\n<class 'requests.structures.CaseInsensitiveDict'>\n\n\n200\n\n\nTrue\n\n\n"
    }
   ],
   "source": [
    "import requests\n",
    "\n",
    "# HTTP GET Request\n",
    "url = 'http://pythonscraping.com/pages/files/form.html'\n",
    "\n",
    "# 해당 url으로 request.get 를 이용하여 GET 요청을 보낸다.\n",
    "req = requests.get(url)\n",
    "print(req)\n",
    "print('req was printed')\n",
    "print('\\n')\n",
    "\n",
    "# HTML 소스 가져오기\n",
    "html = req.text\n",
    "print(html)\n",
    "print('html was printed')\n",
    "print('\\n')\n",
    "\n",
    "# HTTP Header 가져오기\n",
    "header = req.headers\n",
    "print(header)\n",
    "print('header was printed')\n",
    "print('\\n')\n",
    "\n",
    "print(type(header))\n",
    "print('\\n')\n",
    "\n",
    "# HTTP Status 가져오기 (200: 정상적으로 get 요청이 되었음)\n",
    "status = req.status_code\n",
    "print(status)\n",
    "print('\\n')\n",
    "\n",
    "# HTTP가 정상적으로 되었는지 (True/False)\n",
    "is_ok = req.ok\n",
    "print(is_ok)\n",
    "print('\\n')\n"
   ]
  },
  {
   "cell_type": "markdown",
   "metadata": {},
   "source": [
    "## BeautifulSoup 기초\n",
    "\n",
    "- find() 와 findAll() : find()와 findAll()은 BeautifulSoup에서 가장 자주 쓰는 함수입니다. 이 함수를 쓰면 HTML 페이지에서 원하는 태그를 다양한 속성에 따라 쉽게 필터링할 수 있습니다. 두 함수는 거의 비슷합니다.\n",
    "\n",
    "- 함수의 정의\n",
    "    \n",
    "    - findAll(tag, attributes, recursive, text, limit, keyword)\n",
    "    \n",
    "    - find(tag, attributes, recursive, text, keyword)\n",
    "\n",
    "- tag 매개변수는 태그 이름인 문자열을 넘기거나, 태그 이름으로 이루어진 파이썬 리스트를 넘길 수도 있습니다. \n",
    "\n",
    "- attritubes 매개변수는 속성으로 이루어진 파이썬 딕셔너리를 받고, 그 중 하나에 일치하는 태그를 찾습니다. \n",
    "\n",
    "- 예를 들어 다음 함수는 HTML 문서에서 녹색과 빨간색 span 태그를 모두 반환 합니다.\n",
    "\n",
    "    - findAll(\"span\",{\"class\":{\"green\",\"red\"}\")\n",
    "\n",
    "- recursive 매개변수는 불리언입니다. 문서에서 얼마나 깊이 찾아 들어가고 싶은지를 지정합니다. 웬만하면 그대로 두는 것이 좋습니다.\n",
    "\n",
    "- text 매개변수는 태그의 속성이 아니라 텍스트 콘텐츠에 일치하는 걸 찾습니다.\n",
    "\n",
    "- limit 매개변수는 페이지의 항목 처음 몇 개에만 관심 있을 때 사용합니다. find는 findAll을 호출하면서 limit을 1로 지정한 것과 같습니다.\n",
    "\n",
    "- keyword 매개변수는 특정 속성이 포함된 태그를 선택할 때 사용합니다.\n",
    "    - *keyword 매개변수는 사실 tag, attritutes의 조합으로도 표현 가능합니다. 다만 간결한 표현이 가능하다는 점이 다릅니다."
   ]
  },
  {
   "cell_type": "code",
   "execution_count": 3,
   "metadata": {
    "tags": []
   },
   "outputs": [
    {
     "output_type": "stream",
     "name": "stdout",
     "text": "Anna\nPavlovna Scherer\nEmpress Marya\nFedorovna\nPrince Vasili Kuragin\nAnna Pavlovna\nSt. Petersburg\nthe prince\nAnna Pavlovna\nAnna Pavlovna\nthe prince\nthe prince\nthe prince\nPrince Vasili\nAnna Pavlovna\nAnna Pavlovna\nthe prince\nWintzingerode\nKing of Prussia\nle Vicomte de Mortemart\nMontmorencys\nRohans\nAbbe Morio\nthe Emperor\nthe prince\nPrince Vasili\nDowager Empress Marya Fedorovna\nthe baron\nAnna Pavlovna\nthe Empress\nthe Empress\nAnna Pavlovna's\nHer Majesty\nBaron\nFunke\nThe prince\nAnna\nPavlovna\nthe Empress\nThe prince\nAnatole\nthe prince\nThe prince\nAnna\nPavlovna\nAnna Pavlovna\n------------------------------------------\n"
    }
   ],
   "source": [
    "from urllib.request import urlopen\n",
    "from bs4 import BeautifulSoup\n",
    "\n",
    "html1 = urlopen(\"http://www.pythonscraping.com/pages/warandpeace.html\")\n",
    "soup1 = BeautifulSoup(html1, \"html.parser\")\n",
    "\n",
    "nameList = soup1.findAll(\"span\",{\"class\":\"green\"})\n",
    "\n",
    "for name in nameList:\n",
    "    print(name.text)\n",
    "print('------------------------------------------')"
   ]
  },
  {
   "cell_type": "markdown",
   "metadata": {},
   "source": [
    "### children And descendants(자식과 자손)\n",
    "\n",
    "- BeautifulSoup 라이브러리는 자식과 자손을 구별합니다. \n",
    "\n",
    "- 자식은 항상 부모보다 한 태그 아래에 있고, 자손은 조상보다 몇 단계든 아래에 있을 수 있습니다. \n",
    "\n",
    "- 예를들어 앞에서 tr 태그는 table 태그의 자식이며 tr과 th, td, img, span은 모두 table 태그의 자손입니다.\n",
    "\n",
    "- 일반적으로 BeautifulSoup 함수는 항상 현재 선택된 태그의 자손을 다룹니다.\n",
    "\n",
    "- soup.div.findAll(\"img\")는 문서의 첫 번째 div 태그를 찾고, 그 div 태그의 자손인 모든 img 태그의 목록을 가져옵니다. \n",
    "\n",
    "- 자식만 찾을 때는 .children을 사용합니다.\n",
    "\n",
    "- 다음 코드는 giftList 테이블에 들어 있는 제품 행 목록을 출력합니다. \n"
   ]
  },
  {
   "cell_type": "code",
   "execution_count": 4,
   "metadata": {
    "tags": []
   },
   "outputs": [
    {
     "output_type": "stream",
     "name": "stdout",
     "text": "\n\n<tr><th>\nItem Title\n</th><th>\nDescription\n</th><th>\nCost\n</th><th>\nImage\n</th></tr>\n\n\n<tr class=\"gift\" id=\"gift1\"><td>\nVegetable Basket\n</td><td>\nThis vegetable basket is the perfect gift for your health conscious (or overweight) friends!\n<span class=\"excitingNote\">Now with super-colorful bell peppers!</span>\n</td><td>\n$15.00\n</td><td>\n<img src=\"../img/gifts/img1.jpg\">\n</img></td></tr>\n\n\n<tr class=\"gift\" id=\"gift2\"><td>\nRussian Nesting Dolls\n</td><td>\nHand-painted by trained monkeys, these exquisite dolls are priceless! And by \"priceless,\" we mean \"extremely expensive\"! <span class=\"excitingNote\">8 entire dolls per set! Octuple the presents!</span>\n</td><td>\n$10,000.52\n</td><td>\n<img src=\"../img/gifts/img2.jpg\">\n</img></td></tr>\n\n\n<tr class=\"gift\" id=\"gift3\"><td>\nFish Painting\n</td><td>\nIf something seems fishy about this painting, it's because it's a fish! <span class=\"excitingNote\">Also hand-painted by trained monkeys!</span>\n</td><td>\n$10,005.00\n</td><td>\n<img src=\"../img/gifts/img3.jpg\">\n</img></td></tr>\n\n\n<tr class=\"gift\" id=\"gift4\"><td>\nDead Parrot\n</td><td>\nThis is an ex-parrot! <span class=\"excitingNote\">Or maybe he's only resting?</span>\n</td><td>\n$0.50\n</td><td>\n<img src=\"../img/gifts/img4.jpg\">\n</img></td></tr>\n\n\n<tr class=\"gift\" id=\"gift5\"><td>\nMystery Box\n</td><td>\nIf you love suprises, this mystery box is for you! Do not place on light-colored surfaces. May cause oil staining. <span class=\"excitingNote\">Keep your friends guessing!</span>\n</td><td>\n$1.50\n</td><td>\n<img src=\"../img/gifts/img6.jpg\">\n</img></td></tr>\n\n\n------------------------------------------\n"
    }
   ],
   "source": [
    "html2 = urlopen(\"http://www.pythonscraping.com/pages/page3.html\")\n",
    "soup2 = BeautifulSoup(html2,\"html.parser\")\n",
    "\n",
    "for child in soup2.find(\"table\",{\"id\":\"giftList\"}).children:\n",
    "    print(child)\n",
    "print('------------------------------------------')"
   ]
  },
  {
   "cell_type": "markdown",
   "metadata": {},
   "source": [
    "### 형제 다루기\n",
    "\n",
    "- BeaufifulSoup의 next_siblings() 함수는 테이블에서 데이터를 쉽게 수집할 수 있으며, 특히 테이블에 타이틀 행이 있을 때 유용합니다.\n",
    "\n",
    "- 타이틀 행을 선택하고 next_sibling을 호출했으므로, 타이틀 행 자체를 제외한 모든 테이블 행을 선택하게 됩니다. \n",
    "\n",
    "- next_siblings를 보완하는 previous_siblings 함수도 있습니다.\n",
    "\n"
   ]
  },
  {
   "cell_type": "code",
   "execution_count": 5,
   "metadata": {
    "tags": []
   },
   "outputs": [
    {
     "output_type": "stream",
     "name": "stdout",
     "text": "\n\n<tr class=\"gift\" id=\"gift1\"><td>\nVegetable Basket\n</td><td>\nThis vegetable basket is the perfect gift for your health conscious (or overweight) friends!\n<span class=\"excitingNote\">Now with super-colorful bell peppers!</span>\n</td><td>\n$15.00\n</td><td>\n<img src=\"../img/gifts/img1.jpg\">\n</img></td></tr>\n\n\n<tr class=\"gift\" id=\"gift2\"><td>\nRussian Nesting Dolls\n</td><td>\nHand-painted by trained monkeys, these exquisite dolls are priceless! And by \"priceless,\" we mean \"extremely expensive\"! <span class=\"excitingNote\">8 entire dolls per set! Octuple the presents!</span>\n</td><td>\n$10,000.52\n</td><td>\n<img src=\"../img/gifts/img2.jpg\">\n</img></td></tr>\n\n\n<tr class=\"gift\" id=\"gift3\"><td>\nFish Painting\n</td><td>\nIf something seems fishy about this painting, it's because it's a fish! <span class=\"excitingNote\">Also hand-painted by trained monkeys!</span>\n</td><td>\n$10,005.00\n</td><td>\n<img src=\"../img/gifts/img3.jpg\">\n</img></td></tr>\n\n\n<tr class=\"gift\" id=\"gift4\"><td>\nDead Parrot\n</td><td>\nThis is an ex-parrot! <span class=\"excitingNote\">Or maybe he's only resting?</span>\n</td><td>\n$0.50\n</td><td>\n<img src=\"../img/gifts/img4.jpg\">\n</img></td></tr>\n\n\n<tr class=\"gift\" id=\"gift5\"><td>\nMystery Box\n</td><td>\nIf you love suprises, this mystery box is for you! Do not place on light-colored surfaces. May cause oil staining. <span class=\"excitingNote\">Keep your friends guessing!</span>\n</td><td>\n$1.50\n</td><td>\n<img src=\"../img/gifts/img6.jpg\">\n</img></td></tr>\n\n\n------------------------------------------\n"
    }
   ],
   "source": [
    "for sibling in soup2.find(\"table\",{\"id\":\"giftList\"}).tr.next_siblings:\n",
    "    print(sibling)\n",
    "print('------------------------------------------')"
   ]
  },
  {
   "cell_type": "markdown",
   "metadata": {},
   "source": [
    "### 부모다루기\n",
    "\n",
    "- 가끔 자식이나 형제가 아니라 부모를 찾아야 할 때도 있습니다.  \n",
    "\n",
    "- 가끔 .parent 와 parents가 필요할 때가 있다는 말입니다.\n",
    "\n",
    "\n",
    "- 다음 코드는 ../img/gifts/img1.jpg 이미지가 나타내는 객체의 가격을 출력합니다."
   ]
  },
  {
   "cell_type": "code",
   "execution_count": 6,
   "metadata": {
    "tags": []
   },
   "outputs": [
    {
     "output_type": "stream",
     "name": "stdout",
     "text": "\n$15.00\n\n"
    }
   ],
   "source": [
    "print(soup2.find(\"img\",{\"src\":\"../img/gifts/img1.jpg\"}).parent.previous_sibling.text)\n"
   ]
  },
  {
   "cell_type": "markdown",
   "metadata": {},
   "source": [
    "### 간단히 미국 나스닥 종목의 재무 데이터 크롤링 해보기\n",
    "\n",
    "- http://finviz.com/quote.ashx?t=NVDA 는 미국주식 NVIDIA에 대한 데이터 테이블이 있습니다.\n",
    "\n",
    "- 이 테이블은 HTML코드로 정렬되어 있는데 CSV 파일로 만들 전에 이것들을 제거 해야 합니다.\n",
    "\n",
    "- BeautifulSoup와 getText() 함수를 써서 짧은 코드로 그 일을 할 수 있습니다."
   ]
  },
  {
   "cell_type": "code",
   "execution_count": 7,
   "metadata": {
    "tags": [
     "outputPrepend"
    ]
   },
   "outputs": [
    {
     "output_type": "stream",
     "name": "stdout",
     "text": "ite-space:nowrap\"><a class=\"tab-link\" href=\"http://www.sec.gov/Archives/edgar/data/1045810/000104581020000026/xslF345X03/wf-form4_158223960751638.xml\">Feb 20 06:00 PM</a></td></tr><tr class=\"insider-option-row\" onmouseout=\"this.className='insider-option-row'\" onmouseover=\"this.className='insider-light-row-h'\" valign=\"top\"><td><a class=\"tab-link\" href=\"insidertrading.ashx?oc=1219888&amp;tc=7\">HUDSON DAWN E</a></td><td style=\"white-space:nowrap\">Director</td><td>Feb 18</td><td align=\"center\" style=\"white-space:nowrap\">Option Exercise</td><td align=\"right\">15.23</td><td align=\"right\">35,177</td><td align=\"right\">535,774</td><td align=\"right\">66,214</td><td align=\"center\" style=\"white-space:nowrap\"><a class=\"tab-link\" href=\"http://www.sec.gov/Archives/edgar/data/1045810/000104581020000025/xslF345X03/wf-form4_158223958858737.xml\">Feb 20 06:00 PM</a></td></tr><tr class=\"insider-sale-row-2\" onmouseout=\"this.className='insider-sale-row-2'\" onmouseover=\"this.className='insider-light-row-h'\" valign=\"top\"><td><a class=\"tab-link\" href=\"insidertrading.ashx?oc=1219888&amp;tc=7\">HUDSON DAWN E</a></td><td style=\"white-space:nowrap\">Director</td><td>Feb 18</td><td align=\"center\" style=\"white-space:nowrap\">Sale</td><td align=\"right\">290.26</td><td align=\"right\">35,177</td><td align=\"right\">10,210,476</td><td align=\"right\">31,037</td><td align=\"center\" style=\"white-space:nowrap\"><a class=\"tab-link\" href=\"http://www.sec.gov/Archives/edgar/data/1045810/000104581020000025/xslF345X03/wf-form4_158223958858737.xml\">Feb 20 06:00 PM</a></td></tr><tr class=\"insider-sale-row-2\" onmouseout=\"this.className='insider-sale-row-2'\" onmouseover=\"this.className='insider-light-row-h'\" valign=\"top\"><td><a class=\"tab-link\" href=\"insidertrading.ashx?oc=1197652&amp;tc=7\">SEAWELL A BROOKE</a></td><td style=\"white-space:nowrap\">Director</td><td>Feb 18</td><td align=\"center\" style=\"white-space:nowrap\">Sale</td><td align=\"right\">287.91</td><td align=\"right\">20,000</td><td align=\"right\">5,758,200</td><td align=\"right\">629</td><td align=\"center\" style=\"white-space:nowrap\"><a class=\"tab-link\" href=\"http://www.sec.gov/Archives/edgar/data/1045810/000104581020000026/xslF345X03/wf-form4_158223960751638.xml\">Feb 20 06:00 PM</a></td></tr><tr class=\"insider-sale-row-2\" onmouseout=\"this.className='insider-sale-row-2'\" onmouseover=\"this.className='insider-light-row-h'\" valign=\"top\"><td><a class=\"tab-link\" href=\"insidertrading.ashx?oc=1190270&amp;tc=7\">PERRY MARK L</a></td><td style=\"white-space:nowrap\">Director</td><td>Feb 18</td><td align=\"center\" style=\"white-space:nowrap\">Sale</td><td align=\"right\">292.13</td><td align=\"right\">8,752</td><td align=\"right\">2,556,747</td><td align=\"right\">24,231</td><td align=\"center\" style=\"white-space:nowrap\"><a class=\"tab-link\" href=\"http://www.sec.gov/Archives/edgar/data/1045810/000104581020000024/xslF345X03/wf-form4_158223956728478.xml\">Feb 20 05:59 PM</a></td></tr><tr class=\"insider-sale-row-2\" onmouseout=\"this.className='insider-sale-row-2'\" onmouseover=\"this.className='insider-light-row-h'\" valign=\"top\"><td><a class=\"tab-link\" href=\"insidertrading.ashx?oc=1588670&amp;tc=7\">Kress Colette</a></td><td style=\"white-space:nowrap\">EVP &amp; Chief Financial Officer</td><td>Jan 21</td><td align=\"center\" style=\"white-space:nowrap\">Sale</td><td align=\"right\">248.13</td><td align=\"right\">6,000</td><td align=\"right\">1,488,755</td><td align=\"right\">162,189</td><td align=\"center\" style=\"white-space:nowrap\"><a class=\"tab-link\" href=\"http://www.sec.gov/Archives/edgar/data/1045810/000104581020000002/xslF345X03/wf-form4_157972803834536.xml\">Jan 22 04:20 PM</a></td></tr><tr class=\"insider-sale-row-2\" onmouseout=\"this.className='insider-sale-row-2'\" onmouseover=\"this.className='insider-light-row-h'\" valign=\"top\"><td><a class=\"tab-link\" href=\"insidertrading.ashx?oc=1588670&amp;tc=7\">Kress Colette</a></td><td style=\"white-space:nowrap\">EVP &amp; Chief Financial Officer</td><td>Jan 06</td><td align=\"center\" style=\"white-space:nowrap\">Sale</td><td align=\"right\">235.43</td><td align=\"right\">2,000</td><td align=\"right\">470,862</td><td align=\"right\">168,189</td><td align=\"center\" style=\"white-space:nowrap\"><a class=\"tab-link\" href=\"http://www.sec.gov/Archives/edgar/data/1045810/000104581020000001/xslF345X03/wf-form4_157843301031650.xml\">Jan 07 04:37 PM</a></td></tr><tr class=\"insider-sale-row-2\" onmouseout=\"this.className='insider-sale-row-2'\" onmouseover=\"this.className='insider-light-row-h'\" valign=\"top\"><td><a class=\"tab-link\" href=\"insidertrading.ashx?oc=1588670&amp;tc=7\">Kress Colette</a></td><td style=\"white-space:nowrap\">EVP &amp; Chief Financial Officer</td><td>Dec 23</td><td align=\"center\" style=\"white-space:nowrap\">Sale</td><td align=\"right\">239.71</td><td align=\"right\">24,000</td><td align=\"right\">5,753,079</td><td align=\"right\">170,189</td><td align=\"center\" style=\"white-space:nowrap\"><a class=\"tab-link\" href=\"http://www.sec.gov/Archives/edgar/data/1045810/000104581019000186/xslF345X03/wf-form4_157748054304313.xml\">Dec 27 04:02 PM</a></td></tr><tr class=\"insider-option-row\" onmouseout=\"this.className='insider-option-row'\" onmouseover=\"this.className='insider-light-row-h'\" valign=\"top\"><td><a class=\"tab-link\" href=\"insidertrading.ashx?oc=1198782&amp;tc=7\">BURGESS ROBERT K</a></td><td style=\"white-space:nowrap\">Director</td><td>Dec 18</td><td align=\"center\" style=\"white-space:nowrap\">Option Exercise</td><td align=\"right\">14.48</td><td align=\"right\">8,000</td><td align=\"right\">115,840</td><td align=\"right\">13,894</td><td align=\"center\" style=\"white-space:nowrap\"><a class=\"tab-link\" href=\"http://www.sec.gov/Archives/edgar/data/1045810/000104581019000185/xslF345X03/wf-form4_157689103188947.xml\">Dec 20 08:17 PM</a></td></tr><tr class=\"insider-sale-row-2\" onmouseout=\"this.className='insider-sale-row-2'\" onmouseover=\"this.className='insider-light-row-h'\" valign=\"top\"><td><a class=\"tab-link\" href=\"insidertrading.ashx?oc=1198782&amp;tc=7\">BURGESS ROBERT K</a></td><td style=\"white-space:nowrap\">Director</td><td>Dec 18</td><td align=\"center\" style=\"white-space:nowrap\">Sale</td><td align=\"right\">230.71</td><td align=\"right\">8,000</td><td align=\"right\">1,845,703</td><td align=\"right\">5,894</td><td align=\"center\" style=\"white-space:nowrap\"><a class=\"tab-link\" href=\"http://www.sec.gov/Archives/edgar/data/1045810/000104581019000185/xslF345X03/wf-form4_157689103188947.xml\">Dec 20 08:17 PM</a></td></tr><tr class=\"insider-sale-row-2\" onmouseout=\"this.className='insider-sale-row-2'\" onmouseover=\"this.className='insider-light-row-h'\" valign=\"top\"><td><a class=\"tab-link\" href=\"insidertrading.ashx?oc=1197652&amp;tc=7\">SEAWELL A BROOKE</a></td><td style=\"white-space:nowrap\">Director</td><td>Dec 13</td><td align=\"center\" style=\"white-space:nowrap\">Sale</td><td align=\"right\">225.85</td><td align=\"right\">963</td><td align=\"right\">217,494</td><td align=\"right\">629</td><td align=\"center\" style=\"white-space:nowrap\"><a class=\"tab-link\" href=\"http://www.sec.gov/Archives/edgar/data/1045810/000104581019000182/xslF345X03/wf-form4_157661673937745.xml\">Dec 17 04:05 PM</a></td></tr><tr class=\"insider-sale-row-2\" onmouseout=\"this.className='insider-sale-row-2'\" onmouseover=\"this.className='insider-light-row-h'\" valign=\"top\"><td><a class=\"tab-link\" href=\"insidertrading.ashx?oc=1198782&amp;tc=7\">BURGESS ROBERT K</a></td><td style=\"white-space:nowrap\">Director</td><td>Dec 04</td><td align=\"center\" style=\"white-space:nowrap\">Sale</td><td align=\"right\">209.89</td><td align=\"right\">4,000</td><td align=\"right\">839,557</td><td align=\"right\">5,894</td><td align=\"center\" style=\"white-space:nowrap\"><a class=\"tab-link\" href=\"http://www.sec.gov/Archives/edgar/data/1045810/000104581019000175/xslF345X03/wf-form4_157550737642240.xml\">Dec 04 07:56 PM</a></td></tr><tr class=\"insider-option-row\" onmouseout=\"this.className='insider-option-row'\" onmouseover=\"this.className='insider-light-row-h'\" valign=\"top\"><td><a class=\"tab-link\" href=\"insidertrading.ashx?oc=1219888&amp;tc=7\">HUDSON DAWN E</a></td><td style=\"white-space:nowrap\">Director</td><td>Dec 03</td><td align=\"center\" style=\"white-space:nowrap\">Option Exercise</td><td align=\"right\">14.70</td><td align=\"right\">2,000</td><td align=\"right\">29,400</td><td align=\"right\">33,037</td><td align=\"center\" style=\"white-space:nowrap\"><a class=\"tab-link\" href=\"http://www.sec.gov/Archives/edgar/data/1045810/000104581019000176/xslF345X03/wf-form4_157550744367169.xml\">Dec 04 07:57 PM</a></td></tr><tr class=\"insider-sale-row-2\" onmouseout=\"this.className='insider-sale-row-2'\" onmouseover=\"this.className='insider-light-row-h'\" valign=\"top\"><td><a class=\"tab-link\" href=\"insidertrading.ashx?oc=1219888&amp;tc=7\">HUDSON DAWN E</a></td><td style=\"white-space:nowrap\">Director</td><td>Dec 03</td><td align=\"center\" style=\"white-space:nowrap\">Sale</td><td align=\"right\">201.87</td><td align=\"right\">2,000</td><td align=\"right\">403,740</td><td align=\"right\">31,037</td><td align=\"center\" style=\"white-space:nowrap\"><a class=\"tab-link\" href=\"http://www.sec.gov/Archives/edgar/data/1045810/000104581019000176/xslF345X03/wf-form4_157550744367169.xml\">Dec 04 07:57 PM</a></td></tr><tr class=\"insider-sale-row-2\" onmouseout=\"this.className='insider-sale-row-2'\" onmouseover=\"this.className='insider-light-row-h'\" valign=\"top\"><td><a class=\"tab-link\" href=\"insidertrading.ashx?oc=1198782&amp;tc=7\">BURGESS ROBERT K</a></td><td style=\"white-space:nowrap\">Director</td><td>Dec 03</td><td align=\"center\" style=\"white-space:nowrap\">Sale</td><td align=\"right\">204.82</td><td align=\"right\">4,000</td><td align=\"right\">819,285</td><td align=\"right\">9,894</td><td align=\"center\" style=\"white-space:nowrap\"><a class=\"tab-link\" href=\"http://www.sec.gov/Archives/edgar/data/1045810/000104581019000175/xslF345X03/wf-form4_157550737642240.xml\">Dec 04 07:56 PM</a></td></tr><tr class=\"insider-sale-row-2\" onmouseout=\"this.className='insider-sale-row-2'\" onmouseover=\"this.className='insider-light-row-h'\" valign=\"top\"><td><a class=\"tab-link\" href=\"insidertrading.ashx?oc=1197652&amp;tc=7\">SEAWELL A BROOKE</a></td><td style=\"white-space:nowrap\">Director</td><td>Nov 26</td><td align=\"center\" style=\"white-space:nowrap\">Sale</td><td align=\"right\">220.50</td><td align=\"right\">629</td><td align=\"right\">138,695</td><td align=\"right\">1,592</td><td align=\"center\" style=\"white-space:nowrap\"><a class=\"tab-link\" href=\"http://www.sec.gov/Archives/edgar/data/1045810/000104581019000173/xslF345X03/wf-form4_157481108651404.xml\">Nov 26 06:31 PM</a></td></tr><tr class=\"insider-sale-row-2\" onmouseout=\"this.className='insider-sale-row-2'\" onmouseover=\"this.className='insider-light-row-h'\" valign=\"top\"><td><a class=\"tab-link\" href=\"insidertrading.ashx?oc=1283854&amp;tc=7\">Shoquist Debora</a></td><td style=\"white-space:nowrap\">EVP, Operations</td><td>Nov 25</td><td align=\"center\" style=\"white-space:nowrap\">Sale</td><td align=\"right\">216.04</td><td align=\"right\">12,193</td><td align=\"right\">2,634,185</td><td align=\"right\">149,463</td><td align=\"center\" style=\"white-space:nowrap\"><a class=\"tab-link\" href=\"http://www.sec.gov/Archives/edgar/data/1045810/000104581019000174/xslF345X03/wf-form4_157481118694252.xml\">Nov 26 06:33 PM</a></td></tr><tr class=\"insider-option-row\" onmouseout=\"this.className='insider-option-row'\" onmouseover=\"this.className='insider-light-row-h'\" valign=\"top\"><td><a class=\"tab-link\" href=\"insidertrading.ashx?oc=1197652&amp;tc=7\">SEAWELL A BROOKE</a></td><td style=\"white-space:nowrap\">Director</td><td>Nov 18</td><td align=\"center\" style=\"white-space:nowrap\">Option Exercise</td><td align=\"right\">14.63</td><td align=\"right\">20,000</td><td align=\"right\">292,600</td><td align=\"right\">22,221</td><td align=\"center\" style=\"white-space:nowrap\"><a class=\"tab-link\" href=\"http://www.sec.gov/Archives/edgar/data/1045810/000104581019000172/xslF345X03/wf-form4_157428708754429.xml\">Nov 20 04:58 PM</a></td></tr><tr class=\"insider-sale-row-2\" onmouseout=\"this.className='insider-sale-row-2'\" onmouseover=\"this.className='insider-light-row-h'\" valign=\"top\"><td><a class=\"tab-link\" href=\"insidertrading.ashx?oc=1197652&amp;tc=7\">SEAWELL A BROOKE</a></td><td style=\"white-space:nowrap\">Director</td><td>Nov 18</td><td align=\"center\" style=\"white-space:nowrap\">Sale</td><td align=\"right\">212.75</td><td align=\"right\">20,000</td><td align=\"right\">4,255,000</td><td align=\"right\">2,221</td><td align=\"center\" style=\"white-space:nowrap\"><a class=\"tab-link\" href=\"http://www.sec.gov/Archives/edgar/data/1045810/000104581019000172/xslF345X03/wf-form4_157428708754429.xml\">Nov 20 04:58 PM</a></td></tr><tr class=\"insider-sale-row-2\" onmouseout=\"this.className='insider-sale-row-2'\" onmouseover=\"this.className='insider-light-row-h'\" valign=\"top\"><td><a class=\"tab-link\" href=\"insidertrading.ashx?oc=1588670&amp;tc=7\">Kress Colette</a></td><td style=\"white-space:nowrap\">EVP &amp; Chief Financial Officer</td><td>Sep 19</td><td align=\"center\" style=\"white-space:nowrap\">Sale</td><td align=\"right\">179.01</td><td align=\"right\">31,357</td><td align=\"right\">5,613,204</td><td align=\"right\">196,469</td><td align=\"center\" style=\"white-space:nowrap\"><a class=\"tab-link\" href=\"http://www.sec.gov/Archives/edgar/data/1045810/000104581019000162/xslF345X03/wf-form4_156901491940070.xml\">Sep 20 05:28 PM</a></td></tr><tr class=\"insider-sale-row-1\" onmouseout=\"this.className='insider-sale-row-1'\" onmouseover=\"this.className='insider-light-row-h'\" valign=\"top\"><td><a class=\"tab-link\" href=\"insidertrading.ashx?oc=1636665&amp;tc=7\">Drell Persis</a></td><td style=\"white-space:nowrap\">Director</td><td>Sep 16</td><td align=\"center\" style=\"white-space:nowrap\">Sale</td><td align=\"right\">180.45</td><td align=\"right\">165</td><td align=\"right\">29,775</td><td align=\"right\">18,019</td><td align=\"center\" style=\"white-space:nowrap\"><a class=\"tab-link\" href=\"http://www.sec.gov/Archives/edgar/data/1045810/000104581019000154/xslF345X03/wf-form4_156884192143315.xml\">Sep 18 05:25 PM</a></td></tr><tr class=\"insider-sale-row-2\" onmouseout=\"this.className='insider-sale-row-2'\" onmouseover=\"this.className='insider-light-row-h'\" valign=\"top\"><td><a class=\"tab-link\" href=\"insidertrading.ashx?oc=1199037&amp;tc=7\">GAITHER JAMES C</a></td><td style=\"white-space:nowrap\">Director</td><td>Sep 10</td><td align=\"center\" style=\"white-space:nowrap\">Sale</td><td align=\"right\">182.37</td><td align=\"right\">10,000</td><td align=\"right\">1,823,714</td><td align=\"right\">99,961</td><td align=\"center\" style=\"white-space:nowrap\"><a class=\"tab-link\" href=\"http://www.sec.gov/Archives/edgar/data/1045810/000122520819012380/xslF345X03/doc4.xml\">Sep 12 05:09 PM</a></td></tr></table>\n</td>\n</tr>\n<tr><td width=\"100%\"><img alt=\"\" border=\"0\" height=\"10\" src=\"gfx/nic2x2.gif\" width=\"2\"/></td></tr>\n<tr valign=\"bottom\"><td align=\"center\">\n<table border=\"0\" cellpadding=\"0\" cellspacing=\"0\">\n<tr>\n<td align=\"left\" class=\"fullview-links\" valign=\"center\">\n<a class=\"tab-link\" href=\"https://finance.yahoo.com/quote/NVDA\" target=\"_blank\">open in yahoo</a> | <a class=\"tab-link\" href=\"https://www.reuters.com/companies/NVDA.OQ\" target=\"_blank\">open in reuters</a> | <a class=\"tab-link\" href=\"https://google.com/finance?q=NASDAQ:NVDA\" target=\"_blank\">open in google</a></td>\n</tr>\n</table>\n</td>\n</tr>\n<tr><td width=\"100%\"><img alt=\"\" border=\"0\" height=\"10\" src=\"gfx/nic2x2.gif\" width=\"2\"/></td></tr>\n</table>\n</td>\n</tr>\n<script type=\"text/javascript\">SearchFocus();</script>\n<script src=\"/js/libs/d3.js\" type=\"text/javascript\"></script>\n<script src=\"/js/dist/quote.bundle.js?rev=226\" type=\"text/javascript\"></script>\n<script>\n                (function(i,s,o,g,r,a,m){i['GoogleAnalyticsObject']=r;i[r]=i[r]||function(){\n                (i[r].q=i[r].q||[]).push(arguments)},i[r].l=1*new Date();a=s.createElement(o),\n                m=s.getElementsByTagName(o)[0];a.async=1;a.src=g;m.parentNode.insertBefore(a,m)\n                })(window,document,'script','//www.google-analytics.com/analytics.js','ga');\n\n                ga('create', 'UA-3261808-1', 'auto', { sampleRate: 10 });\n                ga('set', 'dimension1', 'NotLoggedIn');\n                \n                ga('set', 'dimension3', window.devicePixelRatio || 'unknown');\n                ga('send', 'pageview');\n            </script>\n<script type=\"text/javascript\">\n_qoptions={qacct:\"p-c2W8esUZ6Q8oA\"};\n</script>\n<script src=\"https://secure.quantserve.com/quant.js\" type=\"text/javascript\"></script>\n<noscript>\n<img alt=\"Quantcast\" border=\"0\" height=\"1\" src=\"https://pixel.quantserve.com/pixel/p-c2W8esUZ6Q8oA.gif\" style=\"display: none;\" width=\"1\"/>\n</noscript>\n<script type=\"text/javascript\">\n                (function() {\n                    var bannerScript = document.createElement('script');\n\n                    if (document.body.clientWidth >= 1260) {\n                        bannerScript.onload = function () {\n                            var microbarScript = document.createElement('script');\n                            microbarScript.src = '//ads.investingchannel.com/adtags/finviz/qtsearch/88x31.js?kval=qtsearch';\n                            var microbar = document.getElementById('microbar_position');\n                            microbar.appendChild(microbarScript);\n                            microbar.style.marginLeft = '6px';\n                        };\n                    }\n            bannerScript.onerror = function() {\n                var banners = ['2', '4', '5', '6', '7'];\n                var banner = banners[Math.floor(Math.random() * banners.length)];\n\n                if (typeof intICJsTile === 'undefined') {\n                    if (banner === '3') {\n                        document.getElementById('banner_position').innerHTML = '<iframe src=\"/img/a/' + banner + '/index.html?rev=2\" frameBorder=\"0\" width=\"728\" height=\"90\"></iframe>';\n                    } else {\n                        document.getElementById('banner_position').innerHTML = '<a href=\"/elite.ashx?utm_source=finviz&utm_medium=banner&utm_campaign=' + banner + '\"><img src=\"/img/a/' + banner + '.jpg\"></a>';\n                    }\n                    ga && ga('send', 'event', 'banner', 'impression', banner, {'nonInteraction': 1});\n                }\n            };\n        \n                    bannerScript.src = '//ads.investingchannel.com/adtags/finviz/quotes/728x90.js?t=nvda';\n                            \n                    var banner = document.getElementById('banner_position');\n                    banner.appendChild(bannerScript);\n                })();\n            </script>\n<div class=\"modal-elite-ad\" id=\"modal-elite-ad\">\n<div class=\"modal-elite-ad_content\" id=\"modal-elite-ad_content\">\n<button class=\"modal-elite-ad_close\" id=\"modal-elite-ad-close\" type=\"button\">×</button>\n<!--<div id=\"modal-elite-ad-content-0\" style=\"display: none\">\n\t\t\t                        <h2>Ever heard of Finviz*Elite?</h2>\n                                    <p>\n                                        Our premium service offers you real-time quotes, advanced visualizations, technical studies, and much more.<br>\n                                        Become Elite and make informed financial decisions.\n                                    </p>\n                                    <a href=\"/elite.ashx?utm_source=finviz&utm_medium=banner&utm_campaign=modal-0\" id=\"modal-elite-ad-btn-0\" class=\"\" target=\"_blank\">Find out more</a>\n                                </div>-->\n<div id=\"modal-elite-ad-content-1\" style=\"display: block\">\n<h2>Upgrade your FINVIZ experience</h2>\n<p>\n                                        Join thousands of traders who make more informed decisions with our premium features.\n                                        Real-time quotes, advanced visualizations, backtesting, and much more.\n                                    </p>\n<a class=\"modal-elite_button\" href=\"/elite.ashx?utm_source=finviz&amp;utm_medium=banner&amp;utm_campaign=modal-1\" id=\"modal-elite-ad-btn-1\" target=\"_blank\">Learn more about FINVIZ*Elite</a>\n</div>\n</div>\n</div><script async=\"\" src=\"/js/pv.js?rev=226\"></script><script src=\"/script/libs/bowser.min.js?rev=226\" type=\"text/javascript\"></script></body>\n</html>\n\n"
    }
   ],
   "source": [
    "# Finviz 사이트의 nvda에 웹 요청을 통해 데이터를 가져온다.\n",
    "# headers와 같이 요청해주어야 한다.\n",
    "# urllib으로 headers를 요청할 수도 있지만, 모듈을 몇개 더 불러와야하기 때문에 간단한 requests를 사용하겠다.\n",
    "import csv\n",
    "import requests\n",
    "from bs4 import BeautifulSoup as bs\n",
    "\n",
    "headers = {'User-Agent':'Mozilla/5.0 (Windows NT 10.0; Win64; x64) AppleWebKit/537.36 (KHTML, like Gecko) Chrome/83.0.4103.116 Safari/537.36'}\n",
    "\n",
    "\n",
    "ticker = \"NVDA\".lower()\n",
    "url = f'http://finviz.com/quote.ashx?t={ticker}'\n",
    "\n",
    "req = requests.get(url, headers=headers)\n",
    "html = req.text\n",
    "\n",
    "# html을 기본 파서로 사용하지만, lxml 파서가 더 빨리 작동하므로 lxml을 사용한다.\n",
    "# 기본으로 BeautifulSoup 객체를 다운로드 받게된다.\n",
    "soup = bs(html, 'lxml')\n",
    "print(soup)"
   ]
  },
  {
   "cell_type": "code",
   "execution_count": 8,
   "metadata": {
    "tags": []
   },
   "outputs": [
    {
     "output_type": "stream",
     "name": "stdout",
     "text": "P/E\n92.57\n"
    }
   ],
   "source": [
    "# 그리고 P/E 텍스트의 위치를 찾는다.\n",
    "\n",
    "d = soup.find(text=\"P/E\")\n",
    "print(d)\n",
    "\n",
    "\"\"\"\n",
    "<HTML 코드>\n",
    "P/E</td><td width=\"8%\" class=\"snapshot-td2\" align=\"left\"><b>92.53</b></td>\n",
    "파이썬 코드는 \n",
    "\"\"\"\n",
    "\n",
    "d_ = d.find_next(class_='snapshot-td2').text\n",
    "print(d_)"
   ]
  },
  {
   "cell_type": "code",
   "execution_count": 9,
   "metadata": {
    "tags": []
   },
   "outputs": [
    {
     "output_type": "stream",
     "name": "stdout",
     "text": "24.59\n"
    }
   ],
   "source": [
    "\"\"\"\n",
    "함수로 구현\n",
    "\"\"\"\n",
    "def getFinancialRatioUS(symbol, item):\n",
    "    try:\n",
    "        symbol = symbol.lower()\n",
    "        url = f'http://finviz.com/quote.ashx?t={symbol}'\n",
    "\n",
    "        req = requests.get(url, headers=headers)\n",
    "        html = req.text\n",
    "        soup = bs(html, 'lxml')\n",
    "        pb = soup.find(text=item)\n",
    "        pb_ = pb.find_next(class_='snapshot-td2').text\n",
    "        return pb_\n",
    "    except Exception as e:\n",
    "        print(e)\n",
    "\n",
    "# NVDA psr 파싱\n",
    "psr = getFinancialRatioUS(\"NVDA\",\"P/S\")\n",
    "print(psr)"
   ]
  },
  {
   "cell_type": "code",
   "execution_count": 10,
   "metadata": {},
   "outputs": [],
   "source": [
    "# nvda의 모든 재무데이터를 csv로 파일 저장\n",
    "\n",
    "csvFile = open(\"nvda_fundamental.csv\", \"wt\")\n",
    "writer = csv.writer(csvFile)\n",
    "\n",
    "# 항목이름 all\n",
    "names = soup.findAll(class_='snapshot-td2-cp')\n",
    "# 항목 값 all\n",
    "datas = soup.findAll(class_='snapshot-td2')\n",
    "\n",
    "try:\n",
    "    for i in range(len(names)):\n",
    "        name = names[i].text\n",
    "        data = datas[i].text\n",
    "        writer.writerow((\"NVDA\", name, data))\n",
    "finally:\n",
    "    csvFile.close()\n"
   ]
  },
  {
   "cell_type": "markdown",
   "metadata": {},
   "source": [
    "## 동적 크롤링\n",
    "\n",
    "### 동적 크롤링에 앞서 간단한 웹 용어와 구조를 확인해보자\n",
    "\n",
    "- 자바스크립트 : 최신 웹 페이지에 거의 어디서나 쓰인다.\n",
    "\n",
    "    - 자바 스크립트는 현재 웹에서 가장 널리 쓰이고 가장 잘 지원되는 클라이언트 스크립트 언어이다. \n",
    "\n",
    "    - 자바스크립트는 사용자 추적을 위한 정보 수집, 폼을 새로 고치지 않은 상태에서의 정보 전송, 멀티미디어 파일 등에 쓰이며 심지어 게임도 만들 수 있다. \n",
    "\n",
    "    - 아주 단순해 보이는 페이지에도 자바스크립트가 많이 들어 있다. \n",
    "\n",
    "    - 자바스크립트는 페이지의 소스 코드에서 <script> 태그 부분에 들어 있다.\n",
    "\n",
    "- 제이쿼리\n",
    "    \n",
    "    - 제이쿼리(jQuery)는 대단히 널리 쓰이는 자바스크립트 라이브러리이다. \n",
    "    \n",
    "    - 유명한 인터넷 사이트의 70%가 제이쿼리를 사용하고, 다른 사이트 들도 30% 정도는 제이쿼리를 사용했다. \n",
    "    \n",
    "    - 제이쿼리를 사용하는 사이트는 코드 어딘가에 다음과 같이 제이쿼리를 불러오는 임포트 문이 있으므로 쉽게 구별할 수 있다.\n",
    "\n",
    "    - <scrpit src = \"http://ajax.googleapis.com/ajax/libs/jquery/1.9.1/jquery.min.js\"></script>\n",
    "    \n",
    "    - 사이트에서 제이쿼리를 사용한다면 반드시 조심해서 스크랩해야 한다. \n",
    "    \n",
    "    - 제이쿼리는 자바스크립트가 실행된 다음에 동적으로 HTML 콘텐츠를 생성할 수 있기 때문입니다. \n",
    "    \n",
    "    - 앞에서 사용한 방법대로 정적크롤링을 이용해 페이지 콘텐츠를 스크랩하면 자바스크립트로 생성한 콘텐츠는 모두 놓치게 된다.\n",
    "\n",
    "\n",
    "- Ajax와 동적 HTML\n",
    "\n",
    "    - 여태까지 우리가 웹 서버와 한 통신은 페이지를 가져올 때 일종의 HTTP 요청을 보낸 것 뿐이다. \n",
    "    \n",
    "    - 페이지를 새로 고치지 않고 폼을 전송하거나 서버에서 정보를 가져온 경험이 있다면 그건 아마 Ajax를 통한 것이다.\n",
    "\n",
    "    - Ajax는 비동기 자바스크립트와 xml의 약자이며, 서버에 별도의 페이지를 요청하지 않고 정보를 주고 받기 위해 사용된다. \n",
    "\n",
    "    - Ajax와 마찬가지로 DHTML(Dynamic HTML)도 같은 목적을 위해 함께 사용하는 기술을 묶어 부르는 말이다. \n",
    "    \n",
    "    - DHTML은 클라이언트 쪽 스크립트가 페이지의 HTML 요소 바뀜에 따라 바뀌는 HTML이거나 CSS 이다. \n",
    "    \n",
    "    - 사용자가 커서를 움직여야만 버튼이 나타나거나, 클릭에 따라 배경색이 바뀌거나 Ajax 요청으로 새로운 콘텐츠가 나타날 수도 있다.\n",
    "\n",
    "    - 다양한 웹사이트에서 아주 많이 스크랩한다면 곧 브라우저에 보이는 콘텐츠가 사이트에서 스크랩한 소스 코드와는 맞지 않는 상황이 발생할 것이다. \n",
    "    \n",
    "    - 스크레이퍼가 내놓은 결과를 보고 브라우저에서 보던 내용이 다 어디로 사라졌는지 궁금해 질 것이다. \n",
    "    \n",
    "    - 또한 페이지에서 리다이렉트가 일어나서 다른 페이지로 이동했지만, 페이지 URL은 전혀 바뀌지 않을 수도 있다.\n",
    "\n",
    "    - 이런 모든 상황은 자바스크립트가 페이지에서 하는 일을 스크레이퍼는 하지 못하기 때문에 일어나는 일이다. \n",
    "\n",
    "    - 자바스크립트가 없다면 HTML은 그냥 가만히 있을 뿐이며, 자바스크립트를 잘 실행하는 웹 브라우저에서 보이는 것과는 매우 다르게 보일 수 있다.\n",
    "\n",
    "    - 페이지가 Ajax나 DHTML을 써서 콘텐츠를 바꾸거나 불러올 때 어쨋든 스크랩을 하려면 해결책은 두가지 뿐이다.  \n",
    "        \n",
    "        - (1) 자바 스크립트를 분석해 콘텐츠를 직접 스크랩하는 것 \n",
    "        \n",
    "        - (2) 자바스크립트 자체를 실행할 수 있는 파이썬 패키지를 써서 웹사이트를 브라우저에 보이는 그대로 스크랩하는 것"
   ]
  },
  {
   "cell_type": "markdown",
   "metadata": {},
   "source": [
    "### 셀레니움\n",
    "\n",
    "- 셀리니움은 강력한 웹 스크래이핑 도구이다. \n",
    "\n",
    "- 셀리니움은 브라우저가 웹사이트를 불러오고 필요한 데이터를 가져오고, 스크린 샷을 찍거나, 특정 행동에 대한 것들을 자동화 한다.\n",
    "\n",
    "- 셀리니움에는 자체적인 웹 브라우저가 들어 있지 않으므로 다른 브라우저가 있어야 동작한다. \n",
    "\n",
    "- 팬텀JS라는 브라우저를 사용하면 그래픽을 전혀 렌더링 하지 않기 때문에  셀리니움과 팬텀JS를 결합하면 대단히 강력한 웹 스크래이퍼를 갖게 된다.\n",
    "\n",
    "- 하지만 팬텀js는 과거에 주로 사용하던 구시대적인 방법이고 요즘에는 크롬에 헤드리스 옵션을 준 브라우저를 사용하면 훨씬 메모리도 적게 들고 성능이 좋다."
   ]
  },
  {
   "cell_type": "code",
   "execution_count": 13,
   "metadata": {
    "tags": []
   },
   "outputs": [
    {
     "output_type": "stream",
     "name": "stdout",
     "text": "Here is some important text you want to retrieve!\nA button to click!\n"
    }
   ],
   "source": [
    "# 다음 코드는 테스트 페이지에서 Ajax의 '벽' 뒤에 있는 텍스트를 가져옵니다.\n",
    "\n",
    "from selenium import webdriver\n",
    "import time\n",
    "import os\n",
    "\n",
    "# 크롬 드라이버가 있는 파일 경로를 설정한다.\n",
    "path = os.getcwd()\n",
    "\n",
    "# working directory를 변경\n",
    "os.chdir(path)\n",
    "\n",
    "# 셀레니움 웹드라이브가 웹페이지를 따로 열지 않고도 데이터를 가져올 수 있게 해주는 장치이다.\n",
    "# 만약 없으면 코드 실행 중 페이지가 자동으로 열린다.\n",
    "options = webdriver.ChromeOptions()\n",
    "options.add_argument('headless') # headless: 크롤링 할때 브라우저가 안뜨도록 설정\n",
    "\n",
    "# 설치한 크롬드라이브의 위치를 webdriver에게 알려줘야 한다. chromedriver.exe가 있는 경로를 설정해준다.\n",
    "driver = webdriver.Chrome('chromedriver.exe', options=options)\n",
    "\n",
    "URL = \"http://pythonscraping.com/pages/javascript/ajaxDemo.html\"\n",
    "driver.get(URL)\n",
    "\n",
    "time.sleep(3)\n",
    "\n",
    "print(driver.find_element_by_id(\"content\").text)\n",
    "driver.close()"
   ]
  },
  {
   "cell_type": "markdown",
   "metadata": {},
   "source": [
    "- 이전에는 find와 findAll 같은 BeautifulSoup 선택지를 써서 페이지 요소를 선택했습니다. \n",
    "\n",
    "- 셀리니움은 웹드라이버의 DOM(문서 객체 모델)에서 요소를 찾을 떄 완전히 새로운 선택자를 사용합니다.\n",
    "\n",
    "- 예제에서는 선택자 find_element_by_id를 사용했지만 다음과 같이 다른 선택자를 사용했어도 된다.\n",
    "\n",
    "    - driver.find_element_by_css_selector(\"#content\")\n",
    "    - driver.find_element_by_tag_name(\"div\")\n",
    "\n",
    "- 이 콘텐츠를 BeautifulSoup으로 파싱하는 것도 가능합니다. 웹드라이버의 page_source 함수는 현 시점의 DOM을 문자열로 반환합니다.\n",
    "\n",
    "- 모든 것이 정확히 설치되고 설정됐다면 스크립트를 실행하고 몇 초 뒤에는 텍스트를 출력할 것이다. (위에서 time.sleep(3)줬음) 다만 이 방법은 좀 비효율 적이고, 문제가 생길 소지도 있다. \n",
    "\n",
    "- 더 효율적인 방법은 페이지를 완전히 불러왔을 때만 존재하는 요소를 계속해서 확인하다가, 그 요소가 존재할 때만 데이터를 가져오는 것이다.\n",
    "\n",
    "- 여러가지 예상 조건을 사용할 수 있는데, 그중에서도 자주 쓰이는 것은 다음과 같다.\n",
    "\n",
    "    - 알림 박스 팝업\n",
    "    - 요소(텍스트 박스 등) 선택 상태로 바뀜\n",
    "    - 페이지 타이틀이 바뀌거나, 어떤 텍스트가 페이지 또는 특정 요소안에 표시됨\n",
    "    - 보이지 않던 요소가 DOM상에 보이게 되거나, 반대로 어떤 요소가 DOM에서 사라짐\n",
    "\n",
    "- 물론 예상 조건을 사용하려면 어떤 요소를 지켜볼지 지정해야 합니다. 지켜볼 요소는 위치 지정자로 정한다. \n",
    "\n",
    "- 위치 지정자는 선택자와는 다르다. 위치 지정자는 By객체를 사용하는 추상 쿼리 언어이다. By 객체는 다양한 방법으로 사용될 수 있는데, 선택자를 만들 때도 쓸 수 있다.\n",
    "\n",
    "- By 객체와 함꼐 쓸 수 있는 위치 지정자는 다음과 같습니다.\n",
    "\n",
    "    - ID : id 속성으로 요소를 찾는다.\n",
    "\n",
    "    - CLASS_NAME : class 속성으로 요소를 찾는다. \n",
    "\n",
    "    - CSS_SELECTOR : class, id, tag 이름으로 요소를 찾습니다. 표기법은 각각 #idName, .className, tagName이다.\n",
    "\n",
    "    - LINK_TEXT : 링크 텍스트로 <a> 태그를 찾는다. \n",
    "\n",
    "    - PARTIAL_LINK_TEXT : LINK_TEXT와 비슷하지만 문자열 일부에 일치하는 텍스트를 찾는다.\n",
    "\n",
    "    - NAME : name 속성으로 요소를 찾는다. 폼을 다룰 때 편리하다.\n",
    "\n",
    "    - TAG_NAME : 태그 이름으로 요소를 찾는다."
   ]
  },
  {
   "cell_type": "markdown",
   "metadata": {},
   "source": [
    "- 다음 코드는 네이버의 메인 페이지를 캡쳐해서 \"NaverTitle.png\" 라는 이름으로 저장합니다.\n",
    "\n",
    "- 크롬 헤드리스 드라이버를 추출한 다음 드라이버가 URL의 웹 페이지를 읽어 들이고, \n",
    "\n",
    "- 화면을 캡처해서 파일로 저장합니다. close() 메서드로 크롬 브라우저를 종료합니다."
   ]
  },
  {
   "cell_type": "code",
   "execution_count": 14,
   "metadata": {},
   "outputs": [],
   "source": [
    "from selenium import webdriver\n",
    "import os\n",
    "\n",
    "# 크롬 드라이버가 있는 파일 경로를 설정한다.\n",
    "path = os.getcwd()\n",
    "\n",
    "# working directory를 변경\n",
    "os.chdir(path)\n",
    "\n",
    "# 셀레니움 웹드라이브가 웹페이지를 따로 열지 않고도 데이터를 가져올 수 있게 해주는 장치이다.\n",
    "# 만약 없으면 코드 실행 중 페이지가 자동으로 열린다.\n",
    "options = webdriver.ChromeOptions()\n",
    "options.add_argument('headless')  # headless: 크롤링 할때 브라우저가 안뜨도록 설정\n",
    "\n",
    "# 설치한 크롬드라이브의 위치를 webdriver에게 알려줘야 한다. chromedriver.exe가 있는 경로를 설정해준다.\n",
    "driver = webdriver.Chrome('chromedriver.exe', options=options)\n",
    "\n",
    "url = \"http://www.naver.com\"\n",
    "\n",
    "# URL 읽어들이기\n",
    "driver.get(url)\n",
    "\n",
    "# 화면 캡쳐하기\n",
    "driver.save_screenshot(\"NaverTitle.png\")\n",
    "\n",
    "# 브라우저 종료하기\n",
    "driver.close()"
   ]
  },
  {
   "cell_type": "markdown",
   "metadata": {},
   "source": [
    "- 기본적으로 알아두면 좋은 Selenium의 메서드는 다음과 같습니다.\n",
    "\n",
    "    - URL에 접근 : get(url)\n",
    "\n",
    "    - 페이지의 단일 element에 접근\n",
    "        \n",
    "        - find_element_by_name('HTML_name')\n",
    "        \n",
    "        - find_element_by_id('HTML_id')\n",
    "        \n",
    "        - find_element_by_xpath('/html/body/some/xpath')\n",
    "\n",
    "    - 페이지의 여러 elements에 접근\n",
    "\n",
    "        - find_element_by_css_selector('#css > div.selector')\n",
    "\n",
    "        - find_element_by_class_name('some_class_name')\n",
    "\n",
    "        - find_element_by_tag_name('h1')\n",
    "\n",
    "- 굉장히 다양한 메서드가 있는데 기초적인 것은 여기까지 알아보겠습니다.\n",
    "\n",
    "- 더 다양한 메서드를 알고 싶다면 https://selenium-python.readthedocs.io/ 에서 찾아보시기 바랍니다."
   ]
  }
 ]
}