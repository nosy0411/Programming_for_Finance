{
 "metadata": {
  "language_info": {
   "codemirror_mode": {
    "name": "ipython",
    "version": 3
   },
   "file_extension": ".py",
   "mimetype": "text/x-python",
   "name": "python",
   "nbconvert_exporter": "python",
   "pygments_lexer": "ipython3",
   "version": 3
  },
  "orig_nbformat": 2
 },
 "nbformat": 4,
 "nbformat_minor": 2,
 "cells": [
  {
   "source": [
    "# 1. 딕셔너리 파일을 데이터프레임 파일로 바꾸시오( 노가다 X). \n",
    "#    그리고   \"DC\" 라는 단어만 나오게 인덱싱하시오. "
   ],
   "cell_type": "markdown",
   "metadata": {}
  },
  {
   "cell_type": "code",
   "execution_count": null,
   "metadata": {},
   "outputs": [],
   "source": [
    "import pandas as pd\n",
    "data = {'Name':['Jay', 'Minsu', 'James', 'Jasmine', \"Aboo\" ],\n",
    "        'Age':[27, 24, 22, 32, 25],\n",
    "        'Address':['CA', 'NY', 'DC', 'Jeju', 'Seoul'],\n",
    "        'Qualification':['Msc', 'MA', 'MCA', 'Phd', 'MA']}"
   ]
  },
  {
   "cell_type": "code",
   "execution_count": null,
   "metadata": {},
   "outputs": [],
   "source": [
    "# 해답"
   ]
  },
  {
   "source": [
    "# 2. Age에서 가장 큰 숫자를 찾는 코드를 작성하시오.  결과가 Name 과 Age에 같이 나와야 합니다."
   ],
   "cell_type": "markdown",
   "metadata": {}
  },
  {
   "cell_type": "code",
   "execution_count": null,
   "metadata": {},
   "outputs": [],
   "source": [
    "# 해답"
   ]
  },
  {
   "source": [
    "# 3. 25세 이상인 사람을 골라내기 위한 boolean array 조건을 만들어 \"Age_limit\" 이라는 변수에 저장하시오.\n",
    "#    Age_limit 이라는 변수를 이용해 데이터 프레임을 필터링 하고, 필터링한 데이터프레임을 \"Older_group\"이라고 저장한 후 프린트하시오."
   ],
   "cell_type": "markdown",
   "metadata": {}
  },
  {
   "cell_type": "code",
   "execution_count": null,
   "metadata": {},
   "outputs": [],
   "source": [
    "# 해답"
   ]
  },
  {
   "source": [
    "# 4. 20대와 30대를 나누는 함수를 짠 뒤, 그 함수를 데이터프레임에 적용하여 Age에 있는 모든 값을 20대와 30대 중 하나로 변경하시오.\n",
    "#    바뀐 Age 변수 명을 \"Generation\"으로 교체하고 프린트하시오."
   ],
   "cell_type": "markdown",
   "metadata": {}
  },
  {
   "cell_type": "code",
   "execution_count": null,
   "metadata": {},
   "outputs": [],
   "source": [
    "# 해답"
   ]
  },
  {
   "source": [
    "# 5.아래에 있는 mydata 에서 a열의 3번째 행 ( 인덱스 3번째 아님) 을 5로 바꾸고, 결과를 보기 위해 프린트하시오."
   ],
   "cell_type": "markdown",
   "metadata": {}
  },
  {
   "cell_type": "code",
   "execution_count": null,
   "metadata": {},
   "outputs": [],
   "source": [
    "idx = pd.date_range('1/1/2000', periods=4, freq='T')\n",
    "mydata = pd.DataFrame(data=4 * [range(2)],\n",
    "                  index=idx,\n",
    "                  columns=['a', 'b'])"
   ]
  },
  {
   "cell_type": "code",
   "execution_count": null,
   "metadata": {},
   "outputs": [],
   "source": [
    "# 해답"
   ]
  },
  {
   "cell_type": "code",
   "execution_count": null,
   "metadata": {},
   "outputs": [],
   "source": [
    "  \n",
    "# 이 cell은 돌리지 말고, 아래와 같은 결과가 나오도록 Answer 란에 코드를 짜시오. ( 힌트 : resample('30S')  )\n",
    "  a  b\n",
    "a\n",
    "0   2000-01-01 00:00:00  0  1\n",
    "    2000-01-01 00:00:30  0  0\n",
    "    2000-01-01 00:01:00  0  1\n",
    "    2000-01-01 00:01:30  0  0\n",
    "    2000-01-01 00:02:00  0  0\n",
    "    2000-01-01 00:02:30  0  0\n",
    "    2000-01-01 00:03:00  0  1\n",
    "5   2000-01-01 00:02:00  5  1"
   ]
  },
  {
   "cell_type": "code",
   "execution_count": null,
   "metadata": {},
   "outputs": [],
   "source": [
    "# 해답"
   ]
  }
 ]
}