{
 "metadata": {
  "language_info": {
   "codemirror_mode": {
    "name": "ipython",
    "version": 3
   },
   "file_extension": ".py",
   "mimetype": "text/x-python",
   "name": "python",
   "nbconvert_exporter": "python",
   "pygments_lexer": "ipython3",
   "version": "3.6.8-final"
  },
  "orig_nbformat": 2,
  "kernelspec": {
   "name": "python_defaultSpec_1599143255191",
   "display_name": "Python 3.6.8 64-bit ('base': conda)"
  }
 },
 "nbformat": 4,
 "nbformat_minor": 2,
 "cells": [
  {
   "cell_type": "markdown",
   "metadata": {},
   "source": [
    "## Integers (정수형 자료형)"
   ]
  },
  {
   "cell_type": "code",
   "execution_count": 1,
   "metadata": {
    "tags": []
   },
   "outputs": [
    {
     "output_type": "stream",
     "name": "stdout",
     "text": "<class 'int'>\n4\n17\n10000000000000000000000000000000000000000000000000000000000000000000000000000000000000000000000000000\n333\n<class 'float'>\n0.25\n"
    }
   ],
   "source": [
    "a = 10\n",
    "print(type(a)) # 변수가 어떤 타입인지 출력\n",
    "\n",
    "print(a.bit_length()) # 비트 길이(이진수 형태로 바꿨을 때 자릿수) 출력\n",
    "\n",
    "a = 100000\n",
    "print(a.bit_length())\n",
    "\n",
    "googol = 10 ** 100\n",
    "print(googol)\n",
    "print(googol.bit_length())\n",
    "\n",
    "print(type(1 / 4))\n",
    "print(1/4)"
   ]
  },
  {
   "cell_type": "markdown",
   "metadata": {},
   "source": [
    "## float (실수형 자료형)"
   ]
  },
  {
   "cell_type": "code",
   "execution_count": 2,
   "metadata": {
    "tags": []
   },
   "outputs": [
    {
     "output_type": "stream",
     "name": "stdout",
     "text": "<class 'float'>\n0.35\n0.44999999999999996\n0.35\n0.44999999999999996\nFalse\nFalse\n"
    }
   ],
   "source": [
    "b = 0.35\n",
    "print(type(b))\n",
    "print(b)        # 실수형 변수를 할당하는 경우 부동소수점 값을 10진수 근사값으로 변환\n",
    "b = b + 0.1     # 실수 연산을 수행하면 부동소수점 값을 출력하게 됨 (정확하게는 부동소수점 객체로 값들을 관리함)\n",
    "print(b)   \n",
    "\n",
    "b = float('0.35')\n",
    "print(b)\n",
    "b = float(eval('0.35 + 0.1'))       # eval은 evaluation의 약자로 식을 문자열로 넣어주면 그 문자열에 해당하는 식을 계산해준다.\n",
    "print(b)\n",
    "\n",
    "print(0.1 + 0.2 == 0.3) # 부동소수점 값은 이런식으로 비교가 불가능함\n",
    "print(round(0.1,1)+round(0.2,1)==round(0.3,1)) # 어짜피 똑같이 0.1 + 0.2 계산하는 건 매한가지"
   ]
  },
  {
   "cell_type": "markdown",
   "metadata": {},
   "source": [
    "### 부동소수점 : 유리수나 실수를 컴퓨터로 표현한 것. 수치오차가 있을 수 있으며, 오차값도 기술적인 방식에 따라 달라질 수 있음  \n",
    "\n",
    "- 오차가 발생하는 이유는 부동소수점이 내부적으로 이진법 형식을 사용하기 때문  \n",
    "\n",
    "- 예를 들어 0과 1사이의 숫자는 n = x/2 + y/4 + z/8 + ... 과 같은 형식으로 표현됨  \n",
    "\n",
    "- 숫자에 따라서는 유한개의 분수의 합으로는 표현하지 못하는 무한수열이 될 수도 있음  \n",
    "\n",
    "- 하지만 컴퓨터에서 사용할 수 있는 비트 수는 한정되어 있기 때문에 결과적으로는 부정확한 값을 가지게 됨  \n",
    "\n",
    "- 수의 값에 따라서(ex. 0.5) 운 좋게 유한개의 비트로 표현 가능해서 정확한 값을 가질 수도 있음  \n",
    "\n",
    "- 즉, 정밀도는 그 수를 표현하기 위해 사용된 비트 수에 따라 달라지는데, 일반적으로 파이썬은 모든 플랫폼에서 부동소수점 내부 표현 방식으로  IEEE 754 배정도 표준을 사용함. 15자리의 상대정확도를 가지고 64비트 배정도 표준을 나타냄    \n",
    "\n",
    "- 참고 : https://en.wikipedia.org/wiki/Double-precision_floating-point_format\n"
   ]
  },
  {
   "cell_type": "markdown",
   "metadata": {},
   "source": [
    "### float 자료형을 쓸 때는 위와 같은 점을 주의해야 합니다.\n",
    "\n",
    "- 실수는 컴퓨터에서 부동소수점(floating point) 방식으로 표현함. \n",
    "\n",
    "- 유한개의 비트로 정확하게 표현이 불가하므로 유한개의 비트를 사용한 근사값으로 표현\n",
    "\n",
    "- 10진수 0.1 은 2진 분수로 정확히 표현 불가능(0.0001100110011001100110011..,)\n",
    "\n",
    "- 파이썬에서 제공하는 decimal 표준 라이브러리를 사용하면 부동소수점 숫자를 임의의 정확도로 표시할 수 있음"
   ]
  },
  {
   "cell_type": "code",
   "execution_count": 3,
   "metadata": {
    "tags": []
   },
   "outputs": [
    {
     "output_type": "stream",
     "name": "stdout",
     "text": "0.1000000000000000055511151231257827021181583404541015625\n0.1000000000000000055511151231257827021181583404541015625\n0.1\n0.1\n0.1\n"
    }
   ],
   "source": [
    "import decimal\n",
    "from decimal import Decimal\n",
    "b = decimal.Decimal(3602879701896397 / 2 ** 55)     # 0.1을 10진수 형태로 표기한 값\n",
    "print(b)\n",
    "b = decimal.Decimal(0.1)    # 0.1에 대한 실제 10진수 값 출력\n",
    "print(b)\n",
    "b = decimal.Decimal('0.1')  # 이렇게 문자형으로 자료를 넘겨주면 근사값으로 출력됨\n",
    "print(b)\n",
    "print(0.1)\n",
    "print(1/10)\n",
    "\n"
   ]
  },
  {
   "cell_type": "code",
   "execution_count": 4,
   "metadata": {
    "tags": []
   },
   "outputs": [
    {
     "output_type": "stream",
     "name": "stdout",
     "text": "True\nTrue\n0.12\n0.14\n"
    }
   ],
   "source": [
    "# 실수형 자료 정확한 비교\n",
    "print(decimal.Decimal('0.1') + decimal.Decimal('0.2') == decimal.Decimal('0.3'))\n",
    "# 의도에 맞게 round를 사용한 비교\n",
    "print(round(0.1+0.2,1)==round(0.3,1))\n",
    "\n",
    "# round도 단순히 반올림(사사오입)이 아니고 여러가지 방법이 있음. 파이썬 default 모드는 round_half_even\n",
    "# round_half_even은 중간값인 5 에 대해서 반올림 자리 바로 윗자리 숫자가 짝수에 가까워지도록 올리는 방법\n",
    "# 보통 금융권에서 많이 써서 banker's rounding 이라고도 많이 불림\n",
    "\n",
    "print(round(0.125,2))\n",
    "print(round(0.135,2))"
   ]
  },
  {
   "cell_type": "code",
   "execution_count": 5,
   "metadata": {
    "tags": []
   },
   "outputs": [
    {
     "output_type": "stream",
     "name": "stdout",
     "text": "(3602879701896397, 36028797018963968)\nContext(prec=28, rounding=ROUND_HALF_EVEN, Emin=-999999, Emax=999999, capitals=1, clamp=0, flags=[FloatOperation], traps=[InvalidOperation, DivisionByZero, Overflow])\n(1, 2)\n0.09090909090909090909090909091\n"
    }
   ],
   "source": [
    "b=0.1\n",
    "print(b.as_integer_ratio())  # 분수 형태 표현으로 변환\n",
    "print(decimal.getcontext())  # 현재 반올림이 어떤 방식으로 적용됐는지 확인 가능\n",
    "\n",
    "c = 0.5\n",
    "print(c.as_integer_ratio())\n",
    "\n",
    "d = Decimal(1) / Decimal (11)\n",
    "print(d)"
   ]
  },
  {
   "cell_type": "code",
   "execution_count": 6,
   "metadata": {
    "tags": []
   },
   "outputs": [
    {
     "output_type": "stream",
     "name": "stdout",
     "text": "0.09091\n0.09090909090909090909090909090909090909091\n0.2727281818181818181818181818190909090909\n"
    }
   ],
   "source": [
    "decimal.getcontext().prec = 4  # 기본 정밀도인 28보다 낮은 정밀도\n",
    "e = Decimal(1) / Decimal (11)\n",
    "print(e)\n",
    "\n",
    "decimal.getcontext().prec = 40 # 기본 정밀도인 28보다 큰 정밀도\n",
    "f = Decimal(1) / Decimal (11)\n",
    "print(f)\n",
    "\n",
    "g = d + e + f\n",
    "print(g)\n"
   ]
  },
  {
   "cell_type": "markdown",
   "metadata": {},
   "source": [
    "- 참고한 사이트\n",
    "    - https://ko.wikipedia.org/wiki/%EB%B6%80%EB%8F%99%EC%86%8C%EC%88%98%EC%A0%90\n",
    "    - https://winterj.me/floating-point-in-python/\n",
    "    - https://euriion.com/?p=412298\n",
    "    - https://dojang.io/mod/page/view.php?id=2466"
   ]
  },
  {
   "cell_type": "markdown",
   "metadata": {},
   "source": [
    "## 연산 (Operation)"
   ]
  },
  {
   "cell_type": "code",
   "execution_count": 8,
   "metadata": {},
   "outputs": [],
   "source": [
    "a = 1 + 1 # 더하기 / a = 2\n",
    "a = 1 - 1 # 빼기 / a = 0\n",
    "a = 3 * 4 # 곱하기 / a = 12\n",
    "a = 3 / 2 # 나누기 / a = 1.5\n",
    "a = 5 // 2 # 몫 / a = 2\n",
    "a = 5 % 2 # 나머지 / a = 1\n",
    "a = 5 ** 2 # 제곱 / a = 25\n",
    "\n",
    "a += b  # a = a + b\n",
    "a -= b  # a = a - b\n",
    "a *= b  # a = a * b\n",
    "a /= b  # a = a / b\n",
    "a %= b  # a = a % b\n",
    "a **= b # a = a ** b\n",
    "a //= b # a = a // b"
   ]
  },
  {
   "cell_type": "code",
   "execution_count": 9,
   "metadata": {},
   "outputs": [],
   "source": [
    "# 연산자 우선순위\n",
    "# 1.단항, 증감연산자(!, ~, ++, --)  2.산술연산자(*, /, %)  3.산술연산자(+,-)  4.시프트연산자(<<, >>)\n",
    "# 5.관계연산자(>, >=, <, <=)  6.관계연산자(==, !=)  7.비트연산자(&, ^, |), 8.논리연산자(&&, ||)\n",
    "# 9.조건연산자(조건?수식1:수식2)  10.대입연산자(+=, -=, *=, /=, %=, <<=, >>=)  11.순서연산자(,)"
   ]
  },
  {
   "cell_type": "code",
   "execution_count": 10,
   "metadata": {},
   "outputs": [
    {
     "output_type": "execute_result",
     "data": {
      "text/plain": "True"
     },
     "metadata": {},
     "execution_count": 10
    }
   ],
   "source": [
    "# 논리자료형 (Boolean))\n",
    "True\n",
    "False\n",
    "not True == False\n",
    "True and True == True\n",
    "True or False == True\n",
    "3 == 5 # => False\n",
    "10 * 10 == 100 # => True"
   ]
  },
  {
   "cell_type": "markdown",
   "metadata": {},
   "source": [
    "## string (문자열 자료형)\n",
    "\n"
   ]
  },
  {
   "cell_type": "code",
   "execution_count": 11,
   "metadata": {
    "tags": []
   },
   "outputs": [],
   "source": [
    "s = \"Hello World\"               # 문자열 인덱싱\n",
    "r = str(100)                    # 정수형 자료 100을 string으로 변환\n",
    "# s[0]='H', s[1]='e', s[5]=' ', s[10]='d', s[-1]='d', s[-5]='W', s[-11]='H'\n",
    "# s[0:2]='He', s[3:7]='lo W', s[9:11]='ld'\n",
    "# s[:2]='He', s[6:]='World'\n",
    "# s[6:-1]='Worl', s[6:-2]='Wor', s[-4:-2]='or'"
   ]
  },
  {
   "cell_type": "code",
   "execution_count": 12,
   "metadata": {
    "tags": []
   },
   "outputs": [
    {
     "output_type": "stream",
     "name": "stdout",
     "text": "This is a string object\nTHIS IS A STRING OBJECT\nthis is a string object\n2\n['THIS', 'is', 'a', 'string', 'object']\n10\n-1\nTHIS|is|a|string|object\nwww.python.org\nhello world\n hello world\nhello world \nT,H,I,S, ,i,s, ,a, ,s,t,r,i,n,g, ,o,b,j,e,c,t\nTHIS is a string object\n"
    }
   ],
   "source": [
    "# 여러가지 문자열 메서드\n",
    "t = 'THIS is a string object'\n",
    "\n",
    "print(t.capitalize())           # 첫 글자만 대문자로 만드는 메서드\n",
    "print(t.upper())                # 모두 대문자로 바꾸는 메서드\n",
    "print(t.lower())                # 모두 소문자로 바꾸는 메서드\n",
    "print(t.count('t'))             # t문자열 중 't'문자의 갯수를 구하는 메서드\n",
    "print(t.split())                # t라는 문자열을 ()안에 들어있는 문자를 기준으로 split해줌 \n",
    "                                # 아무것도 없을때는 공백(스페이스(' '), 탭(\\t), 엔터(\\n) 등) 기준. t.split(' ') 와 같음.\n",
    "                                # return 은 list 형태로 됨\n",
    "\n",
    "print(t.find('string'))         # 찾고자 하는 문자열이 있으면 해당 위치 인덱스 return\n",
    "print(t.find('Python'))         # 찾고자 하는 문자열이 없으면 -1을 return\n",
    "print(t.replace(' ', '|'))      # ' ' 즉 공백을 '|' 문자로 치환\n",
    "                                                                \n",
    "u ='http://www.python.org'\n",
    "v = ' hello world '\n",
    "\n",
    "print(u.strip('http:/'))        # u에 있는 문자열 중 strip 안에있는 문자열 제거\n",
    "print(v.strip())                # v에 있는 문자열 중 양쪽 공백을 제거\n",
    "print(v.rstrip())               # v에 있는 문자열 중 오른쪽 공백을 제거\n",
    "print(v.lstrip())               # v에 있는 문자열 중 왼쪽 공백을 제거\n",
    "\n",
    "tt = \",\".join(t)                # t문자열에 , 삽입\n",
    "tl = \" \".join(t.split(' '))     # t.split()을 통해 리스트로 바뀐 t를 ' '로 연결하여 문자열 리턴\n",
    "print(tt)\n",
    "print(tl)"
   ]
  },
  {
   "cell_type": "markdown",
   "metadata": {},
   "source": [
    "### 정규표현식을 사용해서 문자열을 처리할 수도 있음. 정규표현식 라이브러리 re 사용\n",
    "\n",
    "- 문자열을 파싱할 때 정규표현식을 사용하면 성능과 편의성을 높일 수 있음\n",
    "\n",
    "- 복잡한 문자열에서 원하는 문자열을 파싱하고 싶을 때 사용. 자주 쓰지는 않지만 가끔씩 매우 유용\n",
    "\n",
    "- 언어, 플랫폼에 종속적이지 않고 어디서든 쓸 수 있음\n",
    "\n",
    "    - 자세한 건 참고 : https://hamait.tistory.com/342\n",
    "    - 정규표현식 생활코딩\n",
    "    - 예제로 배우는 파이썬 프로그래밍 http://pythonstudy.xyz/python/article/401-%EC%A0%95%EA%B7%9C-%ED%91%9C%ED%98%84%EC%8B%9D-Regex"
   ]
  },
  {
   "cell_type": "code",
   "execution_count": 13,
   "metadata": {
    "tags": []
   },
   "outputs": [
    {
     "output_type": "stream",
     "name": "stdout",
     "text": "[\"'01/18/2014 13:00:00'\", \"'01/18/2014 13:30:00'\", \"'01/18/2014 14:00:00'\"]\n"
    }
   ],
   "source": [
    "import re\n",
    "\n",
    "series = \"\"\"\n",
    "'01/18/2014 13:00:00', 100, '1st';\n",
    "'01/18/2014 13:30:00', 110, '2nd';\n",
    "'01/18/2014 14:00:00', 120, '3rd'\n",
    "\"\"\"\n",
    "\n",
    "dt = re.compile(\"'[0-9/:\\s]+'\")  # datetime\n",
    "\n",
    "result = dt.findall(series)\n",
    "print(result)"
   ]
  },
  {
   "cell_type": "code",
   "execution_count": 14,
   "metadata": {
    "tags": []
   },
   "outputs": [
    {
     "output_type": "stream",
     "name": "stdout",
     "text": "2014-01-18 13:00:00\n<class 'datetime.datetime'>\n2020-09-03 23:35:11.163085\n2020 9 3 23 35 11 163085\n3\nThursday 03. September 2020\n23 hour 35 minute 11 second\n23시 35분 11초\n2020-08-24 14:44:45\n<class 'datetime.datetime'>\n"
    }
   ],
   "source": [
    "# 파이썬에서 시간과 날짜를 다루는 datetime 라이브러리\n",
    "import datetime\n",
    "pydt = datetime.datetime.strptime(result[0].replace(\"'\", \"\"),\n",
    "                         '%m/%d/%Y %H:%M:%S')\n",
    "# strptime은 첫번째 인수에 들어가는 자료를 datetime 자료형으로 바꿔줌. 즉 result[0].replace(\"'\",\"\") 문자열을\n",
    "# 2000-01-01 00:00:00 과 같은 식으로 바꿔줌. 두번째 인수는 첫번째 인수의 문자열이 어떤 형태로 나타나있는지 표현.\n",
    "# 자세한 내용은 참고 : https://datascienceschool.net/view-notebook/465066ac92ef4da3b0aba32f76d9750a/\n",
    "# %m, %d, %Y는 밑에 내용 참고\n",
    "\n",
    "print(pydt)\n",
    "print(type(pydt))\n",
    "\n",
    "dt = datetime.datetime.now()        # 현재 시간을 datetime 라이브러리를 이용해 출력\n",
    "print(dt)\n",
    "print(dt.year, dt.month, dt.day, dt.hour, dt.minute, dt.second, dt.microsecond)\n",
    "print(dt.weekday())                 # 요일 반환 (0:월, 1:화, 2:수, 3:목, 4:금, 5:토, 6:일)\n",
    "print(dt.strftime(\"%A %d. %B %Y\"))  # datetime 형태를 문자열 형태로 반환\n",
    "print(dt.strftime(\"%H hour %M minute %S second\")) # 시, 분, 초 출력\n",
    "\n",
    "# 한글은 인코딩 문제때문에 특정 인코딩 및 디코딩을 해줘야함\n",
    "print(dt.strftime(\"%H시 %M분 %S초\".encode('unicode-escape').decode()).encode().decode('unicode-escape'))\n",
    "# (1) strftime 인풋 string을 유니코드 인코딩 후 디코딩\n",
    "# (2) strftime 아웃풋 string을 인코딩 후 유니코드 디코딩\n",
    "\n",
    "# 반대로 문자열로부터 날짜와 시간 정보를 읽어서 datetime.datetime 클래스 객체를 만들 수도 있음\n",
    "dt = datetime.datetime.strptime(\"2020-08-24 14:44:45\", \"%Y-%m-%d %H:%M:%S\")\n",
    "print(dt)\n",
    "print(type(dt))"
   ]
  },
  {
   "cell_type": "code",
   "execution_count": 15,
   "metadata": {
    "tags": []
   },
   "outputs": [
    {
     "output_type": "stream",
     "name": "stdout",
     "text": "2020-08-15 00:00:00\n2020-08-15 16:05:32\n2020-08-10 00:00:00\n2020-10-08 00:00:00\n"
    }
   ],
   "source": [
    "# datetime.datetime.strptime() 클래스 메서드를 사용할 때는 문자열에 맞는 형식 문자열을 사용자가 제공해야 한다. 하지만 dateutil 패키지의 parse 명령을 쓰면 자동으로 형식 문자열을 찾아 datetime.datetime 클래스 객체를 만들어 준다.\n",
    "\n",
    "from dateutil.parser import parse\n",
    "\n",
    "print(parse('2020-08-15'))\n",
    "print(parse(\"August 15, 2020 04:05:32 PM\"))\n",
    "\n",
    "# 다만 월과 일이 모두 12보다 작은 숫자일 때는 먼저 나오는 숫자를 월로 나중에 나오는 숫자를 일로 판단한다.\n",
    "print(parse('8/10/2020'))\n",
    "# 먼저 나오는 숫자를 일로 표시\n",
    "print(parse('8/10/2020', dayfirst=True))"
   ]
  },
  {
   "cell_type": "markdown",
   "metadata": {},
   "source": [
    "|날짜 및 시간 지정 문자열|의미|\n",
    "|---|------|\n",
    "|<span style=\"color:red\">%Y</span>|앞의 빈자리를 0으로 채우는 4자리 연도 숫자|\n",
    "|<span style=\"color:red\">%m</span>|앞의 빈자리를 0으로 채우는 2자리 월 숫자|\n",
    "|<span style=\"color:red\">%d</span>|앞의 빈자리를 0으로 채우는 2자리 일 숫자|\n",
    "|<span style=\"color:red\">%H</span>|앞의 빈자리를 0으로 채우는 24시간 형식 2자리 시간 숫자|\n",
    "|<span style=\"color:red\">%M</span>|앞의 빈자리를 0으로 채우는 2자리 분 숫자|\n",
    "|<span style=\"color:red\">%S</span>|앞의 빈자리를 0으로 채우는 2자리 초 숫자|\n",
    "|<span style=\"color:red\">%A</span>|영어로 된 요일 문자열|\n",
    "|<span style=\"color:red\">%B</span>|영어로 된 월 문자열|"
   ]
  },
  {
   "cell_type": "markdown",
   "metadata": {},
   "source": [
    "### 여기서 잠깐 인코딩에 대한 대략적인 내용을 살펴보자  \n",
    "#### `CP949` : Windows의 디폴트 인코딩 방식, 영문에는 아스키 코드에 따라 1바이트로, 한글에는 2바이트를 사용해서 인코딩.  \n",
    "`EUC-KR`를 다시 확장한 인코딩 방식이며, 에디터에 따라 'ANSI', 'EUC-KR' 등으로도 표기됨.  \n",
    "#### `UTF-8` : 유니코드 인코딩 방식의 하나. Python 3에서 .py 소스 파일에 대한 디폴트 인코딩 방식. 영문에는 아스키 코드에 따라 1바이트로, 한글은 초성, 중성, 종성을 각각 1바이트로 저장(정확히는 ANSI 문자셋을 제외하면 2~4바이트로 표현). 다른 유니코드 방식인 'UTF-16'에 비해 영문이 많을 경우 파일 용량을 줄일 수 있으며, 'ANSI'와의 하위호환성이 보장되기 때문에 가장 많이 사용됨.  \n",
    "\n",
    "\n",
    "\n",
    "한글이 포함된 경우 인코딩 방식에 따라 저장하는 방식이 완전히 다르다.  \n",
    "이를 다시 이야기하면 영문만 있는 텍스트 파일은 위 두개의 인코딩 방식중 아무 방식으로 지정해도 읽을 수 있지만, 한글이 포함된 텍스트 문서는 인코딩 방식을 알아야만 정확하게 읽어 올 수 있다는 의미가 되기도 한다. 이때 파일에 바이트 단위로 인코딩 방식에 따라 쓰는 작업은 encoding, 그 반대로 인코딩된 바이트 배열을 유니코드 문자열로 바꾸는 것을 decoding이라고 한다."
   ]
  },
  {
   "cell_type": "markdown",
   "metadata": {},
   "source": [
    "## 입출력, Formating"
   ]
  },
  {
   "cell_type": "code",
   "execution_count": 16,
   "metadata": {
    "tags": []
   },
   "outputs": [
    {
     "output_type": "stream",
     "name": "stdout",
     "text": "10\n1001\n"
    }
   ],
   "source": [
    "# 사용자가 입력한 값을 어떤 변수에 대입하고 싶을 때는 input()을 사용한다.\n",
    "\n",
    "a = input()\n",
    "print(a)\n",
    "\n",
    "# 사용자에게 입력받을 때 \"숫자를 입력하세요\"라든지 \"이름을 입력하세요\"라는 안내 문구 또는 질문이 나오도록 하고 싶을 때가 있다. 그럴 때는 input()의 괄호 안에 질문을 입력하여 프롬프트를 띄워주면 된다.\n",
    "\n",
    "number = input(\"숫자를 입력하세요: \")\n",
    "print(number)"
   ]
  },
  {
   "cell_type": "code",
   "execution_count": 17,
   "metadata": {
    "tags": []
   },
   "outputs": [
    {
     "output_type": "stream",
     "name": "stdout",
     "text": "lifeistoo short\nlife is too short\nlifeistoo short\nlife is too short\n\n\nlife is too short\n0 1 2 3 4 5 6 7 8 9"
    }
   ],
   "source": [
    "# print의 사용법\n",
    "# 큰따옴표(\")로 둘러싸인 문자열은 + 연산과 동일하다\n",
    "\n",
    "print(\"life\" \"is\" \"too short\")\n",
    "print(\"life \" \"is \" \"too short\")\n",
    "print(\"life\"+\"is\"+\"too short\")\n",
    "print(\"life \"+\"is \"+\"too short\")\n",
    "print('\\n')\n",
    "\n",
    "# 문자열 띄어쓰기는 콤마로 한다\n",
    "print(\"life\", \"is\", \"too short\")\n",
    "\n",
    "# 한 줄에 결괏값을 계속 이어서 출력하려면 매개변수 end를 사용해 끝 문자를 지정\n",
    "for i in range(10):\n",
    "    print(i, end=' ')"
   ]
  },
  {
   "cell_type": "code",
   "execution_count": 18,
   "metadata": {
    "tags": []
   },
   "outputs": [
    {
     "output_type": "stream",
     "name": "stdout",
     "text": "formating example 1, 2, 3\nformating example 1, 2, 3\nformating example -2.4567, 12345.6789, 13579, 100\n100 12345.678900\n   100  12345.679\n100    12345.68   -000002.46\n100\t 12345.678900\n\nHello, 홍길동. You are 100\nHello, 홍길동. You are 100\nformating example 013579\n"
    }
   ],
   "source": [
    "a=1;b=2;c=3\n",
    "\n",
    "d=-2.4567;e=12345.6789\n",
    "\n",
    "f=13579\n",
    "\n",
    "r=str(100)\n",
    "\n",
    "# .format을 사용한 출력방식\n",
    "print(\"formating example {0}, {1}, {2}\".format(a,b,c))\n",
    "print(\"formating example {}, {}, {}\".format(a,b,c))\n",
    "print(\"formating example {}, {}, {}, {}\".format(d,e,f,r))\n",
    "\n",
    "# .format보다는 이 방식이 더 빠름\n",
    "print(\"%s %f\" %(r,e))\n",
    "print(\"%6s %10.3f\" %(r,e))                 \n",
    "# %s는 문자열 출력 포맷 %f 는 기본적으로 소수점 이하 6자리까지 표시\n",
    "# %6s는 문자열의 길이를 6으로 만든 뒤 오른쪽으로 정렬한다. \n",
    "# 문자열이 길이가 6보다 크면 문자열의 크기만큼 출력, 6보다 작으면 남는 왼쪽 공간을 공백으로 채운다. \n",
    "# %10.3f는 소수점 앞의 수 경우 %s의 경우와 같고, 소수점 뒤수는 소수점 자릿수를 나타낸다\n",
    "\n",
    "print(\"%-6s %-10.2f %010.2f\" %(r,e,d))\n",
    "# -의 경우 왼쪽정렬, 0을 붙이면 공백을 0으로 자릿수만큼 채움(소수점,마이너스 포함5개)\n",
    "\n",
    "print(\"%s\\t %f\\n\" %(r,e))   # \\t : tab 크기만큼 이동, \\n : 다음줄로 이동\n",
    "\n",
    "# f-string 방법. python 3.5 부터 사용가능. 속도빠름\n",
    "name='홍길동'\n",
    "age='100'\n",
    "print(\"Hello, \"+name+\". You are \"+age)\n",
    "print(f\"Hello, {name}. You are {age}\")\n",
    "\n",
    "print(\"formating example \" f'{f:0>6}') # f라는 변수를 길이 6으로 오른쪽으로 정렬하고 남는공간 0으로 채움\n"
   ]
  },
  {
   "cell_type": "markdown",
   "metadata": {},
   "source": [
    "## Tuples (튜플)"
   ]
  },
  {
   "cell_type": "code",
   "execution_count": 19,
   "metadata": {
    "tags": []
   },
   "outputs": [
    {
     "output_type": "stream",
     "name": "stdout",
     "text": "<class 'tuple'>\n<class 'tuple'>\ndata\n<class 'str'>\n"
    }
   ],
   "source": [
    "# list 와 같이 순서가 있는 값들의 집합\n",
    "# tuple은 ()를 이용해 생성한다. 또한 list는 값을 수정, 삭제 가능하지만 tuple은 값을 변경할 수 없다\n",
    "# 그래서 읽기 전용 자료구조로 많이 사용한다\n",
    "\n",
    "t = (1, 2.5, 'data')           \n",
    "print(type(t))\n",
    "\n",
    "t = 1, 2.5, 'data'              # 이렇게 나열식으로 만들어도 tuple이 나오고 tuple(1,2.5,'data') 이런식으로 가능\n",
    "print(type(t))\n",
    "\n",
    "print(t[2])\n",
    "print(type(t[2]))"
   ]
  },
  {
   "cell_type": "code",
   "execution_count": 20,
   "metadata": {
    "tags": []
   },
   "outputs": [
    {
     "output_type": "stream",
     "name": "stdout",
     "text": "1\n0\n"
    }
   ],
   "source": [
    "# 튜플에 적용할 수 있는 메서드\n",
    "print(t.count('data'))\n",
    "print(t.index(1))"
   ]
  },
  {
   "cell_type": "markdown",
   "metadata": {},
   "source": [
    "## Lists (리스트)"
   ]
  },
  {
   "cell_type": "code",
   "execution_count": 21,
   "metadata": {
    "tags": []
   },
   "outputs": [
    {
     "output_type": "stream",
     "name": "stdout",
     "text": "data\n[1, 2.5, 'data']\n<class 'list'>\n['a', 'b', 'c', 'd', 'e', 'f']\n['a', 'b', 'c', 'a', 'b', 'c', 'a', 'b', 'c']\n"
    }
   ],
   "source": [
    "# list : 순서가 존재하는 유한한 여러 아이템들의 모음\n",
    "l = [1, 2.5, 'data']\n",
    "print(l[2])\n",
    "\n",
    "l = list(t)\n",
    "print(l)\n",
    "print(type(l))\n",
    "\n",
    "list1 = ['a', 'b', 'c']\n",
    "list2 = ['d', 'e', 'f']\n",
    "list3 = list1 + list2\n",
    "list4 = list1 * 3\n",
    "\n",
    "print(list3)\n",
    "print(list4)\n"
   ]
  },
  {
   "cell_type": "code",
   "execution_count": 22,
   "metadata": {
    "tags": []
   },
   "outputs": [
    {
     "output_type": "stream",
     "name": "stdout",
     "text": "[1, 2.5, 'data', [4, 3]]\n[1, 2.5, 'data', [4, 3], 1.0, 1.5, 2.0]\n[1, 'insert', 2.5, 'data', [4, 3], 1.0, 1.5, 2.0]\n[1, 'insert', 2.5, [4, 3], 1.0, 1.5, 2.0]\n[5, 4, 3, 2, 1]\n[]\n[1, 3, 5, 7, 9]\n[9, 7, 5, 3, 1]\n[1, 3, 5, 7, 9]\n\n\n[1, 'insert', 2.5, 1.0, 1.5, 2.0] [4, 3]\n[1.0, 1.5]\n1\n0\n"
    }
   ],
   "source": [
    "# 리스트에 사용하는 여러가지 메서드\n",
    "\n",
    "l = [1, 2.5, 'data']\n",
    "\n",
    "l.append([4, 3])           # append list at the end (맨 뒤에 아이템 추가)\n",
    "print(l)\n",
    "\n",
    "l.extend([1.0, 1.5, 2.0])  # append elements of list (맨 뒤에 다른 리스트 붙이기)\n",
    "print(l)                   # nested list : list 역시 다른 list의 아이템이 될 수 있음\n",
    "                           # l.append([1.0, 1.5, 2.0]) 과의 차이는 뭘까?\n",
    "\n",
    "l.insert(1, 'insert')      # insert object before index position\n",
    "print(l)\n",
    "\n",
    "l.remove('data')           # remove first occurence of object\n",
    "print(l)\n",
    "# del l[0] 이런식으로 특정 인덱스 위치의 값을 삭제할 수도 있음\n",
    "\n",
    "k=[1,2,3,4,5]\n",
    "k.reverse()                # reverse elements\n",
    "print(k)\n",
    "\n",
    "k.clear()\n",
    "print(k)\n",
    "\n",
    "m = [3,5,1,7,9]\n",
    "m.sort()                   # sorting elements\n",
    "print(m)\n",
    "m.sort(reverse=True)\n",
    "print(m)\n",
    "print(sorted(m))           # sort말고 sorted를 사용할 수도 있음\n",
    "print('\\n')\n",
    "\n",
    "p = l.pop(3)               # removes and returns object at index\n",
    "print(l, p)\n",
    "\n",
    "#리스트 인덱싱\n",
    "print(l[3:5])\n",
    "\n",
    "# 리스트에 적용할 수 있는 메서드\n",
    "print(l.count('insert'))\n",
    "print(l.index(1))"
   ]
  },
  {
   "cell_type": "code",
   "execution_count": 23,
   "metadata": {
    "tags": []
   },
   "outputs": [
    {
     "output_type": "stream",
     "name": "stdout",
     "text": "[1.0, 1.5]\n[1, 5, 9, 13, 17]\n[3, 7, 11, 15]\n[19, 17, 15, 13, 11, 9, 7, 5, 3, 1]\n[19, 15, 11, 7, 3]\n[7, 5, 3, 1]\n[3, 7, 11]\n"
    }
   ],
   "source": [
    "#리스트 인덱싱\n",
    "print(l[3:5])\n",
    "\n",
    "#인덱싱 방법 list[a:b:c] - a부터 b까지 c의 간격으로 (b는 포함안함)\n",
    "n = [1, 3, 5, 7, 9, 11, 13, 15, 17, 19]\n",
    "print(n[::2])              # 처음부터 끝까지 2의 간격으로\n",
    "print(n[1:-1:2])           # index 1부터 끝 전까지 2의 간격으로\n",
    "print(n[::-1])             # 처음부터 끝까지 -1칸 간격으로 (역순으로)\n",
    "print(n[::-2])             # 처음부터 끝까지 -2칸 간격으로 (역순으로)\n",
    "print(n[3::-1])            # index 3부터 끝까지 -1칸 간격으로 (역순으로)\n",
    "print(n[1:6:2])            # index 1부터 index 6까지 2의 간격으로"
   ]
  },
  {
   "cell_type": "markdown",
   "metadata": {},
   "source": [
    "### Iterable : iteration 이 가능한 객체, 자기자신의 원소(member)를 순서대로 반환할 수 있는 객체  \n",
    "- python에서 효율적인 코드를 작성하기 위해 특징적으로 사용하는 개념\n",
    "- string, list, tuple 등이 대표적  \n",
    "  \n",
    "### Iterator : 값을 차례대로 꺼낼 수 있는 객체  \n",
    "- iterable과 iterator는 같지 않다.\n",
    "- Iterable 객체의 경우 Python 내장 함수인 iter()를 통해 Iterator로 변환 가능"
   ]
  },
  {
   "cell_type": "code",
   "execution_count": 24,
   "metadata": {
    "tags": []
   },
   "outputs": [
    {
     "output_type": "stream",
     "name": "stdout",
     "text": "3\n6\nTrue\nFalse\nTrue\na\nb\nc\n"
    }
   ],
   "source": [
    "string_list = [\"a\", \"b\", \"c\"]\n",
    "abc_string = \"abcdef\"\n",
    "\n",
    "# Iterable 의 길이\n",
    "print(len(string_list))\n",
    "print(len(abc_string))\n",
    "\n",
    "# 'in' operator\n",
    "print(\"a\" in string_list)\n",
    "print(\"y\" in abc_string)\n",
    "print(\"def\" in abc_string)\n",
    "\n",
    "string_list_iter = iter(string_list)\n",
    "print(string_list_iter.__next__())\n",
    "print(string_list_iter.__next__())\n",
    "print(string_list_iter.__next__())\n",
    "\n"
   ]
  },
  {
   "cell_type": "code",
   "execution_count": 25,
   "metadata": {
    "tags": []
   },
   "outputs": [
    {
     "output_type": "stream",
     "name": "stdout",
     "text": "1\n['b', 'c']\n"
    }
   ],
   "source": [
    "# Mutable vs immutable\n",
    "a = 1\n",
    "b = a\n",
    "b += 1\n",
    "print(a)\n",
    "\n",
    "list_1 = [\"a\", \"b\", \"c\"]\n",
    "list_2 = list_1\n",
    "del(list_2[0])\n",
    "print(list_1)"
   ]
  },
  {
   "cell_type": "markdown",
   "metadata": {},
   "source": [
    "### python에서 모든 변수는 객체(Objects)이다.  \n",
    "### 그리고 모든 객체는 2가지 유형으로 나뉜다.\n",
    "- Mutable : 객체를 선언한 후 객체의 값을 수정 가능. 변수는 값이 수정된 같은 객체를 가리키게 됨(list, set, dict)\n",
    "- Immutable : 객체를 생성한 후 객체의 값을 수정 불가능. 값을 변경할 경우 해당 값을 가진 다른 객체를 가리키게 됨 (int, float, complex, bool, string, tuple)  \n",
    "![mutable_img](./mutable.png)  \n",
    "\n",
    "출처 : https://medium.com/@299_42481/mutable-and-immutable-objects-in-python-c75cd3216461"
   ]
  },
  {
   "cell_type": "markdown",
   "metadata": {},
   "source": [
    "## Sets (셋)"
   ]
  },
  {
   "cell_type": "code",
   "execution_count": 26,
   "metadata": {
    "tags": []
   },
   "outputs": [
    {
     "output_type": "stream",
     "name": "stdout",
     "text": "{'d', 'du', 'u', 'ud'}\n{'uu', 'ud', 'u', 'dd', 'd', 'du'}\n{'uu', 'ud', 'u', 'dd', 'd', 'du'}\n{'d', 'u'}\n{'d', 'u'}\n{'ud', 'du'}\n{'ud', 'du'}\n{'dd', 'uu'}\n{'dd', 'uu'}\n{'uu', 'ud', 'dd', 'du'}\n{'uu', 'ud', 'dd', 'du'}\n"
    }
   ],
   "source": [
    "# set : unique한 값들의 집합 (수학의 집합 개념과 유사)\n",
    "# 순서가 없음(unordered), 중복된 값들을 허용하는 list, tuple과 달리 유일한 값을 가져야함\n",
    "# dictionary 와 동일하게 중괄호({})를 사용하거나 명시적 선언 방법 사용 set(**iterable)\n",
    "\n",
    "s = set(['u', 'd', 'ud', 'du', 'd', 'du'])\n",
    "print(s)\n",
    "\n",
    "t = {'d', 'dd', 'uu', 'u'}\n",
    "print(s.union(t))   # all of s and t\n",
    "print(s|t)\n",
    "\n",
    "print(s.intersection(t))  # both in s and t\n",
    "print(s&t)\n",
    "\n",
    "print(s.difference(t))  # in s but not t\n",
    "print(s-t)\n",
    "\n",
    "print(t.difference(s))  # in t but not s\n",
    "print(t-s)\n",
    "\n",
    "print(s.symmetric_difference(t))  # in either one but not both (대칭 차집합)\n",
    "print(s^t)\n"
   ]
  },
  {
   "cell_type": "code",
   "execution_count": 27,
   "metadata": {
    "tags": []
   },
   "outputs": [
    {
     "output_type": "stream",
     "name": "stdout",
     "text": "{1, 2, 3}\n{1, 2, 3, 4, 5, 6}\n{1, 2, 3, 5, 6}\n{1, 2, 3, 5, 6}\n"
    }
   ],
   "source": [
    "# set에서 사용하는 메서드들\n",
    "set_ex = {1,2}\n",
    "\n",
    "set_ex.add(3)\n",
    "print(set_ex)\n",
    "\n",
    "set_ex.update({4,5,6})\n",
    "print(set_ex)\n",
    "\n",
    "set_ex.remove(4)\n",
    "print(set_ex)\n",
    "\n",
    "\n",
    "# set_ex.remove(7)          # remove는 원소가 없는 경우 에러 발생\n",
    "# print(set_ex)\n",
    "\n",
    "set_ex.discard(7)\n",
    "print(set_ex)\n"
   ]
  },
  {
   "cell_type": "markdown",
   "metadata": {},
   "source": [
    "## Dictionary (딕셔너리)"
   ]
  },
  {
   "cell_type": "code",
   "execution_count": 28,
   "metadata": {
    "tags": []
   },
   "outputs": [
    {
     "output_type": "stream",
     "name": "stdout",
     "text": "1\n{'a': 3, 'b': 2, 'c': 4}\n{'a': 1, 'b': 4, 'c': 4}\n{'a': 1, 'b': 4, 'c': 4, 'd': 4}\n1\n1\n"
    }
   ],
   "source": [
    "# 선언은 이런식으로 2가지 방식으로 사용할 수 있다.\n",
    "dict_example={}\n",
    "dict_example=dict()\n",
    "\n",
    "dict_example_1 = {\"a\":1, \"b\":2}\n",
    "dict_example_2 = {1:\"a\", 2:\"b\"}\n",
    "\n",
    "print(dict_example_1[\"a\"])\n",
    "\n",
    "# 단일 수정\n",
    "dict_example_1[\"a\"]=3\n",
    "\n",
    "# 단일 값 추가\n",
    "dict_example_1[\"c\"]=4\n",
    "print(dict_example_1)\n",
    "\n",
    "# 다중 수정\n",
    "dict_example_1.update({\"a\":1, \"b\":4})\n",
    "print(dict_example_1)\n",
    "\n",
    "# update할 key가 없는 경우\n",
    "dict_example_1.update({\"d\":4})\n",
    "print(dict_example_1)\n",
    "\n",
    "\n",
    "nested_dict_1 = {\"a\":{\"a-1\":1}, \"b\":{\"b-1\":2}}\n",
    "print(nested_dict_1[\"a\"][\"a-1\"])\n",
    "\n",
    "nested_dict_2 = {\"a\":[1,2,3], \"b\":[4,5,6]}\n",
    "print(nested_dict_2[\"a\"][0])"
   ]
  },
  {
   "cell_type": "code",
   "execution_count": 29,
   "metadata": {
    "tags": []
   },
   "outputs": [
    {
     "output_type": "stream",
     "name": "stdout",
     "text": "<class 'dict'>\nCoronavirus 320\ndict_keys(['Name', 'Country', 'Date', 'Number'])\ndict_values(['Coronavirus', 'Korea', '2020-08-26', 320])\ndict_items([('Name', 'Coronavirus'), ('Country', 'Korea'), ('Date', '2020-08-26'), ('Number', 320)])\n"
    }
   ],
   "source": [
    "d = {\n",
    "     'Name' : 'Coronavirus',\n",
    "     'Country' : 'Korea',\n",
    "     'Date' : '2020-08-26',\n",
    "     'Number' : 320\n",
    "     }\n",
    "print(type(d))\n",
    "\n",
    "print(d['Name'], d['Number'])\n",
    "print(d.keys())\n",
    "print(d.values())\n",
    "print(d.items())"
   ]
  },
  {
   "cell_type": "code",
   "execution_count": 30,
   "metadata": {
    "tags": []
   },
   "outputs": [
    {
     "output_type": "stream",
     "name": "stdout",
     "text": "321\n('Name', 'Coronavirus')\n('Country', 'Korea')\n('Date', '2020-08-26')\n('Number', 321)\n<class 'str'>\n<class 'str'>\n<class 'str'>\n<class 'int'>\nName:Coronavirus\nCountry:Korea\nDate:2020-08-26\nNumber:321\n"
    }
   ],
   "source": [
    "# 코로나 양성 확진자가 1명씩 늘어남\n",
    "benign = True\n",
    "if benign is True:\n",
    "    d['Number'] += 1\n",
    "print(d['Number'])\n",
    "\n",
    "for item in d.items():\n",
    "    print(item)\n",
    "\n",
    "for value in d.values():\n",
    "    print(type(value))\n",
    "\n",
    "\n",
    "for key, item in d.items():\n",
    "    print(key + \":\" + str(item))"
   ]
  },
  {
   "cell_type": "markdown",
   "metadata": {},
   "source": [
    "## Control Structures (제어문)\n",
    "\n",
    "### 조건문 : conditional statement - if (elif/else)\n"
   ]
  },
  {
   "cell_type": "code",
   "execution_count": 61,
   "metadata": {
    "tags": []
   },
   "outputs": [
    {
     "output_type": "error",
     "ename": "NameError",
     "evalue": "name 'score' is not defined",
     "traceback": [
      "\u001b[1;31m---------------------------------------------------------------------------\u001b[0m",
      "\u001b[1;31mNameError\u001b[0m                                 Traceback (most recent call last)",
      "\u001b[1;32m<ipython-input-61-bc0ee9c7327c>\u001b[0m in \u001b[0;36m<module>\u001b[1;34m\u001b[0m\n\u001b[0;32m      1\u001b[0m \u001b[1;31m# 조건문 : conditional statement - if (elif/else)\u001b[0m\u001b[1;33m\u001b[0m\u001b[1;33m\u001b[0m\u001b[1;33m\u001b[0m\u001b[0m\n\u001b[0;32m      2\u001b[0m \u001b[1;33m\u001b[0m\u001b[0m\n\u001b[1;32m----> 3\u001b[1;33m \u001b[1;32mif\u001b[0m \u001b[0mscore\u001b[0m \u001b[1;33m>\u001b[0m \u001b[1;36m90\u001b[0m\u001b[1;33m:\u001b[0m\u001b[1;33m\u001b[0m\u001b[1;33m\u001b[0m\u001b[0m\n\u001b[0m\u001b[0;32m      4\u001b[0m     \u001b[0mprint\u001b[0m\u001b[1;33m(\u001b[0m\u001b[1;34m\"Grade : A\"\u001b[0m\u001b[1;33m)\u001b[0m\u001b[1;33m\u001b[0m\u001b[1;33m\u001b[0m\u001b[0m\n\u001b[0;32m      5\u001b[0m \u001b[1;32melif\u001b[0m \u001b[0mscore\u001b[0m \u001b[1;33m>\u001b[0m \u001b[1;36m80\u001b[0m\u001b[1;33m:\u001b[0m\u001b[1;33m\u001b[0m\u001b[1;33m\u001b[0m\u001b[0m\n",
      "\u001b[1;31mNameError\u001b[0m: name 'score' is not defined"
     ]
    }
   ],
   "source": [
    "if score > 90:\n",
    "    print(\"Grade : A\")\n",
    "elif score > 80:\n",
    "    print(\"Grade : B\")\n",
    "elif score > 60:\n",
    "    print(\"Grade : C\")\n",
    "elif score > 40:\n",
    "    print(\"Grade : D\")\n",
    "else:\n",
    "    print(\"Grade : F\")\n",
    "\n",
    "# 삼항 연산자를 사용하여 if 구문 단축. 하나의 if/else 구문에만 적용가능. 위와 같이 if elif 구문은 적용 못함\n",
    "# if x < y:\n",
    "#     small = x\n",
    "# else:\n",
    "#     small = y\n",
    "\n",
    "# small = x if x < y else y\n"
   ]
  },
  {
   "cell_type": "markdown",
   "metadata": {},
   "source": [
    "### 반복문 : while loop / for loop\n"
   ]
  },
  {
   "cell_type": "code",
   "execution_count": 32,
   "metadata": {
    "tags": []
   },
   "outputs": [
    {
     "output_type": "stream",
     "name": "stdout",
     "text": "1부터 10까지의 합 : 55\n"
    }
   ],
   "source": [
    "list_1 = [1, 2, 3, 4, 5, 6, 7, 8, 9, 10] # list => iterable\n",
    "sum = 0\n",
    "for i in list_1: # list_1의 값을 차례차례 가져옴\n",
    "    sum += i # 실행할 구문\n",
    "print(\"1부터 10까지의 합 : \" + str(sum))"
   ]
  },
  {
   "cell_type": "code",
   "execution_count": 33,
   "metadata": {
    "tags": []
   },
   "outputs": [
    {
     "output_type": "stream",
     "name": "stdout",
     "text": "range(0, 8)\n<class 'range'>\n1부터 10까지의 합 : 55\n"
    }
   ],
   "source": [
    "r = range(0, 8, 1)  # start, end, step width\n",
    "print(r)\n",
    "print(type(r))\n",
    "\n",
    "sum = 0\n",
    "for i in range(1, 11): # range()\n",
    "    sum += i # 실행할 구문\n",
    "print(\"1부터 10까지의 합 : \" + str(sum))\n",
    "\n",
    "# • range(n)\n",
    "# • [0, 1, 2, …, n – 1]\n",
    "# • n번 반복\n",
    "# • range(n1, n2)\n",
    "# • [n1, n1 + 1, n1 + 2, …, n2 – 1]\n",
    "# • n2 – n1번 반복\n",
    "# • range(n1, n2, n3)\n",
    "# • [n1, n1 + n3, n1 + 2 * n3, …, n1 + k * n3]\n",
    "# • n1 + k * n3 < n2 일 때까지 (n3 > 0인 경우)\n",
    "# • n1 + k * n3 > n2 일 때까지 (n3 < 0인 경우)"
   ]
  },
  {
   "cell_type": "code",
   "execution_count": 34,
   "metadata": {
    "tags": []
   },
   "outputs": [
    {
     "output_type": "stream",
     "name": "stdout",
     "text": "1 is odd\n2 is even\n3 is multiple of 3\n4 is even\n5 is odd\n6 is even\n7 is odd\n8 is even\n9 is multiple of 3\n"
    }
   ],
   "source": [
    "# 반복문과 조건문\n",
    "for i in range(1, 10):\n",
    "    if i % 2 == 0:  # % is for modulo\n",
    "        print(\"%d is even\" % i)\n",
    "    elif i % 3 == 0:\n",
    "        print(\"%d is multiple of 3\" % i)\n",
    "    else:\n",
    "        print(\"%d is odd\" % i)"
   ]
  },
  {
   "cell_type": "code",
   "execution_count": 35,
   "metadata": {
    "tags": []
   },
   "outputs": [
    {
     "output_type": "stream",
     "name": "stdout",
     "text": "pineapple 4\npineapple 4\n1 apple\n2 strawberry\n3 blueberry\n4 pineapple\n"
    }
   ],
   "source": [
    "# in 자리에는 iterable한 객체가 들어오면 된다.\n",
    "fruits = ['apple', 'strawberry', 'blueberry', 'pineapple']   # 내가 가장 좋아하는 과일 순서대로 있다고 가정\n",
    "\n",
    "# 내가 가장 싫어하는 과일을 출력하고 몇 번째 인지 알려면 어떻게 해야하는가?\n",
    "# 첫번째 방법 count사용\n",
    "count = 0\n",
    "for i in fruits:\n",
    "    if i == 'pineapple':    # 내가 가장 싫어하는 과일 출력\n",
    "        count+=1\n",
    "        print(i, count) \n",
    "    else:\n",
    "        count+=1\n",
    "\n",
    "# count를 굳이 사용해야 될까? range 쓰고 리스트 인덱싱 하면 될듯?\n",
    "for i in range(len(fruits)):\n",
    "    if fruits[i]=='pineapple':    # 내가 가장 싫어하는 과일 출력\n",
    "        print(fruits[i], i+1) \n",
    "\n",
    "\n",
    "# 그런데 이건 리스트 길이도 알아야하고 인덱스로 리스트를 접근해야 하잖아? 더 좋은 방법 없나?\n",
    "# enumerate 사용\n",
    "# 반복문 사용시 몇 번째 반복문인지 알 수 있음. 인덱스 번호와 컬렉션의 원소를 튜플 형태로 반환\n",
    "for i, fruit in enumerate(fruits):\n",
    "    print(i+1, fruit)\n"
   ]
  },
  {
   "cell_type": "code",
   "execution_count": 36,
   "metadata": {
    "tags": []
   },
   "outputs": [
    {
     "output_type": "stream",
     "name": "stdout",
     "text": "1부터 100까지의 합 : 5050\n"
    }
   ],
   "source": [
    "i = 1\n",
    "sum = 0\n",
    "while i <= 100: # 조건\n",
    "    sum += i # 실행할 구문\n",
    "    i += 1\n",
    "print(\"1부터 100까지의 합 : \" + str(sum))"
   ]
  },
  {
   "cell_type": "code",
   "execution_count": 37,
   "metadata": {},
   "outputs": [
    {
     "output_type": "error",
     "ename": "IndentationError",
     "evalue": "expected an indented block (<ipython-input-37-4b905415abbe>, line 8)",
     "traceback": [
      "\u001b[1;36m  File \u001b[1;32m\"<ipython-input-37-4b905415abbe>\"\u001b[1;36m, line \u001b[1;32m8\u001b[0m\n\u001b[1;33m    print(\"Loop Again\")\u001b[0m\n\u001b[1;37m        ^\u001b[0m\n\u001b[1;31mIndentationError\u001b[0m\u001b[1;31m:\u001b[0m expected an indented block\n"
     ]
    }
   ],
   "source": [
    "# break : loop 실행을 중단하고 loop 밖으로 빠져나감\n",
    "\n",
    "while True: # while True : => infinite loop\n",
    "    key = input(\"Enter q to quit: \")\n",
    "    if key == 'q':\n",
    "        break # 입력된 값이 'q'일 경우 while loop를 중단하고 빠져나감\n",
    "    else:\n",
    "    print(\"Loop Again\")\n",
    "    print(\"Out of loop\")\n",
    "\n",
    "for i in ['apple', 'strawberry', 'blueberry', 'pineapple']:\n",
    "    if i == 'blueberry': # 'blueberry' 에서 for loop를 중단하고 빠져나감\n",
    "        break\n",
    "    print(i)\n",
    "print(\"Out of loop\")"
   ]
  },
  {
   "cell_type": "code",
   "execution_count": 38,
   "metadata": {
    "tags": []
   },
   "outputs": [
    {
     "output_type": "stream",
     "name": "stdout",
     "text": "1\n2\n4\n5\n7\n8\n10\n"
    }
   ],
   "source": [
    "# continue : 현재 loop의 남은 부분 실행을 중단하고 그 다음 loop으로 진행함\n",
    "\n",
    "i = 0\n",
    "while i <= 10:\n",
    "    if i % 3 == 0: # i 가 3의 배수일 경우\n",
    "        i += 1\n",
    "        continue # i를 1 증가 시키고 다음 코드 실행은 중단, 다음 loop 실행\n",
    "    print(i)\n",
    "    i += 1"
   ]
  },
  {
   "cell_type": "code",
   "execution_count": 39,
   "metadata": {
    "tags": []
   },
   "outputs": [
    {
     "output_type": "stream",
     "name": "stdout",
     "text": "Loop Again\nBreak before finish\n"
    }
   ],
   "source": [
    "# else : if 구문의 else와는 다른 기능. for/while loop 가 정상 종료될 경우 else 블록 내의 코드가 실행 됨\n",
    "# (break으로 종료되는 경우 실행하지 않음)\n",
    "\n",
    "count = 0\n",
    "while count < 10:\n",
    "    key = input(\"Enter q to quit: \")\n",
    "    if key == 'q':\n",
    "        print(\"Break before finish\")\n",
    "        break # 입력된 값이 'q'일 경우 while loop를 빠져나감\n",
    "    else:\n",
    "        count += 1\n",
    "        print(\"Loop Again\")\n",
    "\n",
    "else:\n",
    "    print(\"Finishing 10 times loop\") # q 입력 없이 loop 실행을 마쳤을 경우 실행됨"
   ]
  },
  {
   "cell_type": "code",
   "execution_count": 40,
   "metadata": {
    "tags": []
   },
   "outputs": [
    {
     "output_type": "stream",
     "name": "stdout",
     "text": "apple\nstrawberry\npineapple\n"
    }
   ],
   "source": [
    "# 아무것도 하지 않음을 명시적으로 표현하기 위한 keyword. 문법적으로 구문이 필요하지만, 특별히 수행 할 일이 없을 때 사용 가능\n",
    "\n",
    "for i in ['apple', 'strawberry', 'blueberry', 'pineapple']:\n",
    "    if i == 'blueberry':\n",
    "        pass # 'blueberry' 일때 아무것도 하고 수행하지 않고 싶지만 pass를 안적고 if block을 비워 두면 에러가 난다.\n",
    "    else:\n",
    "        print(i)"
   ]
  },
  {
   "cell_type": "markdown",
   "metadata": {},
   "source": [
    "### list comprehension : 리스트 안에 식, for 반복문, if 조건문 등을 지정하여 리스트를 생성\n",
    "\n",
    "- list말고도 dictionary, set 등의 comprehension도 아래와 같은 방식으로 만들 수 있음\n",
    "\n"
   ]
  },
  {
   "cell_type": "code",
   "execution_count": 41,
   "metadata": {
    "tags": []
   },
   "outputs": [
    {
     "output_type": "stream",
     "name": "stdout",
     "text": "[0, 1, 4, 9, 16]\n"
    }
   ],
   "source": [
    "# list comprehension : 리스트 안에 식, for 반복문, if 조건문 등을 지정하여 리스트를 생성\n",
    "\n",
    "m = [i ** 2 for i in range(5)]\n",
    "# 이 list comprehension의 의미는 아래와 같다.\n",
    "# m=[]\n",
    "# for i in range(5):\n",
    "#   m.append(i**2)\n",
    "\n",
    "print(m)"
   ]
  },
  {
   "cell_type": "code",
   "execution_count": 42,
   "metadata": {
    "tags": []
   },
   "outputs": [
    {
     "output_type": "stream",
     "name": "stdout",
     "text": "[1, 4, 6, 4, 7, 3, 6, 8, 6, 9, 5, 8, 7, 9, 8, 10, 0, 9, 10, 4, 10, 8, 10, 4, 5, 6, 5, 9, 10, 8, 6, 1, 10, 8, 6, 9, 4, 5, 4, 9, 0, 9, 5, 5, 8, 3, 6, 5, 3, 8, 6, 4, 1, 9, 1, 0, 3, 1, 9, 4, 7, 9, 8, 0, 6, 7, 9, 8, 10, 3, 1, 5, 8, 8, 0, 6, 3, 8, 2, 2, 4, 2, 9, 5, 5, 7, 0, 2, 4, 1, 0, 10, 5, 9, 2, 7, 10, 4, 6, 9, 7, 0, 6, 0, 10, 0, 4, 8, 4, 8, 8, 1, 10, 6, 4, 1, 6, 1, 3, 8, 0, 2, 6, 3, 8, 1, 1, 10, 0, 3, 0, 2, 4, 4, 9, 8, 8, 2, 9, 0, 5, 1, 1, 10, 6, 2, 1, 6, 7, 7, 9, 2, 0, 10, 1, 0, 4, 9, 8, 2, 1, 8, 2, 2, 7, 2, 10, 2, 4, 7, 9, 6, 8, 3, 2, 3, 6, 3, 0, 1, 3, 6, 10, 8, 0, 10, 0, 3, 9, 2, 9, 4, 4, 0, 9, 4, 7, 5, 2, 0, 4, 8, 7, 10, 3, 6, 9, 3, 5, 2, 9, 4, 2, 3, 1, 6, 9, 4, 8, 5, 1, 9, 0, 8, 7, 5, 8, 5, 8, 6, 1, 7, 6, 0, 1, 4, 3, 5, 2, 10, 3, 10, 2, 6, 5, 9, 2, 0, 5, 3, 10, 9, 8, 3, 7, 0, 6, 3, 8, 10, 2, 5, 6, 3, 5, 9, 2, 5, 2, 7, 0, 10, 7, 5, 6, 6, 10, 6, 1, 2, 7, 4, 6, 9, 6, 3, 1, 10, 9, 7, 4, 7, 4, 6, 3, 3, 6, 10, 4, 9, 9, 4, 10, 1, 2, 0, 0, 10, 0, 8, 7, 10, 3, 6, 2, 3, 8, 9, 6, 10, 5, 4, 6, 0, 0, 9, 0, 5, 10, 6, 10, 0, 0, 0, 6, 5, 1, 7, 2, 5, 10, 6, 9, 7, 8, 6, 1, 0, 8, 1, 3, 2, 4, 6, 10, 7, 7, 1, 3, 0, 6, 8, 5, 2, 1, 6, 9, 7, 1, 1, 10, 10, 6, 8, 0, 1, 10, 4, 0, 0, 9, 7, 5, 1, 8, 5, 9, 7, 10, 1, 3, 10, 1, 2, 0, 6, 9, 5, 4, 2, 10, 1, 7, 4, 3, 9, 1, 9, 4, 0, 4, 10, 10, 9, 10, 2, 4, 4, 5, 10, 2, 3, 3, 7, 3, 0, 4, 9, 5, 2, 4, 1, 7, 7, 6, 0, 0, 9, 8, 3, 0, 0, 10, 4, 8, 9, 3, 6, 0, 5, 7, 5, 3, 2, 10, 6, 2, 8, 8, 9, 2, 9, 1, 8, 1, 3, 4, 3, 3, 5, 9, 4, 2, 6, 8, 9, 1, 4, 10, 5, 4, 4, 8, 8, 9, 7, 4, 3, 6, 10, 2, 9, 9, 10, 4, 10, 4, 2, 6, 6, 10, 0, 8, 9, 1, 5, 10, 0, 6, 9, 2, 10, 9, 6, 1, 2, 5, 0, 3, 7, 8, 3, 5, 10, 10, 5, 2, 10, 4, 3, 0, 4, 2, 9, 5, 6, 0, 0, 7, 4, 6, 10, 6, 3, 5, 1, 3, 5, 4, 8, 9, 9, 4, 3, 2, 1, 6, 5, 6, 0, 6, 7, 5, 8, 9, 6, 10, 8, 3, 8, 9, 4, 7, 4, 1, 5, 3, 6, 10, 0, 7, 3, 5, 2, 7, 6, 9, 5, 3, 1, 10, 5, 10, 1, 7, 2, 10, 10, 6, 10, 5, 9, 7, 7, 6, 10, 6, 8, 10, 10, 3, 4, 0, 1, 5, 6, 9, 5, 1, 4, 3, 10, 4, 2, 3, 8, 2, 0, 1, 0, 7, 2, 7, 8, 8, 1, 4, 1, 4, 0, 9, 3, 7, 8, 9, 8, 5, 2, 7, 7, 7, 5, 1, 9, 4, 4, 3, 2, 6, 9, 9, 2, 4, 5, 3, 9, 3, 5, 8, 10, 10, 5, 3, 3, 1, 7, 6, 0, 4, 1, 10, 1, 9, 7, 1, 5, 1, 2, 9, 8, 4, 5, 10, 6, 10, 4, 1, 6, 6, 3, 9, 8, 7, 8, 6, 5, 3, 1, 9, 5, 9, 3, 0, 6, 9, 6, 0, 5, 6, 3, 5, 5, 7, 2, 2, 8, 0, 8, 7, 0, 2, 3, 4, 7, 0, 9, 2, 5, 8, 4, 9, 10, 10, 10, 0, 5, 6, 7, 3, 9, 10, 5, 8, 0, 2, 10, 3, 10, 2, 10, 1, 10, 3, 10, 2, 5, 8, 3, 9, 0, 8, 2, 10, 9, 0, 4, 4, 1, 4, 7, 4, 1, 9, 8, 2, 7, 2, 5, 9, 9, 8, 9, 10, 8, 8, 10, 7, 0, 10, 0, 0, 5, 1, 4, 3, 6, 7, 5, 9, 10, 9, 7, 10, 4, 7, 10, 10, 10, 4, 0, 5, 9, 0, 4, 5, 2, 1, 3, 0, 8, 2, 4, 6, 9, 0, 8, 4, 8, 5, 2, 10, 8, 2, 0, 10, 1, 4, 4, 6, 0, 6, 2, 7, 9, 1, 8, 9, 7, 7, 10, 8, 5, 8, 2, 0, 5, 9, 8, 2, 5, 6, 1, 8, 5, 10, 10, 5, 2, 7, 10, 0, 2, 6, 5, 1, 5, 4, 6, 3, 4, 1, 10, 2, 9, 9, 6, 3, 7, 10, 9, 9, 6, 5, 6, 10, 5, 3, 10, 3, 6, 3, 4, 6, 7, 10, 4, 2, 5, 1, 3, 1, 6, 0, 0, 7, 5, 4, 10, 2, 10, 7, 5, 3, 5, 2, 1, 8, 3, 8, 4, 0, 1, 6, 9, 7, 4, 3, 0, 2, 8, 5, 3, 1, 1, 6, 2, 5, 3, 9, 10, 10, 10, 9, 3, 6, 4, 8, 5, 7, 6, 9, 6, 8, 2, 3, 1, 1, 9, 5, 5, 9, 5, 9, 3, 7, 9, 1, 8, 5, 3, 2, 5, 4, 0, 10, 4, 6, 5, 4, 0]\n{0, 1, 2, 3, 4, 5, 6, 7, 8, 9, 10}\n"
    }
   ],
   "source": [
    "from random import randint\n",
    "# low=0, high=10으로 해서 0에서 10까지의 정수 난수 추출을 1000번 반복해서 리스트에 저장\n",
    "l = [randint(0, 10) for i in range(1000)]\n",
    "    # 1,000 random integers between 0 and 10\n",
    "len(l)  # number of elements in l\n",
    "\n",
    "print(l)\n",
    "s = set(l)\n",
    "print(s)"
   ]
  },
  {
   "cell_type": "markdown",
   "metadata": {},
   "source": [
    "## Exception Handling (예외처리)\n",
    "\n",
    "- Exception(예외)가 발생할 것으로 예측되는 지점에서, Exception에 대한 적절한 처리 방법을 작성하여 프로그램의 정상 동작을 보장\n",
    "\n",
    "- Exception handling 하지 않은 상태에서 Exception이 발생 할 경우? Exception 발생 시점 부터 프로그램의 실행이 중단됨"
   ]
  },
  {
   "cell_type": "code",
   "execution_count": 68,
   "metadata": {
    "tags": []
   },
   "outputs": [
    {
     "output_type": "stream",
     "name": "stdout",
     "text": "Zero Division Exception! Error name is :division by zero\n"
    }
   ],
   "source": [
    "\n",
    "value_list=[1,2,3,0]\n",
    "\n",
    "try:\n",
    "    # 예외가 발생 할 것으로 예상되는 Code Block\n",
    "    \n",
    "    # ZeroDivisionError: division by zero 라는 오류가 발생하는 코드\n",
    "    x = value_list[0]/value_list[3]\n",
    "\n",
    "except ZeroDivisionError as x:\n",
    "    # value_list[3]이 0인 경우에 대한 예외 처리\n",
    "    # 예외의 구체적인 내용(메세지)를 변수에 할당하여 except 코드 블록 안에서 사용\n",
    "    print(\"Zero Division Exception! \" + \"Error name is :\" + str(x))\n",
    "except IndexError:\n",
    "    # value_list에 존재하지 않는 index를 탐색하려 할 때에 대한 예외 처리\n",
    "    print(\"List Index Exception!\")"
   ]
  },
  {
   "cell_type": "code",
   "execution_count": 66,
   "metadata": {
    "tags": []
   },
   "outputs": [
    {
     "output_type": "stream",
     "name": "stdout",
     "text": "Error : division by zero\nEnd of try code block execution\n"
    }
   ],
   "source": [
    "# finally : try 문과 연달아 사용할 경우, try 문 수행 도중 예외 발생 여부와 상관없이 코드 블록 수행\n",
    "try:\n",
    "    # 예외가 발생 할 것으로 예상되는 Code Block\n",
    "    x = value_list[0]/value_list[3]\n",
    "except ZeroDivisionError as x:\n",
    "    # value_list[3]이 0인 경우에 대한 예외 처리\n",
    "    print(\"Error : \" + str(x))\n",
    "finally:\n",
    "    print(\"End of try code block execution\")"
   ]
  },
  {
   "cell_type": "code",
   "execution_count": 45,
   "metadata": {},
   "outputs": [
    {
     "output_type": "error",
     "ename": "NotImplementedError",
     "evalue": "",
     "traceback": [
      "\u001b[1;31m---------------------------------------------------------------------------\u001b[0m",
      "\u001b[1;31mNotImplementedError\u001b[0m                       Traceback (most recent call last)",
      "\u001b[1;32m<ipython-input-45-39edbdf1463e>\u001b[0m in \u001b[0;36m<module>\u001b[1;34m\u001b[0m\n\u001b[0;32m      6\u001b[0m \u001b[1;33m\u001b[0m\u001b[0m\n\u001b[0;32m      7\u001b[0m \u001b[0ms\u001b[0m \u001b[1;33m=\u001b[0m \u001b[0mStudent\u001b[0m\u001b[1;33m(\u001b[0m\u001b[1;33m)\u001b[0m\u001b[1;33m\u001b[0m\u001b[1;33m\u001b[0m\u001b[0m\n\u001b[1;32m----> 8\u001b[1;33m \u001b[0ms\u001b[0m\u001b[1;33m.\u001b[0m\u001b[0mstudy\u001b[0m\u001b[1;33m(\u001b[0m\u001b[1;33m)\u001b[0m\u001b[1;33m\u001b[0m\u001b[1;33m\u001b[0m\u001b[0m\n\u001b[0m\u001b[0;32m      9\u001b[0m \u001b[1;33m\u001b[0m\u001b[0m\n\u001b[0;32m     10\u001b[0m \u001b[1;31m# 오류처리에 더 자세한 건 여기 참고 : https://wikidocs.net/30\u001b[0m\u001b[1;33m\u001b[0m\u001b[1;33m\u001b[0m\u001b[1;33m\u001b[0m\u001b[0m\n",
      "\u001b[1;32m<ipython-input-45-39edbdf1463e>\u001b[0m in \u001b[0;36mstudy\u001b[1;34m(self)\u001b[0m\n\u001b[0;32m      3\u001b[0m \u001b[1;32mclass\u001b[0m \u001b[0mStudent\u001b[0m\u001b[1;33m:\u001b[0m\u001b[1;33m\u001b[0m\u001b[1;33m\u001b[0m\u001b[0m\n\u001b[0;32m      4\u001b[0m     \u001b[1;32mdef\u001b[0m \u001b[0mstudy\u001b[0m\u001b[1;33m(\u001b[0m\u001b[0mself\u001b[0m\u001b[1;33m)\u001b[0m\u001b[1;33m:\u001b[0m\u001b[1;33m\u001b[0m\u001b[1;33m\u001b[0m\u001b[0m\n\u001b[1;32m----> 5\u001b[1;33m         \u001b[1;32mraise\u001b[0m \u001b[0mNotImplementedError\u001b[0m\u001b[1;33m\u001b[0m\u001b[1;33m\u001b[0m\u001b[0m\n\u001b[0m\u001b[0;32m      6\u001b[0m \u001b[1;33m\u001b[0m\u001b[0m\n\u001b[0;32m      7\u001b[0m \u001b[0ms\u001b[0m \u001b[1;33m=\u001b[0m \u001b[0mStudent\u001b[0m\u001b[1;33m(\u001b[0m\u001b[1;33m)\u001b[0m\u001b[1;33m\u001b[0m\u001b[1;33m\u001b[0m\u001b[0m\n",
      "\u001b[1;31mNotImplementedError\u001b[0m: "
     ]
    }
   ],
   "source": [
    "# raise : 내가 작성한 코드에서 특정한 상황에 예외를 임의로 발생시키고 싶은 경우\n",
    "\n",
    "class Student:\n",
    "    def study(self):\n",
    "        raise NotImplementedError\n",
    "\n",
    "s = Student()\n",
    "s.study()\n",
    "\n",
    "# 오류처리에 더 자세한 건 여기 참고 : https://wikidocs.net/30"
   ]
  },
  {
   "cell_type": "markdown",
   "metadata": {},
   "source": [
    "## Function (함수)\n",
    "\n",
    "### Function(함수) : 값을 입력 받아 특정한 작업을 수행 한 이후에 결과물을 반환하는 구문들의 집합(Named sequence of statements)\n",
    "\n",
    "(1) 함수를 사용하는 이유\n",
    "\n",
    "- 프로그램의 여러 곳에서 공통으로 사용되는 기능을 하나의 함수를 통해 처리함으로써 코드의 중복을 줄인다.\n",
    "\n",
    "- 복잡한 기능을 작은 함수 단위로 쪼개서 해결한다.(Divide & Conquer)\n",
    "\n",
    "- 코드의 수정과 유지보수를 쉽게 한다.\n",
    "\n",
    "(2) 함수의 종류\n",
    "\n",
    "- 내장 함수(Built-in Function) : 일반적인 프로그래밍에서 자주 사용되는 기능들을 Python Interpreter에 기본적으로 탑재\n",
    "\n",
    "- (print(), iter(), dict(), set() 등) -> 함수의 내용을 바꿀 수 없으며, 미리 정의된 사용법을 지켜서 사용하여야 함\n",
    "\n",
    "- 사용자 정의 함수(User-defined Function) : 사용자가 직접 정의한 함수\n",
    "\n",
    "- python 에서는 def 키워드를 통해 함수를 선언. \n",
    "\n",
    "- f는 함수의 이름. (x)는 함수의 인자(argument). return : 함수가 특정한 작업을 수행하고 반환하는 결과 값"
   ]
  },
  {
   "cell_type": "code",
   "execution_count": 46,
   "metadata": {
    "tags": []
   },
   "outputs": [
    {
     "output_type": "stream",
     "name": "stdout",
     "text": "4\nFalse\n3\n3\n4\n"
    }
   ],
   "source": [
    "def f(x):\n",
    "    return x ** 2\n",
    "\n",
    "print(f(2))\n",
    "\n",
    "def even(x):\n",
    "    return x % 2 == 0\n",
    "\n",
    "print(even(3))\n",
    "\n",
    "def add(a, b=2):\n",
    "    value = a + b\n",
    "    return value\n",
    "\n",
    "print(add(1))\n",
    "print(add(1,2))\n",
    "print(add(1,3))\n"
   ]
  },
  {
   "cell_type": "markdown",
   "metadata": {},
   "source": [
    "### Arbitrary Argument Lists\n",
    "\n",
    "- 함수의 Arguments 개수가 정해지지 않은 경우 => asterisk(*) 을 사용하면 개수 미정의 arguments를 list 형태로 전달 가능"
   ]
  },
  {
   "cell_type": "code",
   "execution_count": 47,
   "metadata": {
    "tags": []
   },
   "outputs": [
    {
     "output_type": "stream",
     "name": "stdout",
     "text": "3\n6\n10\n"
    }
   ],
   "source": [
    "def add_all(*args):\n",
    "    value = 0\n",
    "    for a in args:\n",
    "        value = value + a\n",
    "    return value\n",
    "\n",
    "print(add_all(1,2))\n",
    "print(add_all(1,2,3))\n",
    "print(add_all(1,2,3,4))\n"
   ]
  },
  {
   "cell_type": "markdown",
   "metadata": {},
   "source": [
    "### Keyword dictionary argument\n",
    "\n",
    "- 함수의 Arguments 개수가 정해지지 않았고, Arguments Keyword를 함께 전달하려는 경우\n",
    "\n",
    "- double-asterisk(**)를 사용하면 개수 미정의 arguments를 keyword와 함께 dict 형태로 전달 가능\n"
   ]
  },
  {
   "cell_type": "code",
   "execution_count": 48,
   "metadata": {
    "tags": []
   },
   "outputs": [
    {
     "output_type": "stream",
     "name": "stdout",
     "text": "Hello\nMy school is SKKU\nMy name is Gildong\n"
    }
   ],
   "source": [
    "def show_my_greetings(**kwargs):\n",
    "    print(\"Hello\")\n",
    "    for key, value in kwargs.items():\n",
    "        print (\"My \" + key + \" is \" + value)\n",
    "\n",
    "show_my_greetings(school=\"SKKU\", name=\"Gildong\")"
   ]
  },
  {
   "cell_type": "markdown",
   "metadata": {},
   "source": [
    "### 전역변수(global variable)와 지역변수(local variable)"
   ]
  },
  {
   "cell_type": "code",
   "execution_count": 49,
   "metadata": {},
   "outputs": [
    {
     "output_type": "error",
     "ename": "UnboundLocalError",
     "evalue": "local variable 'count' referenced before assignment",
     "traceback": [
      "\u001b[1;31m---------------------------------------------------------------------------\u001b[0m",
      "\u001b[1;31mUnboundLocalError\u001b[0m                         Traceback (most recent call last)",
      "\u001b[1;32m<ipython-input-49-0fd80201e639>\u001b[0m in \u001b[0;36m<module>\u001b[1;34m\u001b[0m\n\u001b[0;32m      5\u001b[0m     \u001b[0mcount\u001b[0m \u001b[1;33m=\u001b[0m \u001b[0mcount\u001b[0m \u001b[1;33m+\u001b[0m \u001b[1;36m1\u001b[0m \u001b[1;31m# Will work?\u001b[0m\u001b[1;33m\u001b[0m\u001b[1;33m\u001b[0m\u001b[0m\n\u001b[0;32m      6\u001b[0m     \u001b[0mprint\u001b[0m\u001b[1;33m(\u001b[0m\u001b[0mcount\u001b[0m\u001b[1;33m)\u001b[0m\u001b[1;33m\u001b[0m\u001b[1;33m\u001b[0m\u001b[0m\n\u001b[1;32m----> 7\u001b[1;33m \u001b[0mget_total_count\u001b[0m\u001b[1;33m(\u001b[0m\u001b[1;33m)\u001b[0m\u001b[1;33m\u001b[0m\u001b[1;33m\u001b[0m\u001b[0m\n\u001b[0m",
      "\u001b[1;32m<ipython-input-49-0fd80201e639>\u001b[0m in \u001b[0;36mget_total_count\u001b[1;34m()\u001b[0m\n\u001b[0;32m      3\u001b[0m \u001b[0mcount\u001b[0m \u001b[1;33m=\u001b[0m \u001b[1;36m0\u001b[0m \u001b[1;31m# Global Variable\u001b[0m\u001b[1;33m\u001b[0m\u001b[1;33m\u001b[0m\u001b[0m\n\u001b[0;32m      4\u001b[0m \u001b[1;32mdef\u001b[0m \u001b[0mget_total_count\u001b[0m\u001b[1;33m(\u001b[0m\u001b[1;33m)\u001b[0m\u001b[1;33m:\u001b[0m\u001b[1;33m\u001b[0m\u001b[1;33m\u001b[0m\u001b[0m\n\u001b[1;32m----> 5\u001b[1;33m     \u001b[0mcount\u001b[0m \u001b[1;33m=\u001b[0m \u001b[0mcount\u001b[0m \u001b[1;33m+\u001b[0m \u001b[1;36m1\u001b[0m \u001b[1;31m# Will work?\u001b[0m\u001b[1;33m\u001b[0m\u001b[1;33m\u001b[0m\u001b[0m\n\u001b[0m\u001b[0;32m      6\u001b[0m     \u001b[0mprint\u001b[0m\u001b[1;33m(\u001b[0m\u001b[0mcount\u001b[0m\u001b[1;33m)\u001b[0m\u001b[1;33m\u001b[0m\u001b[1;33m\u001b[0m\u001b[0m\n\u001b[0;32m      7\u001b[0m \u001b[0mget_total_count\u001b[0m\u001b[1;33m(\u001b[0m\u001b[1;33m)\u001b[0m\u001b[1;33m\u001b[0m\u001b[1;33m\u001b[0m\u001b[0m\n",
      "\u001b[1;31mUnboundLocalError\u001b[0m: local variable 'count' referenced before assignment"
     ]
    }
   ],
   "source": [
    "\n",
    "count = 0 # Global Variable\n",
    "def get_total_count():\n",
    "    count = count + 1 # Will work?\n",
    "    print(count)\n",
    "get_total_count()\n"
   ]
  },
  {
   "cell_type": "code",
   "execution_count": 50,
   "metadata": {
    "tags": []
   },
   "outputs": [
    {
     "output_type": "stream",
     "name": "stdout",
     "text": "1\n2\n"
    }
   ],
   "source": [
    "count = 0 # Global Variable\n",
    "def get_total_count():\n",
    "    global count # 'global' keyword를 사용하면 함수 내에서 전역변수 수정 가능\n",
    "    count = count + 1 # Will work?\n",
    "    print(count)\n",
    "\n",
    "get_total_count()\n",
    "get_total_count()\n",
    "\n"
   ]
  },
  {
   "cell_type": "markdown",
   "metadata": {},
   "source": [
    "### General Rule about Variables\n",
    "\n",
    "1. 함수는 복잡한 전체 문제를 작게 쪼개어 해결하기 위한(Divide & Conquer) 수단이다\n",
    "\n",
    "- 함수 내에서 여러 함수가 공유하는 Global Variable을 수정하기 시작하면 함수들은 Global Variable 로 인해 서로 상호작용을 하게 되며, 이는 예측 할 수 없는 결과를 불러온다.\n",
    "\n",
    "2. 따라서 함수 내에선 가능한 Local Variable만을 수정하며 ‘global’ 키워드를 통한 Global Variable 수정은 피한다.\n",
    "\n",
    "3. Global Variable은 프로그램 전체적으로 공유되어야 하는 값, 한번 정의되면 잘 변하지 않는 값을 저장 하는 용도로만 사용한다.\n",
    "\n",
    "4. Global Variable을 함수 내에서 다루려면 : 함수의 arguments를 사용한다."
   ]
  },
  {
   "cell_type": "code",
   "execution_count": 51,
   "metadata": {
    "tags": []
   },
   "outputs": [
    {
     "output_type": "stream",
     "name": "stdout",
     "text": "1\n2\n"
    }
   ],
   "source": [
    "count = 0 # global variable\n",
    "def get_total_count(count): # passing global variable by arguments\n",
    "    count = count + 1 # arguments로 전달된 count는 함수 내에서 local variable임\n",
    "    print(count)\n",
    "    return count\n",
    "\n",
    "count = get_total_count(count) # 함수의 return value를 glabal variable에 대입\n",
    "count = get_total_count(count)"
   ]
  },
  {
   "cell_type": "code",
   "execution_count": 52,
   "metadata": {},
   "outputs": [
    {
     "output_type": "execute_result",
     "data": {
      "text/plain": "[True, False, True, False, True, False, True, False, True, False]"
     },
     "metadata": {},
     "execution_count": 52
    }
   ],
   "source": [
    "# map은 리스트의 요소를 지정된 함수로 처리해 주는 함수. \n",
    "l = [i for i in range(10)]\n",
    "list(map(even, l))\n",
    "\n",
    "# map에서 리스트가 들어가는 자리에는 리스트 뿐만 아니라 앞서 언급한 iterable한 객체가 들어가도 상관없음\n",
    "# 따라서 이렇게 해도 됨\n",
    "list(map(even, range(10)))\n"
   ]
  },
  {
   "cell_type": "code",
   "execution_count": 53,
   "metadata": {},
   "outputs": [
    {
     "output_type": "execute_result",
     "data": {
      "text/plain": "[0, 1, 4, 9, 16, 25, 36, 49, 64, 81]"
     },
     "metadata": {},
     "execution_count": 53
    }
   ],
   "source": [
    "# 함수는 꼭 이름을 지정해줘야하는 def만 사용해야 하는것이 아니라 lambda라는 이름이 없는 익명함수를 써서 지정할 수도 있음. \n",
    "list(map(lambda x: x ** 2, range(10)))"
   ]
  },
  {
   "cell_type": "code",
   "execution_count": 54,
   "metadata": {},
   "outputs": [
    {
     "output_type": "execute_result",
     "data": {
      "text/plain": "[0, 2, 4, 6, 8, 10, 12, 14]"
     },
     "metadata": {},
     "execution_count": 54
    }
   ],
   "source": [
    "# filter는 boolean값을 리턴하는 함수를 받아 이 조건에 맞으면 데이터를 반환하고 그렇지 않으면 반환하지 않는다.\n",
    "list(filter(even, range(15)))"
   ]
  },
  {
   "cell_type": "code",
   "execution_count": 55,
   "metadata": {},
   "outputs": [
    {
     "output_type": "execute_result",
     "data": {
      "text/plain": "5050"
     },
     "metadata": {},
     "execution_count": 55
    }
   ],
   "source": [
    "# reduce는 요소를 처음부터 순차적으로 순회하여 지정된 함수로 처리\n",
    "\n",
    "# functools 모듈을 불러와야지 사용 가능\n",
    "from functools import reduce\n",
    "reduce(lambda x,y : x + y, range(101))"
   ]
  },
  {
   "cell_type": "code",
   "execution_count": 56,
   "metadata": {
    "tags": []
   },
   "outputs": [
    {
     "output_type": "stream",
     "name": "stdout",
     "text": "[(1, 'a'), (2, 'b'), (3, 'c'), (4, 'd')]\n{1: 'a', 2: 'b', 3: 'c', 4: 'd'}\n   1  2  3  4\n0  a  b  c  d\n"
    }
   ],
   "source": [
    "# zip은 파이썬의 내장함수로 동일한 개수로 이루어진 자료형을 묶어주는 역할을 하는 함수\n",
    "Number = [1,2,3,4]\n",
    "character = ['a','b','c','d']\n",
    "l = list(zip(Number,character))\n",
    "\n",
    "print(l)\n",
    "\n",
    "d = dict(zip(Number,character))\n",
    "\n",
    "print(d)\n",
    "\n",
    "# 나중에 데이터프레임에 딕셔너리 컴프리헨션과 같이 활용가능\n",
    "import pandas as pd\n",
    "df = pd.DataFrame({x:list(y) for x,y in d.items()})\n",
    "print(df)"
   ]
  },
  {
   "cell_type": "markdown",
   "metadata": {},
   "source": [
    "#### 이외에 파이썬 자체에서 제공하는 내장함수들\n",
    "![built_func](./built_func.png)"
   ]
  },
  {
   "cell_type": "markdown",
   "metadata": {},
   "source": [
    "## Python Module Structure  \n",
    "  \n",
    "### python 모듈 구조를 알아야 하는 이유 \n",
    "프로그램을 작성하게 되면 거의 대부분 외부 라이브러리의 활용이 필요하며, 프로그램의 규모가 커짐에 따라 자신이 직접 작성한 부분도 몇몇 부분으로 소스를 나누어 작성해야 한다. Python에서 여기에 대응하는 개념이 모듈(module)과 패키지(package)이다.\n",
    "  \n",
    "• Module : 코드의 재사용성을 위한 최소 단위, 파이썬 파일(*.py)로 이루어져 있으며 이미 작성된 클래스, 함수 들의 집합이다.  \n",
    "• Package : Module 들의 논리적인 집합. 하나의 주제와 관련된 문제들을 해결하기 위해 관련된 하위 Module들이 존재한다.  \n",
    "• Script : 실행 가능한 모든 Python 파일(*.py)  \n",
    "• Standard Library : Python Interpreter와 함께 기본적으로 배포되는 Module과 Package 들의 집합  \n",
    "\n",
    "#### Importing from a Module(from, import, as)  \n",
    "• import module1, module2, ... moduleN : 특정 module들을 사용할 수 있도록 불러온다.  \n",
    "• import module as nickname : 특정 모듈을 import하면서,Name(Namespace)를 변경한다.  \n",
    "• from module import name : 특정 module 의 특정 기능만을 사용할 수 있도록 불러온다.  "
   ]
  },
  {
   "cell_type": "markdown",
   "metadata": {},
   "source": [
    "### 모듈 찾기 경로 \n",
    "한 프로젝트 내에서 사용되는 모듈은 같은 디렉토리내에 존재하면 import 로 로딩하여 사용하면 된다.  \n",
    "만약 라이브러리화해서 다른 프로젝트에도 사용하려면 Python에서 모듈을 찾는 경로를 이해해야 한다.\n",
    "\n",
    "Python에서 import 문으로 주어진 모듈은 다음의 순서로 찾는다.  \n",
    "\n",
    "(1) 현재 작업 디렉토리(current working directory)  \n",
    "(2) Python 인스톨 디렉토리와 그 하위의 lib/site-packages 디렉토리 (Python 인터리프터 마다 조금씩 다름)  \n",
    "(3) 환경변수 PYTHONPATH에 지정된 디렉토리  \n",
    "\n",
    "이중 working directory를 제외한 모듈을 찾는 위치는 sys 모듈에서 sys.path를 통해 접근할 수 있다.  "
   ]
  },
  {
   "cell_type": "code",
   "execution_count": 57,
   "metadata": {},
   "outputs": [
    {
     "output_type": "error",
     "ename": "NameError",
     "evalue": "name 'sqrt' is not defined",
     "traceback": [
      "\u001b[1;31m---------------------------------------------------------------------------\u001b[0m",
      "\u001b[1;31mNameError\u001b[0m                                 Traceback (most recent call last)",
      "\u001b[1;32m<ipython-input-57-b8aee072ef94>\u001b[0m in \u001b[0;36m<module>\u001b[1;34m\u001b[0m\n\u001b[0;32m      8\u001b[0m \u001b[1;31m# from / import\u001b[0m\u001b[1;33m\u001b[0m\u001b[1;33m\u001b[0m\u001b[1;33m\u001b[0m\u001b[0m\n\u001b[0;32m      9\u001b[0m \u001b[1;32mimport\u001b[0m \u001b[0mmath\u001b[0m\u001b[1;33m\u001b[0m\u001b[1;33m\u001b[0m\u001b[0m\n\u001b[1;32m---> 10\u001b[1;33m \u001b[0msqrt\u001b[0m\u001b[1;33m(\u001b[0m\u001b[1;36m16\u001b[0m\u001b[1;33m)\u001b[0m \u001b[1;31m# ERRROR!\u001b[0m\u001b[1;33m\u001b[0m\u001b[1;33m\u001b[0m\u001b[0m\n\u001b[0m\u001b[0;32m     11\u001b[0m \u001b[1;32mfrom\u001b[0m \u001b[0mmath\u001b[0m \u001b[1;32mimport\u001b[0m \u001b[0msqrt\u001b[0m\u001b[1;33m\u001b[0m\u001b[1;33m\u001b[0m\u001b[0m\n\u001b[0;32m     12\u001b[0m \u001b[0msqrt\u001b[0m\u001b[1;33m(\u001b[0m\u001b[1;36m16\u001b[0m\u001b[1;33m)\u001b[0m\u001b[1;33m\u001b[0m\u001b[1;33m\u001b[0m\u001b[0m\n",
      "\u001b[1;31mNameError\u001b[0m: name 'sqrt' is not defined"
     ]
    }
   ],
   "source": [
    "# import module1, module2, ... moduleN\n",
    "import turtle, random, math\n",
    "\n",
    "# import / as\n",
    "import math as m\n",
    "m.sqrt(16)\n",
    "\n",
    "# from / import\n",
    "import math\n",
    "sqrt(16) # ERRROR!\n",
    "from math import sqrt\n",
    "sqrt(16)\n",
    "\n",
    "# math 모듈 내의 모든 함수 import\n",
    "# ** 추천하지 않는 방식\n",
    "from math import *\n",
    "sin(radians(90))\n",
    "cos(radians(180))\n",
    "pi = \"Raspberry Pie\"\n",
    "\n",
    "from math import *\n",
    "print(pi) # 3.141592653589793"
   ]
  },
  {
   "cell_type": "markdown",
   "metadata": {},
   "source": [
    "## Package structure\n",
    "- 모든 Package 는 디렉토리와 디렉토리에 속한 파일들로 구성됨\n",
    "\n",
    "- \\__init__.py : 단순 디렉토리가 아니라 Python Package 임을 나타내기 위한 방법\n",
    "\n",
    "- Package : pandas\n",
    "\n",
    "- Sub Package : core, errors, io, plotting 등등\n",
    "\n",
    "- tip : 패키지의 메서드에 마우스를 갖다대고 ctrl + 왼쪽마우스 누르면 해당 메서드가 정의되어 있는 파일이 열림"
   ]
  },
  {
   "cell_type": "markdown",
   "metadata": {},
   "source": [
    "# python standard library\n",
    "\n",
    "- collections - container datatypes: namedtuple / defaultdict / counter\n",
    "\n",
    "- math – default mathematics tools\n",
    "\n",
    "- re - regular expressions: patterns for strings\n",
    "\n",
    "- itertools - iterators for efficient looping\n",
    "\n",
    "- json - encode and decode structured JSON data\n",
    "\n",
    "- random - generate pseudo-random numbers\n",
    "\n",
    "- sys - interact with system\n",
    "\n",
    "- pathlib - intelligent filesystem navigation\n",
    "\n",
    "- subprocess/shlex - spawn processes\n",
    "\n",
    "- debugging - breakpoint(), pprint, timeit\n",
    "\n",
    "- miscellaneous- turtle, unicodedata, this, antigravity"
   ]
  },
  {
   "cell_type": "markdown",
   "metadata": {},
   "source": [
    "- 그 외에 파이썬이라는 객체지향언어를 이해하기 위해서 객체의 정의, 특징, 사용법에 대한 내용과 \n",
    "\n",
    "- 그것을 구현해 놓은 파이썬 클래스에 대한 내용은 앞으로 스터디에서는 사용하지 않을 예정이므로 여기서는 설명하지 않겠지만,\n",
    "\n",
    "- 정말 중요한 개념이고 파이썬으로 간단한 개발이라도 한다면 꼭 알아야 하는 내용이다.\n",
    "\n",
    "- 기본적인 개념은 여기를 참고 https://wikidocs.net/28"
   ]
  }
 ]
}