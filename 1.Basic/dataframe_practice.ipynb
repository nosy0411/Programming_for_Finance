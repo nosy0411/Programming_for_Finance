{
 "metadata": {
  "language_info": {
   "codemirror_mode": {
    "name": "ipython",
    "version": 3
   },
   "file_extension": ".py",
   "mimetype": "text/x-python",
   "name": "python",
   "nbconvert_exporter": "python",
   "pygments_lexer": "ipython3",
   "version": "3.6.8-final"
  },
  "orig_nbformat": 2,
  "kernelspec": {
   "name": "python_defaultSpec_1599146444547",
   "display_name": "Python 3.6.8 64-bit ('base': conda)"
  }
 },
 "nbformat": 4,
 "nbformat_minor": 2,
 "cells": [
  {
   "cell_type": "markdown",
   "metadata": {
    "tags": []
   },
   "source": [
    "## Dataframe 데이터프레임  \n",
    "\n",
    "- R의 dataframe 자료형에서 가져와서 패키지로 만들었음  \n",
    "\n",
    "- 인덱스와 라벨이 붙어있는 자료를 다루기 위해 설계되었음  \n",
    "\n",
    "- 자료 자체는 여러가지 형태와 유형 (리스트, 튜플, ndarray, 사전 객체 등)으로 주어질 수 있다.  \n",
    "\n",
    "- 자료는 열(column)으로 구성되고 각 열은 이름을 가질 수 있다\n",
    "\n",
    "- 다른 포맷(숫자, 문자열, 시간 정보 등)으로 된 인덱스가 존재한다.  \n"
   ]
  },
  {
   "cell_type": "code",
   "execution_count": 1,
   "metadata": {
    "tags": []
   },
   "outputs": [
    {
     "output_type": "stream",
     "name": "stdout",
     "text": "0    10\n1    20\n2    30\n3    40\ndtype: int64\n<class 'pandas.core.series.Series'>\n<class 'pandas.core.frame.DataFrame'>\n"
    },
    {
     "output_type": "execute_result",
     "data": {
      "text/plain": "   numbers\na       10\nb       20\nc       30\nd       40",
      "text/html": "<div>\n<style scoped>\n    .dataframe tbody tr th:only-of-type {\n        vertical-align: middle;\n    }\n\n    .dataframe tbody tr th {\n        vertical-align: top;\n    }\n\n    .dataframe thead th {\n        text-align: right;\n    }\n</style>\n<table border=\"1\" class=\"dataframe\">\n  <thead>\n    <tr style=\"text-align: right;\">\n      <th></th>\n      <th>numbers</th>\n    </tr>\n  </thead>\n  <tbody>\n    <tr>\n      <th>a</th>\n      <td>10</td>\n    </tr>\n    <tr>\n      <th>b</th>\n      <td>20</td>\n    </tr>\n    <tr>\n      <th>c</th>\n      <td>30</td>\n    </tr>\n    <tr>\n      <th>d</th>\n      <td>40</td>\n    </tr>\n  </tbody>\n</table>\n</div>"
     },
     "metadata": {},
     "execution_count": 1
    }
   ],
   "source": [
    "import numpy as np\n",
    "import pandas as pd\n",
    "\n",
    "series = pd.Series([10, 20, 30, 40])    # pd.Series로 시리즈 객체 생성. dataframe에서 하나의 열은 Series 객체가 됨\n",
    "print(series)       # 인덱스가 차례로 숫자로 부여되고, value 값들이 출력됨. 리스트의 성분갯수가 인덱스 갯수가 됨을 알 수 있음\n",
    "print(type(series)) # type이 Series 객체임\n",
    "\n",
    "# 먼저 하나의 열만 가지는 데이터 프레임 생성\n",
    "df = pd.DataFrame([10, 20, 30, 40], columns=['numbers'],\n",
    "                  index=['a', 'b', 'c', 'd'])\n",
    "print(type(df))     # Series객체는 아니고 dataframe 객체임\n",
    "df\n",
    "\n",
    "# 즉, 시리즈가 1차원 벡터 데이터에 행방향 인덱스(row index)를 붙인 것이라면 \n",
    "# 데이터프레임(Data-Frame) 클래스는 2차원 행렬 데이터에 인덱스를 붙인 것과 비슷하다. \n",
    "# 2차원이므로 각각의 행 데이터의 이름이 되는 행방향 인덱스(row index)뿐 아니라 각각의 열 데이터의 이름이 되는 열방향 인덱스(column index)도 붙일 수 있다."
   ]
  },
  {
   "cell_type": "code",
   "execution_count": 2,
   "metadata": {
    "tags": []
   },
   "outputs": [
    {
     "output_type": "stream",
     "name": "stdout",
     "text": "Index(['a', 'b', 'c', 'd'], dtype='object')\n<class 'pandas.core.indexes.base.Index'>\n"
    },
    {
     "output_type": "execute_result",
     "data": {
      "text/plain": "   numbers\nA       10\nB       20\nC       30\nD       40",
      "text/html": "<div>\n<style scoped>\n    .dataframe tbody tr th:only-of-type {\n        vertical-align: middle;\n    }\n\n    .dataframe tbody tr th {\n        vertical-align: top;\n    }\n\n    .dataframe thead th {\n        text-align: right;\n    }\n</style>\n<table border=\"1\" class=\"dataframe\">\n  <thead>\n    <tr style=\"text-align: right;\">\n      <th></th>\n      <th>numbers</th>\n    </tr>\n  </thead>\n  <tbody>\n    <tr>\n      <th>A</th>\n      <td>10</td>\n    </tr>\n    <tr>\n      <th>B</th>\n      <td>20</td>\n    </tr>\n    <tr>\n      <th>C</th>\n      <td>30</td>\n    </tr>\n    <tr>\n      <th>D</th>\n      <td>40</td>\n    </tr>\n  </tbody>\n</table>\n</div>"
     },
     "metadata": {},
     "execution_count": 2
    }
   ],
   "source": [
    "print(df.index)  # 인덱스 이름\n",
    "print(type(df.index))\n",
    "\n",
    "df.index = ['A','B','C','D']    # 인덱스 이름 변경\n",
    "df"
   ]
  },
  {
   "cell_type": "code",
   "execution_count": 3,
   "metadata": {
    "tags": []
   },
   "outputs": [
    {
     "output_type": "stream",
     "name": "stdout",
     "text": "Index(['numbers'], dtype='object')\n<class 'pandas.core.indexes.base.Index'>\n"
    },
    {
     "output_type": "execute_result",
     "data": {
      "text/plain": "   Num\nA   10\nB   20\nC   30\nD   40",
      "text/html": "<div>\n<style scoped>\n    .dataframe tbody tr th:only-of-type {\n        vertical-align: middle;\n    }\n\n    .dataframe tbody tr th {\n        vertical-align: top;\n    }\n\n    .dataframe thead th {\n        text-align: right;\n    }\n</style>\n<table border=\"1\" class=\"dataframe\">\n  <thead>\n    <tr style=\"text-align: right;\">\n      <th></th>\n      <th>Num</th>\n    </tr>\n  </thead>\n  <tbody>\n    <tr>\n      <th>A</th>\n      <td>10</td>\n    </tr>\n    <tr>\n      <th>B</th>\n      <td>20</td>\n    </tr>\n    <tr>\n      <th>C</th>\n      <td>30</td>\n    </tr>\n    <tr>\n      <th>D</th>\n      <td>40</td>\n    </tr>\n  </tbody>\n</table>\n</div>"
     },
     "metadata": {},
     "execution_count": 3
    }
   ],
   "source": [
    "print(df.columns)  # 열 이름\n",
    "print(type(df.columns))\n",
    "\n",
    "df.columns = ['Num']    # 열 이름 변경\n",
    "df"
   ]
  },
  {
   "cell_type": "code",
   "execution_count": 4,
   "metadata": {
    "tags": []
   },
   "outputs": [
    {
     "output_type": "stream",
     "name": "stdout",
     "text": "Num\na   10\nb   20\nc   30\nd   40\n   numbers\na       10\nb       20\nc       30\nd       40\n"
    }
   ],
   "source": [
    "# 인덱스와 열이름 rename을 사용해서 변경\n",
    "# key값에는 바꾸기전 이름, value값에는 바꿀 이름\n",
    "df.rename(index={x:y for x,y in zip(df.index,['a','b','c','d'])}, inplace=True)\n",
    "print(df)\n",
    "\n",
    "df.rename(columns={x:y for x,y in zip(df.columns, ['numbers'])}, inplace=True)\n",
    "print(df)"
   ]
  },
  {
   "cell_type": "code",
   "execution_count": 5,
   "metadata": {
    "tags": []
   },
   "outputs": [
    {
     "output_type": "stream",
     "name": "stdout",
     "text": "numbers    100\ndtype: int64\n   numbers\na      100\nb      400\nc      900\nd     1600\n\n\na    000010\nb    000020\nc    000030\nd    000040\nName: numbers, dtype: object\n\n\n   numbers\na      100\nb      400\nc      900\nd     1600\n"
    }
   ],
   "source": [
    "# 데이터 프레임에서 사용할 수 있는 여러가지 연산 메서드\n",
    "\n",
    "print(df.sum())                                 # 컬럼별로 합계를 구해줌\n",
    "print(df.apply(lambda x: x ** 2))               # 각 원소의 제곱\n",
    "print('\\n')\n",
    "print(df['numbers'].map(lambda x: f'{x:0>6}'))  # 길이 6 오른쪽으로 정렬하고 남는 공간 0으로 채움\n",
    "# map과 apply의 차이점은 Series객체의 경우 map으로 적용하고, dataframe의 열 별로 적용하고 싶을때는 apply를 씀. 각 요소별로는 applymap 사용\n",
    "print('\\n')\n",
    "\n",
    "print(df ** 2)  # numpy에서 vectorization 한 것 같이 dataframe 객체도 벡터화 연산을 구현할 수 있다. 다만 numpy보다는 느리다."
   ]
  },
  {
   "cell_type": "code",
   "execution_count": 6,
   "metadata": {},
   "outputs": [
    {
     "output_type": "execute_result",
     "data": {
      "text/plain": "   numbers  floats\na       10     1.5\nb       20     2.5\nc       30     3.5\nd       40     4.5",
      "text/html": "<div>\n<style scoped>\n    .dataframe tbody tr th:only-of-type {\n        vertical-align: middle;\n    }\n\n    .dataframe tbody tr th {\n        vertical-align: top;\n    }\n\n    .dataframe thead th {\n        text-align: right;\n    }\n</style>\n<table border=\"1\" class=\"dataframe\">\n  <thead>\n    <tr style=\"text-align: right;\">\n      <th></th>\n      <th>numbers</th>\n      <th>floats</th>\n    </tr>\n  </thead>\n  <tbody>\n    <tr>\n      <th>a</th>\n      <td>10</td>\n      <td>1.5</td>\n    </tr>\n    <tr>\n      <th>b</th>\n      <td>20</td>\n      <td>2.5</td>\n    </tr>\n    <tr>\n      <th>c</th>\n      <td>30</td>\n      <td>3.5</td>\n    </tr>\n    <tr>\n      <th>d</th>\n      <td>40</td>\n      <td>4.5</td>\n    </tr>\n  </tbody>\n</table>\n</div>"
     },
     "metadata": {},
     "execution_count": 6
    }
   ],
   "source": [
    "# 데이터 프레임 객체를 확장하는 즉, 새로운 열의 정의하는 방법\n",
    "\n",
    "df['floats'] = [1.5, 2.5, 3.5, 4.5]   # 새 열 생성\n",
    "df"
   ]
  },
  {
   "cell_type": "code",
   "execution_count": 7,
   "metadata": {},
   "outputs": [
    {
     "output_type": "execute_result",
     "data": {
      "text/plain": "   numbers  floats     names\na       10     1.5     Guido\nb       20     2.5     Felix\nc       30     3.5  Francesc\nd       40     4.5      Yves",
      "text/html": "<div>\n<style scoped>\n    .dataframe tbody tr th:only-of-type {\n        vertical-align: middle;\n    }\n\n    .dataframe tbody tr th {\n        vertical-align: top;\n    }\n\n    .dataframe thead th {\n        text-align: right;\n    }\n</style>\n<table border=\"1\" class=\"dataframe\">\n  <thead>\n    <tr style=\"text-align: right;\">\n      <th></th>\n      <th>numbers</th>\n      <th>floats</th>\n      <th>names</th>\n    </tr>\n  </thead>\n  <tbody>\n    <tr>\n      <th>a</th>\n      <td>10</td>\n      <td>1.5</td>\n      <td>Guido</td>\n    </tr>\n    <tr>\n      <th>b</th>\n      <td>20</td>\n      <td>2.5</td>\n      <td>Felix</td>\n    </tr>\n    <tr>\n      <th>c</th>\n      <td>30</td>\n      <td>3.5</td>\n      <td>Francesc</td>\n    </tr>\n    <tr>\n      <th>d</th>\n      <td>40</td>\n      <td>4.5</td>\n      <td>Yves</td>\n    </tr>\n  </tbody>\n</table>\n</div>"
     },
     "metadata": {},
     "execution_count": 7
    }
   ],
   "source": [
    "# 데이터 프레임에 새로운 열 정의. 이 경우에는 자동으로 인덱스에 맞추어 자료가 정렬됨\n",
    "df['names'] = pd.DataFrame(['Yves', 'Guido', 'Felix', 'Francesc'],\n",
    "                           index=['d', 'a', 'b', 'c'])\n",
    "df"
   ]
  },
  {
   "cell_type": "code",
   "execution_count": 8,
   "metadata": {
    "tags": []
   },
   "outputs": [
    {
     "output_type": "execute_result",
     "data": {
      "text/plain": "   numbers  floats     names\n0       10    1.50     Guido\n1       20    2.50     Felix\n2       30    3.50  Francesc\n3       40    4.50      Yves\n4      100    5.75     Henry",
      "text/html": "<div>\n<style scoped>\n    .dataframe tbody tr th:only-of-type {\n        vertical-align: middle;\n    }\n\n    .dataframe tbody tr th {\n        vertical-align: top;\n    }\n\n    .dataframe thead th {\n        text-align: right;\n    }\n</style>\n<table border=\"1\" class=\"dataframe\">\n  <thead>\n    <tr style=\"text-align: right;\">\n      <th></th>\n      <th>numbers</th>\n      <th>floats</th>\n      <th>names</th>\n    </tr>\n  </thead>\n  <tbody>\n    <tr>\n      <th>0</th>\n      <td>10</td>\n      <td>1.50</td>\n      <td>Guido</td>\n    </tr>\n    <tr>\n      <th>1</th>\n      <td>20</td>\n      <td>2.50</td>\n      <td>Felix</td>\n    </tr>\n    <tr>\n      <th>2</th>\n      <td>30</td>\n      <td>3.50</td>\n      <td>Francesc</td>\n    </tr>\n    <tr>\n      <th>3</th>\n      <td>40</td>\n      <td>4.50</td>\n      <td>Yves</td>\n    </tr>\n    <tr>\n      <th>4</th>\n      <td>100</td>\n      <td>5.75</td>\n      <td>Henry</td>\n    </tr>\n  </tbody>\n</table>\n</div>"
     },
     "metadata": {},
     "execution_count": 8
    }
   ],
   "source": [
    "# 데이터프레임에 새로운 행 추가. 인덱스가 단순 정수 인덱스로 변경되는 문제점이 있으므로 자료를 직접 추가하는 것은 피해야함\n",
    "df.append({'numbers': 100, 'floats': 5.75, 'names': 'Henry'}, ignore_index=True)\n",
    "# print(df)"
   ]
  },
  {
   "cell_type": "code",
   "execution_count": 9,
   "metadata": {},
   "outputs": [
    {
     "output_type": "execute_result",
     "data": {
      "text/plain": "   numbers  floats     names\na       10    1.50     Guido\nb       20    2.50     Felix\nc       30    3.50  Francesc\nd       40    4.50      Yves\nz      100    5.75     Henry",
      "text/html": "<div>\n<style scoped>\n    .dataframe tbody tr th:only-of-type {\n        vertical-align: middle;\n    }\n\n    .dataframe tbody tr th {\n        vertical-align: top;\n    }\n\n    .dataframe thead th {\n        text-align: right;\n    }\n</style>\n<table border=\"1\" class=\"dataframe\">\n  <thead>\n    <tr style=\"text-align: right;\">\n      <th></th>\n      <th>numbers</th>\n      <th>floats</th>\n      <th>names</th>\n    </tr>\n  </thead>\n  <tbody>\n    <tr>\n      <th>a</th>\n      <td>10</td>\n      <td>1.50</td>\n      <td>Guido</td>\n    </tr>\n    <tr>\n      <th>b</th>\n      <td>20</td>\n      <td>2.50</td>\n      <td>Felix</td>\n    </tr>\n    <tr>\n      <th>c</th>\n      <td>30</td>\n      <td>3.50</td>\n      <td>Francesc</td>\n    </tr>\n    <tr>\n      <th>d</th>\n      <td>40</td>\n      <td>4.50</td>\n      <td>Yves</td>\n    </tr>\n    <tr>\n      <th>z</th>\n      <td>100</td>\n      <td>5.75</td>\n      <td>Henry</td>\n    </tr>\n  </tbody>\n</table>\n</div>"
     },
     "metadata": {},
     "execution_count": 9
    }
   ],
   "source": [
    "# 다음과 같이 적절한 인덱스 정보와 함께 dataframe 객체를 추가하는 것은 괜찮음\n",
    "df = df.append(pd.DataFrame({'numbers': 100, 'floats': 5.75, 'names': 'Henry'}, index=['z',]))\n",
    "df"
   ]
  },
  {
   "cell_type": "code",
   "execution_count": 10,
   "metadata": {
    "tags": []
   },
   "outputs": [
    {
     "output_type": "stream",
     "name": "stdout",
     "text": "numbers          30\nfloats          3.5\nnames      Francesc\nName: c, dtype: object\n\n\nnumbers          30\nfloats          3.5\nnames      Francesc\nName: c, dtype: object\n\n\n   numbers  floats  names\na       10     1.5  Guido\nd       40     4.5   Yves\n\n\n   numbers  floats     names\nb       20     2.5     Felix\nc       30     3.5  Francesc\n\n\n   numbers  floats     names\na       10    1.50     Guido\nb       20    2.50     Felix\nc       30    3.50  Francesc\nd       40    4.50      Yves\nz      100    5.75     Henry\n\n\n   numbers  floats     names\na       10     1.5     Guido\nb       20     2.5     Felix\nc       30     3.5  Francesc\nd       40     4.5      Yves\n"
    }
   ],
   "source": [
    "# 데이터 프레임 행 인덱싱\n",
    "print(df.loc['c'])  # 인덱스 이름을 사용한 행 인덱싱\n",
    "print('\\n')\n",
    "print(df.iloc[2])   # 인덱스 순서를 사용한 행 인덱싱\n",
    "print('\\n')\n",
    "\n",
    "print(df.loc[['a', 'd']])       # 여러 개의 인덱스를 사용한 선택\n",
    "print('\\n')\n",
    "print(df.loc[df.index[1:3]])    # 인덱스 객체를 사용한 선택\n",
    "print('\\n')\n",
    "\n",
    "print(df.iloc[:])               # 인덱스번호를 사용하는 iloc에서 인덱스 전체 범위[:]를 인덱싱\n",
    "print('\\n')\n",
    "print(df.iloc[:-1])             # iloc에서 맨 끝(-1)를 제외하고 인덱싱\n"
   ]
  },
  {
   "cell_type": "code",
   "execution_count": 11,
   "metadata": {
    "tags": []
   },
   "outputs": [
    {
     "output_type": "stream",
     "name": "stdout",
     "text": "a     10\nb     20\nc     30\nd     40\nz    100\nName: numbers, dtype: int64\n\n\na    1.50\nb    2.50\nc    3.50\nd    4.50\nz    5.75\nName: floats, dtype: float64\n\n\n   numbers  floats\na       10    1.50\nb       20    2.50\nc       30    3.50\nd       40    4.50\nz      100    5.75\n\n\n"
    }
   ],
   "source": [
    "# 데이터 프레임 열 인덱싱\n",
    "print(df['numbers'])    # 열 이름을 사용한 인덱싱. df.numbers 로도 가능\n",
    "print('\\n')\n",
    "print(df.floats)        # 열 인덱싱\n",
    "print('\\n')\n",
    "print(df[['numbers', 'floats']]) # 2개 이상의 열을 가져오는 방법\n",
    "print('\\n')"
   ]
  },
  {
   "cell_type": "code",
   "execution_count": 12,
   "metadata": {
    "tags": []
   },
   "outputs": [
    {
     "output_type": "stream",
     "name": "stdout",
     "text": "a    10\nb    20\nc    30\nName: numbers, dtype: int64\n\n\na    1.50\nb    2.50\nc    3.50\nd    4.50\nz    5.75\nName: floats, dtype: float64\n\n\n   numbers  floats\na       10    1.50\nb       20    2.50\nc       30    3.50\nd       40    4.50\nz      100    5.75\n\n\n   numbers  floats     names\na       10     1.5     Guido\nb       20     2.5     Felix\nc       30     3.5  Francesc\n\n\n   numbers  floats\nb       20     2.5\nc       30     3.5\n\n\n   floats  names\na     1.5  Guido\nb     2.5  Felix\nd     4.5   Yves\n\n\nFelix\n\n\nz    100\nd     40\nc     30\nb     20\na     10\nName: numbers, dtype: int64\n"
    }
   ],
   "source": [
    "# 데이터 프레임 행, 열을 동시에 인덱싱\n",
    "print(df.loc['a':'c', 'numbers'])\n",
    "print('\\n')\n",
    "\n",
    "print(df.loc[:, 'floats'])\n",
    "print('\\n')\n",
    "\n",
    "print(df.loc[:, ['numbers','floats']])\n",
    "print('\\n')\n",
    "\n",
    "print(df.loc['a':'c', 'numbers':'names'])\n",
    "print('\\n')\n",
    "\n",
    "print(df.iloc[1:3, 0:2])\n",
    "print('\\n')\n",
    "\n",
    "print(df.iloc[[0,1,3], [1,2]])\n",
    "print('\\n')\n",
    "\n",
    "print(df.iloc[1,2])\n",
    "print('\\n')\n",
    "\n",
    "print(df.iloc[::-1, 0])"
   ]
  },
  {
   "cell_type": "code",
   "execution_count": 13,
   "metadata": {
    "tags": []
   },
   "outputs": [
    {
     "output_type": "stream",
     "name": "stdout",
     "text": "a    False\nb    False\nc     True\nd     True\nz     True\nName: floats, dtype: bool\n\n\n   numbers  floats     names\nc       30    3.50  Francesc\nd       40    4.50      Yves\nz      100    5.75     Henry\n\n\n   numbers  floats     names\nc       30    3.50  Francesc\nd       40    4.50      Yves\nz      100    5.75     Henry\n"
    },
    {
     "output_type": "execute_result",
     "data": {
      "text/plain": "   numbers  floats     names\na       10    1.50     Guido\nb       20    2.50     Felix\nc     1000    3.50  Francesc\nd     1000    4.50      Yves\nz     1000    5.75     Henry",
      "text/html": "<div>\n<style scoped>\n    .dataframe tbody tr th:only-of-type {\n        vertical-align: middle;\n    }\n\n    .dataframe tbody tr th {\n        vertical-align: top;\n    }\n\n    .dataframe thead th {\n        text-align: right;\n    }\n</style>\n<table border=\"1\" class=\"dataframe\">\n  <thead>\n    <tr style=\"text-align: right;\">\n      <th></th>\n      <th>numbers</th>\n      <th>floats</th>\n      <th>names</th>\n    </tr>\n  </thead>\n  <tbody>\n    <tr>\n      <th>a</th>\n      <td>10</td>\n      <td>1.50</td>\n      <td>Guido</td>\n    </tr>\n    <tr>\n      <th>b</th>\n      <td>20</td>\n      <td>2.50</td>\n      <td>Felix</td>\n    </tr>\n    <tr>\n      <th>c</th>\n      <td>1000</td>\n      <td>3.50</td>\n      <td>Francesc</td>\n    </tr>\n    <tr>\n      <th>d</th>\n      <td>1000</td>\n      <td>4.50</td>\n      <td>Yves</td>\n    </tr>\n    <tr>\n      <th>z</th>\n      <td>1000</td>\n      <td>5.75</td>\n      <td>Henry</td>\n    </tr>\n  </tbody>\n</table>\n</div>"
     },
     "metadata": {},
     "execution_count": 13
    }
   ],
   "source": [
    "# 특정 조건에 맞게 데이터프레임 행, 열 인덱싱\n",
    "print(df['floats']>3)\n",
    "print('\\n')\n",
    "print(df.loc[df['floats']>3, :])\n",
    "print('\\n')\n",
    "df_q = df.query(\"floats > 3\")               # df.loc말고 df.query를 쓸 수도 있음. 가독성은 좋지만 속도면에서는 손해\n",
    "print(df_q)\n",
    "\n",
    "df.loc[df['floats']>3, 'numbers']=1000\n",
    "df"
   ]
  },
  {
   "cell_type": "code",
   "execution_count": 14,
   "metadata": {
    "tags": []
   },
   "outputs": [
    {
     "output_type": "execute_result",
     "data": {
      "text/plain": "   numbers  floats     names  squares\na       10    1.50     Guido      1.0\nb       20    2.50     Felix      4.0\nc     1000    3.50  Francesc      9.0\nd     1000    4.50      Yves     16.0\nz     1000    5.75     Henry      NaN",
      "text/html": "<div>\n<style scoped>\n    .dataframe tbody tr th:only-of-type {\n        vertical-align: middle;\n    }\n\n    .dataframe tbody tr th {\n        vertical-align: top;\n    }\n\n    .dataframe thead th {\n        text-align: right;\n    }\n</style>\n<table border=\"1\" class=\"dataframe\">\n  <thead>\n    <tr style=\"text-align: right;\">\n      <th></th>\n      <th>numbers</th>\n      <th>floats</th>\n      <th>names</th>\n      <th>squares</th>\n    </tr>\n  </thead>\n  <tbody>\n    <tr>\n      <th>a</th>\n      <td>10</td>\n      <td>1.50</td>\n      <td>Guido</td>\n      <td>1.0</td>\n    </tr>\n    <tr>\n      <th>b</th>\n      <td>20</td>\n      <td>2.50</td>\n      <td>Felix</td>\n      <td>4.0</td>\n    </tr>\n    <tr>\n      <th>c</th>\n      <td>1000</td>\n      <td>3.50</td>\n      <td>Francesc</td>\n      <td>9.0</td>\n    </tr>\n    <tr>\n      <th>d</th>\n      <td>1000</td>\n      <td>4.50</td>\n      <td>Yves</td>\n      <td>16.0</td>\n    </tr>\n    <tr>\n      <th>z</th>\n      <td>1000</td>\n      <td>5.75</td>\n      <td>Henry</td>\n      <td>NaN</td>\n    </tr>\n  </tbody>\n</table>\n</div>"
     },
     "metadata": {},
     "execution_count": 14
    }
   ],
   "source": [
    "# 기존 df에 새로운 열 추가할 때 기존 df의 인덱스 구조와 동일해야지 열이 추가가 됨.\n",
    "# join은 좀 더 유연하게 추가할 수 있는 메서드\n",
    "\n",
    "df.join(pd.DataFrame([1, 4, 9, 16, 25],\n",
    "            index=['a', 'b', 'c', 'd', 'y'],\n",
    "            columns=['squares',]))\n",
    "# 인덱스 값이 y인 자료는 기존 df에 없으므로 제거됐고, z 인 자료는 없어서 nan이라는 값을 가짐\n"
   ]
  },
  {
   "cell_type": "code",
   "execution_count": 15,
   "metadata": {},
   "outputs": [
    {
     "output_type": "execute_result",
     "data": {
      "text/plain": "   numbers  floats     names  squares\na     10.0    1.50     Guido      1.0\nb     20.0    2.50     Felix      4.0\nc   1000.0    3.50  Francesc      9.0\nd   1000.0    4.50      Yves     16.0\ny      NaN     NaN       NaN     25.0\nz   1000.0    5.75     Henry      NaN",
      "text/html": "<div>\n<style scoped>\n    .dataframe tbody tr th:only-of-type {\n        vertical-align: middle;\n    }\n\n    .dataframe tbody tr th {\n        vertical-align: top;\n    }\n\n    .dataframe thead th {\n        text-align: right;\n    }\n</style>\n<table border=\"1\" class=\"dataframe\">\n  <thead>\n    <tr style=\"text-align: right;\">\n      <th></th>\n      <th>numbers</th>\n      <th>floats</th>\n      <th>names</th>\n      <th>squares</th>\n    </tr>\n  </thead>\n  <tbody>\n    <tr>\n      <th>a</th>\n      <td>10.0</td>\n      <td>1.50</td>\n      <td>Guido</td>\n      <td>1.0</td>\n    </tr>\n    <tr>\n      <th>b</th>\n      <td>20.0</td>\n      <td>2.50</td>\n      <td>Felix</td>\n      <td>4.0</td>\n    </tr>\n    <tr>\n      <th>c</th>\n      <td>1000.0</td>\n      <td>3.50</td>\n      <td>Francesc</td>\n      <td>9.0</td>\n    </tr>\n    <tr>\n      <th>d</th>\n      <td>1000.0</td>\n      <td>4.50</td>\n      <td>Yves</td>\n      <td>16.0</td>\n    </tr>\n    <tr>\n      <th>y</th>\n      <td>NaN</td>\n      <td>NaN</td>\n      <td>NaN</td>\n      <td>25.0</td>\n    </tr>\n    <tr>\n      <th>z</th>\n      <td>1000.0</td>\n      <td>5.75</td>\n      <td>Henry</td>\n      <td>NaN</td>\n    </tr>\n  </tbody>\n</table>\n</div>"
     },
     "metadata": {},
     "execution_count": 15
    }
   ],
   "source": [
    "# 기존 인덱스에 해당하는 값과 추가되는 새로운 인덱스 값을 모두 보존하고 싶다면 다른방식의 join 메서드를 사용해야함\n",
    "# how = 'outer' 옵션 추가\n",
    "\n",
    "df.join(pd.DataFrame([1, 4, 9, 16, 25],\n",
    "                    index=['a', 'b', 'c', 'd', 'y'],\n",
    "                    columns=['squares',]),\n",
    "                    how='outer')"
   ]
  },
  {
   "cell_type": "code",
   "execution_count": 16,
   "metadata": {},
   "outputs": [],
   "source": [
    "# how='inner' - inner는 두 인덱스의 교집합을 사용함\n",
    "# how='left' - left는 호출한 객체의 인덱스 즉, df.join에서 df의 인덱스를 사용함\n",
    "# how='right' - right는 조인되는 새로운 객체의 인덱스를 사용함\n",
    "\n",
    "df=df.join(pd.DataFrame([1, 4, 9, 16, 25],\n",
    "                    index=['a', 'b', 'c', 'd', 'y'],\n",
    "                    columns=['squares',]),\n",
    "                    how='inner')"
   ]
  },
  {
   "cell_type": "code",
   "execution_count": 17,
   "metadata": {
    "tags": []
   },
   "outputs": [
    {
     "output_type": "stream",
     "name": "stdout",
     "text": "[[10 1.5 'Guido' 1]\n [20 2.5 'Felix' 4]\n [1000 3.5 'Francesc' 9]\n [1000 4.5 'Yves' 16]]\n<class 'numpy.ndarray'>\n\n\nnumbers    507.5\nsquares      7.5\ndtype: float64\nnumbers    568.704669\nsquares      6.557439\ndtype: float64\n"
    }
   ],
   "source": [
    "# 데이터 프레임의 값을 보고 싶을때\n",
    "print(df.values)\n",
    "print(type(df.values))      # df.values는 내용이 numpy.ndarray형태로 저장됨을 알 수 있음\n",
    "print('\\n')\n",
    "\n",
    "print(df[['numbers', 'squares']].mean())   # 데이터프레임 mean메서드를 쓰는데 문자열 자료들도 있으므로 특정 열 인덱싱해서 써야함 \n",
    "print(df[['numbers', 'squares']].std())    # 마찬가지"
   ]
  },
  {
   "cell_type": "markdown",
   "metadata": {},
   "source": [
    "## Dataframe을 이용하여 시계열 자료를 다뤄보자"
   ]
  },
  {
   "cell_type": "code",
   "execution_count": 18,
   "metadata": {},
   "outputs": [
    {
     "output_type": "execute_result",
     "data": {
      "text/plain": "          0         1         2         3\n0  1.764052  0.400157  0.978738  2.240893\n1  1.867558 -0.977278  0.950088 -0.151357\n2 -0.103219  0.410599  0.144044  1.454274\n3  0.761038  0.121675  0.443863  0.333674\n4  1.494079 -0.205158  0.313068 -0.854096\n5 -2.552990  0.653619  0.864436 -0.742165\n6  2.269755 -1.454366  0.045759 -0.187184\n7  1.532779  1.469359  0.154947  0.378163\n8 -0.887786 -1.980796 -0.347912  0.156349",
      "text/html": "<div>\n<style scoped>\n    .dataframe tbody tr th:only-of-type {\n        vertical-align: middle;\n    }\n\n    .dataframe tbody tr th {\n        vertical-align: top;\n    }\n\n    .dataframe thead th {\n        text-align: right;\n    }\n</style>\n<table border=\"1\" class=\"dataframe\">\n  <thead>\n    <tr style=\"text-align: right;\">\n      <th></th>\n      <th>0</th>\n      <th>1</th>\n      <th>2</th>\n      <th>3</th>\n    </tr>\n  </thead>\n  <tbody>\n    <tr>\n      <th>0</th>\n      <td>1.764052</td>\n      <td>0.400157</td>\n      <td>0.978738</td>\n      <td>2.240893</td>\n    </tr>\n    <tr>\n      <th>1</th>\n      <td>1.867558</td>\n      <td>-0.977278</td>\n      <td>0.950088</td>\n      <td>-0.151357</td>\n    </tr>\n    <tr>\n      <th>2</th>\n      <td>-0.103219</td>\n      <td>0.410599</td>\n      <td>0.144044</td>\n      <td>1.454274</td>\n    </tr>\n    <tr>\n      <th>3</th>\n      <td>0.761038</td>\n      <td>0.121675</td>\n      <td>0.443863</td>\n      <td>0.333674</td>\n    </tr>\n    <tr>\n      <th>4</th>\n      <td>1.494079</td>\n      <td>-0.205158</td>\n      <td>0.313068</td>\n      <td>-0.854096</td>\n    </tr>\n    <tr>\n      <th>5</th>\n      <td>-2.552990</td>\n      <td>0.653619</td>\n      <td>0.864436</td>\n      <td>-0.742165</td>\n    </tr>\n    <tr>\n      <th>6</th>\n      <td>2.269755</td>\n      <td>-1.454366</td>\n      <td>0.045759</td>\n      <td>-0.187184</td>\n    </tr>\n    <tr>\n      <th>7</th>\n      <td>1.532779</td>\n      <td>1.469359</td>\n      <td>0.154947</td>\n      <td>0.378163</td>\n    </tr>\n    <tr>\n      <th>8</th>\n      <td>-0.887786</td>\n      <td>-1.980796</td>\n      <td>-0.347912</td>\n      <td>0.156349</td>\n    </tr>\n  </tbody>\n</table>\n</div>"
     },
     "metadata": {},
     "execution_count": 18
    }
   ],
   "source": [
    "# 9개의 행과 4개의 열을 가진 행렬 형태로 표준정규분포 난수를 생성한다.\n",
    "np.random.seed(0)\n",
    "a = np.random.standard_normal((9, 4))\n",
    "a.round(6)\n",
    "\n",
    "# 이 행렬을 바로 데이터 프레임으로 생성한다. 인덱스와 열은 수만큼 자동으로 생성된다.\n",
    "# a에 들어갈 데이터의 형태는 ndarray/dict/list/series/dataframe 형태이다.\n",
    "df = pd.DataFrame(a)\n",
    "df"
   ]
  },
  {
   "cell_type": "code",
   "execution_count": 19,
   "metadata": {},
   "outputs": [
    {
     "output_type": "execute_result",
     "data": {
      "text/plain": "        No1       No2       No3       No4\n0  1.764052  0.400157  0.978738  2.240893\n1  1.867558 -0.977278  0.950088 -0.151357\n2 -0.103219  0.410599  0.144044  1.454274\n3  0.761038  0.121675  0.443863  0.333674\n4  1.494079 -0.205158  0.313068 -0.854096\n5 -2.552990  0.653619  0.864436 -0.742165\n6  2.269755 -1.454366  0.045759 -0.187184\n7  1.532779  1.469359  0.154947  0.378163\n8 -0.887786 -1.980796 -0.347912  0.156349",
      "text/html": "<div>\n<style scoped>\n    .dataframe tbody tr th:only-of-type {\n        vertical-align: middle;\n    }\n\n    .dataframe tbody tr th {\n        vertical-align: top;\n    }\n\n    .dataframe thead th {\n        text-align: right;\n    }\n</style>\n<table border=\"1\" class=\"dataframe\">\n  <thead>\n    <tr style=\"text-align: right;\">\n      <th></th>\n      <th>No1</th>\n      <th>No2</th>\n      <th>No3</th>\n      <th>No4</th>\n    </tr>\n  </thead>\n  <tbody>\n    <tr>\n      <th>0</th>\n      <td>1.764052</td>\n      <td>0.400157</td>\n      <td>0.978738</td>\n      <td>2.240893</td>\n    </tr>\n    <tr>\n      <th>1</th>\n      <td>1.867558</td>\n      <td>-0.977278</td>\n      <td>0.950088</td>\n      <td>-0.151357</td>\n    </tr>\n    <tr>\n      <th>2</th>\n      <td>-0.103219</td>\n      <td>0.410599</td>\n      <td>0.144044</td>\n      <td>1.454274</td>\n    </tr>\n    <tr>\n      <th>3</th>\n      <td>0.761038</td>\n      <td>0.121675</td>\n      <td>0.443863</td>\n      <td>0.333674</td>\n    </tr>\n    <tr>\n      <th>4</th>\n      <td>1.494079</td>\n      <td>-0.205158</td>\n      <td>0.313068</td>\n      <td>-0.854096</td>\n    </tr>\n    <tr>\n      <th>5</th>\n      <td>-2.552990</td>\n      <td>0.653619</td>\n      <td>0.864436</td>\n      <td>-0.742165</td>\n    </tr>\n    <tr>\n      <th>6</th>\n      <td>2.269755</td>\n      <td>-1.454366</td>\n      <td>0.045759</td>\n      <td>-0.187184</td>\n    </tr>\n    <tr>\n      <th>7</th>\n      <td>1.532779</td>\n      <td>1.469359</td>\n      <td>0.154947</td>\n      <td>0.378163</td>\n    </tr>\n    <tr>\n      <th>8</th>\n      <td>-0.887786</td>\n      <td>-1.980796</td>\n      <td>-0.347912</td>\n      <td>0.156349</td>\n    </tr>\n  </tbody>\n</table>\n</div>"
     },
     "metadata": {},
     "execution_count": 19
    }
   ],
   "source": [
    "# 열 이름 지정. 열 개수와 같은 길이의 문자열 리스트 할당. \n",
    "headers=['No1', 'No2', 'No3', 'No4']\n",
    "df.columns = headers\n",
    "df"
   ]
  },
  {
   "cell_type": "code",
   "execution_count": 20,
   "metadata": {
    "tags": []
   },
   "outputs": [
    {
     "output_type": "stream",
     "name": "stdout",
     "text": "0.12167501649282841\n"
    }
   ],
   "source": [
    "print(df['No2'].iloc[3])  # 열인덱싱을 먼저 하고 행을 인덱싱하면 특정한 자료에 접근할 수 있음. 옛날에는 df['No2'][3] 이것도 됐는데 이젠x"
   ]
  },
  {
   "cell_type": "markdown",
   "metadata": {},
   "source": [
    "- 시계열 자료는 인덱스가 날짜 혹은 시간인 데이터를 말한다. pandas에서 시계열 자료를 생성하려면 인덱스를 DatatimeIndex 자료형으로 만든다.\n",
    "\n",
    "- DatetimeIndex는 특정한 순간에 기록된 타임스탬프(timestamp) 형식의 시계열 자료를 다루기 위한 인덱스이다.\n",
    "\n",
    "- 시간 인덱스를 추가해보자. pandas의 data_range 메서드를 사용하면 DatatimeIndex라는 객체를 생성할 수 있다.\n",
    "\n",
    "- 더 다양한 사용법은 여기 참고 https://datascienceschool.net/view-notebook/8959673a97214e8fafdb159f254185e9/"
   ]
  },
  {
   "cell_type": "code",
   "execution_count": 21,
   "metadata": {},
   "outputs": [
    {
     "output_type": "execute_result",
     "data": {
      "text/plain": "DatetimeIndex(['2015-01-31', '2015-02-28', '2015-03-31', '2015-04-30',\n               '2015-05-31', '2015-06-30', '2015-07-31', '2015-08-31',\n               '2015-09-30'],\n              dtype='datetime64[ns]', freq='M')"
     },
     "metadata": {},
     "execution_count": 21
    }
   ],
   "source": [
    "# 2015-1-1을 시작일로 월말기준으로 9개의 자료를 생성한다. (월말기준 일자로 9개 각 달의 마지막 날 생성)\n",
    "dates = pd.date_range('2015-1-1', periods=9, freq='M')\n",
    "dates\n",
    "\n",
    "# dtype을 보면 datetime64로 각 데이터는 앞에서 배운 datetime 자료형임을 알 수 있다. "
   ]
  },
  {
   "cell_type": "code",
   "execution_count": 22,
   "metadata": {},
   "outputs": [
    {
     "output_type": "execute_result",
     "data": {
      "text/plain": "                 No1       No2       No3       No4\n2015-01-31  1.764052  0.400157  0.978738  2.240893\n2015-02-28  1.867558 -0.977278  0.950088 -0.151357\n2015-03-31 -0.103219  0.410599  0.144044  1.454274\n2015-04-30  0.761038  0.121675  0.443863  0.333674\n2015-05-31  1.494079 -0.205158  0.313068 -0.854096\n2015-06-30 -2.552990  0.653619  0.864436 -0.742165\n2015-07-31  2.269755 -1.454366  0.045759 -0.187184\n2015-08-31  1.532779  1.469359  0.154947  0.378163\n2015-09-30 -0.887786 -1.980796 -0.347912  0.156349",
      "text/html": "<div>\n<style scoped>\n    .dataframe tbody tr th:only-of-type {\n        vertical-align: middle;\n    }\n\n    .dataframe tbody tr th {\n        vertical-align: top;\n    }\n\n    .dataframe thead th {\n        text-align: right;\n    }\n</style>\n<table border=\"1\" class=\"dataframe\">\n  <thead>\n    <tr style=\"text-align: right;\">\n      <th></th>\n      <th>No1</th>\n      <th>No2</th>\n      <th>No3</th>\n      <th>No4</th>\n    </tr>\n  </thead>\n  <tbody>\n    <tr>\n      <th>2015-01-31</th>\n      <td>1.764052</td>\n      <td>0.400157</td>\n      <td>0.978738</td>\n      <td>2.240893</td>\n    </tr>\n    <tr>\n      <th>2015-02-28</th>\n      <td>1.867558</td>\n      <td>-0.977278</td>\n      <td>0.950088</td>\n      <td>-0.151357</td>\n    </tr>\n    <tr>\n      <th>2015-03-31</th>\n      <td>-0.103219</td>\n      <td>0.410599</td>\n      <td>0.144044</td>\n      <td>1.454274</td>\n    </tr>\n    <tr>\n      <th>2015-04-30</th>\n      <td>0.761038</td>\n      <td>0.121675</td>\n      <td>0.443863</td>\n      <td>0.333674</td>\n    </tr>\n    <tr>\n      <th>2015-05-31</th>\n      <td>1.494079</td>\n      <td>-0.205158</td>\n      <td>0.313068</td>\n      <td>-0.854096</td>\n    </tr>\n    <tr>\n      <th>2015-06-30</th>\n      <td>-2.552990</td>\n      <td>0.653619</td>\n      <td>0.864436</td>\n      <td>-0.742165</td>\n    </tr>\n    <tr>\n      <th>2015-07-31</th>\n      <td>2.269755</td>\n      <td>-1.454366</td>\n      <td>0.045759</td>\n      <td>-0.187184</td>\n    </tr>\n    <tr>\n      <th>2015-08-31</th>\n      <td>1.532779</td>\n      <td>1.469359</td>\n      <td>0.154947</td>\n      <td>0.378163</td>\n    </tr>\n    <tr>\n      <th>2015-09-30</th>\n      <td>-0.887786</td>\n      <td>-1.980796</td>\n      <td>-0.347912</td>\n      <td>0.156349</td>\n    </tr>\n  </tbody>\n</table>\n</div>"
     },
     "metadata": {},
     "execution_count": 22
    }
   ],
   "source": [
    "# 앞서 정의한 난수 데이터프레임에 datetime 자료형을 가진 DatetimeIndex 객체를 인덱스로 지정해준다.\n",
    "df.index = dates\n",
    "df"
   ]
  },
  {
   "cell_type": "code",
   "execution_count": 23,
   "metadata": {
    "tags": []
   },
   "outputs": [
    {
     "output_type": "stream",
     "name": "stdout",
     "text": "No1    6.145267\nNo2   -1.562190\nNo3    3.547031\nNo4    2.628551\ndtype: float64\n\n\n                 No1       No2       No3       No4\n2015-01-31  1.764052  0.400157  0.978738  2.240893\n2015-02-28  3.631610 -0.577121  1.928826  2.089536\n2015-03-31  3.528391 -0.166522  2.072870  3.543809\n2015-04-30  4.289429 -0.044847  2.516733  3.877484\n2015-05-31  5.783508 -0.250005  2.829801  3.023388\n2015-06-30  3.230518  0.403613  3.694237  2.281223\n2015-07-31  5.500273 -1.050752  3.739996  2.094039\n2015-08-31  7.033052  0.418606  3.894943  2.472202\n2015-09-30  6.145267 -1.562190  3.547031  2.628551\nNo1   -3.048879\nNo2    0.011090\nNo3   -0.000040\nNo4    0.001155\ndtype: float64\n2015-01-31    1.548209\n2015-02-28    0.262458\n2015-03-31   -0.008878\n2015-04-30    0.013714\n2015-05-31    0.081961\n2015-06-30    1.070550\n2015-07-31    0.028274\n2015-08-31    0.131969\n2015-09-30   -0.095656\nFreq: M, dtype: float64\n\n\n                 No1       No2       No3       No4\n2015-01-31  1.764052  0.400157  0.978738  2.240893\n2015-02-28  3.294470 -0.391065  0.929888 -0.339175\n2015-03-31 -0.340051 -0.160571  0.133944 -0.493254\n2015-04-30 -0.258792 -0.019537  0.059453 -0.164586\n2015-05-31 -0.386656  0.004008  0.018613  0.140572\n2015-06-30  0.987128  0.002620  0.016090 -0.104328\n2015-07-31  2.240538 -0.003810  0.000736  0.019528\n2015-08-31  3.434250 -0.005599  0.000114  0.007385\n2015-09-30 -3.048879  0.011090 -0.000040  0.001155\n"
    }
   ],
   "source": [
    "# 앞서 언급한 다양한 데이터프레임 메서드를 사용할 수 있다. \n",
    "# 합 : df.sum(), 평균: df.mean(), 누적 합: df.cumsum() ....은 모두 같은 열에 있는 행데이터끼리 계산하게 됨. 즉 axis=0 개념\n",
    "print(df.sum())\n",
    "print('\\n')\n",
    "print(df.cumsum())\n",
    "\n",
    "# 원소곱 : df.prod() (ex. 이산수익률(기하평균수익률) 계산할때 쓰임 ), 누적 곱 : df.cumprod()\n",
    "print(df.prod(axis=0))\n",
    "print(df.prod(axis=1))      # 의미는 없음. axis를 어떻게 사용하는지만 한번 볼 것. 앞의 sum, cumsum도 axis 지정 가능\n",
    "print('\\n')\n",
    "print(df.cumprod(axis=0))"
   ]
  },
  {
   "cell_type": "code",
   "execution_count": 24,
   "metadata": {},
   "outputs": [
    {
     "output_type": "execute_result",
     "data": {
      "text/plain": "            No1       No2       No3       No4\ncount  9.000000  9.000000  9.000000  9.000000\nmean   0.682807 -0.173577  0.394115  0.292061\nstd    1.582437  1.100823  0.457279  0.999115\nmin   -2.552990 -1.980796 -0.347912 -0.854096\n25%   -0.103219 -0.977278  0.144044 -0.187184\n50%    1.494079  0.121675  0.313068  0.156349\n75%    1.764052  0.410599  0.864436  0.378163\nmax    2.269755  1.469359  0.978738  2.240893",
      "text/html": "<div>\n<style scoped>\n    .dataframe tbody tr th:only-of-type {\n        vertical-align: middle;\n    }\n\n    .dataframe tbody tr th {\n        vertical-align: top;\n    }\n\n    .dataframe thead th {\n        text-align: right;\n    }\n</style>\n<table border=\"1\" class=\"dataframe\">\n  <thead>\n    <tr style=\"text-align: right;\">\n      <th></th>\n      <th>No1</th>\n      <th>No2</th>\n      <th>No3</th>\n      <th>No4</th>\n    </tr>\n  </thead>\n  <tbody>\n    <tr>\n      <th>count</th>\n      <td>9.000000</td>\n      <td>9.000000</td>\n      <td>9.000000</td>\n      <td>9.000000</td>\n    </tr>\n    <tr>\n      <th>mean</th>\n      <td>0.682807</td>\n      <td>-0.173577</td>\n      <td>0.394115</td>\n      <td>0.292061</td>\n    </tr>\n    <tr>\n      <th>std</th>\n      <td>1.582437</td>\n      <td>1.100823</td>\n      <td>0.457279</td>\n      <td>0.999115</td>\n    </tr>\n    <tr>\n      <th>min</th>\n      <td>-2.552990</td>\n      <td>-1.980796</td>\n      <td>-0.347912</td>\n      <td>-0.854096</td>\n    </tr>\n    <tr>\n      <th>25%</th>\n      <td>-0.103219</td>\n      <td>-0.977278</td>\n      <td>0.144044</td>\n      <td>-0.187184</td>\n    </tr>\n    <tr>\n      <th>50%</th>\n      <td>1.494079</td>\n      <td>0.121675</td>\n      <td>0.313068</td>\n      <td>0.156349</td>\n    </tr>\n    <tr>\n      <th>75%</th>\n      <td>1.764052</td>\n      <td>0.410599</td>\n      <td>0.864436</td>\n      <td>0.378163</td>\n    </tr>\n    <tr>\n      <th>max</th>\n      <td>2.269755</td>\n      <td>1.469359</td>\n      <td>0.978738</td>\n      <td>2.240893</td>\n    </tr>\n  </tbody>\n</table>\n</div>"
     },
     "metadata": {},
     "execution_count": 24
    }
   ],
   "source": [
    "# 연산이 가능한 숫자를 가진 열을 뽑아내고, 그 칼럼들에 대해 기본통계량(총 갯수, 평균, 표준편차, 최솟값, 최댓값, 퍼센타일) 출력\n",
    "df.describe()"
   ]
  },
  {
   "cell_type": "code",
   "execution_count": 25,
   "metadata": {
    "tags": []
   },
   "outputs": [
    {
     "output_type": "stream",
     "name": "stdout",
     "text": "No1       No2       No3       No4\nNo1  1.000000 -0.090979  0.054063  0.206672\nNo2 -0.090979  1.000000  0.383166  0.266734\nNo3  0.054063  0.383166  1.000000  0.125245\nNo4  0.206672  0.266734  0.125245  1.000000\n\n\n-0.09097852931594731\n\n\n          No1       No2       No3       No4\nNo1  2.504105 -0.158483  0.039120  0.326756\nNo2 -0.158483  1.211811  0.192879  0.293366\nNo3  0.039120  0.192879  0.209104  0.057221\nNo4  0.326756  0.293366  0.057221  0.998230\n\n\n"
    }
   ],
   "source": [
    "# 그 이외 자주 쓰이는 통계 계산 데이터프레임 메서드들. nan 값이 존재하면 안됨. 결측치가 존재한다면 전처리 필요\n",
    "# 상관계수. 이 때 상관계수는 피어슨 상관계수 공식에 의해 계산된다.\n",
    "# 피어슨 상관계수는(Pearson correlation coefficient) 두 변수 간의 관련성을 구하기 위해 보편적으로 이용함\n",
    "# 참고 : https://ko.wikipedia.org/wiki/%EC%83%81%EA%B4%80_%EB%B6%84%EC%84%9D\n",
    "\n",
    "# 모든 열 간의 상관계수 계산\n",
    "print(df.corr())\n",
    "print('\\n')\n",
    "\n",
    "# 특정 열간의 상관계수는 df['No1'].corr(df['No2']) 와 같은 식으로 계산 가능\n",
    "print(df['No1'].corr(df['No2']))\n",
    "print('\\n')\n",
    "\n",
    "# 공분산\n",
    "# 모든 열 간의 공분산 계산\n",
    "print(df.cov())\n",
    "print('\\n')"
   ]
  },
  {
   "cell_type": "code",
   "execution_count": 26,
   "metadata": {},
   "outputs": [
    {
     "output_type": "execute_result",
     "data": {
      "text/plain": "array([[ 1.764052,  0.400157,  0.978738,  2.240893],\n       [ 1.867558, -0.977278,  0.950088, -0.151357],\n       [-0.103219,  0.410599,  0.144044,  1.454274],\n       [ 0.761038,  0.121675,  0.443863,  0.333674],\n       [ 1.494079, -0.205158,  0.313068, -0.854096],\n       [-2.55299 ,  0.653619,  0.864436, -0.742165],\n       [ 2.269755, -1.454366,  0.045759, -0.187184],\n       [ 1.532779,  1.469359,  0.154947,  0.378163],\n       [-0.887786, -1.980796, -0.347912,  0.156349]])"
     },
     "metadata": {},
     "execution_count": 26
    }
   ],
   "source": [
    "# 반대로 데이터프레임을 행렬로 바꿀 수 있다. \n",
    "np.array(df).round(6)"
   ]
  },
  {
   "cell_type": "code",
   "execution_count": 27,
   "metadata": {},
   "outputs": [
    {
     "output_type": "execute_result",
     "data": {
      "text/plain": "                 No1       No2       No3       No4\n2015-01-31  1.328176  0.632580  0.989312  1.496961\n2015-02-28  1.366586       NaN  0.974725       NaN\n2015-03-31       NaN  0.640780  0.379531  1.205933\n2015-04-30  0.872375  0.348819  0.666231  0.577646\n2015-05-31  1.222325       NaN  0.559525       NaN\n2015-06-30       NaN  0.808467  0.929751       NaN\n2015-07-31  1.506570       NaN  0.213912       NaN\n2015-08-31  1.238055  1.212171  0.393634  0.614949\n2015-09-30       NaN       NaN       NaN  0.395410",
      "text/html": "<div>\n<style scoped>\n    .dataframe tbody tr th:only-of-type {\n        vertical-align: middle;\n    }\n\n    .dataframe tbody tr th {\n        vertical-align: top;\n    }\n\n    .dataframe thead th {\n        text-align: right;\n    }\n</style>\n<table border=\"1\" class=\"dataframe\">\n  <thead>\n    <tr style=\"text-align: right;\">\n      <th></th>\n      <th>No1</th>\n      <th>No2</th>\n      <th>No3</th>\n      <th>No4</th>\n    </tr>\n  </thead>\n  <tbody>\n    <tr>\n      <th>2015-01-31</th>\n      <td>1.328176</td>\n      <td>0.632580</td>\n      <td>0.989312</td>\n      <td>1.496961</td>\n    </tr>\n    <tr>\n      <th>2015-02-28</th>\n      <td>1.366586</td>\n      <td>NaN</td>\n      <td>0.974725</td>\n      <td>NaN</td>\n    </tr>\n    <tr>\n      <th>2015-03-31</th>\n      <td>NaN</td>\n      <td>0.640780</td>\n      <td>0.379531</td>\n      <td>1.205933</td>\n    </tr>\n    <tr>\n      <th>2015-04-30</th>\n      <td>0.872375</td>\n      <td>0.348819</td>\n      <td>0.666231</td>\n      <td>0.577646</td>\n    </tr>\n    <tr>\n      <th>2015-05-31</th>\n      <td>1.222325</td>\n      <td>NaN</td>\n      <td>0.559525</td>\n      <td>NaN</td>\n    </tr>\n    <tr>\n      <th>2015-06-30</th>\n      <td>NaN</td>\n      <td>0.808467</td>\n      <td>0.929751</td>\n      <td>NaN</td>\n    </tr>\n    <tr>\n      <th>2015-07-31</th>\n      <td>1.506570</td>\n      <td>NaN</td>\n      <td>0.213912</td>\n      <td>NaN</td>\n    </tr>\n    <tr>\n      <th>2015-08-31</th>\n      <td>1.238055</td>\n      <td>1.212171</td>\n      <td>0.393634</td>\n      <td>0.614949</td>\n    </tr>\n    <tr>\n      <th>2015-09-30</th>\n      <td>NaN</td>\n      <td>NaN</td>\n      <td>NaN</td>\n      <td>0.395410</td>\n    </tr>\n  </tbody>\n</table>\n</div>"
     },
     "metadata": {},
     "execution_count": 27
    }
   ],
   "source": [
    "# 데이터프레임 원소에 numpy 메서드를 이용한 계산 적용. \n",
    "# 생각해야 할 건 속도측면에서 빠른 계산이 요구될 때 이런 계산이 필요하면 항상 행렬꼴로 계산을 먼저하고 데이터프레임형태에 최종적으로 저장하는 것이 권장됨\n",
    "\n",
    "sqrt_df=np.sqrt(df)\n",
    "sqrt_df"
   ]
  },
  {
   "cell_type": "code",
   "execution_count": 28,
   "metadata": {
    "tags": []
   },
   "outputs": [
    {
     "output_type": "stream",
     "name": "stdout",
     "text": "No1    No2    No3    No4\n2015-01-31  False  False  False  False\n2015-02-28  False   True  False   True\n2015-03-31   True  False  False  False\n2015-04-30  False  False  False  False\n2015-05-31  False   True  False   True\n2015-06-30   True  False  False   True\n2015-07-31  False   True  False   True\n2015-08-31  False  False  False  False\n2015-09-30   True   True   True  False\nNo1    3\nNo2    4\nNo3    1\nNo4    4\ndtype: int64\nNo1    0.333333\nNo2    0.444444\nNo3    0.111111\nNo4    0.444444\ndtype: float64\n                 No1       No2       No3       No4\n2015-01-31  1.328176  0.632580  0.989312  1.496961\n2015-04-30  0.872375  0.348819  0.666231  0.577646\n2015-08-31  1.238055  1.212171  0.393634  0.614949\n\n\nEmpty DataFrame\nColumns: []\nIndex: [2015-01-31 00:00:00, 2015-02-28 00:00:00, 2015-03-31 00:00:00, 2015-04-30 00:00:00, 2015-05-31 00:00:00, 2015-06-30 00:00:00, 2015-07-31 00:00:00, 2015-08-31 00:00:00, 2015-09-30 00:00:00]\n\n\n"
    }
   ],
   "source": [
    "# 결측치 전처리 방식\n",
    "\n",
    "# 결측치 존재 여부 확인\n",
    "print(sqrt_df.isnull())\n",
    "print(sqrt_df.isnull().sum())\n",
    "\n",
    "# 컬럼마다 결측치 비율\n",
    "print(sqrt_df.isnull().sum()/df.shape[0])\n",
    "\n",
    "# df.drop은 df.drop(['row name']) 을 통해 삭제가능함. 열을 지우고 싶은 경우 df.drop(['column name'], axis=1) 로 지정. 여러개 지우기 가능\n",
    "\n",
    "# 결측값 있는 행 제거 (axis=0 이 default)\n",
    "df_drop_row = sqrt_df.dropna()\n",
    "print(df_drop_row)\n",
    "print('\\n')\n",
    "\n",
    "# 결측값 있는 열 제거\n",
    "df_drop_column = sqrt_df.dropna(axis=1)\n",
    "print(df_drop_column)\n",
    "print('\\n')\n",
    "\n",
    "# df.dropna(how='all', axis=0) 특정 행의 모든 값이 nan이면 행 삭제\n",
    "# df.dropna(thresh=2)          행에서 nan이 2개이상이면 삭제\n",
    "# df.dropna(how='all', axis=1) 특정 열의 모든 값이 nan이면 열 삭제\n",
    "# df.dropna(how='any')         특정 행에서 nan 값이 하나라도 있으면 삭제. dropna()와 같음\n"
   ]
  },
  {
   "cell_type": "code",
   "execution_count": 29,
   "metadata": {
    "tags": []
   },
   "outputs": [
    {
     "output_type": "stream",
     "name": "stdout",
     "text": "No1       No2       No3       No4\n2015-01-31  1.328176  0.632580  0.989312  1.496961\n2015-02-28  1.366586  0.000000  0.974725  0.000000\n2015-03-31  0.000000  0.640780  0.379531  1.205933\n2015-04-30  0.872375  0.348819  0.666231  0.577646\n2015-05-31  1.222325  0.000000  0.559525  0.000000\n2015-06-30  0.000000  0.808467  0.929751  0.000000\n2015-07-31  1.506570  0.000000  0.213912  0.000000\n2015-08-31  1.238055  1.212171  0.393634  0.614949\n2015-09-30  0.000000  0.000000  0.000000  0.395410\n\n\n                 No1       No2       No3       No4\n2015-01-31  1.328176  0.632580  0.989312  1.496961\n2015-02-28  1.366586  0.640780  0.974725  1.205933\n2015-03-31  0.872375  0.640780  0.379531  1.205933\n2015-04-30  0.872375  0.348819  0.666231  0.577646\n2015-05-31  1.222325  0.808467  0.559525  0.614949\n2015-06-30  1.506570  0.808467  0.929751  0.614949\n2015-07-31  1.506570  1.212171  0.213912  0.614949\n2015-08-31  1.238055  1.212171  0.393634  0.614949\n2015-09-30       NaN       NaN       NaN  0.395410\n\n\n                 No1       No2       No3       No4\n2015-01-31  1.328176  0.632580  0.989312  1.496961\n2015-02-28  1.366586  0.632580  0.974725  1.496961\n2015-03-31  1.366586  0.640780  0.379531  1.205933\n2015-04-30  0.872375  0.348819  0.666231  0.577646\n2015-05-31  1.222325  0.348819  0.559525  0.577646\n2015-06-30  1.222325  0.808467  0.929751  0.577646\n2015-07-31  1.506570  0.808467  0.213912  0.577646\n2015-08-31  1.238055  1.212171  0.393634  0.614949\n2015-09-30  1.238055  1.212171  0.393634  0.395410\n\n\n"
    }
   ],
   "source": [
    "# 결측값 채우기\n",
    "df_fill_row_value = sqrt_df.fillna(value=0)        # nan을 전부 value=0 으로 채움\n",
    "df_fill_row_bfill = sqrt_df.fillna(method='bfill') # 뒷값으로 채움 (뒤에서 나올 데이터를 앞에서 미리씀)\n",
    "df_fill_row_ffill = sqrt_df.fillna(method='ffill') # 앞값으로 채움 (앞에서 나온 데이터를 뒤에 씀)\n",
    "\n",
    "print(df_fill_row_value)\n",
    "print('\\n')\n",
    "print(df_fill_row_bfill)\n",
    "print('\\n')\n",
    "print(df_fill_row_ffill)\n",
    "print('\\n')"
   ]
  },
  {
   "cell_type": "code",
   "execution_count": 30,
   "metadata": {
    "tags": []
   },
   "outputs": [
    {
     "output_type": "stream",
     "name": "stdout",
     "text": "No1       No2       No3       No4\n2015-01-31  1.328176  0.632580  0.989312  1.496961\n2015-02-28  1.366586       NaN  0.974725       NaN\n2015-03-31       NaN  0.640780  0.379531  1.205933\n2015-04-30  0.872375  0.348819  0.666231  0.577646\n2015-05-31  1.222325       NaN  0.559525       NaN\n2015-06-30       NaN  0.808467  0.929751       NaN\n2015-07-31  1.506570       NaN  0.213912       NaN\n2015-08-31  1.238055  1.212171  0.393634  0.614949\n2015-09-30       NaN       NaN       NaN  0.395410\nNo1    7.534088\nNo2    3.642817\nNo3    5.106619\nNo4    4.290899\ndtype: float64\nNo1   NaN\nNo2   NaN\nNo3   NaN\nNo4   NaN\ndtype: float64\n"
    }
   ],
   "source": [
    "# 단 결측치가 존재하더라도 처리가능한 메서드들이 있다. (df.corr, df.cov 같은건 안됨))\n",
    "# 결측치를 없다고 가정하고 계산하는 것.\n",
    "print(sqrt_df)\n",
    "print(sqrt_df.sum())\n",
    "\n",
    "# 만약 결측치도 고려해서 계산하고 싶다면 skipna=False 와 같은 옵션을 주면 됨\n",
    "print(sqrt_df.sum(skipna=False))"
   ]
  },
  {
   "cell_type": "code",
   "execution_count": 31,
   "metadata": {},
   "outputs": [
    {
     "output_type": "execute_result",
     "data": {
      "text/plain": "<matplotlib.axes._subplots.AxesSubplot at 0x1d5bfeea860>"
     },
     "metadata": {},
     "execution_count": 31
    },
    {
     "output_type": "display_data",
     "data": {
      "text/plain": "<Figure size 432x288 with 1 Axes>",
      "image/svg+xml": "<?xml version=\"1.0\" encoding=\"utf-8\" standalone=\"no\"?>\r\n<!DOCTYPE svg PUBLIC \"-//W3C//DTD SVG 1.1//EN\"\r\n  \"http://www.w3.org/Graphics/SVG/1.1/DTD/svg11.dtd\">\r\n<!-- Created with matplotlib (https://matplotlib.org/) -->\r\n<svg height=\"259.715937pt\" version=\"1.1\" viewBox=\"0 0 371.9875 259.715937\" width=\"371.9875pt\" xmlns=\"http://www.w3.org/2000/svg\" xmlns:xlink=\"http://www.w3.org/1999/xlink\">\r\n <defs>\r\n  <style type=\"text/css\">\r\n*{stroke-linecap:butt;stroke-linejoin:round;}\r\n  </style>\r\n </defs>\r\n <g id=\"figure_1\">\r\n  <g id=\"patch_1\">\r\n   <path d=\"M 0 259.715937 \r\nL 371.9875 259.715937 \r\nL 371.9875 0 \r\nL 0 0 \r\nz\r\n\" style=\"fill:none;\"/>\r\n  </g>\r\n  <g id=\"axes_1\">\r\n   <g id=\"patch_2\">\r\n    <path d=\"M 20.5625 224.64 \r\nL 355.3625 224.64 \r\nL 355.3625 7.2 \r\nL 20.5625 7.2 \r\nz\r\n\" style=\"fill:#ffffff;\"/>\r\n   </g>\r\n   <g id=\"matplotlib.axis_1\">\r\n    <g id=\"xtick_1\">\r\n     <g id=\"line2d_1\">\r\n      <path clip-path=\"url(#p830283dd11)\" d=\"M 20.5625 224.64 \r\nL 20.5625 7.2 \r\n\" style=\"fill:none;stroke:#b0b0b0;stroke-linecap:square;stroke-width:0.8;\"/>\r\n     </g>\r\n     <g id=\"line2d_2\">\r\n      <defs>\r\n       <path d=\"M 0 0 \r\nL 0 3.5 \r\n\" id=\"mae33b6d7ba\" style=\"stroke:#000000;stroke-width:0.8;\"/>\r\n      </defs>\r\n      <g>\r\n       <use style=\"stroke:#000000;stroke-width:0.8;\" x=\"20.5625\" xlink:href=\"#mae33b6d7ba\" y=\"224.64\"/>\r\n      </g>\r\n     </g>\r\n     <g id=\"text_1\">\r\n      <!-- Jan -->\r\n      <defs>\r\n       <path d=\"M 9.8125 72.90625 \r\nL 19.671875 72.90625 \r\nL 19.671875 5.078125 \r\nQ 19.671875 -8.109375 14.671875 -14.0625 \r\nQ 9.671875 -20.015625 -1.421875 -20.015625 \r\nL -5.171875 -20.015625 \r\nL -5.171875 -11.71875 \r\nL -2.09375 -11.71875 \r\nQ 4.4375 -11.71875 7.125 -8.046875 \r\nQ 9.8125 -4.390625 9.8125 5.078125 \r\nz\r\n\" id=\"DejaVuSans-74\"/>\r\n       <path d=\"M 34.28125 27.484375 \r\nQ 23.390625 27.484375 19.1875 25 \r\nQ 14.984375 22.515625 14.984375 16.5 \r\nQ 14.984375 11.71875 18.140625 8.90625 \r\nQ 21.296875 6.109375 26.703125 6.109375 \r\nQ 34.1875 6.109375 38.703125 11.40625 \r\nQ 43.21875 16.703125 43.21875 25.484375 \r\nL 43.21875 27.484375 \r\nz\r\nM 52.203125 31.203125 \r\nL 52.203125 0 \r\nL 43.21875 0 \r\nL 43.21875 8.296875 \r\nQ 40.140625 3.328125 35.546875 0.953125 \r\nQ 30.953125 -1.421875 24.3125 -1.421875 \r\nQ 15.921875 -1.421875 10.953125 3.296875 \r\nQ 6 8.015625 6 15.921875 \r\nQ 6 25.140625 12.171875 29.828125 \r\nQ 18.359375 34.515625 30.609375 34.515625 \r\nL 43.21875 34.515625 \r\nL 43.21875 35.40625 \r\nQ 43.21875 41.609375 39.140625 45 \r\nQ 35.0625 48.390625 27.6875 48.390625 \r\nQ 23 48.390625 18.546875 47.265625 \r\nQ 14.109375 46.140625 10.015625 43.890625 \r\nL 10.015625 52.203125 \r\nQ 14.9375 54.109375 19.578125 55.046875 \r\nQ 24.21875 56 28.609375 56 \r\nQ 40.484375 56 46.34375 49.84375 \r\nQ 52.203125 43.703125 52.203125 31.203125 \r\nz\r\n\" id=\"DejaVuSans-97\"/>\r\n       <path d=\"M 54.890625 33.015625 \r\nL 54.890625 0 \r\nL 45.90625 0 \r\nL 45.90625 32.71875 \r\nQ 45.90625 40.484375 42.875 44.328125 \r\nQ 39.84375 48.1875 33.796875 48.1875 \r\nQ 26.515625 48.1875 22.3125 43.546875 \r\nQ 18.109375 38.921875 18.109375 30.90625 \r\nL 18.109375 0 \r\nL 9.078125 0 \r\nL 9.078125 54.6875 \r\nL 18.109375 54.6875 \r\nL 18.109375 46.1875 \r\nQ 21.34375 51.125 25.703125 53.5625 \r\nQ 30.078125 56 35.796875 56 \r\nQ 45.21875 56 50.046875 50.171875 \r\nQ 54.890625 44.34375 54.890625 33.015625 \r\nz\r\n\" id=\"DejaVuSans-110\"/>\r\n      </defs>\r\n      <g transform=\"translate(12.854688 239.238438)scale(0.1 -0.1)\">\r\n       <use xlink:href=\"#DejaVuSans-74\"/>\r\n       <use x=\"29.492188\" xlink:href=\"#DejaVuSans-97\"/>\r\n       <use x=\"90.771484\" xlink:href=\"#DejaVuSans-110\"/>\r\n      </g>\r\n      <!-- 2015 -->\r\n      <defs>\r\n       <path d=\"M 19.1875 8.296875 \r\nL 53.609375 8.296875 \r\nL 53.609375 0 \r\nL 7.328125 0 \r\nL 7.328125 8.296875 \r\nQ 12.9375 14.109375 22.625 23.890625 \r\nQ 32.328125 33.6875 34.8125 36.53125 \r\nQ 39.546875 41.84375 41.421875 45.53125 \r\nQ 43.3125 49.21875 43.3125 52.78125 \r\nQ 43.3125 58.59375 39.234375 62.25 \r\nQ 35.15625 65.921875 28.609375 65.921875 \r\nQ 23.96875 65.921875 18.8125 64.3125 \r\nQ 13.671875 62.703125 7.8125 59.421875 \r\nL 7.8125 69.390625 \r\nQ 13.765625 71.78125 18.9375 73 \r\nQ 24.125 74.21875 28.421875 74.21875 \r\nQ 39.75 74.21875 46.484375 68.546875 \r\nQ 53.21875 62.890625 53.21875 53.421875 \r\nQ 53.21875 48.921875 51.53125 44.890625 \r\nQ 49.859375 40.875 45.40625 35.40625 \r\nQ 44.1875 33.984375 37.640625 27.21875 \r\nQ 31.109375 20.453125 19.1875 8.296875 \r\nz\r\n\" id=\"DejaVuSans-50\"/>\r\n       <path d=\"M 31.78125 66.40625 \r\nQ 24.171875 66.40625 20.328125 58.90625 \r\nQ 16.5 51.421875 16.5 36.375 \r\nQ 16.5 21.390625 20.328125 13.890625 \r\nQ 24.171875 6.390625 31.78125 6.390625 \r\nQ 39.453125 6.390625 43.28125 13.890625 \r\nQ 47.125 21.390625 47.125 36.375 \r\nQ 47.125 51.421875 43.28125 58.90625 \r\nQ 39.453125 66.40625 31.78125 66.40625 \r\nz\r\nM 31.78125 74.21875 \r\nQ 44.046875 74.21875 50.515625 64.515625 \r\nQ 56.984375 54.828125 56.984375 36.375 \r\nQ 56.984375 17.96875 50.515625 8.265625 \r\nQ 44.046875 -1.421875 31.78125 -1.421875 \r\nQ 19.53125 -1.421875 13.0625 8.265625 \r\nQ 6.59375 17.96875 6.59375 36.375 \r\nQ 6.59375 54.828125 13.0625 64.515625 \r\nQ 19.53125 74.21875 31.78125 74.21875 \r\nz\r\n\" id=\"DejaVuSans-48\"/>\r\n       <path d=\"M 12.40625 8.296875 \r\nL 28.515625 8.296875 \r\nL 28.515625 63.921875 \r\nL 10.984375 60.40625 \r\nL 10.984375 69.390625 \r\nL 28.421875 72.90625 \r\nL 38.28125 72.90625 \r\nL 38.28125 8.296875 \r\nL 54.390625 8.296875 \r\nL 54.390625 0 \r\nL 12.40625 0 \r\nz\r\n\" id=\"DejaVuSans-49\"/>\r\n       <path d=\"M 10.796875 72.90625 \r\nL 49.515625 72.90625 \r\nL 49.515625 64.59375 \r\nL 19.828125 64.59375 \r\nL 19.828125 46.734375 \r\nQ 21.96875 47.46875 24.109375 47.828125 \r\nQ 26.265625 48.1875 28.421875 48.1875 \r\nQ 40.625 48.1875 47.75 41.5 \r\nQ 54.890625 34.8125 54.890625 23.390625 \r\nQ 54.890625 11.625 47.5625 5.09375 \r\nQ 40.234375 -1.421875 26.90625 -1.421875 \r\nQ 22.3125 -1.421875 17.546875 -0.640625 \r\nQ 12.796875 0.140625 7.71875 1.703125 \r\nL 7.71875 11.625 \r\nQ 12.109375 9.234375 16.796875 8.0625 \r\nQ 21.484375 6.890625 26.703125 6.890625 \r\nQ 35.15625 6.890625 40.078125 11.328125 \r\nQ 45.015625 15.765625 45.015625 23.390625 \r\nQ 45.015625 31 40.078125 35.4375 \r\nQ 35.15625 39.890625 26.703125 39.890625 \r\nQ 22.75 39.890625 18.8125 39.015625 \r\nQ 14.890625 38.140625 10.796875 36.28125 \r\nz\r\n\" id=\"DejaVuSans-53\"/>\r\n      </defs>\r\n      <g transform=\"translate(7.8375 250.43625)scale(0.1 -0.1)\">\r\n       <use xlink:href=\"#DejaVuSans-50\"/>\r\n       <use x=\"63.623047\" xlink:href=\"#DejaVuSans-48\"/>\r\n       <use x=\"127.246094\" xlink:href=\"#DejaVuSans-49\"/>\r\n       <use x=\"190.869141\" xlink:href=\"#DejaVuSans-53\"/>\r\n      </g>\r\n     </g>\r\n    </g>\r\n    <g id=\"xtick_2\">\r\n     <g id=\"line2d_3\">\r\n      <defs>\r\n       <path d=\"M 0 0 \r\nL 0 2 \r\n\" id=\"m293df68c4b\" style=\"stroke:#000000;stroke-width:0.6;\"/>\r\n      </defs>\r\n      <g>\r\n       <use style=\"stroke:#000000;stroke-width:0.6;\" x=\"62.4125\" xlink:href=\"#m293df68c4b\" y=\"224.64\"/>\r\n      </g>\r\n     </g>\r\n     <g id=\"text_2\">\r\n      <!-- Feb -->\r\n      <defs>\r\n       <path d=\"M 9.8125 72.90625 \r\nL 51.703125 72.90625 \r\nL 51.703125 64.59375 \r\nL 19.671875 64.59375 \r\nL 19.671875 43.109375 \r\nL 48.578125 43.109375 \r\nL 48.578125 34.8125 \r\nL 19.671875 34.8125 \r\nL 19.671875 0 \r\nL 9.8125 0 \r\nz\r\n\" id=\"DejaVuSans-70\"/>\r\n       <path d=\"M 56.203125 29.59375 \r\nL 56.203125 25.203125 \r\nL 14.890625 25.203125 \r\nQ 15.484375 15.921875 20.484375 11.0625 \r\nQ 25.484375 6.203125 34.421875 6.203125 \r\nQ 39.59375 6.203125 44.453125 7.46875 \r\nQ 49.3125 8.734375 54.109375 11.28125 \r\nL 54.109375 2.78125 \r\nQ 49.265625 0.734375 44.1875 -0.34375 \r\nQ 39.109375 -1.421875 33.890625 -1.421875 \r\nQ 20.796875 -1.421875 13.15625 6.1875 \r\nQ 5.515625 13.8125 5.515625 26.8125 \r\nQ 5.515625 40.234375 12.765625 48.109375 \r\nQ 20.015625 56 32.328125 56 \r\nQ 43.359375 56 49.78125 48.890625 \r\nQ 56.203125 41.796875 56.203125 29.59375 \r\nz\r\nM 47.21875 32.234375 \r\nQ 47.125 39.59375 43.09375 43.984375 \r\nQ 39.0625 48.390625 32.421875 48.390625 \r\nQ 24.90625 48.390625 20.390625 44.140625 \r\nQ 15.875 39.890625 15.1875 32.171875 \r\nz\r\n\" id=\"DejaVuSans-101\"/>\r\n       <path d=\"M 48.6875 27.296875 \r\nQ 48.6875 37.203125 44.609375 42.84375 \r\nQ 40.53125 48.484375 33.40625 48.484375 \r\nQ 26.265625 48.484375 22.1875 42.84375 \r\nQ 18.109375 37.203125 18.109375 27.296875 \r\nQ 18.109375 17.390625 22.1875 11.75 \r\nQ 26.265625 6.109375 33.40625 6.109375 \r\nQ 40.53125 6.109375 44.609375 11.75 \r\nQ 48.6875 17.390625 48.6875 27.296875 \r\nz\r\nM 18.109375 46.390625 \r\nQ 20.953125 51.265625 25.265625 53.625 \r\nQ 29.59375 56 35.59375 56 \r\nQ 45.5625 56 51.78125 48.09375 \r\nQ 58.015625 40.1875 58.015625 27.296875 \r\nQ 58.015625 14.40625 51.78125 6.484375 \r\nQ 45.5625 -1.421875 35.59375 -1.421875 \r\nQ 29.59375 -1.421875 25.265625 0.953125 \r\nQ 20.953125 3.328125 18.109375 8.203125 \r\nL 18.109375 0 \r\nL 9.078125 0 \r\nL 9.078125 75.984375 \r\nL 18.109375 75.984375 \r\nz\r\n\" id=\"DejaVuSans-98\"/>\r\n      </defs>\r\n      <g transform=\"translate(53.560938 237.638438)scale(0.1 -0.1)\">\r\n       <use xlink:href=\"#DejaVuSans-70\"/>\r\n       <use x=\"52.019531\" xlink:href=\"#DejaVuSans-101\"/>\r\n       <use x=\"113.542969\" xlink:href=\"#DejaVuSans-98\"/>\r\n      </g>\r\n     </g>\r\n    </g>\r\n    <g id=\"xtick_3\">\r\n     <g id=\"line2d_4\">\r\n      <g>\r\n       <use style=\"stroke:#000000;stroke-width:0.6;\" x=\"104.2625\" xlink:href=\"#m293df68c4b\" y=\"224.64\"/>\r\n      </g>\r\n     </g>\r\n     <g id=\"text_3\">\r\n      <!-- Mar -->\r\n      <defs>\r\n       <path d=\"M 9.8125 72.90625 \r\nL 24.515625 72.90625 \r\nL 43.109375 23.296875 \r\nL 61.8125 72.90625 \r\nL 76.515625 72.90625 \r\nL 76.515625 0 \r\nL 66.890625 0 \r\nL 66.890625 64.015625 \r\nL 48.09375 14.015625 \r\nL 38.1875 14.015625 \r\nL 19.390625 64.015625 \r\nL 19.390625 0 \r\nL 9.8125 0 \r\nz\r\n\" id=\"DejaVuSans-77\"/>\r\n       <path d=\"M 41.109375 46.296875 \r\nQ 39.59375 47.171875 37.8125 47.578125 \r\nQ 36.03125 48 33.890625 48 \r\nQ 26.265625 48 22.1875 43.046875 \r\nQ 18.109375 38.09375 18.109375 28.8125 \r\nL 18.109375 0 \r\nL 9.078125 0 \r\nL 9.078125 54.6875 \r\nL 18.109375 54.6875 \r\nL 18.109375 46.1875 \r\nQ 20.953125 51.171875 25.484375 53.578125 \r\nQ 30.03125 56 36.53125 56 \r\nQ 37.453125 56 38.578125 55.875 \r\nQ 39.703125 55.765625 41.0625 55.515625 \r\nz\r\n\" id=\"DejaVuSans-114\"/>\r\n      </defs>\r\n      <g transform=\"translate(94.828906 237.638438)scale(0.1 -0.1)\">\r\n       <use xlink:href=\"#DejaVuSans-77\"/>\r\n       <use x=\"86.279297\" xlink:href=\"#DejaVuSans-97\"/>\r\n       <use x=\"147.558594\" xlink:href=\"#DejaVuSans-114\"/>\r\n      </g>\r\n     </g>\r\n    </g>\r\n    <g id=\"xtick_4\">\r\n     <g id=\"line2d_5\">\r\n      <g>\r\n       <use style=\"stroke:#000000;stroke-width:0.6;\" x=\"146.1125\" xlink:href=\"#m293df68c4b\" y=\"224.64\"/>\r\n      </g>\r\n     </g>\r\n     <g id=\"text_4\">\r\n      <!-- Apr -->\r\n      <defs>\r\n       <path d=\"M 34.1875 63.1875 \r\nL 20.796875 26.90625 \r\nL 47.609375 26.90625 \r\nz\r\nM 28.609375 72.90625 \r\nL 39.796875 72.90625 \r\nL 67.578125 0 \r\nL 57.328125 0 \r\nL 50.6875 18.703125 \r\nL 17.828125 18.703125 \r\nL 11.1875 0 \r\nL 0.78125 0 \r\nz\r\n\" id=\"DejaVuSans-65\"/>\r\n       <path d=\"M 18.109375 8.203125 \r\nL 18.109375 -20.796875 \r\nL 9.078125 -20.796875 \r\nL 9.078125 54.6875 \r\nL 18.109375 54.6875 \r\nL 18.109375 46.390625 \r\nQ 20.953125 51.265625 25.265625 53.625 \r\nQ 29.59375 56 35.59375 56 \r\nQ 45.5625 56 51.78125 48.09375 \r\nQ 58.015625 40.1875 58.015625 27.296875 \r\nQ 58.015625 14.40625 51.78125 6.484375 \r\nQ 45.5625 -1.421875 35.59375 -1.421875 \r\nQ 29.59375 -1.421875 25.265625 0.953125 \r\nQ 20.953125 3.328125 18.109375 8.203125 \r\nz\r\nM 48.6875 27.296875 \r\nQ 48.6875 37.203125 44.609375 42.84375 \r\nQ 40.53125 48.484375 33.40625 48.484375 \r\nQ 26.265625 48.484375 22.1875 42.84375 \r\nQ 18.109375 37.203125 18.109375 27.296875 \r\nQ 18.109375 17.390625 22.1875 11.75 \r\nQ 26.265625 6.109375 33.40625 6.109375 \r\nQ 40.53125 6.109375 44.609375 11.75 \r\nQ 48.6875 17.390625 48.6875 27.296875 \r\nz\r\n\" id=\"DejaVuSans-112\"/>\r\n      </defs>\r\n      <g transform=\"translate(137.4625 237.638438)scale(0.1 -0.1)\">\r\n       <use xlink:href=\"#DejaVuSans-65\"/>\r\n       <use x=\"68.408203\" xlink:href=\"#DejaVuSans-112\"/>\r\n       <use x=\"131.884766\" xlink:href=\"#DejaVuSans-114\"/>\r\n      </g>\r\n     </g>\r\n    </g>\r\n    <g id=\"xtick_5\">\r\n     <g id=\"line2d_6\">\r\n      <g>\r\n       <use style=\"stroke:#000000;stroke-width:0.6;\" x=\"187.9625\" xlink:href=\"#m293df68c4b\" y=\"224.64\"/>\r\n      </g>\r\n     </g>\r\n     <g id=\"text_5\">\r\n      <!-- May -->\r\n      <defs>\r\n       <path d=\"M 32.171875 -5.078125 \r\nQ 28.375 -14.84375 24.75 -17.8125 \r\nQ 21.140625 -20.796875 15.09375 -20.796875 \r\nL 7.90625 -20.796875 \r\nL 7.90625 -13.28125 \r\nL 13.1875 -13.28125 \r\nQ 16.890625 -13.28125 18.9375 -11.515625 \r\nQ 21 -9.765625 23.484375 -3.21875 \r\nL 25.09375 0.875 \r\nL 2.984375 54.6875 \r\nL 12.5 54.6875 \r\nL 29.59375 11.921875 \r\nL 46.6875 54.6875 \r\nL 56.203125 54.6875 \r\nz\r\n\" id=\"DejaVuSans-121\"/>\r\n      </defs>\r\n      <g transform=\"translate(177.625 237.638438)scale(0.1 -0.1)\">\r\n       <use xlink:href=\"#DejaVuSans-77\"/>\r\n       <use x=\"86.279297\" xlink:href=\"#DejaVuSans-97\"/>\r\n       <use x=\"147.558594\" xlink:href=\"#DejaVuSans-121\"/>\r\n      </g>\r\n     </g>\r\n    </g>\r\n    <g id=\"xtick_6\">\r\n     <g id=\"line2d_7\">\r\n      <g>\r\n       <use style=\"stroke:#000000;stroke-width:0.6;\" x=\"229.8125\" xlink:href=\"#m293df68c4b\" y=\"224.64\"/>\r\n      </g>\r\n     </g>\r\n     <g id=\"text_6\">\r\n      <!-- Jun -->\r\n      <defs>\r\n       <path d=\"M 8.5 21.578125 \r\nL 8.5 54.6875 \r\nL 17.484375 54.6875 \r\nL 17.484375 21.921875 \r\nQ 17.484375 14.15625 20.5 10.265625 \r\nQ 23.53125 6.390625 29.59375 6.390625 \r\nQ 36.859375 6.390625 41.078125 11.03125 \r\nQ 45.3125 15.671875 45.3125 23.6875 \r\nL 45.3125 54.6875 \r\nL 54.296875 54.6875 \r\nL 54.296875 0 \r\nL 45.3125 0 \r\nL 45.3125 8.40625 \r\nQ 42.046875 3.421875 37.71875 1 \r\nQ 33.40625 -1.421875 27.6875 -1.421875 \r\nQ 18.265625 -1.421875 13.375 4.4375 \r\nQ 8.5 10.296875 8.5 21.578125 \r\nz\r\nM 31.109375 56 \r\nz\r\n\" id=\"DejaVuSans-117\"/>\r\n      </defs>\r\n      <g transform=\"translate(222 237.638438)scale(0.1 -0.1)\">\r\n       <use xlink:href=\"#DejaVuSans-74\"/>\r\n       <use x=\"29.492188\" xlink:href=\"#DejaVuSans-117\"/>\r\n       <use x=\"92.871094\" xlink:href=\"#DejaVuSans-110\"/>\r\n      </g>\r\n     </g>\r\n    </g>\r\n    <g id=\"xtick_7\">\r\n     <g id=\"line2d_8\">\r\n      <g>\r\n       <use style=\"stroke:#000000;stroke-width:0.6;\" x=\"271.6625\" xlink:href=\"#m293df68c4b\" y=\"224.64\"/>\r\n      </g>\r\n     </g>\r\n     <g id=\"text_7\">\r\n      <!-- Jul -->\r\n      <defs>\r\n       <path d=\"M 9.421875 75.984375 \r\nL 18.40625 75.984375 \r\nL 18.40625 0 \r\nL 9.421875 0 \r\nz\r\n\" id=\"DejaVuSans-108\"/>\r\n      </defs>\r\n      <g transform=\"translate(265.629688 237.638438)scale(0.1 -0.1)\">\r\n       <use xlink:href=\"#DejaVuSans-74\"/>\r\n       <use x=\"29.492188\" xlink:href=\"#DejaVuSans-117\"/>\r\n       <use x=\"92.871094\" xlink:href=\"#DejaVuSans-108\"/>\r\n      </g>\r\n     </g>\r\n    </g>\r\n    <g id=\"xtick_8\">\r\n     <g id=\"line2d_9\">\r\n      <g>\r\n       <use style=\"stroke:#000000;stroke-width:0.6;\" x=\"313.5125\" xlink:href=\"#m293df68c4b\" y=\"224.64\"/>\r\n      </g>\r\n     </g>\r\n     <g id=\"text_8\">\r\n      <!-- Aug -->\r\n      <defs>\r\n       <path d=\"M 45.40625 27.984375 \r\nQ 45.40625 37.75 41.375 43.109375 \r\nQ 37.359375 48.484375 30.078125 48.484375 \r\nQ 22.859375 48.484375 18.828125 43.109375 \r\nQ 14.796875 37.75 14.796875 27.984375 \r\nQ 14.796875 18.265625 18.828125 12.890625 \r\nQ 22.859375 7.515625 30.078125 7.515625 \r\nQ 37.359375 7.515625 41.375 12.890625 \r\nQ 45.40625 18.265625 45.40625 27.984375 \r\nz\r\nM 54.390625 6.78125 \r\nQ 54.390625 -7.171875 48.1875 -13.984375 \r\nQ 42 -20.796875 29.203125 -20.796875 \r\nQ 24.46875 -20.796875 20.265625 -20.09375 \r\nQ 16.0625 -19.390625 12.109375 -17.921875 \r\nL 12.109375 -9.1875 \r\nQ 16.0625 -11.328125 19.921875 -12.34375 \r\nQ 23.78125 -13.375 27.78125 -13.375 \r\nQ 36.625 -13.375 41.015625 -8.765625 \r\nQ 45.40625 -4.15625 45.40625 5.171875 \r\nL 45.40625 9.625 \r\nQ 42.625 4.78125 38.28125 2.390625 \r\nQ 33.9375 0 27.875 0 \r\nQ 17.828125 0 11.671875 7.65625 \r\nQ 5.515625 15.328125 5.515625 27.984375 \r\nQ 5.515625 40.671875 11.671875 48.328125 \r\nQ 17.828125 56 27.875 56 \r\nQ 33.9375 56 38.28125 53.609375 \r\nQ 42.625 51.21875 45.40625 46.390625 \r\nL 45.40625 54.6875 \r\nL 54.390625 54.6875 \r\nz\r\n\" id=\"DejaVuSans-103\"/>\r\n      </defs>\r\n      <g transform=\"translate(303.749219 237.638438)scale(0.1 -0.1)\">\r\n       <use xlink:href=\"#DejaVuSans-65\"/>\r\n       <use x=\"68.408203\" xlink:href=\"#DejaVuSans-117\"/>\r\n       <use x=\"131.787109\" xlink:href=\"#DejaVuSans-103\"/>\r\n      </g>\r\n     </g>\r\n    </g>\r\n    <g id=\"xtick_9\">\r\n     <g id=\"line2d_10\">\r\n      <g>\r\n       <use style=\"stroke:#000000;stroke-width:0.6;\" x=\"355.3625\" xlink:href=\"#m293df68c4b\" y=\"224.64\"/>\r\n      </g>\r\n     </g>\r\n     <g id=\"text_9\">\r\n      <!-- Sep -->\r\n      <defs>\r\n       <path d=\"M 53.515625 70.515625 \r\nL 53.515625 60.890625 \r\nQ 47.90625 63.578125 42.921875 64.890625 \r\nQ 37.9375 66.21875 33.296875 66.21875 \r\nQ 25.25 66.21875 20.875 63.09375 \r\nQ 16.5 59.96875 16.5 54.203125 \r\nQ 16.5 49.359375 19.40625 46.890625 \r\nQ 22.3125 44.4375 30.421875 42.921875 \r\nL 36.375 41.703125 \r\nQ 47.40625 39.59375 52.65625 34.296875 \r\nQ 57.90625 29 57.90625 20.125 \r\nQ 57.90625 9.515625 50.796875 4.046875 \r\nQ 43.703125 -1.421875 29.984375 -1.421875 \r\nQ 24.8125 -1.421875 18.96875 -0.25 \r\nQ 13.140625 0.921875 6.890625 3.21875 \r\nL 6.890625 13.375 \r\nQ 12.890625 10.015625 18.65625 8.296875 \r\nQ 24.421875 6.59375 29.984375 6.59375 \r\nQ 38.421875 6.59375 43.015625 9.90625 \r\nQ 47.609375 13.234375 47.609375 19.390625 \r\nQ 47.609375 24.75 44.3125 27.78125 \r\nQ 41.015625 30.8125 33.5 32.328125 \r\nL 27.484375 33.5 \r\nQ 16.453125 35.6875 11.515625 40.375 \r\nQ 6.59375 45.0625 6.59375 53.421875 \r\nQ 6.59375 63.09375 13.40625 68.65625 \r\nQ 20.21875 74.21875 32.171875 74.21875 \r\nQ 37.3125 74.21875 42.625 73.28125 \r\nQ 47.953125 72.359375 53.515625 70.515625 \r\nz\r\n\" id=\"DejaVuSans-83\"/>\r\n      </defs>\r\n      <g transform=\"translate(345.9375 237.638438)scale(0.1 -0.1)\">\r\n       <use xlink:href=\"#DejaVuSans-83\"/>\r\n       <use x=\"63.476562\" xlink:href=\"#DejaVuSans-101\"/>\r\n       <use x=\"125\" xlink:href=\"#DejaVuSans-112\"/>\r\n      </g>\r\n     </g>\r\n    </g>\r\n   </g>\r\n   <g id=\"matplotlib.axis_2\">\r\n    <g id=\"ytick_1\">\r\n     <g id=\"line2d_11\">\r\n      <path clip-path=\"url(#p830283dd11)\" d=\"M 20.5625 178.829233 \r\nL 355.3625 178.829233 \r\n\" style=\"fill:none;stroke:#b0b0b0;stroke-linecap:square;stroke-width:0.8;\"/>\r\n     </g>\r\n     <g id=\"line2d_12\">\r\n      <defs>\r\n       <path d=\"M 0 0 \r\nL -3.5 0 \r\n\" id=\"mc496d155b6\" style=\"stroke:#000000;stroke-width:0.8;\"/>\r\n      </defs>\r\n      <g>\r\n       <use style=\"stroke:#000000;stroke-width:0.8;\" x=\"20.5625\" xlink:href=\"#mc496d155b6\" y=\"178.829233\"/>\r\n      </g>\r\n     </g>\r\n     <g id=\"text_10\">\r\n      <!-- 0 -->\r\n      <g transform=\"translate(7.2 182.628452)scale(0.1 -0.1)\">\r\n       <use xlink:href=\"#DejaVuSans-48\"/>\r\n      </g>\r\n     </g>\r\n    </g>\r\n    <g id=\"ytick_2\">\r\n     <g id=\"line2d_13\">\r\n      <path clip-path=\"url(#p830283dd11)\" d=\"M 20.5625 132.833387 \r\nL 355.3625 132.833387 \r\n\" style=\"fill:none;stroke:#b0b0b0;stroke-linecap:square;stroke-width:0.8;\"/>\r\n     </g>\r\n     <g id=\"line2d_14\">\r\n      <g>\r\n       <use style=\"stroke:#000000;stroke-width:0.8;\" x=\"20.5625\" xlink:href=\"#mc496d155b6\" y=\"132.833387\"/>\r\n      </g>\r\n     </g>\r\n     <g id=\"text_11\">\r\n      <!-- 2 -->\r\n      <g transform=\"translate(7.2 136.632606)scale(0.1 -0.1)\">\r\n       <use xlink:href=\"#DejaVuSans-50\"/>\r\n      </g>\r\n     </g>\r\n    </g>\r\n    <g id=\"ytick_3\">\r\n     <g id=\"line2d_15\">\r\n      <path clip-path=\"url(#p830283dd11)\" d=\"M 20.5625 86.83754 \r\nL 355.3625 86.83754 \r\n\" style=\"fill:none;stroke:#b0b0b0;stroke-linecap:square;stroke-width:0.8;\"/>\r\n     </g>\r\n     <g id=\"line2d_16\">\r\n      <g>\r\n       <use style=\"stroke:#000000;stroke-width:0.8;\" x=\"20.5625\" xlink:href=\"#mc496d155b6\" y=\"86.83754\"/>\r\n      </g>\r\n     </g>\r\n     <g id=\"text_12\">\r\n      <!-- 4 -->\r\n      <defs>\r\n       <path d=\"M 37.796875 64.3125 \r\nL 12.890625 25.390625 \r\nL 37.796875 25.390625 \r\nz\r\nM 35.203125 72.90625 \r\nL 47.609375 72.90625 \r\nL 47.609375 25.390625 \r\nL 58.015625 25.390625 \r\nL 58.015625 17.1875 \r\nL 47.609375 17.1875 \r\nL 47.609375 0 \r\nL 37.796875 0 \r\nL 37.796875 17.1875 \r\nL 4.890625 17.1875 \r\nL 4.890625 26.703125 \r\nz\r\n\" id=\"DejaVuSans-52\"/>\r\n      </defs>\r\n      <g transform=\"translate(7.2 90.636759)scale(0.1 -0.1)\">\r\n       <use xlink:href=\"#DejaVuSans-52\"/>\r\n      </g>\r\n     </g>\r\n    </g>\r\n    <g id=\"ytick_4\">\r\n     <g id=\"line2d_17\">\r\n      <path clip-path=\"url(#p830283dd11)\" d=\"M 20.5625 40.841694 \r\nL 355.3625 40.841694 \r\n\" style=\"fill:none;stroke:#b0b0b0;stroke-linecap:square;stroke-width:0.8;\"/>\r\n     </g>\r\n     <g id=\"line2d_18\">\r\n      <g>\r\n       <use style=\"stroke:#000000;stroke-width:0.8;\" x=\"20.5625\" xlink:href=\"#mc496d155b6\" y=\"40.841694\"/>\r\n      </g>\r\n     </g>\r\n     <g id=\"text_13\">\r\n      <!-- 6 -->\r\n      <defs>\r\n       <path d=\"M 33.015625 40.375 \r\nQ 26.375 40.375 22.484375 35.828125 \r\nQ 18.609375 31.296875 18.609375 23.390625 \r\nQ 18.609375 15.53125 22.484375 10.953125 \r\nQ 26.375 6.390625 33.015625 6.390625 \r\nQ 39.65625 6.390625 43.53125 10.953125 \r\nQ 47.40625 15.53125 47.40625 23.390625 \r\nQ 47.40625 31.296875 43.53125 35.828125 \r\nQ 39.65625 40.375 33.015625 40.375 \r\nz\r\nM 52.59375 71.296875 \r\nL 52.59375 62.3125 \r\nQ 48.875 64.0625 45.09375 64.984375 \r\nQ 41.3125 65.921875 37.59375 65.921875 \r\nQ 27.828125 65.921875 22.671875 59.328125 \r\nQ 17.53125 52.734375 16.796875 39.40625 \r\nQ 19.671875 43.65625 24.015625 45.921875 \r\nQ 28.375 48.1875 33.59375 48.1875 \r\nQ 44.578125 48.1875 50.953125 41.515625 \r\nQ 57.328125 34.859375 57.328125 23.390625 \r\nQ 57.328125 12.15625 50.6875 5.359375 \r\nQ 44.046875 -1.421875 33.015625 -1.421875 \r\nQ 20.359375 -1.421875 13.671875 8.265625 \r\nQ 6.984375 17.96875 6.984375 36.375 \r\nQ 6.984375 53.65625 15.1875 63.9375 \r\nQ 23.390625 74.21875 37.203125 74.21875 \r\nQ 40.921875 74.21875 44.703125 73.484375 \r\nQ 48.484375 72.75 52.59375 71.296875 \r\nz\r\n\" id=\"DejaVuSans-54\"/>\r\n      </defs>\r\n      <g transform=\"translate(7.2 44.640913)scale(0.1 -0.1)\">\r\n       <use xlink:href=\"#DejaVuSans-54\"/>\r\n      </g>\r\n     </g>\r\n    </g>\r\n   </g>\r\n   <g id=\"line2d_19\">\r\n    <path clip-path=\"url(#p830283dd11)\" d=\"M 20.5625 138.259693 \r\nL 62.4125 95.309738 \r\nL 104.2625 97.683557 \r\nL 146.1125 80.18127 \r\nL 187.9625 45.820554 \r\nL 229.8125 104.534018 \r\nL 271.6625 52.334375 \r\nL 313.5125 17.083636 \r\nL 355.3625 37.500865 \r\n\" style=\"fill:none;stroke:#1f77b4;stroke-linecap:square;stroke-width:2;\"/>\r\n   </g>\r\n   <g id=\"line2d_20\">\r\n    <path clip-path=\"url(#p830283dd11)\" d=\"M 20.5625 169.626449 \r\nL 62.4125 192.10181 \r\nL 104.2625 182.658898 \r\nL 146.1125 179.860625 \r\nL 187.9625 184.578839 \r\nL 229.8125 169.546969 \r\nL 271.6625 202.994359 \r\nL 313.5125 169.202158 \r\nL 355.3625 214.756364 \r\n\" style=\"fill:none;stroke:#ff7f0e;stroke-linecap:square;stroke-width:2;\"/>\r\n   </g>\r\n   <g id=\"line2d_21\">\r\n    <path clip-path=\"url(#p830283dd11)\" d=\"M 20.5625 156.320292 \r\nL 62.4125 134.470232 \r\nL 104.2625 131.157529 \r\nL 146.1125 120.949596 \r\nL 187.9625 113.749689 \r\nL 229.8125 93.869452 \r\nL 271.6625 92.817101 \r\nL 313.5125 89.253632 \r\nL 355.3625 97.254889 \r\n\" style=\"fill:none;stroke:#2ca02c;stroke-linecap:square;stroke-width:2;\"/>\r\n   </g>\r\n   <g id=\"line2d_22\">\r\n    <path clip-path=\"url(#p830283dd11)\" d=\"M 20.5625 127.293344 \r\nL 62.4125 130.774245 \r\nL 104.2625 97.328975 \r\nL 146.1125 89.655158 \r\nL 187.9625 109.297586 \r\nL 229.8125 126.36584 \r\nL 271.6625 130.67068 \r\nL 313.5125 121.973728 \r\nL 355.3625 118.378026 \r\n\" style=\"fill:none;stroke:#d62728;stroke-linecap:square;stroke-width:2;\"/>\r\n   </g>\r\n   <g id=\"patch_3\">\r\n    <path d=\"M 20.5625 224.64 \r\nL 20.5625 7.2 \r\n\" style=\"fill:none;stroke:#000000;stroke-linecap:square;stroke-linejoin:miter;stroke-width:0.8;\"/>\r\n   </g>\r\n   <g id=\"patch_4\">\r\n    <path d=\"M 355.3625 224.64 \r\nL 355.3625 7.2 \r\n\" style=\"fill:none;stroke:#000000;stroke-linecap:square;stroke-linejoin:miter;stroke-width:0.8;\"/>\r\n   </g>\r\n   <g id=\"patch_5\">\r\n    <path d=\"M 20.5625 224.64 \r\nL 355.3625 224.64 \r\n\" style=\"fill:none;stroke:#000000;stroke-linecap:square;stroke-linejoin:miter;stroke-width:0.8;\"/>\r\n   </g>\r\n   <g id=\"patch_6\">\r\n    <path d=\"M 20.5625 7.2 \r\nL 355.3625 7.2 \r\n\" style=\"fill:none;stroke:#000000;stroke-linecap:square;stroke-linejoin:miter;stroke-width:0.8;\"/>\r\n   </g>\r\n   <g id=\"legend_1\">\r\n    <g id=\"patch_7\">\r\n     <path d=\"M 27.5625 73.9125 \r\nL 79.525 73.9125 \r\nQ 81.525 73.9125 81.525 71.9125 \r\nL 81.525 14.2 \r\nQ 81.525 12.2 79.525 12.2 \r\nL 27.5625 12.2 \r\nQ 25.5625 12.2 25.5625 14.2 \r\nL 25.5625 71.9125 \r\nQ 25.5625 73.9125 27.5625 73.9125 \r\nz\r\n\" style=\"fill:#ffffff;opacity:0.8;stroke:#cccccc;stroke-linejoin:miter;\"/>\r\n    </g>\r\n    <g id=\"line2d_23\">\r\n     <path d=\"M 29.5625 20.298437 \r\nL 49.5625 20.298437 \r\n\" style=\"fill:none;stroke:#1f77b4;stroke-linecap:square;stroke-width:2;\"/>\r\n    </g>\r\n    <g id=\"line2d_24\"/>\r\n    <g id=\"text_14\">\r\n     <!-- No1 -->\r\n     <defs>\r\n      <path d=\"M 9.8125 72.90625 \r\nL 23.09375 72.90625 \r\nL 55.421875 11.921875 \r\nL 55.421875 72.90625 \r\nL 64.984375 72.90625 \r\nL 64.984375 0 \r\nL 51.703125 0 \r\nL 19.390625 60.984375 \r\nL 19.390625 0 \r\nL 9.8125 0 \r\nz\r\n\" id=\"DejaVuSans-78\"/>\r\n      <path d=\"M 30.609375 48.390625 \r\nQ 23.390625 48.390625 19.1875 42.75 \r\nQ 14.984375 37.109375 14.984375 27.296875 \r\nQ 14.984375 17.484375 19.15625 11.84375 \r\nQ 23.34375 6.203125 30.609375 6.203125 \r\nQ 37.796875 6.203125 41.984375 11.859375 \r\nQ 46.1875 17.53125 46.1875 27.296875 \r\nQ 46.1875 37.015625 41.984375 42.703125 \r\nQ 37.796875 48.390625 30.609375 48.390625 \r\nz\r\nM 30.609375 56 \r\nQ 42.328125 56 49.015625 48.375 \r\nQ 55.71875 40.765625 55.71875 27.296875 \r\nQ 55.71875 13.875 49.015625 6.21875 \r\nQ 42.328125 -1.421875 30.609375 -1.421875 \r\nQ 18.84375 -1.421875 12.171875 6.21875 \r\nQ 5.515625 13.875 5.515625 27.296875 \r\nQ 5.515625 40.765625 12.171875 48.375 \r\nQ 18.84375 56 30.609375 56 \r\nz\r\n\" id=\"DejaVuSans-111\"/>\r\n     </defs>\r\n     <g transform=\"translate(57.5625 23.798437)scale(0.1 -0.1)\">\r\n      <use xlink:href=\"#DejaVuSans-78\"/>\r\n      <use x=\"74.804688\" xlink:href=\"#DejaVuSans-111\"/>\r\n      <use x=\"135.986328\" xlink:href=\"#DejaVuSans-49\"/>\r\n     </g>\r\n    </g>\r\n    <g id=\"line2d_25\">\r\n     <path d=\"M 29.5625 34.976562 \r\nL 49.5625 34.976562 \r\n\" style=\"fill:none;stroke:#ff7f0e;stroke-linecap:square;stroke-width:2;\"/>\r\n    </g>\r\n    <g id=\"line2d_26\"/>\r\n    <g id=\"text_15\">\r\n     <!-- No2 -->\r\n     <g transform=\"translate(57.5625 38.476562)scale(0.1 -0.1)\">\r\n      <use xlink:href=\"#DejaVuSans-78\"/>\r\n      <use x=\"74.804688\" xlink:href=\"#DejaVuSans-111\"/>\r\n      <use x=\"135.986328\" xlink:href=\"#DejaVuSans-50\"/>\r\n     </g>\r\n    </g>\r\n    <g id=\"line2d_27\">\r\n     <path d=\"M 29.5625 49.654687 \r\nL 49.5625 49.654687 \r\n\" style=\"fill:none;stroke:#2ca02c;stroke-linecap:square;stroke-width:2;\"/>\r\n    </g>\r\n    <g id=\"line2d_28\"/>\r\n    <g id=\"text_16\">\r\n     <!-- No3 -->\r\n     <defs>\r\n      <path d=\"M 40.578125 39.3125 \r\nQ 47.65625 37.796875 51.625 33 \r\nQ 55.609375 28.21875 55.609375 21.1875 \r\nQ 55.609375 10.40625 48.1875 4.484375 \r\nQ 40.765625 -1.421875 27.09375 -1.421875 \r\nQ 22.515625 -1.421875 17.65625 -0.515625 \r\nQ 12.796875 0.390625 7.625 2.203125 \r\nL 7.625 11.71875 \r\nQ 11.71875 9.328125 16.59375 8.109375 \r\nQ 21.484375 6.890625 26.8125 6.890625 \r\nQ 36.078125 6.890625 40.9375 10.546875 \r\nQ 45.796875 14.203125 45.796875 21.1875 \r\nQ 45.796875 27.640625 41.28125 31.265625 \r\nQ 36.765625 34.90625 28.71875 34.90625 \r\nL 20.21875 34.90625 \r\nL 20.21875 43.015625 \r\nL 29.109375 43.015625 \r\nQ 36.375 43.015625 40.234375 45.921875 \r\nQ 44.09375 48.828125 44.09375 54.296875 \r\nQ 44.09375 59.90625 40.109375 62.90625 \r\nQ 36.140625 65.921875 28.71875 65.921875 \r\nQ 24.65625 65.921875 20.015625 65.03125 \r\nQ 15.375 64.15625 9.8125 62.3125 \r\nL 9.8125 71.09375 \r\nQ 15.4375 72.65625 20.34375 73.4375 \r\nQ 25.25 74.21875 29.59375 74.21875 \r\nQ 40.828125 74.21875 47.359375 69.109375 \r\nQ 53.90625 64.015625 53.90625 55.328125 \r\nQ 53.90625 49.265625 50.4375 45.09375 \r\nQ 46.96875 40.921875 40.578125 39.3125 \r\nz\r\n\" id=\"DejaVuSans-51\"/>\r\n     </defs>\r\n     <g transform=\"translate(57.5625 53.154687)scale(0.1 -0.1)\">\r\n      <use xlink:href=\"#DejaVuSans-78\"/>\r\n      <use x=\"74.804688\" xlink:href=\"#DejaVuSans-111\"/>\r\n      <use x=\"135.986328\" xlink:href=\"#DejaVuSans-51\"/>\r\n     </g>\r\n    </g>\r\n    <g id=\"line2d_29\">\r\n     <path d=\"M 29.5625 64.332812 \r\nL 49.5625 64.332812 \r\n\" style=\"fill:none;stroke:#d62728;stroke-linecap:square;stroke-width:2;\"/>\r\n    </g>\r\n    <g id=\"line2d_30\"/>\r\n    <g id=\"text_17\">\r\n     <!-- No4 -->\r\n     <g transform=\"translate(57.5625 67.832812)scale(0.1 -0.1)\">\r\n      <use xlink:href=\"#DejaVuSans-78\"/>\r\n      <use x=\"74.804688\" xlink:href=\"#DejaVuSans-111\"/>\r\n      <use x=\"135.986328\" xlink:href=\"#DejaVuSans-52\"/>\r\n     </g>\r\n    </g>\r\n   </g>\r\n  </g>\r\n </g>\r\n <defs>\r\n  <clipPath id=\"p830283dd11\">\r\n   <rect height=\"217.44\" width=\"334.8\" x=\"20.5625\" y=\"7.2\"/>\r\n  </clipPath>\r\n </defs>\r\n</svg>\r\n",
      "image/png": "[encoded data removed]"
     },
     "metadata": {
      "needs_background": "light"
     }
    }
   ],
   "source": [
    "# 따로 시각화 메서드를 사용할 필요 없이 바로 판다스에서 제공하는 시각화 메서드를 사용 가능하다.\n",
    "\n",
    "%matplotlib inline\n",
    "df.cumsum().plot(lw=2.0, grid=True)\n",
    "# tag: dataframe_plot\n",
    "# title: Line plot of a DataFrame object"
   ]
  },
  {
   "cell_type": "code",
   "execution_count": 32,
   "metadata": {
    "tags": []
   },
   "outputs": [
    {
     "output_type": "stream",
     "name": "stdout",
     "text": "<class 'pandas.core.frame.DataFrame'>\n<class 'pandas.core.series.Series'>\n"
    },
    {
     "output_type": "execute_result",
     "data": {
      "text/plain": "Text(0, 0.5, 'value')"
     },
     "metadata": {},
     "execution_count": 32
    },
    {
     "output_type": "display_data",
     "data": {
      "text/plain": "<Figure size 432x288 with 1 Axes>",
      "image/svg+xml": "<?xml version=\"1.0\" encoding=\"utf-8\" standalone=\"no\"?>\r\n<!DOCTYPE svg PUBLIC \"-//W3C//DTD SVG 1.1//EN\"\r\n  \"http://www.w3.org/Graphics/SVG/1.1/DTD/svg11.dtd\">\r\n<!-- Created with matplotlib (https://matplotlib.org/) -->\r\n<svg height=\"273.394062pt\" version=\"1.1\" viewBox=\"0 0 385.665625 273.394062\" width=\"385.665625pt\" xmlns=\"http://www.w3.org/2000/svg\" xmlns:xlink=\"http://www.w3.org/1999/xlink\">\r\n <defs>\r\n  <style type=\"text/css\">\r\n*{stroke-linecap:butt;stroke-linejoin:round;}\r\n  </style>\r\n </defs>\r\n <g id=\"figure_1\">\r\n  <g id=\"patch_1\">\r\n   <path d=\"M 0 273.394062 \r\nL 385.665625 273.394062 \r\nL 385.665625 0 \r\nL 0 0 \r\nz\r\n\" style=\"fill:none;\"/>\r\n  </g>\r\n  <g id=\"axes_1\">\r\n   <g id=\"patch_2\">\r\n    <path d=\"M 34.240625 224.64 \r\nL 369.040625 224.64 \r\nL 369.040625 7.2 \r\nL 34.240625 7.2 \r\nz\r\n\" style=\"fill:#ffffff;\"/>\r\n   </g>\r\n   <g id=\"matplotlib.axis_1\">\r\n    <g id=\"xtick_1\">\r\n     <g id=\"line2d_1\">\r\n      <path clip-path=\"url(#pdd12885d3a)\" d=\"M 34.240625 224.64 \r\nL 34.240625 7.2 \r\n\" style=\"fill:none;stroke:#b0b0b0;stroke-linecap:square;stroke-width:0.8;\"/>\r\n     </g>\r\n     <g id=\"line2d_2\">\r\n      <defs>\r\n       <path d=\"M 0 0 \r\nL 0 3.5 \r\n\" id=\"md45ebfa173\" style=\"stroke:#000000;stroke-width:0.8;\"/>\r\n      </defs>\r\n      <g>\r\n       <use style=\"stroke:#000000;stroke-width:0.8;\" x=\"34.240625\" xlink:href=\"#md45ebfa173\" y=\"224.64\"/>\r\n      </g>\r\n     </g>\r\n     <g id=\"text_1\">\r\n      <!-- Jan -->\r\n      <defs>\r\n       <path d=\"M 9.8125 72.90625 \r\nL 19.671875 72.90625 \r\nL 19.671875 5.078125 \r\nQ 19.671875 -8.109375 14.671875 -14.0625 \r\nQ 9.671875 -20.015625 -1.421875 -20.015625 \r\nL -5.171875 -20.015625 \r\nL -5.171875 -11.71875 \r\nL -2.09375 -11.71875 \r\nQ 4.4375 -11.71875 7.125 -8.046875 \r\nQ 9.8125 -4.390625 9.8125 5.078125 \r\nz\r\n\" id=\"DejaVuSans-74\"/>\r\n       <path d=\"M 34.28125 27.484375 \r\nQ 23.390625 27.484375 19.1875 25 \r\nQ 14.984375 22.515625 14.984375 16.5 \r\nQ 14.984375 11.71875 18.140625 8.90625 \r\nQ 21.296875 6.109375 26.703125 6.109375 \r\nQ 34.1875 6.109375 38.703125 11.40625 \r\nQ 43.21875 16.703125 43.21875 25.484375 \r\nL 43.21875 27.484375 \r\nz\r\nM 52.203125 31.203125 \r\nL 52.203125 0 \r\nL 43.21875 0 \r\nL 43.21875 8.296875 \r\nQ 40.140625 3.328125 35.546875 0.953125 \r\nQ 30.953125 -1.421875 24.3125 -1.421875 \r\nQ 15.921875 -1.421875 10.953125 3.296875 \r\nQ 6 8.015625 6 15.921875 \r\nQ 6 25.140625 12.171875 29.828125 \r\nQ 18.359375 34.515625 30.609375 34.515625 \r\nL 43.21875 34.515625 \r\nL 43.21875 35.40625 \r\nQ 43.21875 41.609375 39.140625 45 \r\nQ 35.0625 48.390625 27.6875 48.390625 \r\nQ 23 48.390625 18.546875 47.265625 \r\nQ 14.109375 46.140625 10.015625 43.890625 \r\nL 10.015625 52.203125 \r\nQ 14.9375 54.109375 19.578125 55.046875 \r\nQ 24.21875 56 28.609375 56 \r\nQ 40.484375 56 46.34375 49.84375 \r\nQ 52.203125 43.703125 52.203125 31.203125 \r\nz\r\n\" id=\"DejaVuSans-97\"/>\r\n       <path d=\"M 54.890625 33.015625 \r\nL 54.890625 0 \r\nL 45.90625 0 \r\nL 45.90625 32.71875 \r\nQ 45.90625 40.484375 42.875 44.328125 \r\nQ 39.84375 48.1875 33.796875 48.1875 \r\nQ 26.515625 48.1875 22.3125 43.546875 \r\nQ 18.109375 38.921875 18.109375 30.90625 \r\nL 18.109375 0 \r\nL 9.078125 0 \r\nL 9.078125 54.6875 \r\nL 18.109375 54.6875 \r\nL 18.109375 46.1875 \r\nQ 21.34375 51.125 25.703125 53.5625 \r\nQ 30.078125 56 35.796875 56 \r\nQ 45.21875 56 50.046875 50.171875 \r\nQ 54.890625 44.34375 54.890625 33.015625 \r\nz\r\n\" id=\"DejaVuSans-110\"/>\r\n      </defs>\r\n      <g transform=\"translate(26.532812 239.238437)scale(0.1 -0.1)\">\r\n       <use xlink:href=\"#DejaVuSans-74\"/>\r\n       <use x=\"29.492188\" xlink:href=\"#DejaVuSans-97\"/>\r\n       <use x=\"90.771484\" xlink:href=\"#DejaVuSans-110\"/>\r\n      </g>\r\n      <!-- 2015 -->\r\n      <defs>\r\n       <path d=\"M 19.1875 8.296875 \r\nL 53.609375 8.296875 \r\nL 53.609375 0 \r\nL 7.328125 0 \r\nL 7.328125 8.296875 \r\nQ 12.9375 14.109375 22.625 23.890625 \r\nQ 32.328125 33.6875 34.8125 36.53125 \r\nQ 39.546875 41.84375 41.421875 45.53125 \r\nQ 43.3125 49.21875 43.3125 52.78125 \r\nQ 43.3125 58.59375 39.234375 62.25 \r\nQ 35.15625 65.921875 28.609375 65.921875 \r\nQ 23.96875 65.921875 18.8125 64.3125 \r\nQ 13.671875 62.703125 7.8125 59.421875 \r\nL 7.8125 69.390625 \r\nQ 13.765625 71.78125 18.9375 73 \r\nQ 24.125 74.21875 28.421875 74.21875 \r\nQ 39.75 74.21875 46.484375 68.546875 \r\nQ 53.21875 62.890625 53.21875 53.421875 \r\nQ 53.21875 48.921875 51.53125 44.890625 \r\nQ 49.859375 40.875 45.40625 35.40625 \r\nQ 44.1875 33.984375 37.640625 27.21875 \r\nQ 31.109375 20.453125 19.1875 8.296875 \r\nz\r\n\" id=\"DejaVuSans-50\"/>\r\n       <path d=\"M 31.78125 66.40625 \r\nQ 24.171875 66.40625 20.328125 58.90625 \r\nQ 16.5 51.421875 16.5 36.375 \r\nQ 16.5 21.390625 20.328125 13.890625 \r\nQ 24.171875 6.390625 31.78125 6.390625 \r\nQ 39.453125 6.390625 43.28125 13.890625 \r\nQ 47.125 21.390625 47.125 36.375 \r\nQ 47.125 51.421875 43.28125 58.90625 \r\nQ 39.453125 66.40625 31.78125 66.40625 \r\nz\r\nM 31.78125 74.21875 \r\nQ 44.046875 74.21875 50.515625 64.515625 \r\nQ 56.984375 54.828125 56.984375 36.375 \r\nQ 56.984375 17.96875 50.515625 8.265625 \r\nQ 44.046875 -1.421875 31.78125 -1.421875 \r\nQ 19.53125 -1.421875 13.0625 8.265625 \r\nQ 6.59375 17.96875 6.59375 36.375 \r\nQ 6.59375 54.828125 13.0625 64.515625 \r\nQ 19.53125 74.21875 31.78125 74.21875 \r\nz\r\n\" id=\"DejaVuSans-48\"/>\r\n       <path d=\"M 12.40625 8.296875 \r\nL 28.515625 8.296875 \r\nL 28.515625 63.921875 \r\nL 10.984375 60.40625 \r\nL 10.984375 69.390625 \r\nL 28.421875 72.90625 \r\nL 38.28125 72.90625 \r\nL 38.28125 8.296875 \r\nL 54.390625 8.296875 \r\nL 54.390625 0 \r\nL 12.40625 0 \r\nz\r\n\" id=\"DejaVuSans-49\"/>\r\n       <path d=\"M 10.796875 72.90625 \r\nL 49.515625 72.90625 \r\nL 49.515625 64.59375 \r\nL 19.828125 64.59375 \r\nL 19.828125 46.734375 \r\nQ 21.96875 47.46875 24.109375 47.828125 \r\nQ 26.265625 48.1875 28.421875 48.1875 \r\nQ 40.625 48.1875 47.75 41.5 \r\nQ 54.890625 34.8125 54.890625 23.390625 \r\nQ 54.890625 11.625 47.5625 5.09375 \r\nQ 40.234375 -1.421875 26.90625 -1.421875 \r\nQ 22.3125 -1.421875 17.546875 -0.640625 \r\nQ 12.796875 0.140625 7.71875 1.703125 \r\nL 7.71875 11.625 \r\nQ 12.109375 9.234375 16.796875 8.0625 \r\nQ 21.484375 6.890625 26.703125 6.890625 \r\nQ 35.15625 6.890625 40.078125 11.328125 \r\nQ 45.015625 15.765625 45.015625 23.390625 \r\nQ 45.015625 31 40.078125 35.4375 \r\nQ 35.15625 39.890625 26.703125 39.890625 \r\nQ 22.75 39.890625 18.8125 39.015625 \r\nQ 14.890625 38.140625 10.796875 36.28125 \r\nz\r\n\" id=\"DejaVuSans-53\"/>\r\n      </defs>\r\n      <g transform=\"translate(21.515625 250.43625)scale(0.1 -0.1)\">\r\n       <use xlink:href=\"#DejaVuSans-50\"/>\r\n       <use x=\"63.623047\" xlink:href=\"#DejaVuSans-48\"/>\r\n       <use x=\"127.246094\" xlink:href=\"#DejaVuSans-49\"/>\r\n       <use x=\"190.869141\" xlink:href=\"#DejaVuSans-53\"/>\r\n      </g>\r\n     </g>\r\n    </g>\r\n    <g id=\"xtick_2\">\r\n     <g id=\"line2d_3\">\r\n      <defs>\r\n       <path d=\"M 0 0 \r\nL 0 2 \r\n\" id=\"m3c32b9eb5a\" style=\"stroke:#000000;stroke-width:0.6;\"/>\r\n      </defs>\r\n      <g>\r\n       <use style=\"stroke:#000000;stroke-width:0.6;\" x=\"76.090625\" xlink:href=\"#m3c32b9eb5a\" y=\"224.64\"/>\r\n      </g>\r\n     </g>\r\n     <g id=\"text_2\">\r\n      <!-- Feb -->\r\n      <defs>\r\n       <path d=\"M 9.8125 72.90625 \r\nL 51.703125 72.90625 \r\nL 51.703125 64.59375 \r\nL 19.671875 64.59375 \r\nL 19.671875 43.109375 \r\nL 48.578125 43.109375 \r\nL 48.578125 34.8125 \r\nL 19.671875 34.8125 \r\nL 19.671875 0 \r\nL 9.8125 0 \r\nz\r\n\" id=\"DejaVuSans-70\"/>\r\n       <path d=\"M 56.203125 29.59375 \r\nL 56.203125 25.203125 \r\nL 14.890625 25.203125 \r\nQ 15.484375 15.921875 20.484375 11.0625 \r\nQ 25.484375 6.203125 34.421875 6.203125 \r\nQ 39.59375 6.203125 44.453125 7.46875 \r\nQ 49.3125 8.734375 54.109375 11.28125 \r\nL 54.109375 2.78125 \r\nQ 49.265625 0.734375 44.1875 -0.34375 \r\nQ 39.109375 -1.421875 33.890625 -1.421875 \r\nQ 20.796875 -1.421875 13.15625 6.1875 \r\nQ 5.515625 13.8125 5.515625 26.8125 \r\nQ 5.515625 40.234375 12.765625 48.109375 \r\nQ 20.015625 56 32.328125 56 \r\nQ 43.359375 56 49.78125 48.890625 \r\nQ 56.203125 41.796875 56.203125 29.59375 \r\nz\r\nM 47.21875 32.234375 \r\nQ 47.125 39.59375 43.09375 43.984375 \r\nQ 39.0625 48.390625 32.421875 48.390625 \r\nQ 24.90625 48.390625 20.390625 44.140625 \r\nQ 15.875 39.890625 15.1875 32.171875 \r\nz\r\n\" id=\"DejaVuSans-101\"/>\r\n       <path d=\"M 48.6875 27.296875 \r\nQ 48.6875 37.203125 44.609375 42.84375 \r\nQ 40.53125 48.484375 33.40625 48.484375 \r\nQ 26.265625 48.484375 22.1875 42.84375 \r\nQ 18.109375 37.203125 18.109375 27.296875 \r\nQ 18.109375 17.390625 22.1875 11.75 \r\nQ 26.265625 6.109375 33.40625 6.109375 \r\nQ 40.53125 6.109375 44.609375 11.75 \r\nQ 48.6875 17.390625 48.6875 27.296875 \r\nz\r\nM 18.109375 46.390625 \r\nQ 20.953125 51.265625 25.265625 53.625 \r\nQ 29.59375 56 35.59375 56 \r\nQ 45.5625 56 51.78125 48.09375 \r\nQ 58.015625 40.1875 58.015625 27.296875 \r\nQ 58.015625 14.40625 51.78125 6.484375 \r\nQ 45.5625 -1.421875 35.59375 -1.421875 \r\nQ 29.59375 -1.421875 25.265625 0.953125 \r\nQ 20.953125 3.328125 18.109375 8.203125 \r\nL 18.109375 0 \r\nL 9.078125 0 \r\nL 9.078125 75.984375 \r\nL 18.109375 75.984375 \r\nz\r\n\" id=\"DejaVuSans-98\"/>\r\n      </defs>\r\n      <g transform=\"translate(67.239063 237.638437)scale(0.1 -0.1)\">\r\n       <use xlink:href=\"#DejaVuSans-70\"/>\r\n       <use x=\"52.019531\" xlink:href=\"#DejaVuSans-101\"/>\r\n       <use x=\"113.542969\" xlink:href=\"#DejaVuSans-98\"/>\r\n      </g>\r\n     </g>\r\n    </g>\r\n    <g id=\"xtick_3\">\r\n     <g id=\"line2d_4\">\r\n      <g>\r\n       <use style=\"stroke:#000000;stroke-width:0.6;\" x=\"117.940625\" xlink:href=\"#m3c32b9eb5a\" y=\"224.64\"/>\r\n      </g>\r\n     </g>\r\n     <g id=\"text_3\">\r\n      <!-- Mar -->\r\n      <defs>\r\n       <path d=\"M 9.8125 72.90625 \r\nL 24.515625 72.90625 \r\nL 43.109375 23.296875 \r\nL 61.8125 72.90625 \r\nL 76.515625 72.90625 \r\nL 76.515625 0 \r\nL 66.890625 0 \r\nL 66.890625 64.015625 \r\nL 48.09375 14.015625 \r\nL 38.1875 14.015625 \r\nL 19.390625 64.015625 \r\nL 19.390625 0 \r\nL 9.8125 0 \r\nz\r\n\" id=\"DejaVuSans-77\"/>\r\n       <path d=\"M 41.109375 46.296875 \r\nQ 39.59375 47.171875 37.8125 47.578125 \r\nQ 36.03125 48 33.890625 48 \r\nQ 26.265625 48 22.1875 43.046875 \r\nQ 18.109375 38.09375 18.109375 28.8125 \r\nL 18.109375 0 \r\nL 9.078125 0 \r\nL 9.078125 54.6875 \r\nL 18.109375 54.6875 \r\nL 18.109375 46.1875 \r\nQ 20.953125 51.171875 25.484375 53.578125 \r\nQ 30.03125 56 36.53125 56 \r\nQ 37.453125 56 38.578125 55.875 \r\nQ 39.703125 55.765625 41.0625 55.515625 \r\nz\r\n\" id=\"DejaVuSans-114\"/>\r\n      </defs>\r\n      <g transform=\"translate(108.507031 237.638437)scale(0.1 -0.1)\">\r\n       <use xlink:href=\"#DejaVuSans-77\"/>\r\n       <use x=\"86.279297\" xlink:href=\"#DejaVuSans-97\"/>\r\n       <use x=\"147.558594\" xlink:href=\"#DejaVuSans-114\"/>\r\n      </g>\r\n     </g>\r\n    </g>\r\n    <g id=\"xtick_4\">\r\n     <g id=\"line2d_5\">\r\n      <g>\r\n       <use style=\"stroke:#000000;stroke-width:0.6;\" x=\"159.790625\" xlink:href=\"#m3c32b9eb5a\" y=\"224.64\"/>\r\n      </g>\r\n     </g>\r\n     <g id=\"text_4\">\r\n      <!-- Apr -->\r\n      <defs>\r\n       <path d=\"M 34.1875 63.1875 \r\nL 20.796875 26.90625 \r\nL 47.609375 26.90625 \r\nz\r\nM 28.609375 72.90625 \r\nL 39.796875 72.90625 \r\nL 67.578125 0 \r\nL 57.328125 0 \r\nL 50.6875 18.703125 \r\nL 17.828125 18.703125 \r\nL 11.1875 0 \r\nL 0.78125 0 \r\nz\r\n\" id=\"DejaVuSans-65\"/>\r\n       <path d=\"M 18.109375 8.203125 \r\nL 18.109375 -20.796875 \r\nL 9.078125 -20.796875 \r\nL 9.078125 54.6875 \r\nL 18.109375 54.6875 \r\nL 18.109375 46.390625 \r\nQ 20.953125 51.265625 25.265625 53.625 \r\nQ 29.59375 56 35.59375 56 \r\nQ 45.5625 56 51.78125 48.09375 \r\nQ 58.015625 40.1875 58.015625 27.296875 \r\nQ 58.015625 14.40625 51.78125 6.484375 \r\nQ 45.5625 -1.421875 35.59375 -1.421875 \r\nQ 29.59375 -1.421875 25.265625 0.953125 \r\nQ 20.953125 3.328125 18.109375 8.203125 \r\nz\r\nM 48.6875 27.296875 \r\nQ 48.6875 37.203125 44.609375 42.84375 \r\nQ 40.53125 48.484375 33.40625 48.484375 \r\nQ 26.265625 48.484375 22.1875 42.84375 \r\nQ 18.109375 37.203125 18.109375 27.296875 \r\nQ 18.109375 17.390625 22.1875 11.75 \r\nQ 26.265625 6.109375 33.40625 6.109375 \r\nQ 40.53125 6.109375 44.609375 11.75 \r\nQ 48.6875 17.390625 48.6875 27.296875 \r\nz\r\n\" id=\"DejaVuSans-112\"/>\r\n      </defs>\r\n      <g transform=\"translate(151.140625 237.638437)scale(0.1 -0.1)\">\r\n       <use xlink:href=\"#DejaVuSans-65\"/>\r\n       <use x=\"68.408203\" xlink:href=\"#DejaVuSans-112\"/>\r\n       <use x=\"131.884766\" xlink:href=\"#DejaVuSans-114\"/>\r\n      </g>\r\n     </g>\r\n    </g>\r\n    <g id=\"xtick_5\">\r\n     <g id=\"line2d_6\">\r\n      <g>\r\n       <use style=\"stroke:#000000;stroke-width:0.6;\" x=\"201.640625\" xlink:href=\"#m3c32b9eb5a\" y=\"224.64\"/>\r\n      </g>\r\n     </g>\r\n     <g id=\"text_5\">\r\n      <!-- May -->\r\n      <defs>\r\n       <path d=\"M 32.171875 -5.078125 \r\nQ 28.375 -14.84375 24.75 -17.8125 \r\nQ 21.140625 -20.796875 15.09375 -20.796875 \r\nL 7.90625 -20.796875 \r\nL 7.90625 -13.28125 \r\nL 13.1875 -13.28125 \r\nQ 16.890625 -13.28125 18.9375 -11.515625 \r\nQ 21 -9.765625 23.484375 -3.21875 \r\nL 25.09375 0.875 \r\nL 2.984375 54.6875 \r\nL 12.5 54.6875 \r\nL 29.59375 11.921875 \r\nL 46.6875 54.6875 \r\nL 56.203125 54.6875 \r\nz\r\n\" id=\"DejaVuSans-121\"/>\r\n      </defs>\r\n      <g transform=\"translate(191.303125 237.638437)scale(0.1 -0.1)\">\r\n       <use xlink:href=\"#DejaVuSans-77\"/>\r\n       <use x=\"86.279297\" xlink:href=\"#DejaVuSans-97\"/>\r\n       <use x=\"147.558594\" xlink:href=\"#DejaVuSans-121\"/>\r\n      </g>\r\n     </g>\r\n    </g>\r\n    <g id=\"xtick_6\">\r\n     <g id=\"line2d_7\">\r\n      <g>\r\n       <use style=\"stroke:#000000;stroke-width:0.6;\" x=\"243.490625\" xlink:href=\"#m3c32b9eb5a\" y=\"224.64\"/>\r\n      </g>\r\n     </g>\r\n     <g id=\"text_6\">\r\n      <!-- Jun -->\r\n      <defs>\r\n       <path d=\"M 8.5 21.578125 \r\nL 8.5 54.6875 \r\nL 17.484375 54.6875 \r\nL 17.484375 21.921875 \r\nQ 17.484375 14.15625 20.5 10.265625 \r\nQ 23.53125 6.390625 29.59375 6.390625 \r\nQ 36.859375 6.390625 41.078125 11.03125 \r\nQ 45.3125 15.671875 45.3125 23.6875 \r\nL 45.3125 54.6875 \r\nL 54.296875 54.6875 \r\nL 54.296875 0 \r\nL 45.3125 0 \r\nL 45.3125 8.40625 \r\nQ 42.046875 3.421875 37.71875 1 \r\nQ 33.40625 -1.421875 27.6875 -1.421875 \r\nQ 18.265625 -1.421875 13.375 4.4375 \r\nQ 8.5 10.296875 8.5 21.578125 \r\nz\r\nM 31.109375 56 \r\nz\r\n\" id=\"DejaVuSans-117\"/>\r\n      </defs>\r\n      <g transform=\"translate(235.678125 237.638437)scale(0.1 -0.1)\">\r\n       <use xlink:href=\"#DejaVuSans-74\"/>\r\n       <use x=\"29.492188\" xlink:href=\"#DejaVuSans-117\"/>\r\n       <use x=\"92.871094\" xlink:href=\"#DejaVuSans-110\"/>\r\n      </g>\r\n     </g>\r\n    </g>\r\n    <g id=\"xtick_7\">\r\n     <g id=\"line2d_8\">\r\n      <g>\r\n       <use style=\"stroke:#000000;stroke-width:0.6;\" x=\"285.340625\" xlink:href=\"#m3c32b9eb5a\" y=\"224.64\"/>\r\n      </g>\r\n     </g>\r\n     <g id=\"text_7\">\r\n      <!-- Jul -->\r\n      <defs>\r\n       <path d=\"M 9.421875 75.984375 \r\nL 18.40625 75.984375 \r\nL 18.40625 0 \r\nL 9.421875 0 \r\nz\r\n\" id=\"DejaVuSans-108\"/>\r\n      </defs>\r\n      <g transform=\"translate(279.307813 237.638437)scale(0.1 -0.1)\">\r\n       <use xlink:href=\"#DejaVuSans-74\"/>\r\n       <use x=\"29.492188\" xlink:href=\"#DejaVuSans-117\"/>\r\n       <use x=\"92.871094\" xlink:href=\"#DejaVuSans-108\"/>\r\n      </g>\r\n     </g>\r\n    </g>\r\n    <g id=\"xtick_8\">\r\n     <g id=\"line2d_9\">\r\n      <g>\r\n       <use style=\"stroke:#000000;stroke-width:0.6;\" x=\"327.190625\" xlink:href=\"#m3c32b9eb5a\" y=\"224.64\"/>\r\n      </g>\r\n     </g>\r\n     <g id=\"text_8\">\r\n      <!-- Aug -->\r\n      <defs>\r\n       <path d=\"M 45.40625 27.984375 \r\nQ 45.40625 37.75 41.375 43.109375 \r\nQ 37.359375 48.484375 30.078125 48.484375 \r\nQ 22.859375 48.484375 18.828125 43.109375 \r\nQ 14.796875 37.75 14.796875 27.984375 \r\nQ 14.796875 18.265625 18.828125 12.890625 \r\nQ 22.859375 7.515625 30.078125 7.515625 \r\nQ 37.359375 7.515625 41.375 12.890625 \r\nQ 45.40625 18.265625 45.40625 27.984375 \r\nz\r\nM 54.390625 6.78125 \r\nQ 54.390625 -7.171875 48.1875 -13.984375 \r\nQ 42 -20.796875 29.203125 -20.796875 \r\nQ 24.46875 -20.796875 20.265625 -20.09375 \r\nQ 16.0625 -19.390625 12.109375 -17.921875 \r\nL 12.109375 -9.1875 \r\nQ 16.0625 -11.328125 19.921875 -12.34375 \r\nQ 23.78125 -13.375 27.78125 -13.375 \r\nQ 36.625 -13.375 41.015625 -8.765625 \r\nQ 45.40625 -4.15625 45.40625 5.171875 \r\nL 45.40625 9.625 \r\nQ 42.625 4.78125 38.28125 2.390625 \r\nQ 33.9375 0 27.875 0 \r\nQ 17.828125 0 11.671875 7.65625 \r\nQ 5.515625 15.328125 5.515625 27.984375 \r\nQ 5.515625 40.671875 11.671875 48.328125 \r\nQ 17.828125 56 27.875 56 \r\nQ 33.9375 56 38.28125 53.609375 \r\nQ 42.625 51.21875 45.40625 46.390625 \r\nL 45.40625 54.6875 \r\nL 54.390625 54.6875 \r\nz\r\n\" id=\"DejaVuSans-103\"/>\r\n      </defs>\r\n      <g transform=\"translate(317.427344 237.638437)scale(0.1 -0.1)\">\r\n       <use xlink:href=\"#DejaVuSans-65\"/>\r\n       <use x=\"68.408203\" xlink:href=\"#DejaVuSans-117\"/>\r\n       <use x=\"131.787109\" xlink:href=\"#DejaVuSans-103\"/>\r\n      </g>\r\n     </g>\r\n    </g>\r\n    <g id=\"xtick_9\">\r\n     <g id=\"line2d_10\">\r\n      <g>\r\n       <use style=\"stroke:#000000;stroke-width:0.6;\" x=\"369.040625\" xlink:href=\"#m3c32b9eb5a\" y=\"224.64\"/>\r\n      </g>\r\n     </g>\r\n     <g id=\"text_9\">\r\n      <!-- Sep -->\r\n      <defs>\r\n       <path d=\"M 53.515625 70.515625 \r\nL 53.515625 60.890625 \r\nQ 47.90625 63.578125 42.921875 64.890625 \r\nQ 37.9375 66.21875 33.296875 66.21875 \r\nQ 25.25 66.21875 20.875 63.09375 \r\nQ 16.5 59.96875 16.5 54.203125 \r\nQ 16.5 49.359375 19.40625 46.890625 \r\nQ 22.3125 44.4375 30.421875 42.921875 \r\nL 36.375 41.703125 \r\nQ 47.40625 39.59375 52.65625 34.296875 \r\nQ 57.90625 29 57.90625 20.125 \r\nQ 57.90625 9.515625 50.796875 4.046875 \r\nQ 43.703125 -1.421875 29.984375 -1.421875 \r\nQ 24.8125 -1.421875 18.96875 -0.25 \r\nQ 13.140625 0.921875 6.890625 3.21875 \r\nL 6.890625 13.375 \r\nQ 12.890625 10.015625 18.65625 8.296875 \r\nQ 24.421875 6.59375 29.984375 6.59375 \r\nQ 38.421875 6.59375 43.015625 9.90625 \r\nQ 47.609375 13.234375 47.609375 19.390625 \r\nQ 47.609375 24.75 44.3125 27.78125 \r\nQ 41.015625 30.8125 33.5 32.328125 \r\nL 27.484375 33.5 \r\nQ 16.453125 35.6875 11.515625 40.375 \r\nQ 6.59375 45.0625 6.59375 53.421875 \r\nQ 6.59375 63.09375 13.40625 68.65625 \r\nQ 20.21875 74.21875 32.171875 74.21875 \r\nQ 37.3125 74.21875 42.625 73.28125 \r\nQ 47.953125 72.359375 53.515625 70.515625 \r\nz\r\n\" id=\"DejaVuSans-83\"/>\r\n      </defs>\r\n      <g transform=\"translate(359.615625 237.638437)scale(0.1 -0.1)\">\r\n       <use xlink:href=\"#DejaVuSans-83\"/>\r\n       <use x=\"63.476562\" xlink:href=\"#DejaVuSans-101\"/>\r\n       <use x=\"125\" xlink:href=\"#DejaVuSans-112\"/>\r\n      </g>\r\n     </g>\r\n    </g>\r\n    <g id=\"text_10\">\r\n     <!-- date -->\r\n     <defs>\r\n      <path d=\"M 45.40625 46.390625 \r\nL 45.40625 75.984375 \r\nL 54.390625 75.984375 \r\nL 54.390625 0 \r\nL 45.40625 0 \r\nL 45.40625 8.203125 \r\nQ 42.578125 3.328125 38.25 0.953125 \r\nQ 33.9375 -1.421875 27.875 -1.421875 \r\nQ 17.96875 -1.421875 11.734375 6.484375 \r\nQ 5.515625 14.40625 5.515625 27.296875 \r\nQ 5.515625 40.1875 11.734375 48.09375 \r\nQ 17.96875 56 27.875 56 \r\nQ 33.9375 56 38.25 53.625 \r\nQ 42.578125 51.265625 45.40625 46.390625 \r\nz\r\nM 14.796875 27.296875 \r\nQ 14.796875 17.390625 18.875 11.75 \r\nQ 22.953125 6.109375 30.078125 6.109375 \r\nQ 37.203125 6.109375 41.296875 11.75 \r\nQ 45.40625 17.390625 45.40625 27.296875 \r\nQ 45.40625 37.203125 41.296875 42.84375 \r\nQ 37.203125 48.484375 30.078125 48.484375 \r\nQ 22.953125 48.484375 18.875 42.84375 \r\nQ 14.796875 37.203125 14.796875 27.296875 \r\nz\r\n\" id=\"DejaVuSans-100\"/>\r\n      <path d=\"M 18.3125 70.21875 \r\nL 18.3125 54.6875 \r\nL 36.8125 54.6875 \r\nL 36.8125 47.703125 \r\nL 18.3125 47.703125 \r\nL 18.3125 18.015625 \r\nQ 18.3125 11.328125 20.140625 9.421875 \r\nQ 21.96875 7.515625 27.59375 7.515625 \r\nL 36.8125 7.515625 \r\nL 36.8125 0 \r\nL 27.59375 0 \r\nQ 17.1875 0 13.234375 3.875 \r\nQ 9.28125 7.765625 9.28125 18.015625 \r\nL 9.28125 47.703125 \r\nL 2.6875 47.703125 \r\nL 2.6875 54.6875 \r\nL 9.28125 54.6875 \r\nL 9.28125 70.21875 \r\nz\r\n\" id=\"DejaVuSans-116\"/>\r\n     </defs>\r\n     <g transform=\"translate(190.365625 264.114375)scale(0.1 -0.1)\">\r\n      <use xlink:href=\"#DejaVuSans-100\"/>\r\n      <use x=\"63.476562\" xlink:href=\"#DejaVuSans-97\"/>\r\n      <use x=\"124.755859\" xlink:href=\"#DejaVuSans-116\"/>\r\n      <use x=\"163.964844\" xlink:href=\"#DejaVuSans-101\"/>\r\n     </g>\r\n    </g>\r\n   </g>\r\n   <g id=\"matplotlib.axis_2\">\r\n    <g id=\"ytick_1\">\r\n     <g id=\"line2d_11\">\r\n      <path clip-path=\"url(#pdd12885d3a)\" d=\"M 34.240625 205.90451 \r\nL 369.040625 205.90451 \r\n\" style=\"fill:none;stroke:#b0b0b0;stroke-linecap:square;stroke-width:0.8;\"/>\r\n     </g>\r\n     <g id=\"line2d_12\">\r\n      <defs>\r\n       <path d=\"M 0 0 \r\nL -3.5 0 \r\n\" id=\"m56a6fb04d6\" style=\"stroke:#000000;stroke-width:0.8;\"/>\r\n      </defs>\r\n      <g>\r\n       <use style=\"stroke:#000000;stroke-width:0.8;\" x=\"34.240625\" xlink:href=\"#m56a6fb04d6\" y=\"205.90451\"/>\r\n      </g>\r\n     </g>\r\n     <g id=\"text_11\">\r\n      <!-- 2 -->\r\n      <g transform=\"translate(20.878125 209.703729)scale(0.1 -0.1)\">\r\n       <use xlink:href=\"#DejaVuSans-50\"/>\r\n      </g>\r\n     </g>\r\n    </g>\r\n    <g id=\"ytick_2\">\r\n     <g id=\"line2d_13\">\r\n      <path clip-path=\"url(#pdd12885d3a)\" d=\"M 34.240625 168.388335 \r\nL 369.040625 168.388335 \r\n\" style=\"fill:none;stroke:#b0b0b0;stroke-linecap:square;stroke-width:0.8;\"/>\r\n     </g>\r\n     <g id=\"line2d_14\">\r\n      <g>\r\n       <use style=\"stroke:#000000;stroke-width:0.8;\" x=\"34.240625\" xlink:href=\"#m56a6fb04d6\" y=\"168.388335\"/>\r\n      </g>\r\n     </g>\r\n     <g id=\"text_12\">\r\n      <!-- 3 -->\r\n      <defs>\r\n       <path d=\"M 40.578125 39.3125 \r\nQ 47.65625 37.796875 51.625 33 \r\nQ 55.609375 28.21875 55.609375 21.1875 \r\nQ 55.609375 10.40625 48.1875 4.484375 \r\nQ 40.765625 -1.421875 27.09375 -1.421875 \r\nQ 22.515625 -1.421875 17.65625 -0.515625 \r\nQ 12.796875 0.390625 7.625 2.203125 \r\nL 7.625 11.71875 \r\nQ 11.71875 9.328125 16.59375 8.109375 \r\nQ 21.484375 6.890625 26.8125 6.890625 \r\nQ 36.078125 6.890625 40.9375 10.546875 \r\nQ 45.796875 14.203125 45.796875 21.1875 \r\nQ 45.796875 27.640625 41.28125 31.265625 \r\nQ 36.765625 34.90625 28.71875 34.90625 \r\nL 20.21875 34.90625 \r\nL 20.21875 43.015625 \r\nL 29.109375 43.015625 \r\nQ 36.375 43.015625 40.234375 45.921875 \r\nQ 44.09375 48.828125 44.09375 54.296875 \r\nQ 44.09375 59.90625 40.109375 62.90625 \r\nQ 36.140625 65.921875 28.71875 65.921875 \r\nQ 24.65625 65.921875 20.015625 65.03125 \r\nQ 15.375 64.15625 9.8125 62.3125 \r\nL 9.8125 71.09375 \r\nQ 15.4375 72.65625 20.34375 73.4375 \r\nQ 25.25 74.21875 29.59375 74.21875 \r\nQ 40.828125 74.21875 47.359375 69.109375 \r\nQ 53.90625 64.015625 53.90625 55.328125 \r\nQ 53.90625 49.265625 50.4375 45.09375 \r\nQ 46.96875 40.921875 40.578125 39.3125 \r\nz\r\n\" id=\"DejaVuSans-51\"/>\r\n      </defs>\r\n      <g transform=\"translate(20.878125 172.187553)scale(0.1 -0.1)\">\r\n       <use xlink:href=\"#DejaVuSans-51\"/>\r\n      </g>\r\n     </g>\r\n    </g>\r\n    <g id=\"ytick_3\">\r\n     <g id=\"line2d_15\">\r\n      <path clip-path=\"url(#pdd12885d3a)\" d=\"M 34.240625 130.872159 \r\nL 369.040625 130.872159 \r\n\" style=\"fill:none;stroke:#b0b0b0;stroke-linecap:square;stroke-width:0.8;\"/>\r\n     </g>\r\n     <g id=\"line2d_16\">\r\n      <g>\r\n       <use style=\"stroke:#000000;stroke-width:0.8;\" x=\"34.240625\" xlink:href=\"#m56a6fb04d6\" y=\"130.872159\"/>\r\n      </g>\r\n     </g>\r\n     <g id=\"text_13\">\r\n      <!-- 4 -->\r\n      <defs>\r\n       <path d=\"M 37.796875 64.3125 \r\nL 12.890625 25.390625 \r\nL 37.796875 25.390625 \r\nz\r\nM 35.203125 72.90625 \r\nL 47.609375 72.90625 \r\nL 47.609375 25.390625 \r\nL 58.015625 25.390625 \r\nL 58.015625 17.1875 \r\nL 47.609375 17.1875 \r\nL 47.609375 0 \r\nL 37.796875 0 \r\nL 37.796875 17.1875 \r\nL 4.890625 17.1875 \r\nL 4.890625 26.703125 \r\nz\r\n\" id=\"DejaVuSans-52\"/>\r\n      </defs>\r\n      <g transform=\"translate(20.878125 134.671378)scale(0.1 -0.1)\">\r\n       <use xlink:href=\"#DejaVuSans-52\"/>\r\n      </g>\r\n     </g>\r\n    </g>\r\n    <g id=\"ytick_4\">\r\n     <g id=\"line2d_17\">\r\n      <path clip-path=\"url(#pdd12885d3a)\" d=\"M 34.240625 93.355983 \r\nL 369.040625 93.355983 \r\n\" style=\"fill:none;stroke:#b0b0b0;stroke-linecap:square;stroke-width:0.8;\"/>\r\n     </g>\r\n     <g id=\"line2d_18\">\r\n      <g>\r\n       <use style=\"stroke:#000000;stroke-width:0.8;\" x=\"34.240625\" xlink:href=\"#m56a6fb04d6\" y=\"93.355983\"/>\r\n      </g>\r\n     </g>\r\n     <g id=\"text_14\">\r\n      <!-- 5 -->\r\n      <g transform=\"translate(20.878125 97.155202)scale(0.1 -0.1)\">\r\n       <use xlink:href=\"#DejaVuSans-53\"/>\r\n      </g>\r\n     </g>\r\n    </g>\r\n    <g id=\"ytick_5\">\r\n     <g id=\"line2d_19\">\r\n      <path clip-path=\"url(#pdd12885d3a)\" d=\"M 34.240625 55.839808 \r\nL 369.040625 55.839808 \r\n\" style=\"fill:none;stroke:#b0b0b0;stroke-linecap:square;stroke-width:0.8;\"/>\r\n     </g>\r\n     <g id=\"line2d_20\">\r\n      <g>\r\n       <use style=\"stroke:#000000;stroke-width:0.8;\" x=\"34.240625\" xlink:href=\"#m56a6fb04d6\" y=\"55.839808\"/>\r\n      </g>\r\n     </g>\r\n     <g id=\"text_15\">\r\n      <!-- 6 -->\r\n      <defs>\r\n       <path d=\"M 33.015625 40.375 \r\nQ 26.375 40.375 22.484375 35.828125 \r\nQ 18.609375 31.296875 18.609375 23.390625 \r\nQ 18.609375 15.53125 22.484375 10.953125 \r\nQ 26.375 6.390625 33.015625 6.390625 \r\nQ 39.65625 6.390625 43.53125 10.953125 \r\nQ 47.40625 15.53125 47.40625 23.390625 \r\nQ 47.40625 31.296875 43.53125 35.828125 \r\nQ 39.65625 40.375 33.015625 40.375 \r\nz\r\nM 52.59375 71.296875 \r\nL 52.59375 62.3125 \r\nQ 48.875 64.0625 45.09375 64.984375 \r\nQ 41.3125 65.921875 37.59375 65.921875 \r\nQ 27.828125 65.921875 22.671875 59.328125 \r\nQ 17.53125 52.734375 16.796875 39.40625 \r\nQ 19.671875 43.65625 24.015625 45.921875 \r\nQ 28.375 48.1875 33.59375 48.1875 \r\nQ 44.578125 48.1875 50.953125 41.515625 \r\nQ 57.328125 34.859375 57.328125 23.390625 \r\nQ 57.328125 12.15625 50.6875 5.359375 \r\nQ 44.046875 -1.421875 33.015625 -1.421875 \r\nQ 20.359375 -1.421875 13.671875 8.265625 \r\nQ 6.984375 17.96875 6.984375 36.375 \r\nQ 6.984375 53.65625 15.1875 63.9375 \r\nQ 23.390625 74.21875 37.203125 74.21875 \r\nQ 40.921875 74.21875 44.703125 73.484375 \r\nQ 48.484375 72.75 52.59375 71.296875 \r\nz\r\n\" id=\"DejaVuSans-54\"/>\r\n      </defs>\r\n      <g transform=\"translate(20.878125 59.639027)scale(0.1 -0.1)\">\r\n       <use xlink:href=\"#DejaVuSans-54\"/>\r\n      </g>\r\n     </g>\r\n    </g>\r\n    <g id=\"ytick_6\">\r\n     <g id=\"line2d_21\">\r\n      <path clip-path=\"url(#pdd12885d3a)\" d=\"M 34.240625 18.323632 \r\nL 369.040625 18.323632 \r\n\" style=\"fill:none;stroke:#b0b0b0;stroke-linecap:square;stroke-width:0.8;\"/>\r\n     </g>\r\n     <g id=\"line2d_22\">\r\n      <g>\r\n       <use style=\"stroke:#000000;stroke-width:0.8;\" x=\"34.240625\" xlink:href=\"#m56a6fb04d6\" y=\"18.323632\"/>\r\n      </g>\r\n     </g>\r\n     <g id=\"text_16\">\r\n      <!-- 7 -->\r\n      <defs>\r\n       <path d=\"M 8.203125 72.90625 \r\nL 55.078125 72.90625 \r\nL 55.078125 68.703125 \r\nL 28.609375 0 \r\nL 18.3125 0 \r\nL 43.21875 64.59375 \r\nL 8.203125 64.59375 \r\nz\r\n\" id=\"DejaVuSans-55\"/>\r\n      </defs>\r\n      <g transform=\"translate(20.878125 22.122851)scale(0.1 -0.1)\">\r\n       <use xlink:href=\"#DejaVuSans-55\"/>\r\n      </g>\r\n     </g>\r\n    </g>\r\n    <g id=\"text_17\">\r\n     <!-- value -->\r\n     <defs>\r\n      <path d=\"M 2.984375 54.6875 \r\nL 12.5 54.6875 \r\nL 29.59375 8.796875 \r\nL 46.6875 54.6875 \r\nL 56.203125 54.6875 \r\nL 35.6875 0 \r\nL 23.484375 0 \r\nz\r\n\" id=\"DejaVuSans-118\"/>\r\n     </defs>\r\n     <g transform=\"translate(14.798437 129.577812)rotate(-90)scale(0.1 -0.1)\">\r\n      <use xlink:href=\"#DejaVuSans-118\"/>\r\n      <use x=\"59.179688\" xlink:href=\"#DejaVuSans-97\"/>\r\n      <use x=\"120.458984\" xlink:href=\"#DejaVuSans-108\"/>\r\n      <use x=\"148.242188\" xlink:href=\"#DejaVuSans-117\"/>\r\n      <use x=\"211.621094\" xlink:href=\"#DejaVuSans-101\"/>\r\n     </g>\r\n    </g>\r\n   </g>\r\n   <g id=\"line2d_23\">\r\n    <path clip-path=\"url(#pdd12885d3a)\" d=\"M 34.240625 214.756364 \r\nL 76.090625 144.69273 \r\nL 117.940625 148.565107 \r\nL 159.790625 120.013882 \r\nL 201.640625 63.961749 \r\nL 243.490625 159.740163 \r\nL 285.340625 74.58765 \r\nL 327.190625 17.083636 \r\nL 369.040625 50.389962 \r\n\" style=\"fill:none;stroke:#ff0000;stroke-linecap:square;stroke-width:2;\"/>\r\n   </g>\r\n   <g id=\"patch_3\">\r\n    <path d=\"M 34.240625 224.64 \r\nL 34.240625 7.2 \r\n\" style=\"fill:none;stroke:#000000;stroke-linecap:square;stroke-linejoin:miter;stroke-width:0.8;\"/>\r\n   </g>\r\n   <g id=\"patch_4\">\r\n    <path d=\"M 369.040625 224.64 \r\nL 369.040625 7.2 \r\n\" style=\"fill:none;stroke:#000000;stroke-linecap:square;stroke-linejoin:miter;stroke-width:0.8;\"/>\r\n   </g>\r\n   <g id=\"patch_5\">\r\n    <path d=\"M 34.240625 224.64 \r\nL 369.040625 224.64 \r\n\" style=\"fill:none;stroke:#000000;stroke-linecap:square;stroke-linejoin:miter;stroke-width:0.8;\"/>\r\n   </g>\r\n   <g id=\"patch_6\">\r\n    <path d=\"M 34.240625 7.2 \r\nL 369.040625 7.2 \r\n\" style=\"fill:none;stroke:#000000;stroke-linecap:square;stroke-linejoin:miter;stroke-width:0.8;\"/>\r\n   </g>\r\n  </g>\r\n </g>\r\n <defs>\r\n  <clipPath id=\"pdd12885d3a\">\r\n   <rect height=\"217.44\" width=\"334.8\" x=\"34.240625\" y=\"7.2\"/>\r\n  </clipPath>\r\n </defs>\r\n</svg>\r\n",
      "image/png": "[encoded data removed]"
     },
     "metadata": {
      "needs_background": "light"
     }
    }
   ],
   "source": [
    "# 데이터 프레임에서 하나의 열을 인덱싱 하면 Series 객체가 된다.\n",
    "print(type(df))\n",
    "print(type(df['No1']))\n",
    "\n",
    "# 데이터 프레임의 주요 메서드는 Series 객체에도 사용할 수 있다.\n",
    "import matplotlib.pyplot as plt\n",
    "df['No1'].cumsum().plot(style='r', lw=2., grid=True)\n",
    "plt.xlabel('date')\n",
    "plt.ylabel('value')"
   ]
  },
  {
   "cell_type": "code",
   "execution_count": 33,
   "metadata": {},
   "outputs": [
    {
     "output_type": "execute_result",
     "data": {
      "text/plain": "                 No1       No2       No3       No4 Quarter\n2015-01-31  1.764052  0.400157  0.978738  2.240893      Q1\n2015-02-28  1.867558 -0.977278  0.950088 -0.151357      Q1\n2015-03-31 -0.103219  0.410599  0.144044  1.454274      Q1\n2015-04-30  0.761038  0.121675  0.443863  0.333674      Q2\n2015-05-31  1.494079 -0.205158  0.313068 -0.854096      Q2\n2015-06-30 -2.552990  0.653619  0.864436 -0.742165      Q2\n2015-07-31  2.269755 -1.454366  0.045759 -0.187184      Q3\n2015-08-31  1.532779  1.469359  0.154947  0.378163      Q3\n2015-09-30 -0.887786 -1.980796 -0.347912  0.156349      Q3",
      "text/html": "<div>\n<style scoped>\n    .dataframe tbody tr th:only-of-type {\n        vertical-align: middle;\n    }\n\n    .dataframe tbody tr th {\n        vertical-align: top;\n    }\n\n    .dataframe thead th {\n        text-align: right;\n    }\n</style>\n<table border=\"1\" class=\"dataframe\">\n  <thead>\n    <tr style=\"text-align: right;\">\n      <th></th>\n      <th>No1</th>\n      <th>No2</th>\n      <th>No3</th>\n      <th>No4</th>\n      <th>Quarter</th>\n    </tr>\n  </thead>\n  <tbody>\n    <tr>\n      <th>2015-01-31</th>\n      <td>1.764052</td>\n      <td>0.400157</td>\n      <td>0.978738</td>\n      <td>2.240893</td>\n      <td>Q1</td>\n    </tr>\n    <tr>\n      <th>2015-02-28</th>\n      <td>1.867558</td>\n      <td>-0.977278</td>\n      <td>0.950088</td>\n      <td>-0.151357</td>\n      <td>Q1</td>\n    </tr>\n    <tr>\n      <th>2015-03-31</th>\n      <td>-0.103219</td>\n      <td>0.410599</td>\n      <td>0.144044</td>\n      <td>1.454274</td>\n      <td>Q1</td>\n    </tr>\n    <tr>\n      <th>2015-04-30</th>\n      <td>0.761038</td>\n      <td>0.121675</td>\n      <td>0.443863</td>\n      <td>0.333674</td>\n      <td>Q2</td>\n    </tr>\n    <tr>\n      <th>2015-05-31</th>\n      <td>1.494079</td>\n      <td>-0.205158</td>\n      <td>0.313068</td>\n      <td>-0.854096</td>\n      <td>Q2</td>\n    </tr>\n    <tr>\n      <th>2015-06-30</th>\n      <td>-2.552990</td>\n      <td>0.653619</td>\n      <td>0.864436</td>\n      <td>-0.742165</td>\n      <td>Q2</td>\n    </tr>\n    <tr>\n      <th>2015-07-31</th>\n      <td>2.269755</td>\n      <td>-1.454366</td>\n      <td>0.045759</td>\n      <td>-0.187184</td>\n      <td>Q3</td>\n    </tr>\n    <tr>\n      <th>2015-08-31</th>\n      <td>1.532779</td>\n      <td>1.469359</td>\n      <td>0.154947</td>\n      <td>0.378163</td>\n      <td>Q3</td>\n    </tr>\n    <tr>\n      <th>2015-09-30</th>\n      <td>-0.887786</td>\n      <td>-1.980796</td>\n      <td>-0.347912</td>\n      <td>0.156349</td>\n      <td>Q3</td>\n    </tr>\n  </tbody>\n</table>\n</div>"
     },
     "metadata": {},
     "execution_count": 33
    }
   ],
   "source": [
    "# SQL의 그룹 지정 MS excel의 피봇 테이블과 유사한 기능인 groupby를 알아보자\n",
    "df['Quarter'] = ['Q1', 'Q1', 'Q1', 'Q2', 'Q2', 'Q2', 'Q3', 'Q3', 'Q3']\n",
    "df"
   ]
  },
  {
   "cell_type": "code",
   "execution_count": 34,
   "metadata": {
    "tags": []
   },
   "outputs": [
    {
     "output_type": "stream",
     "name": "stdout",
     "text": "No1       No2       No3       No4\nQuarter                                        \nQ1       1.176130 -0.055507  0.690957  1.181270\nQ2      -0.099291  0.190045  0.540456 -0.420862\nQ3       0.971583 -0.655268 -0.049069  0.115776\n\n\n              No1       No2       No3       No4\nQuarter                                        \nQ1       1.867558  0.410599  0.978738  2.240893\nQ2       1.494079  0.653619  0.864436  0.333674\nQ3       2.269755  1.469359  0.154947  0.378163\n\n\nQuarter\nQ1    3\nQ2    3\nQ3    3\ndtype: int64\n"
    }
   ],
   "source": [
    "# Quarter 열을 기준으로 groupby 연산을 해서 각 그룹에 대해 통계를 구할 수 있음\n",
    "groups = df.groupby('Quarter')\n",
    "print(groups.mean())\n",
    "print('\\n')\n",
    "print(groups.max())\n",
    "print('\\n')\n",
    "print(groups.size())"
   ]
  },
  {
   "cell_type": "code",
   "execution_count": 35,
   "metadata": {},
   "outputs": [
    {
     "output_type": "execute_result",
     "data": {
      "text/plain": "                       No1       No2       No3       No4\nQuarter Odd_Even                                        \nQ1      Even      1.867558 -0.977278  0.950088 -0.151357\n        Odd       0.830417  0.405378  0.561391  1.847583\nQ2      Even     -0.895976  0.387647  0.654150 -0.204245\n        Odd       1.494079 -0.205158  0.313068 -0.854096\nQ3      Even      1.532779  1.469359  0.154947  0.378163\n        Odd       0.690984 -1.717581 -0.151077 -0.015417",
      "text/html": "<div>\n<style scoped>\n    .dataframe tbody tr th:only-of-type {\n        vertical-align: middle;\n    }\n\n    .dataframe tbody tr th {\n        vertical-align: top;\n    }\n\n    .dataframe thead th {\n        text-align: right;\n    }\n</style>\n<table border=\"1\" class=\"dataframe\">\n  <thead>\n    <tr style=\"text-align: right;\">\n      <th></th>\n      <th></th>\n      <th>No1</th>\n      <th>No2</th>\n      <th>No3</th>\n      <th>No4</th>\n    </tr>\n    <tr>\n      <th>Quarter</th>\n      <th>Odd_Even</th>\n      <th></th>\n      <th></th>\n      <th></th>\n      <th></th>\n    </tr>\n  </thead>\n  <tbody>\n    <tr>\n      <th rowspan=\"2\" valign=\"top\">Q1</th>\n      <th>Even</th>\n      <td>1.867558</td>\n      <td>-0.977278</td>\n      <td>0.950088</td>\n      <td>-0.151357</td>\n    </tr>\n    <tr>\n      <th>Odd</th>\n      <td>0.830417</td>\n      <td>0.405378</td>\n      <td>0.561391</td>\n      <td>1.847583</td>\n    </tr>\n    <tr>\n      <th rowspan=\"2\" valign=\"top\">Q2</th>\n      <th>Even</th>\n      <td>-0.895976</td>\n      <td>0.387647</td>\n      <td>0.654150</td>\n      <td>-0.204245</td>\n    </tr>\n    <tr>\n      <th>Odd</th>\n      <td>1.494079</td>\n      <td>-0.205158</td>\n      <td>0.313068</td>\n      <td>-0.854096</td>\n    </tr>\n    <tr>\n      <th rowspan=\"2\" valign=\"top\">Q3</th>\n      <th>Even</th>\n      <td>1.532779</td>\n      <td>1.469359</td>\n      <td>0.154947</td>\n      <td>0.378163</td>\n    </tr>\n    <tr>\n      <th>Odd</th>\n      <td>0.690984</td>\n      <td>-1.717581</td>\n      <td>-0.151077</td>\n      <td>-0.015417</td>\n    </tr>\n  </tbody>\n</table>\n</div>"
     },
     "metadata": {},
     "execution_count": 35
    }
   ],
   "source": [
    "# 그룹 지정은 여러 개의 열을 기준으로 할 수도 있음\n",
    "df['Odd_Even'] = ['Odd', 'Even', 'Odd', 'Even', 'Odd', 'Even',\n",
    "                  'Odd', 'Even', 'Odd']\n",
    "groups = df.groupby(['Quarter', 'Odd_Even'])\n",
    "groups.mean()"
   ]
  },
  {
   "cell_type": "code",
   "execution_count": 36,
   "metadata": {
    "tags": []
   },
   "outputs": [
    {
     "output_type": "execute_result",
     "data": {
      "text/plain": "Quarter         Q1                  Q2                  Q3          \nOdd_Even      Even       Odd      Even       Odd      Even       Odd\nNo1       1.867558  0.830417 -0.895976  1.494079  1.532779  0.690984\nNo2      -0.977278  0.405378  0.387647 -0.205158  1.469359 -1.717581\nNo3       0.950088  0.561391  0.654150  0.313068  0.154947 -0.151077\nNo4      -0.151357  1.847583 -0.204245 -0.854096  0.378163 -0.015417",
      "text/html": "<div>\n<style scoped>\n    .dataframe tbody tr th:only-of-type {\n        vertical-align: middle;\n    }\n\n    .dataframe tbody tr th {\n        vertical-align: top;\n    }\n\n    .dataframe thead tr th {\n        text-align: left;\n    }\n</style>\n<table border=\"1\" class=\"dataframe\">\n  <thead>\n    <tr>\n      <th>Quarter</th>\n      <th colspan=\"2\" halign=\"left\">Q1</th>\n      <th colspan=\"2\" halign=\"left\">Q2</th>\n      <th colspan=\"2\" halign=\"left\">Q3</th>\n    </tr>\n    <tr>\n      <th>Odd_Even</th>\n      <th>Even</th>\n      <th>Odd</th>\n      <th>Even</th>\n      <th>Odd</th>\n      <th>Even</th>\n      <th>Odd</th>\n    </tr>\n  </thead>\n  <tbody>\n    <tr>\n      <th>No1</th>\n      <td>1.867558</td>\n      <td>0.830417</td>\n      <td>-0.895976</td>\n      <td>1.494079</td>\n      <td>1.532779</td>\n      <td>0.690984</td>\n    </tr>\n    <tr>\n      <th>No2</th>\n      <td>-0.977278</td>\n      <td>0.405378</td>\n      <td>0.387647</td>\n      <td>-0.205158</td>\n      <td>1.469359</td>\n      <td>-1.717581</td>\n    </tr>\n    <tr>\n      <th>No3</th>\n      <td>0.950088</td>\n      <td>0.561391</td>\n      <td>0.654150</td>\n      <td>0.313068</td>\n      <td>0.154947</td>\n      <td>-0.151077</td>\n    </tr>\n    <tr>\n      <th>No4</th>\n      <td>-0.151357</td>\n      <td>1.847583</td>\n      <td>-0.204245</td>\n      <td>-0.854096</td>\n      <td>0.378163</td>\n      <td>-0.015417</td>\n    </tr>\n  </tbody>\n</table>\n</div>"
     },
     "metadata": {},
     "execution_count": 36
    }
   ],
   "source": [
    "# transpose 해서 보기. df.T, df.transpose\n",
    "groups.mean().T"
   ]
  },
  {
   "cell_type": "markdown",
   "metadata": {},
   "source": [
    "## 2개 이상의 데이터프레임 병합"
   ]
  },
  {
   "cell_type": "code",
   "execution_count": 37,
   "metadata": {
    "tags": []
   },
   "outputs": [
    {
     "output_type": "stream",
     "name": "stdout",
     "text": "고객번호   이름\n0  1001   둘리\n1  1002  도우너\n2  1003   또치\n3  1004   길동\n4  1005   희동\n5  1006  마이콜\n6  1007   영희\n\n\n   고객번호      금액\n0  1001   10000\n1  1001   20000\n2  1005   15000\n3  1006    5000\n4  1008  100000\n5  1001   30000\n"
    }
   ],
   "source": [
    "# 앞서 df.join에서 맛보기 했음. 이번에는 데이터 병합(merge), 연결(concatenate)를 사용해보자\n",
    "\n",
    "# 데이터프레임은 이렇게 딕셔너리를 이용해서 정의할 수도 있다.\n",
    "df1 = pd.DataFrame({\n",
    "    '고객번호': [1001, 1002, 1003, 1004, 1005, 1006, 1007],\n",
    "    '이름': ['둘리', '도우너', '또치', '길동', '희동', '마이콜', '영희']\n",
    "}, columns=['고객번호', '이름'])\n",
    "\n",
    "df2 = pd.DataFrame({\n",
    "    '고객번호': [1001, 1001, 1005, 1006, 1008, 1001],\n",
    "    '금액': [10000, 20000, 15000, 5000, 100000, 30000]\n",
    "}, columns=['고객번호', '금액'])\n",
    "\n",
    "print(df1)\n",
    "print('\\n')\n",
    "print(df2)\n"
   ]
  },
  {
   "cell_type": "code",
   "execution_count": 38,
   "metadata": {
    "tags": []
   },
   "outputs": [
    {
     "output_type": "stream",
     "name": "stdout",
     "text": "고객번호   이름     금액\n0  1001   둘리  10000\n1  1001   둘리  20000\n2  1001   둘리  30000\n3  1005   희동  15000\n4  1006  마이콜   5000\n\n\n   고객번호   이름        금액\n0  1001   둘리   10000.0\n1  1001   둘리   20000.0\n2  1001   둘리   30000.0\n3  1002  도우너       NaN\n4  1003   또치       NaN\n5  1004   길동       NaN\n6  1005   희동   15000.0\n7  1006  마이콜    5000.0\n8  1007   영희       NaN\n9  1008  NaN  100000.0\n\n\n   고객번호   이름       금액\n0  1001   둘리  10000.0\n1  1001   둘리  20000.0\n2  1001   둘리  30000.0\n3  1002  도우너      NaN\n4  1003   또치      NaN\n5  1004   길동      NaN\n6  1005   희동  15000.0\n7  1006  마이콜   5000.0\n8  1007   영희      NaN\n\n\n   고객번호   이름      금액\n0  1001   둘리   10000\n1  1001   둘리   20000\n2  1001   둘리   30000\n3  1005   희동   15000\n4  1006  마이콜    5000\n5  1008  NaN  100000\n\n\n"
    }
   ],
   "source": [
    "# merge 명령으로 위의 두 데이터프레임 df1, df2를 합치면 공통 열인 고객번호를 기준으로 데이터를 찾아서 합침\n",
    "# 기본 모드는 양쪽 데이터프레임에 모두 키가 존재하는 데이터만 보여주는 inner join 방식\n",
    "print(pd.merge(df1, df2))\n",
    "print('\\n')\n",
    "\n",
    "# 키 값이 한쪽에만 있어도 데이터를 보여주는 outer join 방식. left, right 방식도 join의 left, right와 동일\n",
    "print(pd.merge(df1, df2, how='outer'))\n",
    "print('\\n')\n",
    "\n",
    "print(pd.merge(df1, df2, how='left'))\n",
    "print('\\n')\n",
    "\n",
    "print(pd.merge(df1, df2, how='right'))\n",
    "print('\\n')\n",
    "\n",
    "# 더 자세한 기능은 참고 https://datascienceschool.net/view-notebook/7002e92653434bc88c8c026c3449d27b/\n"
   ]
  },
  {
   "cell_type": "code",
   "execution_count": 39,
   "metadata": {
    "tags": []
   },
   "outputs": [
    {
     "output_type": "stream",
     "name": "stdout",
     "text": "고객번호   이름        금액\n0  1001   둘리       NaN\n1  1002  도우너       NaN\n2  1003   또치       NaN\n3  1004   길동       NaN\n4  1005   희동       NaN\n5  1006  마이콜       NaN\n6  1007   영희       NaN\n0  1001  NaN   10000.0\n1  1001  NaN   20000.0\n2  1005  NaN   15000.0\n3  1006  NaN    5000.0\n4  1008  NaN  100000.0\n5  1001  NaN   30000.0\n\n\n   고객번호   이름    고객번호        금액\n0  1001   둘리  1001.0   10000.0\n1  1002  도우너  1001.0   20000.0\n2  1003   또치  1005.0   15000.0\n3  1004   길동  1006.0    5000.0\n4  1005   희동  1008.0  100000.0\n5  1006  마이콜  1001.0   30000.0\n6  1007   영희     NaN       NaN\n"
    }
   ],
   "source": [
    "# concat 명령어를 사용하면 기준 열(key column)을 사용하지 않고 단순히 데이터를 연결(concatenate)함.\n",
    "print(pd.concat([df1, df2]))\n",
    "print('\\n')\n",
    "# 옆으로 데이터를 연결\n",
    "print(pd.concat([df1, df2], axis=1))\n",
    "\n"
   ]
  },
  {
   "cell_type": "code",
   "execution_count": 40,
   "metadata": {
    "tags": []
   },
   "outputs": [
    {
     "output_type": "stream",
     "name": "stdout",
     "text": "Date          High           Low          Open         Close  \\\n0  2008-04-07  20098.353529  19874.746192  19931.744141  19931.744141   \n1  2008-04-08  19905.441254  19703.756167  19708.140625  19708.140625   \n2  2008-04-10  19738.828125  19497.682957  19738.828125  19738.828125   \n3  2008-04-11  20054.513058  19857.212426  20045.744141  20045.744141   \n4  2008-04-14  19756.369072  19602.913031  19616.066406  19616.066406   \n5  2008-04-15  19769.522227  19580.990523  19668.679688  19668.679688   \n6  2008-04-16  19918.596962  19756.371981  19852.830078  19852.830078   \n7  2008-04-17  20124.660577  19962.435644  20019.433594  20019.433594   \n8  2008-04-18  20019.442369  19848.448446  19949.291016  19949.291016   \n9  2008-04-21  20260.577200  20190.425883  20247.423828  20247.423828   \n\n     Volume  \n0   15858.0  \n1    2431.0  \n2  110067.0  \n3   43156.0  \n4    5809.0  \n5   15341.0  \n6   21014.0  \n7    1186.0  \n8   16744.0  \n9    4777.0  \n            Date     High      Low     Open    Close     Volume\n2975  2020-05-11  25880.0  25440.0  25735.0  25475.0   695190.0\n2976  2020-05-12  25525.0  25075.0  25480.0  25310.0  1177650.0\n2977  2020-05-13  25565.0  24965.0  24990.0  25565.0   596543.0\n2978  2020-05-14  25420.0  25170.0  25365.0  25310.0   846114.0\n2979  2020-05-15  25515.0  25190.0  25450.0  25375.0   590991.0\n2980  2020-05-18  25620.0  25290.0  25500.0  25550.0   739801.0\n2981  2020-05-19  26265.0  26030.0  26100.0  26200.0  2118117.0\n2982  2020-05-20  26335.0  26080.0  26080.0  26260.0   581008.0\n2983  2020-05-21  26460.0  26295.0  26400.0  26360.0   698544.0\n2984  2020-05-25  26100.0  26020.0  26100.0  26025.0   109340.0\n"
    }
   ],
   "source": [
    "# 실제 주가 데이터를 이용해보자.\n",
    "# tiger 200 etf 야후에서 가져온 ohlcv 데이터\n",
    "\n",
    "# pandas 출력하는 옵션 조절하는 것\n",
    "# pd.options.display.max_columns = None\n",
    "# pd.options.display.max_rows = None\n",
    "\n",
    "# 일반적으로 df.head(n), df.tail(n) 으로 출력보고 싶은 만큼 n개 지정해서 앞쪽, 뒤쪽 데이터 확인\n",
    "\n",
    "import pandas as pd\n",
    "\n",
    "df = pd.read_csv('102110.csv')\n",
    "print(df.head(10))\n",
    "print(df.tail(10))\n"
   ]
  },
  {
   "cell_type": "code",
   "execution_count": 41,
   "metadata": {
    "tags": []
   },
   "outputs": [
    {
     "output_type": "stream",
     "name": "stdout",
     "text": "RangeIndex(start=0, stop=2985, step=1)\nDatetimeIndex(['2008-04-07', '2008-04-08', '2008-04-10', '2008-04-11',\n               '2008-04-14', '2008-04-15', '2008-04-16', '2008-04-17',\n               '2008-04-18', '2008-04-21',\n               ...\n               '2020-05-11', '2020-05-12', '2020-05-13', '2020-05-14',\n               '2020-05-15', '2020-05-18', '2020-05-19', '2020-05-20',\n               '2020-05-21', '2020-05-25'],\n              dtype='datetime64[ns]', name='Date', length=2985, freq=None)\n"
    }
   ],
   "source": [
    "# 인덱스 확인\n",
    "print(df.index)\n",
    "\n",
    "# 인덱스가 datetime 형식이 아니므로 datetime 형식으로 바꿔준다.\n",
    "# (1) 이렇게 Date열의 문자열의 원소를 하나씩 접근하여, datetime 형식으로 바꿔주는 방식이 있다.\n",
    "# for i in range(len(df)):\n",
    "#     df.iloc[i,0]=datetime.datetime.strptime(str(df.iloc[i,0]),'%Y-%m-%d')\n",
    "# 인덱스 재설정\n",
    "# df.set_index('Date',inplace=True)\n",
    "\n",
    "# (2) 손쉽게 pd.to_datetime 메서드를 쓰는 방식이 있다. 날짜를 각 원소가 datetime 자료형을 가지는 DatetimeIndex 객체로 바꾸어 준다.\n",
    "# df.index=pd.to_datetime(df['Date'])\n",
    "# print(df.index)\n",
    "\n",
    "# (3) 위의 2가지 과정 보다 더 쉬운 방법이 있다... 애초에 read_csv에 다음과 같이 옵션을 주면 된다.\n",
    "# read_csv 에서 시계열 데이터를 파싱하는 다양한 방법은 여기 참고 https://rfriend.tistory.com/536\n",
    "df = pd.read_csv('102110.csv',index_col=0, parse_dates=True)\n",
    "print(df.index)"
   ]
  },
  {
   "cell_type": "code",
   "execution_count": 42,
   "metadata": {
    "tags": []
   },
   "outputs": [
    {
     "output_type": "stream",
     "name": "stdout",
     "text": "Date\n2008-04-07    0\n2008-04-08    1\n2008-04-10    2\n2008-04-11    3\n2008-04-14    4\n2008-04-15    5\n2008-04-16    6\n2008-04-17    7\n2008-04-18    8\n2008-04-21    9\ndtype: int32\nDatetimeIndex(['2008-04-30', '2008-05-31', '2008-06-30', '2008-07-31',\n               '2008-08-31', '2008-09-30', '2008-10-31', '2008-11-30',\n               '2008-12-31', '2009-01-31',\n               ...\n               '2019-08-31', '2019-09-30', '2019-10-31', '2019-11-30',\n               '2019-12-31', '2020-01-31', '2020-02-29', '2020-03-31',\n               '2020-04-30', '2020-05-31'],\n              dtype='datetime64[ns]', name='Date', length=146, freq='M')\n                    High           Low          Open         Close    Volume\nDate                                                                        \n2008-04-30  20615.728749  20361.430096  20563.115234  20563.115234    9484.0\n2008-05-30  20756.025391  20650.798392  20756.025391  20756.025391   10077.0\n2008-06-30  19642.371094  18818.093021  19642.371094  19642.371094     455.0\n2008-07-31  17888.591909  17625.524381  17862.285156  17862.285156    3108.0\n2008-08-29  16761.781769  16608.325750  16713.552734  16713.552734     217.0\n2008-09-30  16261.953953  15345.602274  15345.602274  16218.109375  550608.0\n2008-10-31  13372.596706  12451.860539  12977.995492  12885.921875  406771.0\n2008-11-28  12868.384766  12302.789660  12364.172075  12868.384766    9210.0\n2008-12-30  13271.753520  13043.761719  13162.142077  13043.761719    3102.0\n2009-01-30  13534.822174  13337.521559  13337.521559  13477.824219  200507.0\n"
    }
   ],
   "source": [
    "# 월말 기준이 되는 지점 찾기\n",
    "import datetime\n",
    "\n",
    "s = pd.Series(np.arange(df.shape[0]), index=df.index)\n",
    "print(s.head(10))\n",
    "\n",
    "# np.arange와 np.linspace는 모두 시작점과 끝점사이의 간격에서 원하는 step의 크기만큼 일정하게 떨어져 있는 숫자들을 array로 형태로 반환해 주는 함수. 차이점은 arange은 끝점 미포함, linspace는 끝점 포함\n",
    "\n",
    "# 시계열 데이터 리샘플링. (구간이 커지는 (일->달) 다운샘플링임) 각 달의 마지막날을 갖고옴\n",
    "# 참고 : https://datascienceschool.net/view-notebook/8959673a97214e8fafdb159f254185e9/\n",
    "end_month = s.resample(\"1M\").max()\n",
    "print(end_month.index)\n",
    "\n",
    "# 월말 기준 데이터 ohlcv 출력\n",
    "print(df.iloc[end_month].head(10))"
   ]
  },
  {
   "cell_type": "markdown",
   "metadata": {},
   "source": [
    "### dataframe cell의 style 즉 색을 변경해 줄 수도 있다.\n",
    "\n",
    "- 참고 : https://pbpython.com/styling-pandas.html"
   ]
  },
  {
   "cell_type": "code",
   "execution_count": null,
   "metadata": {},
   "outputs": [],
   "source": []
  }
 ]
}