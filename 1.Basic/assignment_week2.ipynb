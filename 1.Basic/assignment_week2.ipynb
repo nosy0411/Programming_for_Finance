{
 "metadata": {
  "language_info": {
   "codemirror_mode": {
    "name": "ipython",
    "version": 3
   },
   "file_extension": ".py",
   "mimetype": "text/x-python",
   "name": "python",
   "nbconvert_exporter": "python",
   "pygments_lexer": "ipython3",
   "version": "3.6.8-final"
  },
  "orig_nbformat": 2,
  "kernelspec": {
   "name": "python_defaultSpec_1599556226788",
   "display_name": "Python 3.6.8 64-bit ('base': conda)"
  }
 },
 "nbformat": 4,
 "nbformat_minor": 2,
 "cells": [
  {
   "cell_type": "markdown",
   "metadata": {},
   "source": [
    "# 1. 로또번호를 추출하는 함수를 만들어 보세요!\n",
    "\n",
    "로또번호는 1번부터 45번까지 복원추출 하지 않고 무작위 6개의 숫자로 이루어집니다!"
   ]
  },
  {
   "cell_type": "code",
   "execution_count": null,
   "metadata": {},
   "outputs": [],
   "source": [
    "# 과제 1 해답\n"
   ]
  },
  {
   "cell_type": "markdown",
   "metadata": {},
   "source": [
    "# 2. 몬테카를로 기법을 활용하여 원주율 구하기\n",
    "\n",
    "* 몬테카를로 기법: 무수히 많은 무작위 난수를 추출하여 원하는 값을 추정하는 방식\n",
    "* 전체 시도 횟수 = 10,000,000 번으로 고정\n",
    "* 아래 그림 참고   "
   ]
  },
  {
   "cell_type": "code",
   "execution_count": 1,
   "metadata": {},
   "outputs": [
    {
     "output_type": "execute_result",
     "data": {
      "image/gif": "[encoded data removed]",
      "text/plain": "<IPython.core.display.Image object>"
     },
     "metadata": {},
     "execution_count": 1
    }
   ],
   "source": [
    "from IPython.display import Image\n",
    "\n",
    "# 참고 이미지\n",
    "Image(\"./img/montecarlo_pi.gif\")"
   ]
  },
  {
   "cell_type": "code",
   "execution_count": null,
   "metadata": {},
   "outputs": [],
   "source": [
    "# 과제 2 해답"
   ]
  },
  {
   "cell_type": "markdown",
   "metadata": {},
   "source": [
    "# 3. Convert a 1D array to 2D array with 2 rows\n",
    "\n",
    "For instance,\n",
    "\n",
    "Input: \\[0,1,2,3,4,5,6,7,8,9]\n",
    "\n",
    "Desired Output:\n",
    "\n",
    "(\\[\\[0,1,2,3,4\\],\n",
    "\n",
    "  \\[5,6,7,8,9\\]\\])"
   ]
  },
  {
   "cell_type": "code",
   "execution_count": null,
   "metadata": {},
   "outputs": [],
   "source": [
    "# 과제 3 해답"
   ]
  },
  {
   "cell_type": "markdown",
   "metadata": {},
   "source": [
    "# 4. 두 개의 np.array에서 공통된 것들을 추출하는 함수를 만드세요.\n",
    "\n",
    "Input\n",
    "\n",
    "a = np.array(\\[1,2,3,2,3,4,3,4,5,6\\])\n",
    "\n",
    "b = np.array(\\[7,2,10,2,7,4,9,4,9,8\\])\n",
    "\n",
    "Desired Output = (\\[2,4\\])"
   ]
  },
  {
   "cell_type": "code",
   "execution_count": null,
   "metadata": {},
   "outputs": [],
   "source": [
    "# 과제 4 해답"
   ]
  },
  {
   "cell_type": "markdown",
   "metadata": {},
   "source": [
    "# 5. 모든 값이 True인 3*3 numpy array를 만들어보세요"
   ]
  },
  {
   "cell_type": "code",
   "execution_count": null,
   "metadata": {},
   "outputs": [],
   "source": [
    "# 과제 5 해답"
   ]
  },
  {
   "cell_type": "markdown",
   "metadata": {},
   "source": [
    "# 6. 주어진 array에서 짝수, 또는 홀수만 추출하세요\n",
    "\n",
    "Input = (\\[0,1,2,3,4,5,6,7,8,9\\])"
   ]
  },
  {
   "cell_type": "code",
   "execution_count": null,
   "metadata": {},
   "outputs": [],
   "source": [
    "# 과제 6 해답"
   ]
  },
  {
   "cell_type": "markdown",
   "metadata": {},
   "source": [
    "# 7. 모든 홀수를 -1로 바꾸세요.\n",
    "\n",
    "Input = (\\[0,1,2,3,4,5,6,7,8,9\\])"
   ]
  },
  {
   "cell_type": "code",
   "execution_count": null,
   "metadata": {},
   "outputs": [],
   "source": [
    "# 과제 7 해답"
   ]
  },
  {
   "cell_type": "markdown",
   "metadata": {},
   "source": [
    "# 8. 주어진 array에서 5와 10 사이의 모든 수를 추출하세요  \n",
    "a = np.array(\\[2,6,1,9,10,3,27\\])"
   ]
  },
  {
   "cell_type": "code",
   "execution_count": null,
   "metadata": {},
   "outputs": [],
   "source": [
    "# 과제 8 해답"
   ]
  },
  {
   "cell_type": "markdown",
   "metadata": {},
   "source": [
    "# 9. 주어진 array의 숫자들의 순위로 이루어진 array를 출력하세요.\n",
    "\n",
    "Hint:argsort()를 활용하세요.\n",
    "\n",
    "argsort()는 작은 값부터 순서대로 데이터의 index를 반환해줍니다."
   ]
  },
  {
   "cell_type": "code",
   "execution_count": null,
   "metadata": {},
   "outputs": [],
   "source": [
    "# 과제 9 해답"
   ]
  }
 ]
}